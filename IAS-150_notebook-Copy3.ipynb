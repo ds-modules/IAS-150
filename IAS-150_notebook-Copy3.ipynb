{
 "cells": [
  {
   "cell_type": "markdown",
   "metadata": {},
   "source": [
    "# [IAS 150] Migration\n",
    "\n",
    "Estimated Time: 2 Hours <br>\n",
    "Created by: Alexander Almond, Jordan Jomsky, and Timlan Wong\n",
    "\n",
    "Today we will be examining a data set that the UN produces that explores the migrant stock and population of countries. You will produce many visualizations as you explore the data set. Feel free to ask the devlopers questions at any time as they will be walking around during your class. Have fun! \n",
    "\n",
    "### Table of Contents \n",
    "0 - [Basics](#0) <br>\n",
    "1 - [Picking a Variable](#1)<br>\n",
    "2 - [Graphing the Data](#2)<br>\n",
    "3 - [Comparing to Another Country](#3)<br>\n",
    "4 - [Over Time](#4)<br>\n",
    "5 - [Questions](#5)<br>\n",
    "6 - [Feedback](#6)"
   ]
  },
  {
   "cell_type": "markdown",
   "metadata": {},
   "source": [
    "# Basics <a id='0'></a>"
   ]
  },
  {
   "cell_type": "markdown",
   "metadata": {},
   "source": [
    "This webpage is a Jupyter notebook. We have created this specific notebook so that you can run code that we wrote in order to perform data analysis and answer questions. Cells are the boxes of text that all you to populate the notebook with code or text. To edit a cell, double click it. In order to run a cell, click the cell and press `Shift + Enter` while the cell is selected or hit the `▶| Run` button in the toolbar at the top."
   ]
  },
  {
   "cell_type": "code",
   "execution_count": 1,
   "metadata": {},
   "outputs": [],
   "source": [
    "#Just run this cell\n",
    "#It imports the necessary tools for the code to function\n",
    "%matplotlib inline\n",
    "import pandas as pd\n",
    "import numpy as np\n",
    "import numpy as np\n",
    "from datascience import *\n",
    "import matplotlib.pyplot as plots\n",
    "import math as m\n",
    "import qgrid as q\n",
    "import pandas as pd\n",
    "import sys\n",
    "sys.path.insert(0, \"development\")\n",
    "import grapher as grapher\n",
    "import graphing_functions as graph\n",
    "import warnings\n",
    "warnings.filterwarnings('ignore')\n",
    "from IPython.display import HTML"
   ]
  },
  {
   "cell_type": "markdown",
   "metadata": {},
   "source": [
    "Here's the data. You can scroll horizontally when the table is selected to see the whole data set."
   ]
  },
  {
   "cell_type": "code",
   "execution_count": 2,
   "metadata": {
    "scrolled": true
   },
   "outputs": [
    {
     "data": {
      "text/html": [
       "<table border=\"1\" class=\"dataframe\">\n",
       "    <thead>\n",
       "        <tr>\n",
       "            <th>Code</th> <th>Country</th> <th>Year</th> <th>Migration Type</th> <th>Total Migration</th> <th>Gender</th> <th>Country 1</th> <th>Country 1 Count</th> <th>Country 2</th> <th>Country 2 Count</th> <th>Country 3</th> <th>Country 3 Count</th> <th>Country 4</th> <th>Country 4 Count</th> <th>Country 5</th> <th>Country 5 Count</th> <th>Migrants Under 15 years old</th> <th>Migrants 20-29 years old</th> <th>Migrants 30-39 years old</th> <th>Migrants 40-49 years old</th> <th>Migrants 50 years old and older</th> <th>Admits asylum migrants?</th> <th>Has migrate to countries abroad as refugees/asylum-seekers?</th> <th>War or Genocide?</th> <th>Government instability?</th> <th>Organized crime?</th> <th>Economic recession?</th> <th>Financial crisis?</th> <th>GDP </th> <th>Natural disasters?</th> <th>Man-made disasters?</th> <th>Passport power rating</th> <th>Changes over-time in access to visas?</th>\n",
       "        </tr>\n",
       "    </thead>\n",
       "    <tbody>\n",
       "        <tr>\n",
       "            <td>4   </td> <td>Afghanistan</td> <td>1990</td> <td>Emigration    </td> <td>3661547        </td> <td>female</td> <td>Iran     </td> <td>1788296        </td> <td>Pakistan </td> <td>1673100        </td> <td>Saudi Arabia</td> <td>110590         </td> <td>Germany  </td> <td>21242          </td> <td>United States of America</td> <td>15757          </td> <td>nan                        </td> <td>nan                     </td> <td>nan                     </td> <td>nan                     </td> <td>nan                            </td> <td>Yes                    </td> <td>Yes                                                        </td> <td>Yes             </td> <td>Yes                    </td> <td>Yes             </td> <td>Yes                </td> <td>Yes              </td> <td>3622</td> <td>Yes               </td> <td>Yes                </td> <td>92                   </td> <td>Yes                                  </td>\n",
       "        </tr>\n",
       "    </tbody>\n",
       "</table>\n",
       "<p>... (839 rows omitted)</p>"
      ],
      "text/plain": [
       "<IPython.core.display.HTML object>"
      ]
     },
     "metadata": {},
     "output_type": "display_data"
    }
   ],
   "source": [
    "# Run this cell to display the dataset\n",
    "data = Table().from_df(pd.read_csv(\"development/migrant_table_final_appended.csv\")).sort(\"Country\")\n",
    "data.show(1)"
   ]
  },
  {
   "cell_type": "markdown",
   "metadata": {},
   "source": [
    "Here are all the countries in the table!"
   ]
  },
  {
   "cell_type": "code",
   "execution_count": 3,
   "metadata": {},
   "outputs": [
    {
     "data": {
      "text/html": [
       "<table border=\"1\" class=\"dataframe\">\n",
       "    <thead>\n",
       "        <tr>\n",
       "            <th>Country</th> <th>count</th>\n",
       "        </tr>\n",
       "    </thead>\n",
       "    <tbody>\n",
       "        <tr>\n",
       "            <td>Afghanistan </td> <td>42   </td>\n",
       "        </tr>\n",
       "        <tr>\n",
       "            <td>China       </td> <td>42   </td>\n",
       "        </tr>\n",
       "        <tr>\n",
       "            <td>Cuba        </td> <td>42   </td>\n",
       "        </tr>\n",
       "        <tr>\n",
       "            <td>El Salvador </td> <td>42   </td>\n",
       "        </tr>\n",
       "        <tr>\n",
       "            <td>Ethiopia    </td> <td>42   </td>\n",
       "        </tr>\n",
       "        <tr>\n",
       "            <td>Ghana       </td> <td>42   </td>\n",
       "        </tr>\n",
       "        <tr>\n",
       "            <td>Guatemala   </td> <td>42   </td>\n",
       "        </tr>\n",
       "        <tr>\n",
       "            <td>Honduras    </td> <td>42   </td>\n",
       "        </tr>\n",
       "        <tr>\n",
       "            <td>India       </td> <td>42   </td>\n",
       "        </tr>\n",
       "        <tr>\n",
       "            <td>Iraq        </td> <td>42   </td>\n",
       "        </tr>\n",
       "        <tr>\n",
       "            <td>Kenya       </td> <td>42   </td>\n",
       "        </tr>\n",
       "        <tr>\n",
       "            <td>Mexico      </td> <td>42   </td>\n",
       "        </tr>\n",
       "        <tr>\n",
       "            <td>Nigeria     </td> <td>42   </td>\n",
       "        </tr>\n",
       "        <tr>\n",
       "            <td>Pakistan    </td> <td>42   </td>\n",
       "        </tr>\n",
       "        <tr>\n",
       "            <td>Philippines </td> <td>42   </td>\n",
       "        </tr>\n",
       "        <tr>\n",
       "            <td>Somalia     </td> <td>42   </td>\n",
       "        </tr>\n",
       "        <tr>\n",
       "            <td>South Africa</td> <td>42   </td>\n",
       "        </tr>\n",
       "        <tr>\n",
       "            <td>Syria       </td> <td>42   </td>\n",
       "        </tr>\n",
       "        <tr>\n",
       "            <td>Venezuela   </td> <td>42   </td>\n",
       "        </tr>\n",
       "        <tr>\n",
       "            <td>Vietnam     </td> <td>42   </td>\n",
       "        </tr>\n",
       "    </tbody>\n",
       "</table>"
      ],
      "text/plain": [
       "<IPython.core.display.HTML object>"
      ]
     },
     "metadata": {},
     "output_type": "display_data"
    }
   ],
   "source": [
    "# Run this cell to display the countries\n",
    "countries = data.group(\"Country\").show(20)\n",
    "countries"
   ]
  },
  {
   "cell_type": "markdown",
   "metadata": {},
   "source": [
    "**Please take note of the column labels and the spelling of countries. All code is case-sensitive and spelling sensitve.**"
   ]
  },
  {
   "cell_type": "markdown",
   "metadata": {},
   "source": [
    "Let's look at this data set more closely to better understand how we can use it."
   ]
  },
  {
   "cell_type": "markdown",
   "metadata": {},
   "source": [
    "## Data Context"
   ]
  },
  {
   "cell_type": "markdown",
   "metadata": {},
   "source": [
    "After running the cell below, a map will display that you can use to see where people are immigrating and emigrating most often. Replace the ellipses with the data you want to start to get a sense of what the data is telling us."
   ]
  },
  {
   "cell_type": "code",
   "execution_count": 10,
   "metadata": {},
   "outputs": [
    {
     "data": {
      "text/html": [
       "<div style=\"width:100%;\"><div style=\"position:relative;width:100%;height:0;padding-bottom:60%;\"><iframe src=\"data:text/html;base64,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\" style=\"position:absolute;width:100%;height:100%;left:0;top:0;\"></iframe></div></div>"
      ],
      "text/plain": [
       "<folium.folium.Map at 0x1a2214feb8>"
      ]
     },
     "metadata": {},
     "output_type": "display_data"
    },
    {
     "data": {
      "image/png": "[encoded data removed]",
      "text/plain": [
       "<Figure size 2160x1080 with 2 Axes>"
      ]
     },
     "metadata": {
      "needs_background": "light"
     },
     "output_type": "display_data"
    }
   ],
   "source": [
    "country = \"China\" # Name of the country of interest\n",
    "gender = \"male\" # male, female, or total (lowercase)\n",
    "year = 2000 # 1990, 1995, 2000, 2005, 2010, 2015, 2017\n",
    "migration_type = 1 # 1 = Immigration and 2 = Emigration\n",
    "graph.map_and_graph(country, gender, year, migration_type)"
   ]
  },
  {
   "cell_type": "markdown",
   "metadata": {},
   "source": [
    "Now, let's learn how to do a few basic functions on tables to get answers about the data set."
   ]
  },
  {
   "cell_type": "markdown",
   "metadata": {},
   "source": [
    "#### The `where` function"
   ]
  },
  {
   "cell_type": "markdown",
   "metadata": {},
   "source": [
    "The `where` function can be used on a data set to find *where* the data meets the condition you set for it. A function is what follows the `.` and is used to manipulate data. The `where` function takes in two parameters, a name of a column and a condition or value to match the data to. Below, let's use the where function to show only data for your country."
   ]
  },
  {
   "cell_type": "code",
   "execution_count": null,
   "metadata": {
    "scrolled": true
   },
   "outputs": [],
   "source": [
    "# Replace the elipsis with your country name. DO NOT REMOVE THE QUOTES!\n",
    "# Then, run the cell.\n",
    "my_country = \"...\"\n",
    "country_data = data.where(\"Country\", my_country)\n",
    "country_data.show(1)"
   ]
  },
  {
   "cell_type": "markdown",
   "metadata": {},
   "source": [
    "It looks like this table is too long and doesn't give us a lot of information. Let's call the `where` function again. However, let's use it so that we will only look at **immigration of men** into your country."
   ]
  },
  {
   "cell_type": "code",
   "execution_count": null,
   "metadata": {
    "scrolled": false
   },
   "outputs": [],
   "source": [
    "# Replace each elipsis in line with the above description. \n",
    "# DO NOT REMOVE THE QUOTES!\n",
    "# Then, run the cell.\n",
    "migration_type = \"...\"\n",
    "gender = \"...\"\n",
    "immigration_data = country_data.where(\"Migration Type\", migration_type)\n",
    "male_immigration_data = immigration_data.where(\"Gender\", gender)\n",
    "male_immigration_data"
   ]
  },
  {
   "cell_type": "markdown",
   "metadata": {},
   "source": [
    "Now, we have a table that we can analyze! Let's do some visualizations."
   ]
  },
  {
   "cell_type": "markdown",
   "metadata": {},
   "source": [
    "#### Visualizing Data"
   ]
  },
  {
   "cell_type": "markdown",
   "metadata": {},
   "source": [
    "##### Bar Graph"
   ]
  },
  {
   "cell_type": "markdown",
   "metadata": {},
   "source": [
    "Let's create a bar graph of the total male immigration for each year for your country. "
   ]
  },
  {
   "cell_type": "code",
   "execution_count": null,
   "metadata": {},
   "outputs": [],
   "source": [
    "# Run this cell.\n",
    "male_immigration_data.bar(\"Year\", \"Total Migration\")\n",
    "plots.ylabel(\"Total Male Migrants to \" + my_country);"
   ]
  },
  {
   "cell_type": "markdown",
   "metadata": {},
   "source": [
    "The `bar` function is used to create bar charts like the one above. It takes in the names of two columns in quotes with the first one on the x-axis and the second one on the y-axis."
   ]
  },
  {
   "cell_type": "markdown",
   "metadata": {},
   "source": [
    "##### Line Graph"
   ]
  },
  {
   "cell_type": "markdown",
   "metadata": {},
   "source": [
    "Let's create a line graph of the total male immigration from the country of origin of most of the migrants over time."
   ]
  },
  {
   "cell_type": "code",
   "execution_count": null,
   "metadata": {},
   "outputs": [],
   "source": [
    "# Run this cell.\n",
    "male_immigration_data.plot(\"Year\", \"Country 1 Count\")\n",
    "plots.ylabel(\"Total \" + male_immigration_data.column(\"Country 1\").item(0) + \" Migrants to \" + my_country);"
   ]
  },
  {
   "cell_type": "markdown",
   "metadata": {},
   "source": [
    "The `plot` function is used to create line graphs like the one above. It takes in the names of two columns in quotes with the first one on the x-axis and the second one on the y-axis."
   ]
  },
  {
   "cell_type": "markdown",
   "metadata": {},
   "source": [
    "Now, you can try a visualization! We will provide code for you to fill in, but try calling the `where` function to focus your data and one of the two visualizations to get a better look at your data. We will also put one more example below."
   ]
  },
  {
   "cell_type": "code",
   "execution_count": null,
   "metadata": {},
   "outputs": [],
   "source": [
    "# Run this to see an example visualization!\n",
    "# This is a line graph for the year 2000 \n",
    "# where the x-axis is the Passport power rating of a country and\n",
    "# the y-axis is the Total Migration out of the country\n",
    "table_y2k = data.where(\"Year\", 2000).where('Gender', 'total').where('Migration Type','Emigration')\n",
    "table_y2k.plot(\"Passport power rating\", \"Total Migration\")"
   ]
  },
  {
   "cell_type": "code",
   "execution_count": null,
   "metadata": {},
   "outputs": [],
   "source": [
    "table_to_visualize = data #call .where on data thrice for the best results\n",
    "table_to_visualize #call either .bar or .plot depending of your data"
   ]
  },
  {
   "cell_type": "markdown",
   "metadata": {},
   "source": [
    "Congratulations! You have learned the basics of data science programming! For the next part, we wrote some higher functions that essentially do the same things you just learned with some plotting magic."
   ]
  },
  {
   "cell_type": "markdown",
   "metadata": {},
   "source": [
    "# Picking Your Variables <a id='1'></a>"
   ]
  },
  {
   "cell_type": "markdown",
   "metadata": {},
   "source": [
    "For this section, you will be selecting your country for the graph. Please type your country's name in the provided space below."
   ]
  },
  {
   "cell_type": "code",
   "execution_count": 11,
   "metadata": {},
   "outputs": [],
   "source": [
    "# Replace the elipsis with your country name. DO NOT REMOVE THE QUOTES!\n",
    "# Then, run the cell.\n",
    "my_country = \"China\""
   ]
  },
  {
   "cell_type": "markdown",
   "metadata": {},
   "source": [
    "Next, you will be able to pick a variable to investigate for your country. The options are listed for you below: \n",
    "1. Gender\n",
    "2. Migration Type\n",
    "3. Age (Immigration Only)\n",
    "Our personal favorite is 3 :)"
   ]
  },
  {
   "cell_type": "code",
   "execution_count": null,
   "metadata": {},
   "outputs": [],
   "source": [
    "# Replace the elipsis with the number of the variable \n",
    "# that you would like to explore. No need for quotes.\n",
    "# Then, run the cell.\n",
    "my_variable = ..."
   ]
  },
  {
   "cell_type": "markdown",
   "metadata": {},
   "source": [
    "# Graphing the Data  <a id='2'></a>"
   ]
  },
  {
   "cell_type": "markdown",
   "metadata": {},
   "source": [
    "Now, let's graph the data for your variables! Run the cell below."
   ]
  },
  {
   "cell_type": "code",
   "execution_count": null,
   "metadata": {
    "scrolled": true
   },
   "outputs": [],
   "source": [
    "graph.one_pick_and_graph(data.to_df(), my_country, my_variable)"
   ]
  },
  {
   "cell_type": "code",
   "execution_count": null,
   "metadata": {},
   "outputs": [],
   "source": [
    "graph.migration_side_by_side(my_country)"
   ]
  },
  {
   "cell_type": "markdown",
   "metadata": {},
   "source": [
    "# Comparing to Another Country  <a id='3'></a>"
   ]
  },
  {
   "cell_type": "markdown",
   "metadata": {},
   "source": [
    "Now that we have looked at a graph for your country, let's compare to another country. For this section, you will be selecting your country and we will visualize a specific gender and migration type. Please type your country's name in the provided space below."
   ]
  },
  {
   "cell_type": "code",
   "execution_count": null,
   "metadata": {},
   "outputs": [],
   "source": [
    "# Replace the elipsis with another country name. DO NOT REMOVE THE QUOTES!\n",
    "# Then, run the cell.\n",
    "another_country = \"...\"\n",
    "gender = \"...\" # female, male, or total\n",
    "migration_type = ... # Immigration = 1 or Emigration = 2\n",
    "graph_type = \"...\" # line or bar"
   ]
  },
  {
   "cell_type": "markdown",
   "metadata": {},
   "source": [
    "Now, let's compare! Run the cell below."
   ]
  },
  {
   "cell_type": "code",
   "execution_count": null,
   "metadata": {},
   "outputs": [],
   "source": [
    "graph.multiple_pick_and_graph(gender, migration_type, [my_country, another_country], graph_type)"
   ]
  },
  {
   "cell_type": "markdown",
   "metadata": {},
   "source": [
    "We can also compare them based on GDP! Run the cell below."
   ]
  },
  {
   "cell_type": "code",
   "execution_count": null,
   "metadata": {},
   "outputs": [],
   "source": [
    "graph.gdp(data.to_df(), my_country, another_country)"
   ]
  },
  {
   "cell_type": "markdown",
   "metadata": {},
   "source": [
    "# Over Time  <a id='4'></a>"
   ]
  },
  {
   "cell_type": "markdown",
   "metadata": {},
   "source": [
    "Now, we can look at these changes over time. Run the cell below."
   ]
  },
  {
   "cell_type": "code",
   "execution_count": null,
   "metadata": {},
   "outputs": [],
   "source": [
    "graph.one_pick_and_graph(my_country, my_variable, year=True)"
   ]
  },
  {
   "cell_type": "code",
   "execution_count": null,
   "metadata": {},
   "outputs": [],
   "source": [
    "graph.one_pick_and_graph(another_country, my_variable, year=True)"
   ]
  },
  {
   "cell_type": "markdown",
   "metadata": {},
   "source": [
    "# Questions  <a id='5'></a>"
   ]
  },
  {
   "cell_type": "markdown",
   "metadata": {},
   "source": [
    "To replace the text with your answer, double click the text."
   ]
  },
  {
   "cell_type": "markdown",
   "metadata": {},
   "source": [
    "1. Does your assigned country admit asylum migrants?\n",
    "If yes, describe if there has been a pattern or time period for asylum migration to your country.\n",
    "If no, explain why not."
   ]
  },
  {
   "cell_type": "markdown",
   "metadata": {},
   "source": [
    "***Replace this with your answer to Q1***"
   ]
  },
  {
   "cell_type": "markdown",
   "metadata": {},
   "source": [
    "2. Do individuals from your assigned country migrate to countries abroad as refugees/asylum-seekers (yes or no)? Explain why or why not.\n"
   ]
  },
  {
   "cell_type": "markdown",
   "metadata": {},
   "source": [
    "***Replace this with your answer to Q2***"
   ]
  },
  {
   "cell_type": "markdown",
   "metadata": {},
   "source": [
    "3. Has your country suffered from war? If so, what years and how many times?"
   ]
  },
  {
   "cell_type": "markdown",
   "metadata": {},
   "source": [
    "***Replace this with your answer to Q3***"
   ]
  },
  {
   "cell_type": "markdown",
   "metadata": {},
   "source": [
    "4. Has your country suffered from genocide? If so, what years and how many times?"
   ]
  },
  {
   "cell_type": "markdown",
   "metadata": {},
   "source": [
    "***Replace this with your answer to Q4***"
   ]
  },
  {
   "cell_type": "markdown",
   "metadata": {},
   "source": [
    "5. Has your country suffered from an unstable government like coups or dictatorship? If so, what years and how many times?"
   ]
  },
  {
   "cell_type": "markdown",
   "metadata": {},
   "source": [
    "***Replace this with your answer to Q5***"
   ]
  },
  {
   "cell_type": "markdown",
   "metadata": {},
   "source": [
    "6. Has your country suffered from organized crime like like military control, cartels, gangs, or other rebellious groups? If so, what years and how many times?"
   ]
  },
  {
   "cell_type": "markdown",
   "metadata": {},
   "source": [
    "***Replace this with your answer to Q6***"
   ]
  },
  {
   "cell_type": "markdown",
   "metadata": {},
   "source": [
    "7. If you answered yes for any question from Q3 to Q6, describe at least one of those political conflicts in detail."
   ]
  },
  {
   "cell_type": "markdown",
   "metadata": {},
   "source": [
    "***Replace this with your answer to Q7***"
   ]
  },
  {
   "cell_type": "markdown",
   "metadata": {},
   "source": [
    "8. Has your country suffered from economic downturns like economic recession or financial crisis? If so, what type? What years? How many times? Also, describe at least one in detail."
   ]
  },
  {
   "cell_type": "markdown",
   "metadata": {},
   "source": [
    "***Replace this with your answer to Q8***"
   ]
  },
  {
   "cell_type": "markdown",
   "metadata": {},
   "source": [
    "9. Has your country suffered from natural disasters? If so, what type? What years? How many times?"
   ]
  },
  {
   "cell_type": "markdown",
   "metadata": {},
   "source": [
    "***Replace this with your answer to Q9***"
   ]
  },
  {
   "cell_type": "markdown",
   "metadata": {},
   "source": [
    "10. Has your country suffered from any man-made disasters? If so, what type? What years? How many times?"
   ]
  },
  {
   "cell_type": "markdown",
   "metadata": {},
   "source": [
    "***Replace this with your answer to Q10***"
   ]
  },
  {
   "cell_type": "markdown",
   "metadata": {},
   "source": [
    "11. Have there been changes over-time for your assigned country’s access to visas? Explain. "
   ]
  },
  {
   "cell_type": "markdown",
   "metadata": {},
   "source": [
    "***Replace this with your answer to Q11***"
   ]
  },
  {
   "cell_type": "markdown",
   "metadata": {},
   "source": [
    "# Feedback  <a id='6'></a>"
   ]
  },
  {
   "cell_type": "markdown",
   "metadata": {},
   "source": [
    "Thank you so much for completeing the notebook! The development team would appreciate your feedback to get a sense of how the notebook experience was! All feedback is confidential and will be used to guide future developers in creating a notebook. We hope you learned a lot from this experience feel free to reach out to us if you have any questions about the development or use of this notebook."
   ]
  },
  {
   "cell_type": "code",
   "execution_count": null,
   "metadata": {},
   "outputs": [],
   "source": [
    "#Just run this cell to display the form below.\n",
    "HTML(\n",
    "\"\"\"\n",
    "<iframe \n",
    "\tsrc=\"https://docs.google.com/forms/d/e/1FAIpQLSe54U3E64kYFWwQHSUpAvWYMuJOdKzbHDZjPa3nMUlHSSs0PQ/viewform\" \n",
    "\twidth=\"100%\" \n",
    "\theight=\"1200px\" \n",
    "\tframeborder=\"0\" \n",
    "\tmarginheight=\"0\" \n",
    "\tmarginwidth=\"0\">\n",
    "\tLoading...\n",
    "</iframe>\n",
    "\"\"\"\n",
    ")"
   ]
  },
  {
   "cell_type": "code",
   "execution_count": null,
   "metadata": {},
   "outputs": [],
   "source": []
  }
 ],
 "metadata": {
  "kernelspec": {
   "display_name": "Python 3",
   "language": "python",
   "name": "python3"
  },
  "language_info": {
   "codemirror_mode": {
    "name": "ipython",
    "version": 3
   },
   "file_extension": ".py",
   "mimetype": "text/x-python",
   "name": "python",
   "nbconvert_exporter": "python",
   "pygments_lexer": "ipython3",
   "version": "3.7.1"
  }
 },
 "nbformat": 4,
 "nbformat_minor": 2
}
