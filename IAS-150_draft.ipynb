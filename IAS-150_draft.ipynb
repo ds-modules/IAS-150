{
 "cells": [
  {
   "cell_type": "code",
   "execution_count": 12,
   "metadata": {
    "collapsed": true
   },
   "outputs": [],
   "source": [
    "import numpy as np\n",
    "import math\n",
    "from datascience import *\n",
    "from scipy import stats"
   ]
  },
  {
   "cell_type": "markdown",
   "metadata": {},
   "source": [
    "# Welcome to IAS-150's Data Science Module\n",
    "\n",
    "Today we will be examing a data set that the UN produces every year, called the Gender Inequality Index. This is the UN's annual ranking of 188 countries in  terms of gender _inequality_. "
   ]
  },
  {
   "cell_type": "markdown",
   "metadata": {
    "collapsed": true
   },
   "source": [
    "### Load in the UN Gender Inequality Index (GII) data from 2016\n",
    "Note: the table has been modified slightly from its original format for ease of use. The original table can be found at: http://hdr.undp.org/en/composite/GII"
   ]
  },
  {
   "cell_type": "code",
   "execution_count": 14,
   "metadata": {},
   "outputs": [
    {
     "data": {
      "text/html": [
       "<table border=\"1\" class=\"dataframe\">\n",
       "    <thead>\n",
       "        <tr>\n",
       "            <th>HDI rank</th> <th>Country</th> <th>Value (2015)</th> <th>Rank (2015)</th> <th>Maternal mortality ratio (deaths per 100,000 live births)</th> <th>Adolescent birth rate (births per 1,000 women ages 15–19)</th> <th>Share of seats in parliament (% held by women)</th> <th>% Female population with at least some secondary education</th> <th>% Male population with at least some secondary education</th> <th>Female Labour force participation rate</th> <th>Male Labour force participation rate</th>\n",
       "        </tr>\n",
       "    </thead>\n",
       "    <tbody>\n",
       "        <tr>\n",
       "            <td>1       </td> <td>Norway     </td> <td>0.05        </td> <td>6.00       </td> <td>5.00                                                     </td> <td>5.90                                                     </td> <td>39.64                                         </td> <td>96.07                                                     </td> <td>94.60                                                   </td> <td>61.18                                 </td> <td>68.53                               </td>\n",
       "        </tr>\n",
       "    </tbody>\n",
       "        <tr>\n",
       "            <td>2       </td> <td>Australia  </td> <td>0.12        </td> <td>24.00      </td> <td>6.00                                                     </td> <td>14.13                                                    </td> <td>30.53                                         </td> <td>91.37                                                     </td> <td>91.53                                                   </td> <td>58.57                                 </td> <td>70.92                               </td>\n",
       "        </tr>\n",
       "    </tbody>\n",
       "        <tr>\n",
       "            <td>2       </td> <td>Switzerland</td> <td>0.04        </td> <td>1.00       </td> <td>5.00                                                     </td> <td>2.95                                                     </td> <td>28.86                                         </td> <td>96.07                                                     </td> <td>97.36                                                   </td> <td>62.68                                 </td> <td>74.85                               </td>\n",
       "        </tr>\n",
       "    </tbody>\n",
       "        <tr>\n",
       "            <td>4       </td> <td>Germany    </td> <td>0.07        </td> <td>9.00       </td> <td>6.00                                                     </td> <td>6.69                                                     </td> <td>36.86                                         </td> <td>96.38                                                     </td> <td>96.96                                                   </td> <td>54.53                                 </td> <td>66.43                               </td>\n",
       "        </tr>\n",
       "    </tbody>\n",
       "        <tr>\n",
       "            <td>5       </td> <td>Denmark    </td> <td>0.04        </td> <td>2.00       </td> <td>6.00                                                     </td> <td>4.04                                                     </td> <td>37.43                                         </td> <td>89.08                                                     </td> <td>98.53                                                   </td> <td>58.04                                 </td> <td>66.16                               </td>\n",
       "        </tr>\n",
       "    </tbody>\n",
       "        <tr>\n",
       "            <td>5       </td> <td>Singapore  </td> <td>0.07        </td> <td>11.00      </td> <td>10.00                                                    </td> <td>3.82                                                     </td> <td>23.91                                         </td> <td>75.52                                                     </td> <td>81.92                                                   </td> <td>58.24                                 </td> <td>76.43                               </td>\n",
       "        </tr>\n",
       "    </tbody>\n",
       "        <tr>\n",
       "            <td>7       </td> <td>Netherlands</td> <td>0.04        </td> <td>3.00       </td> <td>7.00                                                     </td> <td>3.99                                                     </td> <td>36.44                                         </td> <td>86.18                                                     </td> <td>90.28                                                   </td> <td>57.53                                 </td> <td>70.24                               </td>\n",
       "        </tr>\n",
       "    </tbody>\n",
       "        <tr>\n",
       "            <td>8       </td> <td>Ireland    </td> <td>0.13        </td> <td>26.00      </td> <td>8.00                                                     </td> <td>10.43                                                    </td> <td>19.91                                         </td> <td>86.76                                                     </td> <td>82.22                                                   </td> <td>52.38                                 </td> <td>67.82                               </td>\n",
       "        </tr>\n",
       "    </tbody>\n",
       "        <tr>\n",
       "            <td>9       </td> <td>Iceland    </td> <td>0.05        </td> <td>5.00       </td> <td>3.00                                                     </td> <td>6.07                                                     </td> <td>41.27                                         </td> <td>100.00                                                    </td> <td>97.18                                                   </td> <td>70.66                                 </td> <td>77.50                               </td>\n",
       "        </tr>\n",
       "    </tbody>\n",
       "        <tr>\n",
       "            <td>10      </td> <td>Canada     </td> <td>0.10        </td> <td>18.00      </td> <td>7.00                                                     </td> <td>9.77                                                     </td> <td>28.27                                         </td> <td>100.00                                                    </td> <td>100.00                                                  </td> <td>60.97                                 </td> <td>70.28                               </td>\n",
       "        </tr>\n",
       "    </tbody>\n",
       "</table>\n",
       "<p>... (178 rows omitted)</p"
      ],
      "text/plain": [
       "HDI rank | Country     | Value (2015) | Rank (2015) | Maternal mortality ratio (deaths per 100,000 live births) | Adolescent birth rate (births per 1,000 women ages 15–19) | Share of seats in parliament (% held by women) | % Female population with at least some secondary education | % Male population with at least some secondary education | Female Labour force participation rate | Male Labour force participation rate\n",
       "1        | Norway      | 0.05         | 6.00        | 5.00                                                      | 5.90                                                      | 39.64                                          | 96.07                                                      | 94.60                                                    | 61.18                                  | 68.53\n",
       "2        | Australia   | 0.12         | 24.00       | 6.00                                                      | 14.13                                                     | 30.53                                          | 91.37                                                      | 91.53                                                    | 58.57                                  | 70.92\n",
       "2        | Switzerland | 0.04         | 1.00        | 5.00                                                      | 2.95                                                      | 28.86                                          | 96.07                                                      | 97.36                                                    | 62.68                                  | 74.85\n",
       "4        | Germany     | 0.07         | 9.00        | 6.00                                                      | 6.69                                                      | 36.86                                          | 96.38                                                      | 96.96                                                    | 54.53                                  | 66.43\n",
       "5        | Denmark     | 0.04         | 2.00        | 6.00                                                      | 4.04                                                      | 37.43                                          | 89.08                                                      | 98.53                                                    | 58.04                                  | 66.16\n",
       "5        | Singapore   | 0.07         | 11.00       | 10.00                                                     | 3.82                                                      | 23.91                                          | 75.52                                                      | 81.92                                                    | 58.24                                  | 76.43\n",
       "7        | Netherlands | 0.04         | 3.00        | 7.00                                                      | 3.99                                                      | 36.44                                          | 86.18                                                      | 90.28                                                    | 57.53                                  | 70.24\n",
       "8        | Ireland     | 0.13         | 26.00       | 8.00                                                      | 10.43                                                     | 19.91                                          | 86.76                                                      | 82.22                                                    | 52.38                                  | 67.82\n",
       "9        | Iceland     | 0.05         | 5.00        | 3.00                                                      | 6.07                                                      | 41.27                                          | 100.00                                                     | 97.18                                                    | 70.66                                  | 77.50\n",
       "10       | Canada      | 0.10         | 18.00       | 7.00                                                      | 9.77                                                      | 28.27                                          | 100.00                                                     | 100.00                                                   | 60.97                                  | 70.28\n",
       "... (178 rows omitted)"
      ]
     },
     "execution_count": 14,
     "metadata": {},
     "output_type": "execute_result"
    }
   ],
   "source": [
    "data = Table.read_table('GII_data-numbers.csv')\n",
    "data"
   ]
  },
  {
   "cell_type": "markdown",
   "metadata": {},
   "source": [
    "## Clean Data:\n",
    "##### (Only pay attention if you're interested)\n",
    "Right now, all of the values that look like numbers are actually being stored as _strings_, which, in Python, are usually how ASCII characters are stored. Thus, you can't do normal mathematical operations on strings. We have to change these strings into _floats_, or floating-point decimals. That's what the code below does."
   ]
  },
  {
   "cell_type": "code",
   "execution_count": 19,
   "metadata": {},
   "outputs": [
    {
     "data": {
      "text/html": [
       "<table border=\"1\" class=\"dataframe\">\n",
       "    <thead>\n",
       "        <tr>\n",
       "            <th>HDI rank</th> <th>Country</th> <th>Value (2015)</th> <th>Rank (2015)</th> <th>Maternal mortality ratio (deaths per 100,000 live births)</th> <th>Adolescent birth rate (births per 1,000 women ages 15–19)</th> <th>Share of seats in parliament (% held by women)</th> <th>% Female population with at least some secondary education</th> <th>% Male population with at least some secondary education</th> <th>Female Labour force participation rate</th> <th>Male Labour force participation rate</th>\n",
       "        </tr>\n",
       "    </thead>\n",
       "    <tbody>\n",
       "        <tr>\n",
       "            <td>1       </td> <td>Norway     </td> <td>0.05        </td> <td>6          </td> <td>5                                                        </td> <td>5.9                                                      </td> <td>39.64                                         </td> <td>96.07                                                     </td> <td>94.6                                                    </td> <td>61.18                                 </td> <td>68.53                               </td>\n",
       "        </tr>\n",
       "    </tbody>\n",
       "        <tr>\n",
       "            <td>2       </td> <td>Australia  </td> <td>0.12        </td> <td>24         </td> <td>6                                                        </td> <td>14.13                                                    </td> <td>30.53                                         </td> <td>91.37                                                     </td> <td>91.53                                                   </td> <td>58.57                                 </td> <td>70.92                               </td>\n",
       "        </tr>\n",
       "    </tbody>\n",
       "        <tr>\n",
       "            <td>2       </td> <td>Switzerland</td> <td>0.04        </td> <td>1          </td> <td>5                                                        </td> <td>2.95                                                     </td> <td>28.86                                         </td> <td>96.07                                                     </td> <td>97.36                                                   </td> <td>62.68                                 </td> <td>74.85                               </td>\n",
       "        </tr>\n",
       "    </tbody>\n",
       "        <tr>\n",
       "            <td>4       </td> <td>Germany    </td> <td>0.07        </td> <td>9          </td> <td>6                                                        </td> <td>6.69                                                     </td> <td>36.86                                         </td> <td>96.38                                                     </td> <td>96.96                                                   </td> <td>54.53                                 </td> <td>66.43                               </td>\n",
       "        </tr>\n",
       "    </tbody>\n",
       "        <tr>\n",
       "            <td>5       </td> <td>Denmark    </td> <td>0.04        </td> <td>2          </td> <td>6                                                        </td> <td>4.04                                                     </td> <td>37.43                                         </td> <td>89.08                                                     </td> <td>98.53                                                   </td> <td>58.04                                 </td> <td>66.16                               </td>\n",
       "        </tr>\n",
       "    </tbody>\n",
       "        <tr>\n",
       "            <td>5       </td> <td>Singapore  </td> <td>0.07        </td> <td>11         </td> <td>10                                                       </td> <td>3.82                                                     </td> <td>23.91                                         </td> <td>75.52                                                     </td> <td>81.92                                                   </td> <td>58.24                                 </td> <td>76.43                               </td>\n",
       "        </tr>\n",
       "    </tbody>\n",
       "        <tr>\n",
       "            <td>7       </td> <td>Netherlands</td> <td>0.04        </td> <td>3          </td> <td>7                                                        </td> <td>3.99                                                     </td> <td>36.44                                         </td> <td>86.18                                                     </td> <td>90.28                                                   </td> <td>57.53                                 </td> <td>70.24                               </td>\n",
       "        </tr>\n",
       "    </tbody>\n",
       "        <tr>\n",
       "            <td>8       </td> <td>Ireland    </td> <td>0.13        </td> <td>26         </td> <td>8                                                        </td> <td>10.43                                                    </td> <td>19.91                                         </td> <td>86.76                                                     </td> <td>82.22                                                   </td> <td>52.38                                 </td> <td>67.82                               </td>\n",
       "        </tr>\n",
       "    </tbody>\n",
       "        <tr>\n",
       "            <td>9       </td> <td>Iceland    </td> <td>0.05        </td> <td>5          </td> <td>3                                                        </td> <td>6.07                                                     </td> <td>41.27                                         </td> <td>100                                                       </td> <td>97.18                                                   </td> <td>70.66                                 </td> <td>77.5                                </td>\n",
       "        </tr>\n",
       "    </tbody>\n",
       "        <tr>\n",
       "            <td>10      </td> <td>Canada     </td> <td>0.1         </td> <td>18         </td> <td>7                                                        </td> <td>9.77                                                     </td> <td>28.27                                         </td> <td>100                                                       </td> <td>100                                                     </td> <td>60.97                                 </td> <td>70.28                               </td>\n",
       "        </tr>\n",
       "    </tbody>\n",
       "</table>\n",
       "<p>... (178 rows omitted)</p"
      ],
      "text/plain": [
       "HDI rank | Country     | Value (2015) | Rank (2015) | Maternal mortality ratio (deaths per 100,000 live births) | Adolescent birth rate (births per 1,000 women ages 15–19) | Share of seats in parliament (% held by women) | % Female population with at least some secondary education | % Male population with at least some secondary education | Female Labour force participation rate | Male Labour force participation rate\n",
       "1        | Norway      | 0.05         | 6           | 5                                                         | 5.9                                                       | 39.64                                          | 96.07                                                      | 94.6                                                     | 61.18                                  | 68.53\n",
       "2        | Australia   | 0.12         | 24          | 6                                                         | 14.13                                                     | 30.53                                          | 91.37                                                      | 91.53                                                    | 58.57                                  | 70.92\n",
       "2        | Switzerland | 0.04         | 1           | 5                                                         | 2.95                                                      | 28.86                                          | 96.07                                                      | 97.36                                                    | 62.68                                  | 74.85\n",
       "4        | Germany     | 0.07         | 9           | 6                                                         | 6.69                                                      | 36.86                                          | 96.38                                                      | 96.96                                                    | 54.53                                  | 66.43\n",
       "5        | Denmark     | 0.04         | 2           | 6                                                         | 4.04                                                      | 37.43                                          | 89.08                                                      | 98.53                                                    | 58.04                                  | 66.16\n",
       "5        | Singapore   | 0.07         | 11          | 10                                                        | 3.82                                                      | 23.91                                          | 75.52                                                      | 81.92                                                    | 58.24                                  | 76.43\n",
       "7        | Netherlands | 0.04         | 3           | 7                                                         | 3.99                                                      | 36.44                                          | 86.18                                                      | 90.28                                                    | 57.53                                  | 70.24\n",
       "8        | Ireland     | 0.13         | 26          | 8                                                         | 10.43                                                     | 19.91                                          | 86.76                                                      | 82.22                                                    | 52.38                                  | 67.82\n",
       "9        | Iceland     | 0.05         | 5           | 3                                                         | 6.07                                                      | 41.27                                          | 100                                                        | 97.18                                                    | 70.66                                  | 77.5\n",
       "10       | Canada      | 0.1          | 18          | 7                                                         | 9.77                                                      | 28.27                                          | 100                                                        | 100                                                      | 60.97                                  | 70.28\n",
       "... (178 rows omitted)"
      ]
     },
     "execution_count": 19,
     "metadata": {},
     "output_type": "execute_result"
    }
   ],
   "source": [
    "un = Table()\n",
    "for label in data.labels:\n",
    "    clean_col = make_array()\n",
    "    for i in np.arange(len(data.column(label))):\n",
    "        if data.column(label).item(i) == '..':\n",
    "            clean_col = np.append(clean_col, np.nan)\n",
    "        elif label == 'Country' or label == 'HDI rank':\n",
    "            clean_col = np.append(clean_col, data.column(label).item(i))   \n",
    "        else:\n",
    "            clean_col = np.append(clean_col, float(data.column(label).item(i)))\n",
    "    un.append_column(label, clean_col)\n",
    "un"
   ]
  },
  {
   "cell_type": "markdown",
   "metadata": {},
   "source": [
    "The 'Value' and 'Rank' columns describe how each country did last year (2015). As you can see, the lower the value, the higher the rank. Thus, in 2016, Norway had the lowest value, although the raw value for 2016 is not shown in this table."
   ]
  },
  {
   "cell_type": "markdown",
   "metadata": {},
   "source": [
    "### How the GII is calculated:\n",
    "![](gii_breakdown.png)"
   ]
  },
  {
   "cell_type": "markdown",
   "metadata": {},
   "source": [
    "The Gender Inequality Index (GII) reflects gender-based disadvantage in three dimensions—reproductive health, empowerment and the labour market—for as many countries as data of reasonable quality allow. It shows the loss in potential human development due to inequality between female and male achievements in these dimensions. It ranges from 0, where women and men fare equally, to 1, where one gender fares as poorly as possible in all measured dimensions. (taken from UNDP technical notes)"
   ]
  },
  {
   "cell_type": "code",
   "execution_count": null,
   "metadata": {
    "collapsed": true
   },
   "outputs": [],
   "source": []
  }
 ],
 "metadata": {
  "kernelspec": {
   "display_name": "Python 3",
   "language": "python",
   "name": "python3"
  },
  "language_info": {
   "codemirror_mode": {
    "name": "ipython",
    "version": 3
   },
   "file_extension": ".py",
   "mimetype": "text/x-python",
   "name": "python",
   "nbconvert_exporter": "python",
   "pygments_lexer": "ipython3",
   "version": "3.5.2"
  }
 },
 "nbformat": 4,
 "nbformat_minor": 2
}
