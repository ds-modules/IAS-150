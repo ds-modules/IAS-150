{
 "cells": [
  {
   "cell_type": "code",
   "execution_count": 34,
   "metadata": {
    "collapsed": true
   },
   "outputs": [],
   "source": [
    "import numpy as np\n",
    "import math\n",
    "from datascience import *\n",
    "from scipy import stats"
   ]
  },
  {
   "cell_type": "markdown",
   "metadata": {},
   "source": [
    "Multiple Correspondence Analysis (MCA)?"
   ]
  },
  {
   "cell_type": "code",
   "execution_count": null,
   "metadata": {
    "collapsed": true
   },
   "outputs": [],
   "source": []
  },
  {
   "cell_type": "markdown",
   "metadata": {},
   "source": [
    "## 1. Overview:\n",
    "\n",
    "Gender equity is an essential and widely recognized international policy goal because of its intrinsic and instrumental value. It is clearly important as an end in itself and also is a means to the attainment of other development goals such as the nourishment and educational achievements of children.\n",
    "\n",
    "The global Gender Inequality Index (GII) — built on the same framework as the Human Development Index (HDI) and the Inequality-adjusted Human Development Index (IHDI) — was released in 2010. It measures inequalities in achievements between women and men across three dimensions of human development: reproductive health, empowerment and the labour market. The GII can be used for international comparisons (the global GII), as presented in the 2010 Human Development Report (HDR). Like the HDI, the global GII’s chosen indicators are deeply affected by data limitations, but more accurate national GIIs can be developed using richer data sources. \n",
    "\n",
    "The Gender Inequality Index (GII) reflects gender-based disadvantage in three dimensions—reproductive health, empowerment and the labour market—for as many countries as data of reasonable quality allow. It shows the loss in potential human development due to inequality between female and male achievements in these dimensions. It ranges from 0, where women and men fare equally, to 1, where one gender fares as poorly as possible in all measured dimensions.\n",
    "\n",
    "The GII is computed using the association-sensitive inequality measure suggested by Seth (2009), which implies that the index is based on the general mean of general means of different orders — the first aggregation is by a geometric mean across dimensions; these means, calculated separately for women and men, are then aggregated using a harmonic mean across genders.\n"
   ]
  },
  {
   "cell_type": "markdown",
   "metadata": {},
   "source": [
    "As we move along, we'll see how the global GII provides insights into gender disparities in reproductive health, empowerment and the labour market in 188 countries. It can enable governments and others better understand and promote gender equality. The GII can be used to raise awareness of disparities, track progress towards gender equity and support public action. \n",
    "\n",
    "![](gii_breakdown.png)"
   ]
  },
  {
   "cell_type": "markdown",
   "metadata": {},
   "source": [
    "## 2. Components:\n",
    "The global GII has three dimensions: reproductive health, empowerment and labour market participation. \n",
    "\n",
    "a) The reproductive health dimension is measured by two indicators: the maternal mortality ratio and the adolescent fertility rate. \n",
    "b) The empowerment dimension is also measured by two indicators: the share of parliamentary seats held by each sex, and secondary and higher education attainment levels. \n",
    "c) The labour dimension is measured by women’s labour force participation rate.\n",
    "\n",
    "Overall, there are 5 indicators belonging to 3 dimensions. Below lists the dimensions and indicators of the global GII.  "
   ]
  },
  {
   "cell_type": "code",
   "execution_count": 35,
   "metadata": {
    "collapsed": false
   },
   "outputs": [
    {
     "data": {
      "text/html": [
       "<table border=\"1\" class=\"dataframe\">\n",
       "    <thead>\n",
       "        <tr>\n",
       "            <th>Dimension</th> <th>Indicator</th> <th>Indicator 2</th>\n",
       "        </tr>\n",
       "    </thead>\n",
       "    <tbody>\n",
       "        <tr>\n",
       "            <td>Women's Reproductive Health</td> <td>Maternal mortality ratio (MMR)                    </td> <td>Adolescent fertility rate (AFR)                  </td>\n",
       "        </tr>\n",
       "    </tbody>\n",
       "        <tr>\n",
       "            <td>Empowerment                </td> <td>Share of parliamentary seats held by each sex (PR)</td> <td>Attainment at secondary and higher education (SE)</td>\n",
       "        </tr>\n",
       "    </tbody>\n",
       "        <tr>\n",
       "            <td>Labour Market Participation</td> <td>Labour market participation rate (LFPR)           </td> <td>                                                 </td>\n",
       "        </tr>\n",
       "    </tbody>\n",
       "</table>"
      ],
      "text/plain": [
       "Dimension                   | Indicator                                          | Indicator 2\n",
       "Women's Reproductive Health | Maternal mortality ratio (MMR)                     | Adolescent fertility rate (AFR)\n",
       "Empowerment                 | Share of parliamentary seats held by each sex (PR) | Attainment at secondary and higher education (SE)\n",
       "Labour Market Participation | Labour market participation rate (LFPR)            |"
      ]
     },
     "execution_count": 35,
     "metadata": {},
     "output_type": "execute_result"
    }
   ],
   "source": [
    "#Simply run this cell to show the table\n",
    "\n",
    "Table1 = Table().with_column(\n",
    "        \"Dimension\", (\"Women's Reproductive Health\", \"Empowerment\", \"Labour Market Participation\"),\n",
    "        \"Indicator\", (\"Maternal mortality ratio (MMR)\", \"Share of parliamentary seats held by each sex (PR)\", \"Labour market participation rate (LFPR)\"),\n",
    "        \"Indicator 2\", (\"Adolescent fertility rate (AFR)\", \"Attainment at secondary and higher education (SE)\", \"\"))\n",
    "Table1"
   ]
  },
  {
   "cell_type": "markdown",
   "metadata": {
    "collapsed": true
   },
   "source": [
    "### 2.1 Women’s reproductive health:\n",
    "The reproductive health dimension is measured by two indicators: the maternal mortality ratio and the adolescent fertility rate. These indicators are used because the degree to which a society prioritizes the well-being of women during childbirth is intrinsically important, and is also a clear signal of women’s status in society. In many countries around the world, the risk of death in childbirth could be significantly reduced through the provision of basic education, contraceptives, antenatal health services and skilled birth attendance. Adolescent childbearing tends to prevent young women from achieving higher levels of education, which is necessary for success in the labour market and accessing other life opportunities. Early childbirth also poses significant health risks for the mother and her baby. Some studies suggest that because their bodies are not yet fully developed, teenage mothers’ risk of death in childbirth is five times higher."
   ]
  },
  {
   "cell_type": "markdown",
   "metadata": {},
   "source": [
    "### 2.2 Empowerment:\n",
    "The empowerment dimension is also measured by two indicators: the share of parliamentary seats held by each sex, and the percentages of men and women who are 25 years and above and have secondary or higher levels of educational attainment. Women have traditionally been disadvantaged in the political arena at all levels of government. Estimates for parliamentary representation at the national level reflect women’s visibility in political leadership and society more generally, and the extent to which women hold high offices. In turn, higher levels of educational attainment expand women’s freedoms by strengthening their capacity to question, reflect and act, and also to access information. Educated women are more likely to enjoy meaningful work, to use their voices in public debate, to be able to care for their own health and that of their family, and to act as agents throughout society. We use secondary and higher educational attainment because disparities in these levels strongly affect women’s career and leadership prospects. "
   ]
  },
  {
   "cell_type": "markdown",
   "metadata": {},
   "source": [
    "### 2.3 Labour market participation:\n",
    "The labour dimension is measured by the labour force participation rate of women and men. Women may not participate in the labour market for several reasons, including exclusion, unequal pay and incentives, household duties or caring for relatives, and pregnancy and childcare. Thus, the level of women’s participation reflects several aspects, including possibilities and permission to work, which in turn includes labour market opportunities, and the capability of women to combine productive work with duties of care and reproductive responsibilities. Clearly this is affected also by men’s complementary activities in the household. "
   ]
  },
  {
   "cell_type": "markdown",
   "metadata": {},
   "source": [
    "### 2.4 Data sources:\n",
    "The GII relies on data from the following publicly available databases:\n",
    "\n",
    "• Maternal mortality ratio (MMR): UN Maternal Mortality Estimation Group (2016) [used to from UNICEF’s The State of the World’s Children]\n",
    "\n",
    "• Adolescent birth rate (ABR): UN Department of Economic and Social Affair’s World Population Prospects (UNDESA)\n",
    "\n",
    "• Share of parliamentary seats held by each sex (PR): International Parliamentary Union (IPU)\n",
    "\n",
    "• Attainment at secondary and higher education levels (SE): UNESCO Institute for Statistics (2016) \n",
    "[Educational attainment statistics from Barro and Lee (2010) datasets]\n",
    "\n",
    "• Labour market participation rate (LFPR): International Labour Organization’s LABORSTA database (ILO)\n",
    "\n",
    "Data from the above sources, compiled by country, can be accessed through the International Human Development Indicators website at: http://HDR.undp.org/en/data/profiles/."
   ]
  },
  {
   "cell_type": "markdown",
   "metadata": {},
   "source": [
    "## 3. MEASUREMENT:\n",
    "\n",
    "### 3.1 The geometric mean and GII\n",
    "\n",
    "The computation of the global GII is based on the association-sensitive welfare measure proposed by Seth (2009). This welfare index first aggregates the achievements of each gender across three dimensions using a geometric mean. The geometric means for women and men are then aggregated using a harmonic mean (see below for an explanation of “geometric” and “harmonic” means). This type of aggregation makes the welfare index, and thus the GII, sensitive to associations between dimensions as you will see. "
   ]
  },
  {
   "cell_type": "markdown",
   "metadata": {},
   "source": [
    "### NOTE: The Arithmetic mean, Geometric mean, and Harmonic mean\n",
    "\n",
    "The GII is based on the principle that both inequality between dimensions and inequality between genders should be penalised. For this reason the GII is based on the mathematical formulation of the generalized mean of generalized means of different orders. \n",
    "\n",
    "- First, we apply the geometric mean to penalise inequality across dimensions.\n",
    "- Second, we use the harmonic mean to penalise even more the inequality between genders. \n",
    "\n",
    "Both the **geometric mean** and the **harmonic mean** are special cases of the class of generalized means.\n",
    "\n",
    "For example, for any three values x1, x2 and x3, the **generalized mean** or **power mean** with exponent p is defined as follows:\n",
    "\n",
    "- Mp (x1, x2, x3) = (1/3 * (x1^p + x2^p + x3^p)) ^ (1/p)\n",
    "\n",
    "When it happens to be p = 1, then the generalized mean is the **arithmetic mean** or the simple average of the three values. The arithmetic mean for three variables is denoted by:\n",
    "- M1 (x1, x2, x3) = (x1 + x2 + x3) / 3\n",
    "\n",
    "When it happens to be p = 0, then the general mean is called the **geometric mean**, and it is a special case. A geometric mean puts higher emphasis on lower values in producing the average, and thus the result is less than the \n",
    "arithmetic mean. A geometric mean for three variables is denoted by:\n",
    "- M0 (x1, x2, x3) = (x1 × x2 × x3) ^ (1/3)\n",
    "\n",
    "When it happens to be p = -1, then the general mean is called the **harmonic mean**. It emphasizes lower values even more than the arithmetic mean and geometric mean. A harmonic mean for three variables is denoted by:\n",
    "- M-1 (x1, x2, x3) = 3 / (1/x1 + 1/x2 + 1/x3)\n",
    "\n",
    "When there is no inequality between the three values (x1 = x2 = x3), then the arithmetic, geometric and harmonic means are all equal to each other. Note that this method and these formulae apply to any number of values — any number of values greater than one (not necessarily to be 3) can be aggregated in this way.  "
   ]
  },
  {
   "cell_type": "markdown",
   "metadata": {},
   "source": [
    "### 3.2 Computing the GII: Step-by-Step\n",
    "\n",
    "There are five steps to computing the GII. For both of the women’s reproductive health indicators - the maternal mortality rate (MMR) and the average fertility rate (AFR) - an inverse of each indicator is taken. An inverse of a number is equal to one divided by that number. An inverse of a number decreases as the number increases. Given that a higher value of the MMR or the AFR indicates a worse health outcome, the inverses of both indicators are used while constructing the GII. The rest of the three indicators, share of parliamentary seats held (PR), attainment at secondary and higher education (SE) and labour market participation rate (LFPR), are already available in percentage terms, and thus are automatically normalized between zero and hundred. \n",
    "\n",
    "**(Go Through UNDP's Technical Note 4 - 5 Steps)**"
   ]
  },
  {
   "cell_type": "markdown",
   "metadata": {},
   "source": [
    "### 3.3 Example\n",
    "In this section, We'll calculate the GII for two sample countries. Let's say they are \"Republic of Bears\" and \"The United Stanfords\". The achievements of men and women of these two countries are summarized in the table below. "
   ]
  },
  {
   "cell_type": "code",
   "execution_count": 17,
   "metadata": {
    "collapsed": true
   },
   "outputs": [],
   "source": [
    "#Simply RUN this cell to show the table \n",
    "\n",
    "Republic_of_Bears = Table().with_column(\n",
    "    \"Gender\",(\"Female\", \"Male\"),\"MMR\",(210, \"-\"),\"ABR\",(82.8, \"-\"),\"PR (% of seats)\",(24.9, 75.1),\"SE (%)\",(44.2, 45.8),\"LFPR (%)\",(48.1, 79.2))\n",
    "\n",
    "The_United_Stanfords = Table().with_column(\n",
    "        \"Gender\",(\"Female\", \"Male\"),\"MMR\",(150, \"-\"),\"ABR\",(108.7, \"-\"),\"PR (% of seats)\",(17.1, 82.9),\"SE (%)\",(49.7, 41.8),\"LFPR (%)\",(54.6, 83.6))"
   ]
  },
  {
   "cell_type": "code",
   "execution_count": 18,
   "metadata": {
    "collapsed": false
   },
   "outputs": [
    {
     "data": {
      "text/html": [
       "<table border=\"1\" class=\"dataframe\">\n",
       "    <thead>\n",
       "        <tr>\n",
       "            <th>Gender</th> <th>MMR</th> <th>ABR</th> <th>PR (% of seats)</th> <th>SE (%)</th> <th>LFPR (%)</th>\n",
       "        </tr>\n",
       "    </thead>\n",
       "    <tbody>\n",
       "        <tr>\n",
       "            <td>Female</td> <td>210 </td> <td>82.8</td> <td>24.9           </td> <td>44.2  </td> <td>48.1    </td>\n",
       "        </tr>\n",
       "    </tbody>\n",
       "        <tr>\n",
       "            <td>Male  </td> <td>-   </td> <td>-   </td> <td>75.1           </td> <td>45.8  </td> <td>79.2    </td>\n",
       "        </tr>\n",
       "    </tbody>\n",
       "</table>"
      ],
      "text/plain": [
       "Gender | MMR  | ABR  | PR (% of seats) | SE (%) | LFPR (%)\n",
       "Female | 210  | 82.8 | 24.9            | 44.2   | 48.1\n",
       "Male   | -    | -    | 75.1            | 45.8   | 79.2"
      ]
     },
     "execution_count": 18,
     "metadata": {},
     "output_type": "execute_result"
    }
   ],
   "source": [
    "Republic_of_Bears"
   ]
  },
  {
   "cell_type": "code",
   "execution_count": 19,
   "metadata": {
    "collapsed": false
   },
   "outputs": [
    {
     "data": {
      "text/html": [
       "<table border=\"1\" class=\"dataframe\">\n",
       "    <thead>\n",
       "        <tr>\n",
       "            <th>Gender</th> <th>MMR</th> <th>ABR</th> <th>PR (% of seats)</th> <th>SE (%)</th> <th>LFPR (%)</th>\n",
       "        </tr>\n",
       "    </thead>\n",
       "    <tbody>\n",
       "        <tr>\n",
       "            <td>Female</td> <td>150 </td> <td>108.7</td> <td>17.1           </td> <td>49.7  </td> <td>54.6    </td>\n",
       "        </tr>\n",
       "    </tbody>\n",
       "        <tr>\n",
       "            <td>Male  </td> <td>-   </td> <td>-    </td> <td>82.9           </td> <td>41.8  </td> <td>83.6    </td>\n",
       "        </tr>\n",
       "    </tbody>\n",
       "</table>"
      ],
      "text/plain": [
       "Gender | MMR  | ABR   | PR (% of seats) | SE (%) | LFPR (%)\n",
       "Female | 150  | 108.7 | 17.1            | 49.7   | 54.6\n",
       "Male   | -    | -     | 82.9            | 41.8   | 83.6"
      ]
     },
     "execution_count": 19,
     "metadata": {},
     "output_type": "execute_result"
    }
   ],
   "source": [
    "The_United_Stanfords"
   ]
  },
  {
   "cell_type": "markdown",
   "metadata": {},
   "source": [
    "### First, we calculate the three dimension indices:\n",
    "\n",
    "1.The Reproductive Health Index of women for both countries:\n",
    "\n",
    "**Republic of Bears’** reproductive health index: (10/MMR × 1/ABR) ^ (1/2) = (10/210 × 1/82.8) ^ (1/2) = 0.0240\n",
    "\n",
    "**The United Stanfords’** reproductive health index: (10/150 × 1/108.7) ^ (1/2) = 0.0248\n",
    "\n",
    "2.Then the Empowerment Endex of women for both countries:\n",
    "\n",
    "**Republic of Bears’** empowerment index: (PR-Female × SE-Female) ^ (1/2) = (0.249 × 0.442) ^ (1/2) = 0.332\n",
    "\n",
    "**The United Stanfords’** empowerment index: (0.171 × 0.497) ^ (1/2) = 0.292\n",
    "\n",
    "\n",
    "3.Finally, the Labour Market Rarticipation Index of women for both countries: \n",
    "\n",
    "**Republic of Bears’** labour market participation index: 0.481\n",
    "\n",
    "**The United Stanfords’** labour market participation index: 0.546"
   ]
  },
  {
   "cell_type": "markdown",
   "metadata": {},
   "source": [
    "Next, we need to perform the same calculations for men in both countries. The empowerment and labour market participation indices are calculated in the same way for men and women. In the reproductive health dimension, men are attributed a score equal to one.\n",
    "\n",
    "Then, we need to aggregate the achievements by geometric mean to obtain the overall achievement for each gender. For females and males we use the formulations below: "
   ]
  },
  {
   "cell_type": "markdown",
   "metadata": {},
   "source": [
    "**(insert the algorithm here)**"
   ]
  },
  {
   "cell_type": "markdown",
   "metadata": {},
   "source": [
    "For **Republic of Bears**, we now have:\n",
    "\n",
    "Famale: Gf = (0.0240 × 0.332 × 0.481) ^ (1/3) = 0.156\n",
    "    \n",
    "Male: Gm = (1 × (0.751×0.458) ^ (1/2) ×  0.792) ^ (1/3) = 0.774\n",
    "\n",
    "For **The United Stanfords**, we now have:\n",
    "\n",
    "Famale: Gf = (0.0248 × 0.292 × 0.546) ^ (1/3) = 0.158\n",
    "    \n",
    "Male: Gm = (1 × (0.829×0.418) ^ (1/2) ×  0.836) ^ (1/3) = 0.790"
   ]
  },
  {
   "cell_type": "markdown",
   "metadata": {},
   "source": [
    "### Next, we aggregate across gender groups, using a harmonic mean.  \n",
    " \n",
    "\"The female and male indices are aggregated by the harmonic mean to create the equally distributed gender index\"\n",
    "\n",
    "**(insert the algorithm here)**\n",
    "\n",
    "For **Republic of Bears**: HARM(Gf, Gm) = 2 / (1/Gf + 1/Gm) = 2 / (1/0.156 + 1/0.774) = 0.260\n",
    "\n",
    "For **The United Stanfords**: HARM(Gf, Gm) = 2 / (1/0.158 + 1/0.790) = 0.263\n"
   ]
  },
  {
   "cell_type": "markdown",
   "metadata": {},
   "source": [
    "### Now, we calculate the geometric mean of the arithmetic means for each indicator\n",
    "\"The reference standard for computing inequality is obtained by aggregating female and male indices using equal weights (thus treating the genders equally) and then aggregating the indices across dimensions:\"\n",
    "\n",
    "**(insert the algorithm here)**\n",
    "\n",
    "For **Republic of Bears**: \n",
    "\n",
    "Health Indicator Mean = ((10/MMR × 1/ABR) ^ (1/2) + 1) / 2 = ((10/210 × 1/82.8) ^ (1/2) + 1) / 2 = 0.512\n",
    "\n",
    "Empowerment Indicator Mean = ((PR-Female × SE-Female) ^ (1/2) + (PR-Male × SE-Male) ^ (1/2)) / 2 = 0.459\n",
    "\n",
    "LFPR Indicator Mean = (LFPR-Female + LFPR-Male) / 2 = (0.481 + 0.792) / 2 = 0.6365\n",
    "\n",
    "For **The United Stanfords**: \n",
    "\n",
    "Health Indicator Mean = ((10/150 × 1/108.7) ^ (1/2) + 1) / 2 = 0.512\n",
    "\n",
    "Empowerment Indicator Mean = ((0.171 × 0.497) ^ (1/2) + (0.829×0.418) ^ (1/2)) / 2 = 0.440\n",
    "\n",
    "LFPR Indicator Mean = (0.546 + 0.836) / 2 = 0.691\n"
   ]
  },
  {
   "cell_type": "markdown",
   "metadata": {},
   "source": [
    "With indicators above, we then calculate the geometric mean of arithmetic mean:\n",
    "\n",
    "For **Republic of Bears**: Gfm = (Health Indi-Mean × Empowerment Indi-Mean × LFPR Indi-Mean) ^ (1/3) = (0.512 × 0.459 × 0.6365) ^ (1/3) = 0.531\n",
    "\n",
    "For **The United Stanfords**: Gfm = (0.512 × 0.440 × 0.691) ^ (1/3) = 0.538\n"
   ]
  },
  {
   "cell_type": "markdown",
   "metadata": {},
   "source": [
    "### Finally, we calculate the GII\n",
    "\"Comparing the equally distributed gender index to the reference standard yields the GII\"\n",
    "\n",
    "**(insert the algorithm)**\n",
    "\n",
    "For **Republic of Bears**: GII = 1 - HARM(Gf,Gm) / Gfm = 1 - 0.260/0.531 = 0.510\n",
    "\n",
    "For **The United Stanfords**: Gfm = 1 - 0.263/0.538 = 0.511\n",
    "\n"
   ]
  },
  {
   "cell_type": "markdown",
   "metadata": {},
   "source": [
    "## 3.4 Interpreting GII results\n",
    "\n",
    "The GII is designed to capture the inequality in achievements across genders using three important dimensions of human development. It is assumed that, for a country, the maximum ideal human development is achieved for a given set of achievements whenever they are equally distributed across genders. The GII of a country is interpreted therefore as the loss in human development due to the unequal distribution in the GII achievements between men and women as a percentage of the maximum ideal human development. This interpretation of the GII is analogous to the interpretation of the IHDI. However, note that since the GII is based on three different dimensions than those used for the HDI, it cannot be interpreted as the loss in HDI due to gender inequality."
   ]
  },
  {
   "cell_type": "markdown",
   "metadata": {},
   "source": [
    "## 4. EXPLORATION:\n",
    "\n",
    "### 4.1 Global GII Indicators\n",
    "\n",
    "Note: the table has been modified slightly from its original format for ease of use.\n",
    "\n",
    "The original full table can be found at: http://hdr.undp.org/en/composite/GII. "
   ]
  },
  {
   "cell_type": "code",
   "execution_count": 52,
   "metadata": {
    "collapsed": false
   },
   "outputs": [
    {
     "data": {
      "text/html": [
       "<table border=\"1\" class=\"dataframe\">\n",
       "    <thead>\n",
       "        <tr>\n",
       "            <th>HDI rank</th> <th>Country</th> <th>Rank (2015)</th> <th>Maternal mortality ratio (deaths per 100,000 live births)</th> <th>Adolescent birth rate (births per 1,000 women ages 15-19)</th> <th>Share of seats in parliament (% held by women)</th> <th>% Female population with at least some secondary education</th> <th>% Male population with at least some secondary education</th> <th>Female Labour force participation rate</th> <th>Male Labour force participation rate</th>\n",
       "        </tr>\n",
       "    </thead>\n",
       "    <tbody>\n",
       "        <tr>\n",
       "            <td>1       </td> <td>Norway     </td> <td>6          </td> <td>5                                                        </td> <td>5.9                                                      </td> <td>39.64                                         </td> <td>96.07                                                     </td> <td>94.6                                                    </td> <td>61.18                                 </td> <td>68.53                               </td>\n",
       "        </tr>\n",
       "    </tbody>\n",
       "        <tr>\n",
       "            <td>2       </td> <td>Australia  </td> <td>24         </td> <td>6                                                        </td> <td>14.13                                                    </td> <td>30.53                                         </td> <td>91.37                                                     </td> <td>91.53                                                   </td> <td>58.57                                 </td> <td>70.92                               </td>\n",
       "        </tr>\n",
       "    </tbody>\n",
       "        <tr>\n",
       "            <td>3       </td> <td>Switzerland</td> <td>1          </td> <td>5                                                        </td> <td>2.95                                                     </td> <td>28.86                                         </td> <td>96.07                                                     </td> <td>97.36                                                   </td> <td>62.68                                 </td> <td>74.85                               </td>\n",
       "        </tr>\n",
       "    </tbody>\n",
       "        <tr>\n",
       "            <td>4       </td> <td>Germany    </td> <td>9          </td> <td>6                                                        </td> <td>6.69                                                     </td> <td>36.86                                         </td> <td>96.38                                                     </td> <td>96.96                                                   </td> <td>54.53                                 </td> <td>66.43                               </td>\n",
       "        </tr>\n",
       "    </tbody>\n",
       "        <tr>\n",
       "            <td>5       </td> <td>Denmark    </td> <td>2          </td> <td>6                                                        </td> <td>4.04                                                     </td> <td>37.43                                         </td> <td>89.08                                                     </td> <td>98.53                                                   </td> <td>58.04                                 </td> <td>66.16                               </td>\n",
       "        </tr>\n",
       "    </tbody>\n",
       "        <tr>\n",
       "            <td>6       </td> <td>Singapore  </td> <td>11         </td> <td>10                                                       </td> <td>3.82                                                     </td> <td>23.91                                         </td> <td>75.52                                                     </td> <td>81.92                                                   </td> <td>58.24                                 </td> <td>76.43                               </td>\n",
       "        </tr>\n",
       "    </tbody>\n",
       "        <tr>\n",
       "            <td>7       </td> <td>Netherlands</td> <td>3          </td> <td>7                                                        </td> <td>3.99                                                     </td> <td>36.44                                         </td> <td>86.18                                                     </td> <td>90.28                                                   </td> <td>57.53                                 </td> <td>70.24                               </td>\n",
       "        </tr>\n",
       "    </tbody>\n",
       "        <tr>\n",
       "            <td>8       </td> <td>Ireland    </td> <td>26         </td> <td>8                                                        </td> <td>10.43                                                    </td> <td>19.91                                         </td> <td>86.76                                                     </td> <td>82.22                                                   </td> <td>52.38                                 </td> <td>67.82                               </td>\n",
       "        </tr>\n",
       "    </tbody>\n",
       "        <tr>\n",
       "            <td>9       </td> <td>Iceland    </td> <td>5          </td> <td>3                                                        </td> <td>6.07                                                     </td> <td>41.27                                         </td> <td>100                                                       </td> <td>97.18                                                   </td> <td>70.66                                 </td> <td>77.5                                </td>\n",
       "        </tr>\n",
       "    </tbody>\n",
       "        <tr>\n",
       "            <td>10      </td> <td>Canada     </td> <td>18         </td> <td>7                                                        </td> <td>9.77                                                     </td> <td>28.27                                         </td> <td>100                                                       </td> <td>100                                                     </td> <td>60.97                                 </td> <td>70.28                               </td>\n",
       "        </tr>\n",
       "    </tbody>\n",
       "</table>\n",
       "<p>... (178 rows omitted)</p"
      ],
      "text/plain": [
       "HDI rank | Country     | Rank (2015) | Maternal mortality ratio (deaths per 100,000 live births) | Adolescent birth rate (births per 1,000 women ages 15-19) | Share of seats in parliament (% held by women) | % Female population with at least some secondary education | % Male population with at least some secondary education | Female Labour force participation rate | Male Labour force participation rate\n",
       "1        | Norway      | 6           | 5                                                         | 5.9                                                       | 39.64                                          | 96.07                                                      | 94.6                                                     | 61.18                                  | 68.53\n",
       "2        | Australia   | 24          | 6                                                         | 14.13                                                     | 30.53                                          | 91.37                                                      | 91.53                                                    | 58.57                                  | 70.92\n",
       "3        | Switzerland | 1           | 5                                                         | 2.95                                                      | 28.86                                          | 96.07                                                      | 97.36                                                    | 62.68                                  | 74.85\n",
       "4        | Germany     | 9           | 6                                                         | 6.69                                                      | 36.86                                          | 96.38                                                      | 96.96                                                    | 54.53                                  | 66.43\n",
       "5        | Denmark     | 2           | 6                                                         | 4.04                                                      | 37.43                                          | 89.08                                                      | 98.53                                                    | 58.04                                  | 66.16\n",
       "6        | Singapore   | 11          | 10                                                        | 3.82                                                      | 23.91                                          | 75.52                                                      | 81.92                                                    | 58.24                                  | 76.43\n",
       "7        | Netherlands | 3           | 7                                                         | 3.99                                                      | 36.44                                          | 86.18                                                      | 90.28                                                    | 57.53                                  | 70.24\n",
       "8        | Ireland     | 26          | 8                                                         | 10.43                                                     | 19.91                                          | 86.76                                                      | 82.22                                                    | 52.38                                  | 67.82\n",
       "9        | Iceland     | 5           | 3                                                         | 6.07                                                      | 41.27                                          | 100                                                        | 97.18                                                    | 70.66                                  | 77.5\n",
       "10       | Canada      | 18          | 7                                                         | 9.77                                                      | 28.27                                          | 100                                                        | 100                                                      | 60.97                                  | 70.28\n",
       "... (178 rows omitted)"
      ]
     },
     "execution_count": 52,
     "metadata": {},
     "output_type": "execute_result"
    }
   ],
   "source": [
    "#Simply run this cell to show the table containing global GII indicators\n",
    "global_data = Table.read_table('data/GII_Global_Complete.csv')\n",
    "global_data"
   ]
  },
  {
   "cell_type": "markdown",
   "metadata": {},
   "source": [
    "We see that GII values are actually absent from this table. Based on Section 3, we will calculate the values later. Before that, we need to slice out Asian countries from the complete table above. "
   ]
  },
  {
   "cell_type": "markdown",
   "metadata": {},
   "source": [
    "### 4.2 Asian Countries' GII Indicators\n",
    "\n",
    "Here comes a full list of all Asian countries (in alphabetic order): Afghanistan, Bahrain, Bangladesh, Bhutan, Brunei Darussalam, Cambodia, China, Cyprus, Fiji, India, Indonesia, Iran (Islamic Republic of), Iraq, Japan, Jordan, Kazakhstan, Korea (Republic of), Kuwait, Kyrgyzstan, Lao People's Democratic Republic, Lebanon, Malaysia, Maldives, Micronesia (Federated States of), Mongolia, Myanmar, Nepal, Oman, Pakistan, Palau, Papua New Guinea, Philippines, Qatar, Samoa, Saudi Arabia, Singapore, Solomon Islands, Sri Lanka, Syrian Arab Republic, Tajikistan, Thailand, Timor-Leste, Tonga, Turkmenistan, United Arab Emirates, Uzbekistan, Vanuatu, Viet Nam, Yemen.\n",
    "\n",
    "The following nations have missing data, and methods dealing with that is not a subject of this course, so we'll skip these countries: Brunei Darussalam, Micronesia (Federated States of), Palau, Solomon Islands, Timor-Leste, Turkmenistan, Vanuatu"
   ]
  },
  {
   "cell_type": "code",
   "execution_count": 77,
   "metadata": {
    "collapsed": false
   },
   "outputs": [
    {
     "data": {
      "text/html": [
       "<table border=\"1\" class=\"dataframe\">\n",
       "    <thead>\n",
       "        <tr>\n",
       "            <th>HDI rank</th> <th>Country</th> <th>Rank (2015)</th> <th>Maternal mortality ratio (deaths per 100,000 live births)</th> <th>Adolescent birth rate (births per 1,000 women ages 15-19)</th> <th>Share of seats in parliament (% held by women)</th> <th>% Female population with at least some secondary education</th> <th>% Male population with at least some secondary education</th> <th>Female Labour force participation rate</th> <th>Male Labour force participation rate</th>\n",
       "        </tr>\n",
       "    </thead>\n",
       "    <tbody>\n",
       "        <tr>\n",
       "            <td>6       </td> <td>Singapore           </td> <td>11         </td> <td>10                                                       </td> <td>3.82                                                     </td> <td>23.91                                         </td> <td>75.52                                                     </td> <td>81.92                                                   </td> <td>58.24                                 </td> <td>76.43                               </td>\n",
       "        </tr>\n",
       "    </tbody>\n",
       "        <tr>\n",
       "            <td>17      </td> <td>Japan               </td> <td>21         </td> <td>5                                                        </td> <td>4.07                                                     </td> <td>11.58                                         </td> <td>93.04                                                     </td> <td>90.64                                                   </td> <td>49.12                                 </td> <td>70.16                               </td>\n",
       "        </tr>\n",
       "    </tbody>\n",
       "        <tr>\n",
       "            <td>18      </td> <td>Korea (Republic of) </td> <td>10         </td> <td>11                                                       </td> <td>1.62                                                     </td> <td>16.33                                         </td> <td>88.84                                                     </td> <td>94.56                                                   </td> <td>50.01                                 </td> <td>71.82                               </td>\n",
       "        </tr>\n",
       "    </tbody>\n",
       "        <tr>\n",
       "            <td>33      </td> <td>Cyprus              </td> <td>21         </td> <td>7                                                        </td> <td>4.99                                                     </td> <td>12.5                                          </td> <td>77.01                                                     </td> <td>82.67                                                   </td> <td>57.47                                 </td> <td>70.16                               </td>\n",
       "        </tr>\n",
       "    </tbody>\n",
       "        <tr>\n",
       "            <td>35      </td> <td>Qatar               </td> <td>127        </td> <td>13                                                       </td> <td>10.69                                                    </td> <td>0                                             </td> <td>70.91                                                     </td> <td>67.79                                                   </td> <td>53.65                                 </td> <td>94.21                               </td>\n",
       "        </tr>\n",
       "    </tbody>\n",
       "        <tr>\n",
       "            <td>39      </td> <td>Saudi Arabia        </td> <td>50         </td> <td>12                                                       </td> <td>8.82                                                     </td> <td>19.87                                         </td> <td>63.31                                                     </td> <td>72.13                                                   </td> <td>20.06                                 </td> <td>79.13                               </td>\n",
       "        </tr>\n",
       "    </tbody>\n",
       "        <tr>\n",
       "            <td>42      </td> <td>United Arab Emirates</td> <td>46         </td> <td>6                                                        </td> <td>29.66                                                    </td> <td>22.5                                          </td> <td>77.42                                                     </td> <td>64.49                                                   </td> <td>41.9                                  </td> <td>91.56                               </td>\n",
       "        </tr>\n",
       "    </tbody>\n",
       "        <tr>\n",
       "            <td>47      </td> <td>Bahrain             </td> <td>48         </td> <td>15                                                       </td> <td>13.48                                                    </td> <td>15                                            </td> <td>61.58                                                     </td> <td>55.56                                                   </td> <td>39.2                                  </td> <td>85.39                               </td>\n",
       "        </tr>\n",
       "    </tbody>\n",
       "        <tr>\n",
       "            <td>51      </td> <td>Kuwait              </td> <td>70         </td> <td>4                                                        </td> <td>9.8                                                      </td> <td>1.54                                          </td> <td>56.78                                                     </td> <td>58.07                                                   </td> <td>48.39                                 </td> <td>84.46                               </td>\n",
       "        </tr>\n",
       "    </tbody>\n",
       "        <tr>\n",
       "            <td>53      </td> <td>Oman                </td> <td>54         </td> <td>17                                                       </td> <td>8.06                                                     </td> <td>8.24                                          </td> <td>59.78                                                     </td> <td>57.13                                                   </td> <td>30.05                                 </td> <td>85.63                               </td>\n",
       "        </tr>\n",
       "    </tbody>\n",
       "</table>\n",
       "<p>... (32 rows omitted)</p"
      ],
      "text/plain": [
       "HDI rank | Country              | Rank (2015) | Maternal mortality ratio (deaths per 100,000 live births) | Adolescent birth rate (births per 1,000 women ages 15-19) | Share of seats in parliament (% held by women) | % Female population with at least some secondary education | % Male population with at least some secondary education | Female Labour force participation rate | Male Labour force participation rate\n",
       "6        | Singapore            | 11          | 10                                                        | 3.82                                                      | 23.91                                          | 75.52                                                      | 81.92                                                    | 58.24                                  | 76.43\n",
       "17       | Japan                | 21          | 5                                                         | 4.07                                                      | 11.58                                          | 93.04                                                      | 90.64                                                    | 49.12                                  | 70.16\n",
       "18       | Korea (Republic of)  | 10          | 11                                                        | 1.62                                                      | 16.33                                          | 88.84                                                      | 94.56                                                    | 50.01                                  | 71.82\n",
       "33       | Cyprus               | 21          | 7                                                         | 4.99                                                      | 12.5                                           | 77.01                                                      | 82.67                                                    | 57.47                                  | 70.16\n",
       "35       | Qatar                | 127         | 13                                                        | 10.69                                                     | 0                                              | 70.91                                                      | 67.79                                                    | 53.65                                  | 94.21\n",
       "39       | Saudi Arabia         | 50          | 12                                                        | 8.82                                                      | 19.87                                          | 63.31                                                      | 72.13                                                    | 20.06                                  | 79.13\n",
       "42       | United Arab Emirates | 46          | 6                                                         | 29.66                                                     | 22.5                                           | 77.42                                                      | 64.49                                                    | 41.9                                   | 91.56\n",
       "47       | Bahrain              | 48          | 15                                                        | 13.48                                                     | 15                                             | 61.58                                                      | 55.56                                                    | 39.2                                   | 85.39\n",
       "51       | Kuwait               | 70          | 4                                                         | 9.8                                                       | 1.54                                           | 56.78                                                      | 58.07                                                    | 48.39                                  | 84.46\n",
       "53       | Oman                 | 54          | 17                                                        | 8.06                                                      | 8.24                                           | 59.78                                                      | 57.13                                                    | 30.05                                  | 85.63\n",
       "... (32 rows omitted)"
      ]
     },
     "execution_count": 77,
     "metadata": {},
     "output_type": "execute_result"
    }
   ],
   "source": [
    "asia = np.array([\"Afghanistan\", \"Bahrain\", \"Bangladesh\", \"Bhutan\", \"Cambodia\", \"China\", \"Cyprus\", \"Fiji\", \"India\", \"Indonesia\", \"Iran (Islamic Republic of)\", \"Iraq\", \"Japan\",\n",
    "        \"Jordan\", \"Kazakhstan\", \"Korea (Republic of)\", \"Kuwait\", \"Kyrgyzstan\", \"Lao People's Democratic Republic\", \"Lebanon\", \"Malaysia\", \"Maldives\", \"Mongolia\", \"Myanmar\",\n",
    "        \"Nepal\", \"Oman\", \"Pakistan\", \"Papua New Guinea\", \"Philippines\", \"Qatar\", \"Samoa\", \"Saudi Arabia\", \"Singapore\", \"Sri Lanka\", \"Syrian Arab Republic\", \"Tajikistan\", \n",
    "        \"Thailand\", \"Tonga\", \"United Arab Emirates\", \"Uzbekistan\", \"Viet Nam\", \"Yemen\"])\n",
    "asia_data = global_data.where(global_data.column(\"Country\"), asia)\n",
    "asia_data"
   ]
  },
  {
   "cell_type": "markdown",
   "metadata": {},
   "source": [
    "### 4.3 Asian Countries' GII Values\n",
    "\n",
    "We'll now start to calculate the GII by adopting the following funtions. \n",
    "\n",
    "Recall the mathematical approach from Section 3.3, values needes are as follows:\n",
    "- Gf = Geometric mean of Aggregated Achievements of Female\n",
    "- Gm = Geometric mean of Aggregated Achievements of Male\n",
    "- Health Indi-Mean = Geometric mean of the arithmetic means of Health Indicator\n",
    "- Empowerment Indi-Mean = Geometric mean of the arithmetic means of Empowerment Indicator\n",
    "- LFPR Indi-Mean = Geometric mean of the arithmetic means of LFPR Indicator\n",
    "\n",
    "** is the same as ^, used for exponential calculations."
   ]
  },
  {
   "cell_type": "code",
   "execution_count": 107,
   "metadata": {
    "collapsed": false
   },
   "outputs": [
    {
     "data": {
      "text/plain": [
       "0.4834910367762584"
      ]
     },
     "execution_count": 107,
     "metadata": {},
     "output_type": "execute_result"
    }
   ],
   "source": [
    "# To calculate Gf value of a nation, eg. Japan, we have\n",
    "\n",
    "Gf_Japan_H = ((10/asia_data.column(3).item(1)) * (1/asia_data.column(4).item(1))) ** (1/2)\n",
    "Gf_Japan_E = ((asia_data.column(5).item(1)/100) * (asia_data.column(6).item(1)/100)) ** (1/2)\n",
    "Gf_Japan_L = asia_data.column(8).item(1)/100\n",
    "Gf_Japan = (Gf_Japan_H * Gf_Japan_E * Gf_Japan_L) ** (1/3)\n",
    "Gf_Japan"
   ]
  },
  {
   "cell_type": "code",
   "execution_count": 108,
   "metadata": {
    "collapsed": false
   },
   "outputs": [
    {
     "data": {
      "text/plain": [
       "0.8563965873802594"
      ]
     },
     "execution_count": 108,
     "metadata": {},
     "output_type": "execute_result"
    }
   ],
   "source": [
    "# To calculate Gm value of a nation, eg. Japan, we have\n",
    "\n",
    "Gm_Japan_H = 1\n",
    "Gm_Japan_E = ((1 - (asia_data.column(5).item(1)/100)) * (asia_data.column(7).item(1)/100)) ** (1/2)\n",
    "Gm_Japan_L = asia_data.column(9).item(1)/100\n",
    "Gm_Japan = (Gm_Japan_H * Gm_Japan_E * Gm_Japan_L) ** (1/3)\n",
    "Gm_Japan"
   ]
  },
  {
   "cell_type": "code",
   "execution_count": 109,
   "metadata": {
    "collapsed": false
   },
   "outputs": [
    {
     "data": {
      "text/plain": [
       "0.8504998186163908"
      ]
     },
     "execution_count": 109,
     "metadata": {},
     "output_type": "execute_result"
    }
   ],
   "source": [
    "# To calculate Health Indicator Mean value of a nation, eg. Japan, we have\n",
    "\n",
    "H_Indi_Mean_Japan = (Gf_Japan_H + Gm_Japan_H)/2\n",
    "H_Indi_Mean_Japan"
   ]
  },
  {
   "cell_type": "code",
   "execution_count": 110,
   "metadata": {
    "collapsed": false
   },
   "outputs": [
    {
     "data": {
      "text/plain": [
       "0.6117346971018119"
      ]
     },
     "execution_count": 110,
     "metadata": {},
     "output_type": "execute_result"
    }
   ],
   "source": [
    "# To calculate Empowerment Indicator Mean value of a nation, eg. Japan, we have\n",
    "\n",
    "E_Indi_Mean_Japan = (Gf_Japan_E + Gm_Japan_E)/2\n",
    "E_Indi_Mean_Japan"
   ]
  },
  {
   "cell_type": "code",
   "execution_count": 111,
   "metadata": {
    "collapsed": false
   },
   "outputs": [
    {
     "data": {
      "text/plain": [
       "0.5964"
      ]
     },
     "execution_count": 111,
     "metadata": {},
     "output_type": "execute_result"
    }
   ],
   "source": [
    "# To calculate LFPR Indicator Mean value of a nation, eg. Japan, we have\n",
    "\n",
    "L_Indi_Mean_Japan = (Gf_Japan_L + Gm_Japan_L)/2\n",
    "L_Indi_Mean_Japan"
   ]
  },
  {
   "cell_type": "code",
   "execution_count": 112,
   "metadata": {
    "collapsed": false
   },
   "outputs": [
    {
     "data": {
      "text/plain": [
       "0.08707874806296878"
      ]
     },
     "execution_count": 112,
     "metadata": {},
     "output_type": "execute_result"
    }
   ],
   "source": [
    "# To calculate GII value of a nation, eg. Japan, we have\n",
    "\n",
    "GII_Japan = 1 - (2 / (1/Gf_Japan + 1/Gm_Japan)) / ((H_Indi_Mean_Japan * E_Indi_Mean_Japan * L_Indi_Mean_Japan) ** (1/3))\n",
    "GII_Japan"
   ]
  },
  {
   "cell_type": "code",
   "execution_count": null,
   "metadata": {
    "collapsed": false
   },
   "outputs": [],
   "source": []
  },
  {
   "cell_type": "markdown",
   "metadata": {},
   "source": [
    "## 5. INNOVATION:\n",
    "\n",
    "### 5.1 Potential Indicators to Further Investigate\n",
    "\n",
    "As stated above, the GII can be used for international comparisons (the global GII) or adapted for regional or national level exercises, in a similar way to other well-being, inequality or poverty measures. Both global and national level exercises are extremely valuable in obtaining different—but complementary—information.  \n",
    "The global GII has been designed for international comparability and thus its dimensions and indicators are fixed across countries. This is useful because it enables comparison between genders in a country vis-à-vis the rest of the world. This provides policy-relevant information for both national governments and the international community. However it does have two limitations that can be addressed through the construction of national GIIs. First, the global GII is shaped by data constraints—which continue to be shockingly pervasive despite the central importance of understanding gender disparities. There are other vitally important dimensions of gender disparity that have not been included only because valid, reliable and timely internationally comparable data are lacking. Second, the global GII is comparable but gender discrimination is context specific. \n",
    "\n",
    "These limitations can be overcome (at least partially) by creating national GIIs. National exercises are not affected by the limitations imposed by international comparability and thus can incorporate different or additional dimensions and/or indicators (providing the data are available) that are particularly relevant to their country specific context.  \n",
    "The straightforward formula of the GII makes it easy to adapt as the functional form underpinning the index can incorporate more indicators and dimensions, so long as the steps elaborated above are followed precisely.  \n",
    "Potential indicators include: \n",
    "\n",
    "- child mortality\n",
    "- malnutrition\n",
    "- asset ownership\n",
    "- control over productive resources\n",
    "- gender-based violence\n",
    "- umemployement rate\n",
    "- sex ratio\n",
    "- suicide rate\n",
    "\n",
    "It is important to note that special caution should be taken to choose dimensions and indicators that consist of measurable achievements for all the groups involved (see Section 3 for algorithms with specific measurable values). \n",
    "\n",
    "We'll be using Male's and Female's Suicide Rate, Sex Ratio and Unemployment rate, together with Secondary Education percentage, to further investigate the issue of gender inequality in terms of work stress. "
   ]
  },
  {
   "cell_type": "code",
   "execution_count": 78,
   "metadata": {
    "collapsed": false
   },
   "outputs": [
    {
     "data": {
      "text/html": [
       "<table border=\"1\" class=\"dataframe\">\n",
       "    <thead>\n",
       "        <tr>\n",
       "            <th>Country</th> <th>Overall HDI Rank (2015)</th> <th>Within Region HDI Rank (2015)</th> <th>Maternal mortality ratio (deaths per 100,000 live births)</th> <th>Adolescent birth rate (births per 1,000 women ages 15-19)</th> <th>Share of seats in parliament (% held by women)</th> <th>% Female population with at least some secondary education</th> <th>% Male population with at least some secondary education</th> <th>Female Labour force participation rate</th> <th>Male Labour force participation rate</th> <th>Latitude</th> <th>Longitude</th> <th>Unemployment Rate (female to male ratio)</th> <th>Sex Ratio (male to female)</th> <th>Suicide Rate (per 100,000 males)</th> <th>Suicide Rate (per 100,000 females)  </th> <th>Mandatory paid maternity leave (days)</th>\n",
       "        </tr>\n",
       "    </thead>\n",
       "    <tbody>\n",
       "        <tr>\n",
       "            <td>Korea (Republic of) </td> <td>10                     </td> <td>1                            </td> <td>11                                                       </td> <td>1.62                                                     </td> <td>16.33                                         </td> <td>88.84                                                     </td> <td>94.56                                                   </td> <td>50.01                                 </td> <td>71.82                               </td> <td>35.91   </td> <td>127.77   </td> <td>0.94                                    </td> <td>1.07                      </td> <td>41.7                            </td> <td>18                                  </td> <td>90                                   </td>\n",
       "        </tr>\n",
       "    </tbody>\n",
       "        <tr>\n",
       "            <td>Singapore           </td> <td>11                     </td> <td>2                            </td> <td>10                                                       </td> <td>3.82                                                     </td> <td>23.91                                         </td> <td>75.52                                                     </td> <td>81.92                                                   </td> <td>58.24                                 </td> <td>76.43                               </td> <td>1.35    </td> <td>103.82   </td> <td>1.13                                    </td> <td>1.07                      </td> <td>9.8                             </td> <td>5.3                                 </td> <td>105                                  </td>\n",
       "        </tr>\n",
       "    </tbody>\n",
       "        <tr>\n",
       "            <td>Cyprus              </td> <td>21                     </td> <td>3                            </td> <td>7                                                        </td> <td>4.99                                                     </td> <td>12.5                                          </td> <td>77.01                                                     </td> <td>82.67                                                   </td> <td>57.47                                 </td> <td>70.16                               </td> <td>35.13   </td> <td>33.43    </td> <td>0.89                                    </td> <td>1.07                      </td> <td>7.7                             </td> <td>1.5                                 </td> <td>126                                  </td>\n",
       "        </tr>\n",
       "    </tbody>\n",
       "        <tr>\n",
       "            <td>Japan               </td> <td>21                     </td> <td>3                            </td> <td>5                                                        </td> <td>4.07                                                     </td> <td>11.58                                         </td> <td>93.04                                                     </td> <td>90.64                                                   </td> <td>49.12                                 </td> <td>70.16                               </td> <td>36.2    </td> <td>138.25   </td> <td>0.89                                    </td> <td>1.06                      </td> <td>26.9                            </td> <td>10.1                                </td> <td>98                                   </td>\n",
       "        </tr>\n",
       "    </tbody>\n",
       "        <tr>\n",
       "            <td>China               </td> <td>37                     </td> <td>4                            </td> <td>27                                                       </td> <td>7.31                                                     </td> <td>23.62                                         </td> <td>69.81                                                     </td> <td>79.42                                                   </td> <td>63.58                                 </td> <td>77.93                               </td> <td>35.86   </td> <td>104.2    </td> <td>0.79                                    </td> <td>1.16                      </td> <td>7.1                             </td> <td>8.7                                 </td> <td>128                                  </td>\n",
       "        </tr>\n",
       "    </tbody>\n",
       "        <tr>\n",
       "            <td>Kazakhstan          </td> <td>42                     </td> <td>5                            </td> <td>12                                                       </td> <td>27.89                                                    </td> <td>20.13                                         </td> <td>99.68                                                     </td> <td>100                                                     </td> <td>66.07                                 </td> <td>76.98                               </td> <td>48.02   </td> <td>66.92    </td> <td>1.34                                    </td> <td>1.06                      </td> <td>40.6                            </td> <td>9.3                                 </td> <td>126                                  </td>\n",
       "        </tr>\n",
       "    </tbody>\n",
       "        <tr>\n",
       "            <td>United Arab Emirates</td> <td>46                     </td> <td>6                            </td> <td>6                                                        </td> <td>29.66                                                    </td> <td>22.5                                          </td> <td>77.42                                                     </td> <td>64.49                                                   </td> <td>41.9                                  </td> <td>91.56                               </td> <td>23.42   </td> <td>53.85    </td> <td>3.13                                    </td> <td>1.05                      </td> <td>3.9                             </td> <td>1.7                                 </td> <td>45                                   </td>\n",
       "        </tr>\n",
       "    </tbody>\n",
       "        <tr>\n",
       "            <td>Bahrain             </td> <td>48                     </td> <td>7                            </td> <td>15                                                       </td> <td>13.48                                                    </td> <td>15                                            </td> <td>61.58                                                     </td> <td>55.56                                                   </td> <td>39.2                                  </td> <td>85.39                               </td> <td>26.07   </td> <td>50.56    </td> <td>8.28                                    </td> <td>1.04                      </td> <td>11.6                            </td> <td>2.9                                 </td> <td>60                                   </td>\n",
       "        </tr>\n",
       "    </tbody>\n",
       "        <tr>\n",
       "            <td>Saudi Arabia        </td> <td>50                     </td> <td>8                            </td> <td>12                                                       </td> <td>8.82                                                     </td> <td>19.87                                         </td> <td>63.31                                                     </td> <td>72.13                                                   </td> <td>20.06                                 </td> <td>79.13                               </td> <td>23.89   </td> <td>45.08    </td> <td>6.89                                    </td> <td>1.03                      </td> <td>0.6                             </td> <td>0.2                                 </td> <td>70                                   </td>\n",
       "        </tr>\n",
       "    </tbody>\n",
       "        <tr>\n",
       "            <td>Mongolia            </td> <td>53                     </td> <td>9                            </td> <td>44                                                       </td> <td>15.67                                                    </td> <td>14.47                                         </td> <td>89.67                                                     </td> <td>85.83                                                   </td> <td>56.47                                 </td> <td>68.79                               </td> <td>46.86   </td> <td>103.85   </td> <td>1.04                                    </td> <td>1.03                      </td> <td>16.3                            </td> <td>3.7                                 </td> <td>120                                  </td>\n",
       "        </tr>\n",
       "    </tbody>\n",
       "</table>\n",
       "<p>... (32 rows omitted)</p"
      ],
      "text/plain": [
       "Country              | Overall HDI Rank (2015) | Within Region HDI Rank (2015) | Maternal mortality ratio (deaths per 100,000 live births) | Adolescent birth rate (births per 1,000 women ages 15-19) | Share of seats in parliament (% held by women) | % Female population with at least some secondary education | % Male population with at least some secondary education | Female Labour force participation rate | Male Labour force participation rate | Latitude | Longitude | Unemployment Rate (female to male ratio) | Sex Ratio (male to female) | Suicide Rate (per 100,000 males) | Suicide Rate (per 100,000 females)   | Mandatory paid maternity leave (days)\n",
       "Korea (Republic of)  | 10                      | 1                             | 11                                                        | 1.62                                                      | 16.33                                          | 88.84                                                      | 94.56                                                    | 50.01                                  | 71.82                                | 35.91    | 127.77    | 0.94                                     | 1.07                       | 41.7                             | 18                                   | 90\n",
       "Singapore            | 11                      | 2                             | 10                                                        | 3.82                                                      | 23.91                                          | 75.52                                                      | 81.92                                                    | 58.24                                  | 76.43                                | 1.35     | 103.82    | 1.13                                     | 1.07                       | 9.8                              | 5.3                                  | 105\n",
       "Cyprus               | 21                      | 3                             | 7                                                         | 4.99                                                      | 12.5                                           | 77.01                                                      | 82.67                                                    | 57.47                                  | 70.16                                | 35.13    | 33.43     | 0.89                                     | 1.07                       | 7.7                              | 1.5                                  | 126\n",
       "Japan                | 21                      | 3                             | 5                                                         | 4.07                                                      | 11.58                                          | 93.04                                                      | 90.64                                                    | 49.12                                  | 70.16                                | 36.2     | 138.25    | 0.89                                     | 1.06                       | 26.9                             | 10.1                                 | 98\n",
       "China                | 37                      | 4                             | 27                                                        | 7.31                                                      | 23.62                                          | 69.81                                                      | 79.42                                                    | 63.58                                  | 77.93                                | 35.86    | 104.2     | 0.79                                     | 1.16                       | 7.1                              | 8.7                                  | 128\n",
       "Kazakhstan           | 42                      | 5                             | 12                                                        | 27.89                                                     | 20.13                                          | 99.68                                                      | 100                                                      | 66.07                                  | 76.98                                | 48.02    | 66.92     | 1.34                                     | 1.06                       | 40.6                             | 9.3                                  | 126\n",
       "United Arab Emirates | 46                      | 6                             | 6                                                         | 29.66                                                     | 22.5                                           | 77.42                                                      | 64.49                                                    | 41.9                                   | 91.56                                | 23.42    | 53.85     | 3.13                                     | 1.05                       | 3.9                              | 1.7                                  | 45\n",
       "Bahrain              | 48                      | 7                             | 15                                                        | 13.48                                                     | 15                                             | 61.58                                                      | 55.56                                                    | 39.2                                   | 85.39                                | 26.07    | 50.56     | 8.28                                     | 1.04                       | 11.6                             | 2.9                                  | 60\n",
       "Saudi Arabia         | 50                      | 8                             | 12                                                        | 8.82                                                      | 19.87                                          | 63.31                                                      | 72.13                                                    | 20.06                                  | 79.13                                | 23.89    | 45.08     | 6.89                                     | 1.03                       | 0.6                              | 0.2                                  | 70\n",
       "Mongolia             | 53                      | 9                             | 44                                                        | 15.67                                                     | 14.47                                          | 89.67                                                      | 85.83                                                    | 56.47                                  | 68.79                                | 46.86    | 103.85    | 1.04                                     | 1.03                       | 16.3                             | 3.7                                  | 120\n",
       "... (32 rows omitted)"
      ]
     },
     "execution_count": 78,
     "metadata": {},
     "output_type": "execute_result"
    }
   ],
   "source": [
    "#Simply run this cell to show the table containing additional GII indicators (Asian Countries Only)\n",
    "asia_data_extra = Table.read_table('data/Asia_WithCoords_Complete_Extra.csv')\n",
    "asia_data_extra"
   ]
  },
  {
   "cell_type": "markdown",
   "metadata": {},
   "source": [
    "### 5.2 GII by IAS150 students\n",
    "\n",
    "Three Indicators:\n",
    "\n",
    "**Gender Indicator**: \n",
    "Male = 1\n",
    "Female = 1 / column(13)\n",
    "\n",
    "**Unemployment Indicator**:\n",
    "Male = column(7)\n",
    "Female = column(6) * column(12)\n",
    "\n",
    "**Suicide Indicator**:\n",
    "Male = column(14)\n",
    "Female = column (15)\n",
    "\n",
    "Then follow the same approach:\n",
    "Geometric Mean\n",
    "Harmonic Mean\n",
    ">> New GII by IAS150\n"
   ]
  },
  {
   "cell_type": "markdown",
   "metadata": {},
   "source": [
    "## N. Limitations of the Global GII\n",
    "\n",
    "The GII’s use of reproductive health indicators has been quentioned. Naturally, data for the two indicators are only available for women, making interpretations of the GII problematic. The GII responds to this discrepancy by giving men a value of “one” in this dimension—a value which signifies that men have achieved the best possible outcome here. However, a measure of inequality must consist of measurable achievements for all the groups involved. The two indicators—maternal mortality ratio and adolescent fertility rate—should instead, it is said, be used to construct an index that compares the state of women across countries, rather than a gender inequality index, comparing the situation between women and men. \n",
    "\n",
    "Additionally, the value of the GII doesn’t tell us which gender is doing better or worse. Instead the GII score tells us the level of inequality between two groups—men and women—but not which group is disadvantaged.\n",
    "\n",
    "Meanwhile, several other gender indices are used by different world institutions, such as the World Economic Forum’s Global Gender Gap Index (GGI), the Economist Intelligence Unit’s Women’s Economic Opportunity Index (WEOI), the OECD’s Social Institutions and Gender Index (SIGI), and the Gender Equity Index (GEI) developed by Social Watch. They differ from the GII in many ways yet can be useful complements as we seek to understand the underlying causes of gender inequalities in economic participation. "
   ]
  },
  {
   "cell_type": "code",
   "execution_count": null,
   "metadata": {
    "collapsed": true
   },
   "outputs": [],
   "source": []
  }
 ],
 "metadata": {
  "anaconda-cloud": {},
  "kernelspec": {
   "display_name": "Python [default]",
   "language": "python",
   "name": "python3"
  },
  "language_info": {
   "codemirror_mode": {
    "name": "ipython",
    "version": 3
   },
   "file_extension": ".py",
   "mimetype": "text/x-python",
   "name": "python",
   "nbconvert_exporter": "python",
   "pygments_lexer": "ipython3",
   "version": "3.5.2"
  }
 },
 "nbformat": 4,
 "nbformat_minor": 2
}
