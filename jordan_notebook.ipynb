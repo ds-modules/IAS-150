{
 "cells": [
  {
   "cell_type": "code",
   "execution_count": null,
   "metadata": {
    "inputHidden": false,
    "outputHidden": false
   },
   "outputs": [],
   "source": [
    "import pandas as pd\n",
    "import numpy as np\n",
    "import jordan as j\n",
    "import numpy as np\n",
    "from datascience import *\n",
    "import math as m\n",
    "import qgrid as q\n",
    "import pandas as pd\n",
    "from scipy.stats import chi2_contingency"
   ]
  },
  {
   "cell_type": "code",
   "execution_count": null,
   "metadata": {
    "inputHidden": false,
    "outputHidden": false
   },
   "outputs": [],
   "source": [
    "master_list = ['Cuba',\n",
    " 'El Salvador',\n",
    " 'Guatemala',\n",
    " 'Honduras',\n",
    " 'Mexico',\n",
    " 'Venezuela (Bolivarian Republic of)',\n",
    " 'China',\n",
    " 'India',\n",
    " 'Philippines',\n",
    " 'Viet Nam',\n",
    " 'Afghanistan',\n",
    " 'Iraq',\n",
    " 'Pakistan',\n",
    " 'Syrian Arab Republic',\n",
    " 'Ethiopia',\n",
    " 'Ghana',\n",
    " 'Kenya',\n",
    " 'Nigeria',\n",
    " 'Somalia',\n",
    " 'South Africa']"
   ]
  },
  {
   "cell_type": "code",
   "execution_count": null,
   "metadata": {},
   "outputs": [],
   "source": [
    "old_migrant = pd.read_excel(\"migrant_table.xlsx\")\n",
    "migrant = j.select_region(old_migrant, j.master_list)\n",
    "codes = Table.from_df(migrant).column(2)"
   ]
  },
  {
   "cell_type": "code",
   "execution_count": null,
   "metadata": {
    "inputHidden": false,
    "outputHidden": false
   },
   "outputs": [],
   "source": [
    "#Columns: country of origin (use this for selected countries)\n",
    "#Rows: country of destination"
   ]
  },
  {
   "cell_type": "code",
   "execution_count": null,
   "metadata": {
    "inputHidden": false,
    "outputHidden": false
   },
   "outputs": [],
   "source": [
    "table = j.load_data_excel(\"jordan_book_1.xlsx\")"
   ]
  },
  {
   "cell_type": "code",
   "execution_count": null,
   "metadata": {
    "inputHidden": false,
    "outputHidden": false
   },
   "outputs": [],
   "source": [
    "table = j.select_region(table, j.master_list)\n",
    "table"
   ]
  },
  {
   "cell_type": "code",
   "execution_count": null,
   "metadata": {
    "scrolled": true
   },
   "outputs": [],
   "source": [
    "table_np = Table().from_df(table)\n",
    "male_table = table_np.drop(2,3,4,5,6,7,8).drop(2,3,4,5,6,7,8).drop(2,3,4)\n",
    "female_table = male_table.drop(2,3,4,5,6,7,8).drop(2,3,4,5,6,7,8).drop(2,3,4)\n",
    "female_table"
   ]
  },
  {
   "cell_type": "code",
   "execution_count": null,
   "metadata": {},
   "outputs": [],
   "source": []
  },
  {
   "cell_type": "code",
   "execution_count": null,
   "metadata": {},
   "outputs": [],
   "source": [
    "# New categories \n",
    "# Under 15 years old\n",
    "# 15 – 19 \n",
    "# 20 – 29 \n",
    "# 30 – 39 \n",
    "# 40 – 49 \n",
    "# 50 years old and older \n",
    "total_only = j.column_grouper(table_np, 'All migrants').to_df()\n",
    "male_only = j.column_grouper(male_table, 'Male').drop(0,1).to_df()\n",
    "female_only = j.column_grouper(female_table, 'Female').drop(0,1).to_df()\n",
    "pre_pop_table = pd.concat([total_only, male_only, female_only], axis=1)\n",
    "pop_table = Table.from_df(pre_pop_table).with_column('Code', codes).move_to_start('Code').move_to_start('Country').move_to_start('Year')\n",
    "pop_table"
   ]
  },
  {
   "cell_type": "code",
   "execution_count": null,
   "metadata": {},
   "outputs": [],
   "source": [
    "table2 = j.table_2()"
   ]
  },
  {
   "cell_type": "code",
   "execution_count": null,
   "metadata": {},
   "outputs": [],
   "source": [
    "migrant_np = Table.from_df(migrant).drop('Code')\n",
    "male_migrant = migrant_np.drop(2,3,4,5,6,7,8).drop(2,3,4,5,6,7,8).drop(2,3,4)\n",
    "female_migrant = male_migrant.drop(2,3,4,5,6,7,8).drop(2,3,4,5,6,7,8).drop(2,3,4)\n",
    "total_migrant = j.column_grouper(migrant_np, 'All migrants').to_df()\n",
    "male_migrant = j.column_grouper(male_migrant, 'Male').drop(0,1).to_df()\n",
    "female_migrant = j.column_grouper(female_migrant, 'Female').drop(0,1).to_df()\n",
    "pre_mig_table = pd.concat([total_migrant, male_migrant, female_migrant], axis=1)\n",
    "mig_table = Table.from_df(pre_mig_table).with_column('Code', codes).move_to_start('Code').move_to_start('Country').move_to_start('Year')\n",
    "mig_table"
   ]
  },
  {
   "cell_type": "code",
   "execution_count": null,
   "metadata": {
    "scrolled": true
   },
   "outputs": [],
   "source": [
    "table1 = j.table_1()"
   ]
  },
  {
   "cell_type": "code",
   "execution_count": null,
   "metadata": {},
   "outputs": [],
   "source": [
    "j.country_code_year(table1)"
   ]
  },
  {
   "cell_type": "code",
   "execution_count": null,
   "metadata": {},
   "outputs": [],
   "source": [
    "j.country_code_year(table2)"
   ]
  }
 ],
 "metadata": {
  "kernel_info": {
   "name": "python3"
  },
  "kernelspec": {
   "display_name": "Python 3",
   "language": "python",
   "name": "python3"
  },
  "language_info": {
   "codemirror_mode": {
    "name": "ipython",
    "version": 3
   },
   "file_extension": ".py",
   "mimetype": "text/x-python",
   "name": "python",
   "nbconvert_exporter": "python",
   "pygments_lexer": "ipython3",
   "version": "3.7.1"
  },
  "nteract": {
   "version": "0.12.3"
  }
 },
 "nbformat": 4,
 "nbformat_minor": 4
}
