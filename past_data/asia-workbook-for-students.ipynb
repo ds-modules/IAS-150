{
 "cells": [
  {
   "cell_type": "markdown",
   "metadata": {},
   "source": [
    "# [Global 150Q] Exploring Gender Inequality \n",
    "\n",
    "Estimated Time: 3 Hours\n",
    "\n",
    "Today we will be examining a data set that the UN produces every year, called the Gender Inequality Index. This is the UN's annual ranking of 188 countries in  terms of gender _inequality_. We will be examining the subset of countries in Asia with complete data. We will be comparing the Gender Inequality Index from the 2016 UN Human Development Report with the 2016 World Economic Forum Global Gender Gap Report.\n",
    "\n",
    "\n",
    "### Table of Contents\n",
    "1 - [Intro to Python](#1) <br>\n",
    "2 - [Calculating the Gender Inequality Index](#2) <br>\n",
    "3 - [Analyzing Data & Data Visualizations](#3) <br>\n",
    "4 - [Activity - Predicting GII Score](#4) <br>\n",
    "5 - [Comparing Measures of Gender Inequality](#5) <br>"
   ]
  },
  {
   "cell_type": "markdown",
   "metadata": {},
   "source": [
    "## Context\n",
    "\n",
    "The global Gender Inequality Index (GII) was first released in 2010. It measures inequalities in achievements between women and men across three dimensions of human development: reproductive health, empowerment and labour market. The GII can be used for international comparisons, but the global GII’s chosen indicators are deeply affected by data limitations.\n",
    "\n",
    "The GII is computed using the five different indicators describing the three dimensions of human development. The indicators are as follows: maternal mortality rate (MMR), the average fertility rate (AFR), share of parliamentary seats held (PR), attainment at secondary and higher education (SE) and labour force participation rate (LFPR).\n",
    "\n",
    "As we move along, we'll see how the global GII provides insights into gender disparities in reproductive health, empowerment and the labour market in Asian countries. It can enable governments, organizations, and individuals to better understand and promote gender equality. The GII can be used to raise awareness of disparities, track progress towards gender equity, and support public action.\n",
    "\n",
    "Lastly, we'll compare what we found in the Gender Inequality Index with information from the World Economic Forum's Global Gender Gap Index. We won't be calculating the Global Gender Gap Index, but will instead just compare the calculation and measurements with those of the GII."
   ]
  },
  {
   "cell_type": "markdown",
   "metadata": {},
   "source": [
    "## The Basics\n",
    "This webpage is called a Jupyter Notebook. It allows us to write and run code, as well as see the outputs and some cool graphs. In order to run cells, press `Shift + Enter` or click the \"run cell\" button at the top or next to the cell that looks like ▶| "
   ]
  },
  {
   "cell_type": "code",
   "execution_count": null,
   "metadata": {},
   "outputs": [],
   "source": [
    "# Just run this cell\n",
    "# This is some code that allows us to manipulate data. You don't need to worry about this now.\n",
    "import numpy as np\n",
    "import math\n",
    "from datascience import *\n",
    "from scipy import stats\n",
    "import matplotlib.pyplot as plots\n",
    "%matplotlib inline"
   ]
  },
  {
   "cell_type": "markdown",
   "metadata": {},
   "source": [
    "# An Introduction to Python  <a id='1'></a>"
   ]
  },
  {
   "cell_type": "markdown",
   "metadata": {},
   "source": [
    "**Topics covered:**\n",
    "* Variables\n",
    "* Functions \n",
    "* Dot notation\n",
    "* Using libraries\n",
    "* Datascience library"
   ]
  },
  {
   "cell_type": "markdown",
   "metadata": {},
   "source": [
    "## Variables"
   ]
  },
  {
   "cell_type": "markdown",
   "metadata": {},
   "source": [
    "In programming, we often compute many values that we want to save so that we can use the result in a later step. For example, let's say that we want to find the number of seconds in a day. We can easily calculate this with the following:\n",
    "\n",
    "                            60 * 60 * 24 = 86400 seconds\n",
    "\n",
    "However, let's say that your friend asked you how many seconds there are in three days. We could, of course, perform the calculation in a similar manner:\n",
    "\n",
    "                            (60 * 60 * 24) * 3 = 259200 seconds\n",
    "\n",
    "But we see that we repeated the calculation in parentheses above. Instead of doing this calculation again, we could have saved the result from our first step (calculating the number of seconds in a day) as a variable.\n",
    "\n",
    "In the code below, we assign the variable `seconds_in_day` to the value `86400`, which is the result of `60 * 60 * 24`. Pressing Shift-Enter runs the code cell and allows us to see the value we just assigned to `seconds_in_day`."
   ]
  },
  {
   "cell_type": "code",
   "execution_count": null,
   "metadata": {},
   "outputs": [],
   "source": [
    "seconds_in_day = 60 * 60 * 24 # This is equal to 86400.\n",
    "seconds_in_day"
   ]
  },
  {
   "cell_type": "markdown",
   "metadata": {},
   "source": [
    "Then, we can simply multiply this variable by three to get the number of seconds in three days:"
   ]
  },
  {
   "cell_type": "code",
   "execution_count": null,
   "metadata": {},
   "outputs": [],
   "source": [
    "seconds_in_three_days = seconds_in_day * 3  # This is equal to 259200.\n",
    "seconds_in_three_days"
   ]
  },
  {
   "cell_type": "markdown",
   "metadata": {},
   "source": [
    "**Your turn!** In the cell below, try to create the variable `seconds_in_week` and assign it to the number of seconds in one week! Also, try calling your new variable to see the value you calculated. See the example above if you get stuck. Hint: you can use variables that we have already created by typing the variable name."
   ]
  },
  {
   "cell_type": "code",
   "execution_count": null,
   "metadata": {},
   "outputs": [],
   "source": [
    "# YOUR CODE HERE"
   ]
  },
  {
   "cell_type": "markdown",
   "metadata": {},
   "source": [
    "As you can see, variables can be used to simplify calculations, make code more readable, and allow for repetition and reusability of code."
   ]
  },
  {
   "cell_type": "markdown",
   "metadata": {},
   "source": [
    "## Functions"
   ]
  },
  {
   "cell_type": "markdown",
   "metadata": {},
   "source": [
    "So far, you've learned how to assign variables to certain values. Now, let's learn how we can manipulate some of these values. Let's say we want to perform a certain operation on many different inputs that will produce distinct outputs. What do we do? We write a **_function_**.\n",
    "\n",
    "A function is a block of code which works a lot like a machine: it takes an input, does something to it, and produces an output.\n",
    "The input is put between brackets and can also be called the _argument_ or _parameter_. Functions can have multiple arguments.\n",
    "\n",
    "Try running the cell below after changing the variable `name`:"
   ]
  },
  {
   "cell_type": "code",
   "execution_count": null,
   "metadata": {},
   "outputs": [],
   "source": [
    "# Edit this cell to your own name!\n",
    "name = \"John Doe\"\n",
    "\n",
    "# Our function\n",
    "def hello(name):\n",
    "    return \"Hello \" + name + \"!\"\n",
    "\n",
    "hello(name)"
   ]
  },
  {
   "cell_type": "markdown",
   "metadata": {},
   "source": [
    "Interesting, right? Now, you don't need to write 10 different lines with 10 different names to print a special greeting for each person. All you need to is write one function that does all the work for you!\n",
    "\n",
    "Now, let's write our own function. Let's look at the following rules:"
   ]
  },
  {
   "cell_type": "markdown",
   "metadata": {},
   "source": [
    "### Defining"
   ]
  },
  {
   "cell_type": "markdown",
   "metadata": {},
   "source": [
    "* All functions must start with the \"def\" keyword.\n",
    "* All functions must have a name, followed by parentheses, followed by a colon. Eg. def hello( ):\n",
    "* The parentheses may have a variable that stores its arguments (inputs)\n",
    "* All functions must have a \"return\" statement which will return the output. Think of a function like a machine. When you put something inside, you want it to return something. Hence, this is very important."
   ]
  },
  {
   "cell_type": "markdown",
   "metadata": {},
   "source": [
    "### Calling"
   ]
  },
  {
   "cell_type": "markdown",
   "metadata": {},
   "source": [
    "After you define a function, it's time to use it. This is known as _calling_ a function. To call a function, simply write the name of the function with your input variable in brackets (`argument`). Try completing the function `my_first_function` in the cell below. Manipulate the return statement so that your function will return the `argument`."
   ]
  },
  {
   "cell_type": "code",
   "execution_count": null,
   "metadata": {},
   "outputs": [],
   "source": [
    "# Complete this function\n",
    "def my_first_function(argument):\n",
    "    return # your code here\n",
    "\n",
    "name = ... # FILL IN YOUR NAME HERE, in quotes\n",
    "\n",
    "# Calling our function below...\n",
    "my_first_function(name)"
   ]
  },
  {
   "cell_type": "markdown",
   "metadata": {},
   "source": [
    "Great! Now let's do some math. Let's write a function that returns the square of the input. In the code below, fill out the return statement, using the input variable `num`, in order to return the square of `num`."
   ]
  },
  {
   "cell_type": "code",
   "execution_count": null,
   "metadata": {},
   "outputs": [],
   "source": [
    "# square function \n",
    "def square(num):\n",
    "    return ...   # YOUR CODE HERE\n",
    "\n",
    "# this should output 25!\n",
    "# try inputting different numbers instead of 5 and see what happens\n",
    "square(5)"
   ]
  },
  {
   "cell_type": "markdown",
   "metadata": {},
   "source": [
    "Neat stuff! Try different inputs and check if you get the correct answer each time.\n",
    "\n",
    "Now try writing your own function from scratch! Define a function, called `add_one`, that takes in a number `num`. Your function should return `num` plus 1. One example is if you call `add_one(2)` it should return 3. Remember, all functions must start with the \"def\" keyword followed by the name of the function and its argument(s). All functions should also have a return statement. Try following the structure of the square function if you get stuck. Then, try calling your function on different numbers and see if your output makes sense!"
   ]
  },
  {
   "cell_type": "code",
   "execution_count": null,
   "metadata": {},
   "outputs": [],
   "source": [
    "# YOUR CODE HERE"
   ]
  },
  {
   "cell_type": "markdown",
   "metadata": {},
   "source": [
    "Congrats! You've successfully written your first function from scratch!"
   ]
  },
  {
   "cell_type": "markdown",
   "metadata": {},
   "source": [
    "### Dot Notation"
   ]
  },
  {
   "cell_type": "markdown",
   "metadata": {},
   "source": [
    "Above, we've seen that we can directly call functions using the arguments within the parentheses that follow. For example `square(5)` is calling the function `square` with an argument of `5`. \n",
    "\n",
    "We're not limited to just that though! We can also utilize something called _dot notation_ to directly call functions on a given variable. Take a look at the code below:"
   ]
  },
  {
   "cell_type": "code",
   "execution_count": null,
   "metadata": {},
   "outputs": [],
   "source": [
    "nums = make_array(1,2,3) # creates a list of numbers\n",
    "nums.max() # trying to find the max of the list"
   ]
  },
  {
   "cell_type": "code",
   "execution_count": null,
   "metadata": {},
   "outputs": [],
   "source": [
    "max(nums)"
   ]
  },
  {
   "cell_type": "markdown",
   "metadata": {},
   "source": [
    "Notice that the two pieces of code above produced the same output. This is because they're equivalent! \n",
    "\n",
    "In the first bit of code, `nums.max()` is calling the function `max()` directly on the `nums` variable, which is a list. Thus, our code knows to look into `nums`'s methods and apply the `max()` function on this particular list.\n",
    "\n",
    "`max(nums)` differs in that it calls the `max` function on the argument that we passed in, which is `nums` in this case, rather than looking up what methods `nums` has. \n",
    "\n",
    "We'll see more examples of this later on. For now, try finding the minimum value in `nums`. The `min` function works just like max. Use whichever method you want."
   ]
  },
  {
   "cell_type": "code",
   "execution_count": null,
   "metadata": {},
   "outputs": [],
   "source": [
    "# YOUR CODE HERE"
   ]
  },
  {
   "cell_type": "markdown",
   "metadata": {},
   "source": [
    "## Using Libraries##"
   ]
  },
  {
   "cell_type": "markdown",
   "metadata": {},
   "source": [
    "Rather than always writing our own functions, we can also utilize functions already made by others. Python allows us to **import** other code, creating a **module** that contains all of the names created by that code.\n",
    "\n",
    "Python includes many useful modules that are just an import away. We'll look at the ```math``` module as a first example. The ```math``` module is extremely useful in computing mathematical expressions in Python.\n",
    "\n",
    "Suppose we want to very accurately compute the area of a circle with radius 5 meters. For that, we need the constant $\\pi$, which is roughly 3.14. Conveniently, the ```math``` module has ```pi``` defined for us:"
   ]
  },
  {
   "cell_type": "code",
   "execution_count": null,
   "metadata": {},
   "outputs": [],
   "source": [
    "import math\n",
    "radius = 5\n",
    "area_of_circle = radius**2 * math.pi\n",
    "area_of_circle"
   ]
  },
  {
   "cell_type": "markdown",
   "metadata": {},
   "source": [
    "```pi``` is defined inside ```math```, and the way that we access names that are inside modules is by writing the module's name, then a dot, then the name of the thing we want:\n",
    "\n",
    "                                          <module name>.<name>\n",
    "\n",
    "In order to use a module at all, we must first write the statement import ```<module name>```. That statement creates a module object with things like ```pi``` in it and then assigns the name ```math``` to that module. Above we have done that for ```math```.\n",
    "\n",
    "Different methods can take in different number of arguments. Often, the documentation of the module will provide information on how many arguments are required for each method."
   ]
  },
  {
   "cell_type": "code",
   "execution_count": null,
   "metadata": {},
   "outputs": [],
   "source": [
    "# Calculating factorials.\n",
    "math.factorial(5)"
   ]
  },
  {
   "cell_type": "code",
   "execution_count": null,
   "metadata": {},
   "outputs": [],
   "source": [
    "# Calculating square roots.\n",
    "math.sqrt(5)"
   ]
  },
  {
   "cell_type": "markdown",
   "metadata": {},
   "source": [
    "### Datascience Libraries ###"
   ]
  },
  {
   "cell_type": "markdown",
   "metadata": {},
   "source": [
    "At the top of this notebook, we imported the ```datascience``` package. The instructors of Data 8 created this package so we can easily handle and manipulate data. Below, we'll explore some of these commonly-used functions so that we can manipulate our own data later!"
   ]
  },
  {
   "cell_type": "markdown",
   "metadata": {},
   "source": [
    "## Tables Essentials!\n",
    "\n",
    "Here's a list of common table methods used in Data 8. They are functions that are specialized to work with data tables, and they are called by using the dot notation that we learned above. \n",
    "\n",
    "|Name|Example|Purpose|\n",
    "|-|-|-|\n",
    "|`Table`|`Table()`|Create an empty table, usually to extend with data|\n",
    "|`Table.read_table`|`Table.read_table(\"my_data.csv\")`|Create a table from a data file|\n",
    "|`with_columns`|`tbl = Table().with_columns(\"N\", np.arange(5), \"2*N\", np.arange(0, 10, 2))`|Create a copy of a table with more columns|\n",
    "|`column`|`tbl.column(\"N\")`|Create an array containing the elements of a column|\n",
    "|`sort`|`tbl.sort(\"N\")`|Create a copy of a table sorted by the values in a column|\n",
    "|`where`|`tbl.where(\"N\", are.above(2))`|Create a copy of a table with only the rows that match some *predicate*|\n",
    "|`num_rows`|`tbl.num_rows`|Compute the number of rows in a table|\n",
    "|`num_columns`|`tbl.num_columns`|Compute the number of columns in a table|\n",
    "|`select`|`tbl.select(\"N\")`|Create a copy of a table with only some of the columns|\n",
    "|`drop`|`tbl.drop(\"2*N\")`|Create a copy of a table without some of the columns|\n",
    "|`take`|`tbl.take(np.arange(0, 6, 2))`|Create a copy of the table with only the rows whose indices are in the given array|"
   ]
  },
  {
   "cell_type": "markdown",
   "metadata": {},
   "source": [
    "Let's move on to the real data..."
   ]
  },
  {
   "cell_type": "markdown",
   "metadata": {},
   "source": [
    "# How the GII is calculated: <a id='2'></a>\n",
    "![](gii_breakdown.png)\n",
    "\n",
    "The Gender Inequality Index (GII) reflects gender-based disadvantage in three dimensions—reproductive health, empowerment and the labour market—for as many countries as data of reasonable quality allow. It shows the loss in potential human development due to inequality between female and male achievements in these dimensions. It ranges from 0, where women and men fare equally, to 1, where one gender fares as poorly as possible in all measured dimensions. \n",
    "\n",
    "\n",
    "## The 3 Dimensions:\n",
    "\n",
    "### 1. Reproductive Health\n",
    "Measured by 2 indicators: the maternal mortality ratio and the adolescent fertility rate. Maternal mortality ratio is calculated as the deaths per 100,000 live births, and adolescent fertility rate looks at births per 1,000 women ages 15-19.\n",
    "\n",
    "These indicators are used because the degree to which a society prioritizes the well-being of women during childbirth is intrinsically important, and is also a clear signal of women’s status in society. In many countries around the world, the risk of death in childbirth could be significantly reduced through the provision of basic education, contraceptives, antenatal health services and skilled birth attendance. Adolescent childbearing tends to prevent young women from achieving higher levels of education, which is necessary for success in the labour market and accessing other life opportunities. Early childbirth also poses significant health risks for the mother and her baby. Some studies suggest that because their bodies are not yet fully developed, teenage mothers’ risk of death in childbirth is five times higher.\n",
    "\n",
    "### 2. Empowerment\n",
    "Measured by two indicators: the share of parliamentary seats held by each sex, and secondary and higher education attainment levels (percentages of men and women, 25 years and above, who have at least a secondary education).\n",
    "\n",
    "Women have traditionally been disadvantaged in the political arena at all levels of government. Estimates for parliamentary representation at the national level reflect women’s visibility in political leadership and society more generally, and the extent to which women hold high offices. In turn, higher levels of educational attainment expand women’s freedoms by strengthening their capacity to question, reflect and act, and also to access information. Educated women are more likely to enjoy meaningful work, to use their voices in public debate, to be able to care for their own health and that of their family, and to act as agents throughout society. Secondary and higher educational attainment are used because disparities in these levels strongly affect women’s career and leadership prospects.\n",
    "\n",
    "### 3. Labor\n",
    "Measured by labor force participation rate in males and females, which is the percentage of individuals of each gender who work.\n",
    "\n",
    "Women may not participate in the labour market for several reasons, including exclusion, unequal pay and incentives, household duties or caring for relatives, and pregnancy and childcare. Thus, the level of women’s participation reflects several aspects, including possibilities and permission to work, which in turn includes labour market opportunities, and the capability of women to combine productive work with duties of care and reproductive responsibilities. Clearly this is affected also by men’s complementary activities in the household."
   ]
  },
  {
   "cell_type": "markdown",
   "metadata": {},
   "source": [
    "### Data sources:\n",
    "The GII relies on data from the following publicly available databases:\n",
    "- Maternal mortality ratio (MMR): UN Maternal Mortality Estimation Group (2016) [used to from UNICEF’s The State of the World’s Children]\n",
    "- Adolescent birth rate (ABR): UN Department of Economic and Social Affair’s World Population Prospects (UNDESA)\n",
    "- Share of parliamentary seats held by each sex (PR): International Parliamentary Union (IPU)\n",
    "- Attainment at secondary and higher education levels (SE): UNESCO Institute for Statistics (2016) [Educational attainment statistics from Barro and Lee (2010) datasets]\n",
    "- Labour market participation rate (LFPR): International Labour Organization’s LABORSTA database (ILO)\n",
    "\n",
    "Data from the above sources, compiled by country, can be accessed through the International Human Development Indicators website at: http://HDR.undp.org/en/data/profiles/."
   ]
  },
  {
   "cell_type": "markdown",
   "metadata": {},
   "source": [
    "## The Data\n",
    "### Load in the UN Gender Inequality Index (GII) data from 2016\n",
    "Note: the table has been modified slightly from its original format for ease of use. We've also added latitude and longitude so that we can display results on maps. The original table can be found at: http://hdr.undp.org/en/composite/GII\n",
    "\n",
    "#### Clean Data:\n",
    "###### (Only pay attention if you're interested)\n",
    "Right now, all of the values that look like numbers are actually being stored as _strings_, which, in Python, are usually how ASCII characters are stored. Thus, you can't do normal mathematical operations on strings. We have to change these strings into _floats_, or floating-point decimals. That's what the code below does.\n",
    "\n",
    "#### Note: \n",
    "The actual index we are interested in is NOT actually shown in this table. We're going to calculate it later. It involves layers of mathematical averages, which you don't need to understand."
   ]
  },
  {
   "cell_type": "code",
   "execution_count": null,
   "metadata": {},
   "outputs": [],
   "source": [
    "# load data\n",
    "data = Table.read_table('data/asia-full-original-with-coords.csv')\n",
    "\n",
    "# create an empty table, named asia\n",
    "asia = Table()\n",
    "\n",
    "# clean data\n",
    "# a for loop iterates through a sequence and does something each time\n",
    "# this one changes each value from a string to a number (a \"float\")\n",
    "# and recreates the data in a new table, which we called 'asia'\n",
    "for label in data.labels:\n",
    "    clean_col = make_array()\n",
    "    for i in np.arange(len(data.column(label))):\n",
    "        if data.column(label).item(i) == '..':\n",
    "            clean_col = np.append(clean_col, np.nan)\n",
    "            \n",
    "        elif label == data.labels[0]:\n",
    "            clean_col = np.append(clean_col, data.column(label).item(i))  \n",
    "        else:\n",
    "            clean_col = np.append(clean_col, float(data.column(label).item(i)))\n",
    "    asia.append_column(label, clean_col)\n",
    "\n",
    "# display table\n",
    "asia.show()    # .show() displays all rows of a table, rather than just the first 10, which is the default"
   ]
  },
  {
   "cell_type": "code",
   "execution_count": null,
   "metadata": {},
   "outputs": [],
   "source": [
    "# calculate female health using geometric mean\n",
    "def fhealth(mmr, abr):\n",
    "    # stats.mstats.gmean is a function (for computing geometric means) that comes from the scipy library\n",
    "    # so we did not have to write it ourselves\n",
    "    return stats.mstats.gmean([10 / mmr, 1 / abr])\n",
    "\n",
    "# male health is 1 by default - because they do not go through childbirth\n",
    "mhealth = 1"
   ]
  },
  {
   "cell_type": "code",
   "execution_count": null,
   "metadata": {},
   "outputs": [],
   "source": [
    "# calculate either male or female empowerment using geometric mean\n",
    "def empowerment(pr, se):\n",
    "    return stats.mstats.gmean([pr, se])"
   ]
  },
  {
   "cell_type": "code",
   "execution_count": null,
   "metadata": {},
   "outputs": [],
   "source": [
    "# aggregate across dimensions to get female gender index, geometric mean again\n",
    "def within_female_across_dimensions(hlth, emp, lbr):    # inputs will be fhealth(..., ...), empowerment(..., ...), flabor\n",
    "    # gmean of gmeans\n",
    "    return stats.mstats.gmean([hlth, emp, lbr])"
   ]
  },
  {
   "cell_type": "code",
   "execution_count": null,
   "metadata": {},
   "outputs": [],
   "source": [
    "# aggregate across dimensions to get male gender index\n",
    "def within_male_across_dimensions(hlth, emp, lbr):\n",
    "    return stats.mstats.gmean([hlth, emp, lbr])"
   ]
  },
  {
   "cell_type": "code",
   "execution_count": null,
   "metadata": {},
   "outputs": [],
   "source": [
    "# aggregate between male and female for each dimension\n",
    "# The female and male indices are aggregated by the harmonic mean to create the equally distributed gender index\n",
    "def across_gender_within_dimension(female, male):\n",
    "    # harmonic mean\n",
    "    return stats.mstats.hmean([female, male])"
   ]
  },
  {
   "cell_type": "code",
   "execution_count": null,
   "metadata": {},
   "outputs": [],
   "source": [
    "# combine above functions into one big one that does all the work!\n",
    "# input: a table like asia\n",
    "# output: a new table, a copy of the input, with another column that has the calculated GII\n",
    "\n",
    "# had to shift row indices by 1 because asia table has 1 less column\n",
    "def gii_calculator(table):\n",
    "    def step4(): \n",
    "        # aggregate female and male indices using equal weights \n",
    "        #(thus treating the genders equally) \n",
    "        # and then aggregating the indices across dimensions\n",
    "        return stats.mstats.gmean([np.mean([fhealth(mmr, abr), mhealth]), np.mean([empowerment(fpr, fse), empowerment(mpr, mse)]), np.mean([flabor, mlabor])]) \n",
    "    gii_column = make_array()\n",
    "    for i in np.arange(len(table.column(0))): # row indices of table\n",
    "        row = table.row(i)\n",
    "        mmr = row.item(3)\n",
    "        abr = row.item(4)\n",
    "        fpr = row.item(5)   # female representation, male = 100 - female\n",
    "        mpr = 100 - fpr\n",
    "        # need fse and mse\n",
    "        fse = row.item(6) \n",
    "        mse = row.item(7)\n",
    "        flabor = row.item(8)\n",
    "        mlabor = row.item(9)\n",
    "        \n",
    "        # BELOW IS THE STEP WHERE THE CALCULATION ACTUALLY HAPPENS\n",
    "        # NOTICE that it is one variable that contains many functions within functions!\n",
    "        gii = 1 - (\n",
    "        across_gender_within_dimension(\n",
    "            within_female_across_dimensions(fhealth(mmr, abr), empowerment(fpr, fse), flabor), \n",
    "            within_male_across_dimensions(mhealth, empowerment(mpr, mse), mlabor)\n",
    "        )\n",
    "        / step4()\n",
    "        )\n",
    "        gii_column = np.append(gii_column, gii)\n",
    "    with_gii = table.copy().with_column(\"GII (2016)\", gii_column)\n",
    "    return with_gii"
   ]
  },
  {
   "cell_type": "code",
   "execution_count": null,
   "metadata": {},
   "outputs": [],
   "source": [
    "# new table with 2016 GII score\n",
    "asia_gii = gii_calculator(asia)\n",
    "asia_gii.show()     "
   ]
  },
  {
   "cell_type": "markdown",
   "metadata": {},
   "source": [
    "# Analyzing Data and Data Visualizations <a id='3'></a>\n",
    "\n",
    "Let's check out the distribution of GII scores in a _histogram_. \n",
    "\n",
    "A _histogram_ is a continuous graph that allows us to see the number of data items that fall into each interval. The data is split into _bins_ that categorizes the information into specified numerical groups, and we can observe the frequency of occurrences by calculating the area of a given bar (width times height of bar). \n",
    "\n",
    "In addition, while there can be empty bins, there shouldn't be gaps in the range of bin values since a histogram depicts continuous data. For instance, the bin from 0.3 to 0.4 can be empty but it must still exist on the graph to represent the continous range of GII values.\n",
    "\n",
    "Since bins measure frequency and are represented in percents, the total area of all of the bars should sum to 100%. This characteristic is true for all histograms since a histogram represents the distribution of the data across all the specified bins."
   ]
  },
  {
   "cell_type": "markdown",
   "metadata": {},
   "source": [
    "Through the `datascience` library, we have access to a `hist` function that plots a histogram from an `array`. The `hist` function is called on a table, and takes a column name (as a `string` - remember a string is usually alphabetic characters in quotes) as its input. In the cell below, try to call the `hist` function, using dot notation, on the `asia_gii` table to plot a histogram of the distribution of all GII scores from 2016. \n",
    "\n",
    "_Hint: the column containing this distribution is called GII (2016)_\n",
    "\n",
    "_Please **ask** if you need help with this task!_"
   ]
  },
  {
   "cell_type": "code",
   "execution_count": null,
   "metadata": {},
   "outputs": [],
   "source": [
    "# YOUR CODE HERE"
   ]
  },
  {
   "cell_type": "markdown",
   "metadata": {},
   "source": [
    "#### Average GII?\n",
    "Now try to get an average GII score for Asian countries. There are several different ways that you could do this, but let's use the `mean` function, which is built into the Python language. \n",
    "\n",
    "First, we will need to extract the column (an array) that we want from the `asia_gii` table, using `.column()` function, with a column name as input. Then we can call the `mean` function on it, using dot notation, with empty parentheses at the end. \n",
    "\n",
    "Again, let us know if you need help!"
   ]
  },
  {
   "cell_type": "code",
   "execution_count": null,
   "metadata": {},
   "outputs": [],
   "source": [
    "# YOUR CODE HERE"
   ]
  },
  {
   "cell_type": "markdown",
   "metadata": {},
   "source": [
    "## Data Visualizations \n",
    "\n",
    "Let's now start looking at some of the data visually. First we'll look at a bar chart to compare the GII of different countries. Then, we will make a geographical map of all the countries that shows GII.\n",
    "\n",
    "To create a bar chart, we will use a similar method to the one we used to create the histogram earlier.Through the datascience library, we have access to a `barh` function that creates a horizontal bar chart from an array of categories and an array of numbers. The `barh` function is called on a table, and takes 2 column names (as strings - remember a string is usually alphabetic characters in quotes) as its input. The first column name should be the category you want to look at (in this case, the country), and the second column name should be the value you want to compare (the GII). The 2 column names (arguments) are separated by a comma. In the cell below, try to call the `barh` function, using dot notation, on the `asia_gii` table to plot a horizontal bar chart of all GII scores from 2016.\n",
    "\n",
    "Hint: the name of the country column is 'Country' and the name of the GII column is 'GII (2016)'"
   ]
  },
  {
   "cell_type": "code",
   "execution_count": null,
   "metadata": {},
   "outputs": [],
   "source": [
    "# YOUR CODE HERE"
   ]
  },
  {
   "cell_type": "markdown",
   "metadata": {},
   "source": [
    "To start with creating our map, we'll create a function that allows the labels on our map to include both the country name and GII score, so we can easily see the data that we want."
   ]
  },
  {
   "cell_type": "code",
   "execution_count": null,
   "metadata": {},
   "outputs": [],
   "source": [
    "# function to generate text for each country with name and GII\n",
    "# just run this cell\n",
    "def getPopupText(country, gii):\n",
    "    \"Create custom popup content\"\n",
    "    the_text = country + \", GII Score: \" + str(gii)\n",
    "    return the_text\n",
    "\n",
    "# Apply the function to the GII column of table\n",
    "asia_gii['popup'] = asia_gii.apply(lambda x , y: getPopupText(x,y), 0,'GII (2016)')\n",
    "\n",
    "# View the table - see what we've added?\n",
    "asia_gii.show()"
   ]
  },
  {
   "cell_type": "markdown",
   "metadata": {},
   "source": [
    "We can now plot the data on a simple world map..."
   ]
  },
  {
   "cell_type": "code",
   "execution_count": null,
   "metadata": {},
   "outputs": [],
   "source": [
    "# plot simple graph\n",
    "# just run this cell\n",
    "Marker.map(asia_gii['Latitude'], asia_gii['Longitude'], labels=asia_gii['popup'])"
   ]
  },
  {
   "cell_type": "markdown",
   "metadata": {},
   "source": [
    "Now let's categorize the GII scores by color. We'll use the histogram above and some basic statistical principles to decide which scores are relatively \"good\" or \"bad\".\n",
    "\n",
    "Rather than arbitrarily determining some values as \"good\" and some as \"bad\", we can utilize _standard deviations_ to help us make objective decisions as to how \"good\" or \"bad\" a country's GII is.\n",
    "\n",
    "Standard deviation is a measure of how much a specific data point differs from the average of all the data. The specific formula for calculating the standard deviation is shown below if you're interested. Otherwise, simply know that we can find the standard deviation for a given list of values by calling ```numpy```'s ```std``` function on the list (shown as ```np.std(list)```). \n",
    "\n",
    "<img src=\"stddev.png\" alt=\"Drawing\" style=\"width: 200px;\"/>\n",
    "\n",
    "For our purposes, if a country has a GII that is greater than half a standard deviation from the mean, that means this country's GII is higher than the average GII. Thus, this country has what we consider a \"bad\" GII, so we want to show these countries as a different color. \n",
    "\n",
    "Similarly, if a country has a GII that is more than half a standard deviation under the mean, that means this country has a particulary low GII and we thus want to depict it with a different color as well."
   ]
  },
  {
   "cell_type": "code",
   "execution_count": null,
   "metadata": {},
   "outputs": [],
   "source": [
    "# Category map - symbolized by color\n",
    "# just run this cell (and read it!)\n",
    "\n",
    "# Set colors for each gii cutoff point\n",
    "asia_gii['color'] = 'green' # set default color to green\n",
    "\n",
    "std_dev = np.std(asia_gii['GII (2016)']) # can use np's function to find the standard deviation\n",
    "mean = np.mean(asia_gii['GII (2016)'])   # this is a different way of finding the mean than above\n",
    "print(\"This is the standard deviation:\", std_dev)\n",
    "print(\"This is the mean:\", mean)\n",
    "\n",
    "# modify the \"extreme\" values' colors based on how far the GII is from the mean of 0.38\n",
    "# since the GII's are relatively close to one another, we set a country to have an \"extreme\" GII \n",
    "# if its GII lies outside of half a standard deviation from the mean\n",
    "\n",
    "# countries with GII that are greater than mean + 0.5 * std_dev are considered \"bad\"\n",
    "asia_gii['color'][asia_gii['GII (2016)'] >= mean + 0.5 * std_dev] = 'red'  # high GII - bad\n",
    "\n",
    "# countries with GII that are less than mean - 0.5 * std_dev are considered \"good\"\n",
    "asia_gii['color'][asia_gii['GII (2016)'] < mean - 0.5 * std_dev] = 'blue'  # low GII - good"
   ]
  },
  {
   "cell_type": "code",
   "execution_count": null,
   "metadata": {
    "scrolled": true
   },
   "outputs": [],
   "source": [
    "# just run this cell\n",
    "Marker.map(asia_gii['Latitude'], asia_gii['Longitude'], labels=asia_gii['popup'], colors=asia_gii['color'])"
   ]
  },
  {
   "cell_type": "markdown",
   "metadata": {},
   "source": [
    "**Question:** Are there certain geographic areas where GII tends to be lower or higher? Discuss with your neighbor. Write your answer below."
   ]
  },
  {
   "cell_type": "markdown",
   "metadata": {},
   "source": [
    "*Write your answer here*"
   ]
  },
  {
   "cell_type": "markdown",
   "metadata": {},
   "source": [
    "\n",
    "We can also draw a map that scales circles based on GII score. . .\n",
    "\n",
    "Again, we will create a function that does the work of finding the right size of the circle for us, then append that size as a column to our table, which we will then use as an input to the function that generates the actual map."
   ]
  },
  {
   "cell_type": "code",
   "execution_count": null,
   "metadata": {},
   "outputs": [],
   "source": [
    "# just run this cell\n",
    "def scaleSymbolSize(theData, dataVal, minRadius=10, maxRadius=300):\n",
    "    \"\"\"\n",
    "    Scale symbol size between the range of min and max radii\n",
    "    based on range of values in the input data. \n",
    "    Then use this radius to determine the output symbol AREA\n",
    "    Returns the AREA for the symbol\n",
    "    \"\"\"\n",
    "    valMin = min(theData)\n",
    "    valMax = max(theData)\n",
    "    valRange = (valMax - valMin )  \n",
    "    symRange = (maxRadius - minRadius)  \n",
    "    symbol_radius = (((dataVal - valMin) * symRange) / valRange) + minRadius\n",
    "    symbol_area = symbol_radius * symbol_radius * math.pi  # Area of a circle = piR^2\n",
    "    return int(symbol_area)"
   ]
  },
  {
   "cell_type": "code",
   "execution_count": null,
   "metadata": {},
   "outputs": [],
   "source": [
    "# just run this cell\n",
    "asia_gii['circle_area'] = asia_gii.apply(lambda x: scaleSymbolSize(asia_gii['GII (2016)'], x, 100, 1500000), 'GII (2016)')\n",
    "# notice the new \"circle_area\" column\n",
    "asia_gii"
   ]
  },
  {
   "cell_type": "code",
   "execution_count": null,
   "metadata": {
    "scrolled": true
   },
   "outputs": [],
   "source": [
    "# just run this cell\n",
    "Circle.map_table(asia_gii.select(['Latitude','Longitude', 'popup','color','circle_area']), fill_opacity=.8)"
   ]
  },
  {
   "cell_type": "markdown",
   "metadata": {},
   "source": [
    "Remember that a larger circle means MORE INEQUALITY! (which is bad!)"
   ]
  },
  {
   "cell_type": "markdown",
   "metadata": {},
   "source": [
    "# Activity: Predicting GII Score <a id='4'></a>\n",
    "\n",
    "With a partner, choose an Asian country that you are both interested in (WITHOUT looking back at the numbers in the table), and make some educated guesses about what numbers you think this country would have in each of the categories we've been using. \n",
    "\n",
    "Then, use your estimates to calculate this country's GII below. \n",
    "\n",
    "Was it higher or lower than you expected? What about compared to the country's real GII and data values?"
   ]
  },
  {
   "cell_type": "code",
   "execution_count": null,
   "metadata": {},
   "outputs": [],
   "source": [
    "# country is now an empty table - next, we will input your chosen data\n",
    "my_country = Table(make_array(asia.labels[:-2])[0])\n",
    "my_country"
   ]
  },
  {
   "cell_type": "code",
   "execution_count": null,
   "metadata": {
    "scrolled": true
   },
   "outputs": [],
   "source": [
    "# add a row with your estimated input for each of the columns above, IN ORDER\n",
    "# Country should be a string, like \"China Estimate\"\n",
    "# Overall HDI Rank and Within Region HDI Rank are set to 0 because they are not relevant to this calculation\n",
    "# REPLACE the ellipsis (...) with your estimates for the corresponding categories!!\n",
    "# we are going to use the append function to append a row to an empty table\n",
    "my_country_name = # set this to the string of the name of your country followed by 'Estimate' eg: 'China Estimate'\n",
    "my_country_values = [my_country_name, 0, 0, ..., ..., ..., ..., ..., ..., ...]\n",
    "my_country.append(my_country_values)\n",
    "my_country"
   ]
  },
  {
   "cell_type": "code",
   "execution_count": null,
   "metadata": {
    "scrolled": true
   },
   "outputs": [],
   "source": [
    "# calculate the gii of your new country!\n",
    "# outputs a table with 1 row for your country\n",
    "est_gii = gii_calculator(my_country)\n",
    "est_gii"
   ]
  },
  {
   "cell_type": "code",
   "execution_count": null,
   "metadata": {},
   "outputs": [],
   "source": [
    "# outputs only your estimated GII score\n",
    "estimated_gii_score = est_gii.row(0).item(10)\n",
    "estimated_gii_score"
   ]
  },
  {
   "cell_type": "code",
   "execution_count": null,
   "metadata": {},
   "outputs": [],
   "source": [
    "# this cell will display a table that allows you to compare your estimated value with the actual values\n",
    "# make sure to change 'ACTUAL COUNTRY NAME' to the name of your country as it appears in the table, like 'China'\n",
    "country_gii = asia_gii.where('Country', 'ACTUAL COUNTRY NAME').drop(10, 11, 13, 14, 15)\n",
    "country_gii.with_row(my_country_values + [estimated_gii_score])"
   ]
  },
  {
   "cell_type": "markdown",
   "metadata": {},
   "source": [
    "The next cell will plot a histogram of all of Asia's GII scores (same as we did earlier!). Your estimated score will appear as a red dot on the graph. Compare it to the distribution of actual scores!"
   ]
  },
  {
   "cell_type": "code",
   "execution_count": null,
   "metadata": {},
   "outputs": [],
   "source": [
    "# plot histogram with red dot of estimated value\n",
    "asia_gii.hist(\"GII (2016)\")\n",
    "plots.scatter(estimated_gii_score, 0, color='red', s=30)"
   ]
  },
  {
   "cell_type": "markdown",
   "metadata": {},
   "source": [
    "Write a paragraph with your partner explaining whether you were suprised by how high or low it ranked compared to other countries \"around it\"? Why do you think your estimates were higher or lower than the actual values for your country?"
   ]
  },
  {
   "cell_type": "markdown",
   "metadata": {},
   "source": [
    "*Write your answer here*"
   ]
  },
  {
   "cell_type": "markdown",
   "metadata": {},
   "source": [
    "# Comparing Measures of Gender Inequality <a id='5'></a>\n",
    "At the beginning of class, we said that we would compare the UN Gender Inequality Index with the World Economic Forum's Gender Gap Report. The Global Gender Gap Index (GGGI) aims to capture the magnitude of gender-based disparities and track them over time. Following are some questions to get you thinking about the differences in the reports. Work with your partner to come up with some answers!\n",
    "\n",
    "**Note:** The GII is structured so that scores closer to 0 signify more gender equality. The GGGI is structured so that scores closer to 1 signify more gender equality. In order to get a rough comparison, below is code that shows a table with reversed GII scores, where a number closer to 1 means *more gender equality*. This is a reference so that you can compare it with scores in the GGGI."
   ]
  },
  {
   "cell_type": "code",
   "execution_count": null,
   "metadata": {},
   "outputs": [],
   "source": [
    "reverse_scores = 1-asia_gii.column('GII (2016)')\n",
    "asia_gii_reversed = asia_gii.with_column('Reversed Scores', reverse_scores)\n",
    "asia_gii_reversed.select('Country','GII (2016)', 'Reversed Scores').show()"
   ]
  },
  {
   "cell_type": "markdown",
   "metadata": {},
   "source": [
    "**Question 1:** What dimensions does the Global Gender Gap Index look at, and how are these different than what the GII uses? What are some differences in the indicators used to calculate each of the dimensions? Is there a specific variable that is included in dimension calculation in the GGGI, but not in the GII, that you think is necessary for understanding the gender gap?"
   ]
  },
  {
   "cell_type": "markdown",
   "metadata": {},
   "source": [
    "*Write your answer here*"
   ]
  },
  {
   "cell_type": "markdown",
   "metadata": {},
   "source": [
    "**Question 2:** What do you think are some reasons the WEF chose the variables they did? Why do you think those variables differ from those of the UN's GII?"
   ]
  },
  {
   "cell_type": "markdown",
   "metadata": {},
   "source": [
    "*Write your answer here*"
   ]
  },
  {
   "cell_type": "markdown",
   "metadata": {},
   "source": [
    "**Question 3:** Find a country where the GII we calculated and the GGGI score found in the WEF Global Gender Gap Report seem to differ a lot. You can use the reversed scores from the table above and the scores in Table 3 from the WEF Global Gender Gap Report to help you with this comparison. (If you don't have a copy of the Global Gender Gap report, you can download it from the link in the bibliography). What country seemed to have a significant difference in scores between the two measures? What factors/differences in measurement do you think contribute to this disparity?"
   ]
  },
  {
   "cell_type": "markdown",
   "metadata": {},
   "source": [
    "*Write your answer here*"
   ]
  },
  {
   "cell_type": "markdown",
   "metadata": {},
   "source": [
    "## Survey\n",
    "We hope you enjoyed learning about the Gender Inequality Index and different measures for calculating the gender gap! We are always looking for feedback on our modules so we'd appreciate it if you could fill out this survey right now: [Data Science Module Feedback Form]('https://docs.google.com/forms/d/e/1FAIpQLSeNqihorZpaqKZPEUfGp45llXEqliSK9-mNGf4qJCwb4MapAw/viewform?edit')"
   ]
  },
  {
   "cell_type": "markdown",
   "metadata": {
    "collapsed": true
   },
   "source": [
    "# Bibliography#"
   ]
  },
  {
   "cell_type": "markdown",
   "metadata": {},
   "source": [
    "Some content adapted from the GWS 101, GWS 131, and maps from the ESPM 88A modules, along with Data 8.\n",
    "\n",
    "Information regarding the Gender Inequality Index from the UN website at http://hdr.undp.org/en/content/gender-inequality-index-gii\n",
    "\n",
    "Information regarding the Global Gender Gap Report from the World Economic Forum's website: http://reports.weforum.org/global-gender-gap-report-2016/?doing_wp_cron=1538933393.4333870410919189453125\n",
    "\n",
    "Resources for Arithmetic, Geometric, and Harmonic Means:\n",
    "[Arithmetic Mean]('https://en.wikipedia.org/wiki/Arithmetic_mean'),\n",
    "[Geometric Mean]('https://www.mathsisfun.com/numbers/geometric-mean.html'),\n",
    "[Harmonic Mean]('http://www.mathwords.com/h/harmonic_mean.htm')\n",
    "\n",
    "If you're interested in learning more about histograms, here's a helpful link: http://www.math.usu.edu/cfairbourn/SCORM/Online/Histograms_sco/Histograms_print.html"
   ]
  },
  {
   "cell_type": "markdown",
   "metadata": {},
   "source": [
    "---\n",
    "Notebook developed by: Makena Schwinn, Kelly Chen, Leo Li\n",
    "\n",
    "Modified by: Keilyn Yuzuki\n",
    "\n",
    "Data Science Modules: https://data.berkeley.edu/education/modules"
   ]
  },
  {
   "cell_type": "code",
   "execution_count": null,
   "metadata": {},
   "outputs": [],
   "source": []
  }
 ],
 "metadata": {
  "anaconda-cloud": {},
  "kernelspec": {
   "display_name": "Python 3",
   "language": "python",
   "name": "python3"
  },
  "language_info": {
   "codemirror_mode": {
    "name": "ipython",
    "version": 3
   },
   "file_extension": ".py",
   "mimetype": "text/x-python",
   "name": "python",
   "nbconvert_exporter": "python",
   "pygments_lexer": "ipython3",
   "version": "3.7.1"
  }
 },
 "nbformat": 4,
 "nbformat_minor": 1
}
