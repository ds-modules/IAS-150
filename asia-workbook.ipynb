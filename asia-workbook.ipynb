{
 "cells": [
  {
   "cell_type": "code",
   "execution_count": null,
   "metadata": {
    "collapsed": true
   },
   "outputs": [],
   "source": [
    "import numpy as np\n",
    "import math\n",
    "from datascience import *\n",
    "from scipy import stats\n",
    "%matplotlib inline"
   ]
  },
  {
   "cell_type": "markdown",
   "metadata": {},
   "source": [
    "# Welcome to IAS-150's Data Science Module\n",
    "\n",
    "Today we will be examining a data set that the UN produces every year, called the Gender Inequality Index. This is the UN's annual ranking of 188 countries in  terms of gender _inequality_. We will be examining the subset of countries in Asia with complete data."
   ]
  },
  {
   "cell_type": "markdown",
   "metadata": {},
   "source": [
    "Gender equity is an essential and widely recognized international policy goal because of its intrinsic and instrumental value. It is clearly important as an end in itself and also is a means to the attainment of other development goals such as the nourishment and educational achievements of children.\n",
    "\n",
    "The global Gender Inequality Index (GII) — built on the same framework as the UN's other ranking systems: the Human Development Index (HDI) and the Inequality-adjusted Human Development Index (IHDI) — was first released in 2010. It measures inequalities in achievements between women and men across three dimensions of human development: reproductive health, empowerment and the labour market. The GII can be used for international comparisons, but the global GII’s chosen indicators are deeply affected by data limitations.\n",
    "\n",
    "The GII is computed using the association-sensitive inequality measure suggested by Seth (2009), which implies that the index is based on the general mean of general means of different orders — the first aggregation is by a geometric mean across dimensions; these means, calculated separately for women and men, are then aggregated using a harmonic mean across genders.\n",
    "\n",
    "As we move along, we'll see how the global GII provides insights into gender disparities in reproductive health, empowerment and the labour market in Asian countries. It can enable governments, organiztions, and individuals to better understand and promote gender equality. The GII can be used to raise awareness of disparities, track progress towards gender equity, and support public action."
   ]
  },
  {
   "cell_type": "markdown",
   "metadata": {},
   "source": [
    "### Load in the UN Gender Inequality Index (GII) data from 2016\n",
    "Note: the table has been modified slightly from its original format for ease of use. We've also added latitude and longitude so that we can display results on maps. The original table can be found at: http://hdr.undp.org/en/composite/GII\n",
    "\n",
    "#### Clean Data:\n",
    "###### (Only pay attention if you're interested)\n",
    "Right now, all of the values that look like numbers are actually being stored as _strings_, which, in Python, are usually how ASCII characters are stored. Thus, you can't do normal mathematical operations on strings. We have to change these strings into _floats_, or floating-point decimals. That's what the code below does.\n",
    "\n",
    "#### Note: \n",
    "The index we are interested in is NOT actually shown in this table. We're going to have to calculate it later. It involves layers of mathematical averages, which we'll try to explain, but they specifics aren't vital to this course."
   ]
  },
  {
   "cell_type": "code",
   "execution_count": null,
   "metadata": {
    "collapsed": true
   },
   "outputs": [],
   "source": [
    "# load data\n",
    "data = Table.read_table('data/asia-full-original-with-coords.csv')\n",
    "\n",
    "# create an empty table, named asia\n",
    "asia = Table()\n",
    "\n",
    "# clean data\n",
    "# a for loop iterates through a sequence and does something each time\n",
    "# this one changes each value from a string to a number (a \"float\")\n",
    "# and recreates the data in a new table, which we called 'asia'\n",
    "for label in data.labels:\n",
    "    clean_col = make_array()\n",
    "    for i in np.arange(len(data.column(label))):\n",
    "        if data.column(label).item(i) == '..':\n",
    "            clean_col = np.append(clean_col, np.nan)\n",
    "            \n",
    "        elif label == data.labels[0]:\n",
    "            clean_col = np.append(clean_col, data.column(label).item(i)) \n",
    "        #elif label == 'Country' or label == 'HDI rank':\n",
    "            #clean_col = np.append(clean_col, data.column(label).item(i))   \n",
    "        else:\n",
    "            clean_col = np.append(clean_col, float(data.column(label).item(i)))\n",
    "    asia.append_column(label, clean_col)\n",
    "\n",
    "# display table\n",
    "asia"
   ]
  },
  {
   "cell_type": "markdown",
   "metadata": {},
   "source": [
    "# An Introduction to Python"
   ]
  },
  {
   "cell_type": "markdown",
   "metadata": {},
   "source": [
    "**Topics covered:**\n",
    "* Variables\n",
    "* Functions \n",
    "* Dot notation\n",
    "* Using libraries\n",
    "* Datascience library"
   ]
  },
  {
   "cell_type": "markdown",
   "metadata": {},
   "source": [
    "## Variables"
   ]
  },
  {
   "cell_type": "markdown",
   "metadata": {},
   "source": [
    "In programming, we often compute many values that we want to save so that we can use the result in a later step. For example, let's say that we want to find the number of seconds in a day. We can easily calculate this with the following:\n",
    "\n",
    "                            60 * 60 * 24 = 86400 seconds\n",
    "\n",
    "However, let's say that your friend Alexander asked you how many seconds there are in three days. We could, of course, perform the calculation in a similar manner:\n",
    "\n",
    "                            (60 * 60 * 24) * 3 = 259200 seconds\n",
    "\n",
    "But we see that we repeated the calculation in parentheses above. Instead of doing this calculation again, we could have saved the result from our first step (calculating the number of seconds in a day) as a variable."
   ]
  },
  {
   "cell_type": "code",
   "execution_count": 24,
   "metadata": {
    "collapsed": false
   },
   "outputs": [
    {
     "data": {
      "text/plain": [
       "86400"
      ]
     },
     "execution_count": 24,
     "metadata": {},
     "output_type": "execute_result"
    }
   ],
   "source": [
    "# This is Python code that assigns variables.\n",
    "# The name to the left of the equals sign is the variable name.\n",
    "# The value to the right of the equals sign is the value of the variable.\n",
    "# Press Shift-Enter to run the code and see the value of our variable!\n",
    "\n",
    "seconds_in_day = 60 * 60 * 24 # This is equal to 86400.\n",
    "seconds_in_day"
   ]
  },
  {
   "cell_type": "markdown",
   "metadata": {},
   "source": [
    "Then, we can simply multiply this variable by three to get the number of seconds in three days:"
   ]
  },
  {
   "cell_type": "code",
   "execution_count": 26,
   "metadata": {
    "collapsed": false
   },
   "outputs": [
    {
     "data": {
      "text/plain": [
       "259200"
      ]
     },
     "execution_count": 26,
     "metadata": {},
     "output_type": "execute_result"
    }
   ],
   "source": [
    "# The code below takes the number of seconds in a day (which we calculated in the previous code cell)\n",
    "# and multiplies it by 3 to find the number of seconds in 3 days.\n",
    "\n",
    "seconds_in_three_days = seconds_in_day * 3  # This is equal to 259200.\n",
    "seconds_in_three_days"
   ]
  },
  {
   "cell_type": "markdown",
   "metadata": {},
   "source": [
    "As you can see, variables can be used to simplify calculations, make code more readable, and allow for repetition and reusability of code."
   ]
  },
  {
   "cell_type": "markdown",
   "metadata": {},
   "source": [
    "## Functions"
   ]
  },
  {
   "cell_type": "markdown",
   "metadata": {},
   "source": [
    "So far, you've learnt how to assign variables to certain values. Now, let's learn how we can manipulate some of these values.\n",
    "\n",
    "Let's say we want to perform a certain operation on many different inputs that will produce distinct outputs. What do we do? We write a **_function_**.\n",
    "\n",
    "A function is a block of code which works a lot like a machine: it takes an input, does something to it, and produces an output.\n",
    "\n",
    "The input is put between brackets and can also be called the _argument_ or _parameter_. Functions can have multiple arguments.\n",
    "\n",
    "Try running the cell below after changing the variable _name_:"
   ]
  },
  {
   "cell_type": "code",
   "execution_count": 1,
   "metadata": {
    "collapsed": false
   },
   "outputs": [
    {
     "data": {
      "text/plain": [
       "'Hello John Doe!'"
      ]
     },
     "execution_count": 1,
     "metadata": {},
     "output_type": "execute_result"
    }
   ],
   "source": [
    "# Edit this cell to your own name!\n",
    "name = \"John Doe\"\n",
    "\n",
    "# Our function\n",
    "def hello(name):\n",
    "    return \"Hello \" + name + \"!\"\n",
    "\n",
    "hello(name)"
   ]
  },
  {
   "cell_type": "markdown",
   "metadata": {},
   "source": [
    "Interesting, right? Now, you don't need to write 10 different lines with 10 different names to print a special greeting for each person. All you need to is write one function that does all the work for you!\n",
    "\n",
    "Now, let's write our own function. Let's look at the following rules:"
   ]
  },
  {
   "cell_type": "markdown",
   "metadata": {},
   "source": [
    "## Defining##"
   ]
  },
  {
   "cell_type": "markdown",
   "metadata": {},
   "source": [
    "* All functions must start with the \"def\" keyword.\n",
    "* All functions must have a name, followed by parentheses, followed by a colon. Eg. def hello( ):\n",
    "* The parentheses may have a variable that stores its arguments (inputs)\n",
    "* All functions must have a \"return\" statement which will return the output. Think of a function like a machine. When you put something inside, you want it to return something. Hence, this is very important."
   ]
  },
  {
   "cell_type": "markdown",
   "metadata": {},
   "source": [
    "## Calling##"
   ]
  },
  {
   "cell_type": "markdown",
   "metadata": {},
   "source": [
    "After you define a function, it's time to use it. This is known as _calling_ a function.\n",
    "\n",
    "To call a function, simply write the name of the function with your input variable in brackets (argument)."
   ]
  },
  {
   "cell_type": "code",
   "execution_count": 4,
   "metadata": {
    "collapsed": false
   },
   "outputs": [
    {
     "ename": "SyntaxError",
     "evalue": "invalid syntax (<ipython-input-4-0919a320d65c>, line 2)",
     "output_type": "error",
     "traceback": [
      "\u001b[0;36m  File \u001b[0;32m\"<ipython-input-4-0919a320d65c>\"\u001b[0;36m, line \u001b[0;32m2\u001b[0m\n\u001b[0;31m    def #name(argument):\u001b[0m\n\u001b[0m                        ^\u001b[0m\n\u001b[0;31mSyntaxError\u001b[0m\u001b[0;31m:\u001b[0m invalid syntax\n"
     ]
    }
   ],
   "source": [
    "# Complete this function\n",
    "def #name(argument):\n",
    "    return # function must return a value\n",
    "\n",
    "# Calling our function below...\n",
    "my_first_function(name)"
   ]
  },
  {
   "cell_type": "markdown",
   "metadata": {},
   "source": [
    "Great! Now let's do some math. Let's write a function that returns the square of the input.\n",
    "\n",
    "Try writing it from scratch!"
   ]
  },
  {
   "cell_type": "code",
   "execution_count": null,
   "metadata": {
    "collapsed": true
   },
   "outputs": [],
   "source": [
    "# square function \n",
    "\n",
    "\n",
    "square(5)"
   ]
  },
  {
   "cell_type": "markdown",
   "metadata": {},
   "source": [
    "Neat stuff! Try different inputs and check if you get the correct answer each time.\n",
    "\n",
    "You've successfully written your first function from scratch!"
   ]
  },
  {
   "cell_type": "markdown",
   "metadata": {},
   "source": [
    "## Dot Notation##"
   ]
  },
  {
   "cell_type": "markdown",
   "metadata": {},
   "source": [
    "Above, we've seen that we can directly call functions with the arguments within the parentheses that follow. For example _square(5)_ is calling the function _square_ with an argument of _5_. \n",
    "\n",
    "We're not limited to just that though! We can also utilize something called _dot notation_ to directly call functions on a given variable. Take a look at the code below:"
   ]
  },
  {
   "cell_type": "code",
   "execution_count": 1,
   "metadata": {
    "collapsed": false
   },
   "outputs": [
    {
     "ename": "NameError",
     "evalue": "name 'make_array' is not defined",
     "output_type": "error",
     "traceback": [
      "\u001b[0;31m---------------------------------------------------------------------------\u001b[0m",
      "\u001b[0;31mNameError\u001b[0m                                 Traceback (most recent call last)",
      "\u001b[0;32m<ipython-input-1-0fe891982c4b>\u001b[0m in \u001b[0;36m<module>\u001b[0;34m()\u001b[0m\n\u001b[0;32m----> 1\u001b[0;31m \u001b[0mnums\u001b[0m \u001b[0;34m=\u001b[0m \u001b[0mmake_array\u001b[0m\u001b[0;34m(\u001b[0m\u001b[0;36m1\u001b[0m\u001b[0;34m,\u001b[0m\u001b[0;36m2\u001b[0m\u001b[0;34m,\u001b[0m\u001b[0;36m3\u001b[0m\u001b[0;34m)\u001b[0m \u001b[0;31m# a list of numbers, will be explained in more detail soon\u001b[0m\u001b[0;34m\u001b[0m\u001b[0m\n\u001b[0m\u001b[1;32m      2\u001b[0m \u001b[0mnums\u001b[0m\u001b[0;34m.\u001b[0m\u001b[0mmax\u001b[0m\u001b[0;34m(\u001b[0m\u001b[0;34m)\u001b[0m\u001b[0;34m\u001b[0m\u001b[0m\n",
      "\u001b[0;31mNameError\u001b[0m: name 'make_array' is not defined"
     ]
    }
   ],
   "source": [
    "nums = make_array(1,2,3) # creates a list of numbers\n",
    "nums.max() # trying to find the max of the list"
   ]
  },
  {
   "cell_type": "code",
   "execution_count": null,
   "metadata": {
    "collapsed": true
   },
   "outputs": [],
   "source": [
    "max(nums)"
   ]
  },
  {
   "cell_type": "markdown",
   "metadata": {},
   "source": [
    "Notice that the two pieces of code above produced the same output. This is because they're equivalent! \n",
    "\n",
    "In the first bit of code, _nums.max()_ is calling the function _max()_ directly on the _nums_ variable, which is a list. Thus, our code knows to look into _nums_'s methods and apply the _max()_ function on this particular list.\n",
    "\n",
    "_max(nums)_ differs in that it calls the _max_ function on the argument that we passed in, which is _nums_ in this case, rather than looking up what methods _nums_ has. \n",
    "\n",
    "We'll see more examples of this later on in the module."
   ]
  },
  {
   "cell_type": "markdown",
   "metadata": {},
   "source": [
    "## Using Libraries##"
   ]
  },
  {
   "cell_type": "markdown",
   "metadata": {},
   "source": [
    "Rather than always writing our own functions, we can also utilize functions already made by others. Python allows us to **import** other code, creating a **module** that contains all of the names created by that code.\n",
    "\n",
    "Python includes many useful modules that are just an import away. We'll look at the ```math``` module as a first example. The ```math``` module is extremely useful in computing mathematical expressions in Python.\n",
    "\n",
    "Suppose we want to very accurately compute the area of a circle with radius 5 meters. For that, we need the constant $\\pi$, which is roughly 3.14. Conveniently, the ```math``` module has ```pi``` defined for us:"
   ]
  },
  {
   "cell_type": "code",
   "execution_count": null,
   "metadata": {
    "collapsed": true
   },
   "outputs": [],
   "source": [
    "import math\n",
    "radius = 5\n",
    "area_of_circle = radius**2 * math.pi\n",
    "area_of_circle"
   ]
  },
  {
   "cell_type": "markdown",
   "metadata": {},
   "source": [
    "```pi``` is defined inside ```math```, and the way that we access names that are inside modules is by writing the module's name, then a dot, then the name of the thing we want:\n",
    "\n",
    "                            ```<module name>.<name>```\n",
    "\n",
    "In order to use a module at all, we must first write the statement import ```<module name>```. That statement creates a module object with things like ```pi``` in it and then assigns the name ```math``` to that module. Above we have done that for ```math```.\n",
    "\n",
    "Note how different methods take in different number of arguments. Often, the documentation of the module will provide information on how many arguments is required for each method."
   ]
  },
  {
   "cell_type": "code",
   "execution_count": null,
   "metadata": {
    "collapsed": true
   },
   "outputs": [],
   "source": [
    "# Calculating factorials.\n",
    "math.factorial(5)"
   ]
  },
  {
   "cell_type": "code",
   "execution_count": null,
   "metadata": {
    "collapsed": true
   },
   "outputs": [],
   "source": [
    "# Calculating square roots.\n",
    "math.sqrt(5)"
   ]
  },
  {
   "cell_type": "markdown",
   "metadata": {},
   "source": [
    "### Datascience Libraries ###"
   ]
  },
  {
   "cell_type": "markdown",
   "metadata": {},
   "source": [
    "[can add Table functions here if we think it's necessary]"
   ]
  },
  {
   "cell_type": "markdown",
   "metadata": {},
   "source": [
    "# How the GII is calculated:\n",
    "![](gii_breakdown.png)\n",
    "\n",
    "The Gender Inequality Index (GII) reflects gender-based disadvantage in three dimensions—reproductive health, empowerment and the labour market—for as many countries as data of reasonable quality allow. It shows the loss in potential human development due to inequality between female and male achievements in these dimensions. It ranges from 0, where women and men fare equally, to 1, where one gender fares as poorly as possible in all measured dimensions. \n",
    "\n",
    "## The 3 Dimensions:\n",
    "\n",
    "### 1. Reproductive Health\n",
    "Measured by 2 indicators: the maternal mortality ratio and the adolescent fertility rate. \n",
    "\n",
    "These indicators are used because the degree to which a society prioritizes the well-being of women during childbirth is intrinsically important, and is also a clear signal of women’s status in society. In many countries around the world, the risk of death in childbirth could be significantly reduced through the provision of basic education, contraceptives, antenatal health services and skilled birth attendance. Adolescent childbearing tends to prevent young women from achieving higher levels of education, which is necessary for success in the labour market and accessing other life opportunities. Early childbirth also poses significant health risks for the mother and her baby. Some studies suggest that because their bodies are not yet fully developed, teenage mothers’ risk of death in childbirth is five times higher.\n",
    "\n",
    "### 2. Empowerment\n",
    "Measured by two indicators: the share of parliamentary seats held by each sex, and secondary and higher education attainment levels (percentages of men and women, 25 years and above, who have at least a secondary education).\n",
    "\n",
    "Women have traditionally been disadvantaged in the political arena at all levels of government. Estimates for parliamentary representation at the national level reflect women’s visibility in political leadership and society more generally, and the extent to which women hold high offices. In turn, higher levels of educational attainment expand women’s freedoms by strengthening their capacity to question, reflect and act, and also to access information. Educated women are more likely to enjoy meaningful work, to use their voices in public debate, to be able to care for their own health and that of their family, and to act as agents throughout society. Secondary and higher educational attainment are used because disparities in these levels strongly affect women’s career and leadership prospects.\n",
    "\n",
    "### 3. Labor\n",
    "Measured by labor force participation rate in males and females, which is the percentage of individuals of each gender who work.\n",
    "\n",
    "Women may not participate in the labour market for several reasons, including exclusion, unequal pay and incentives, household duties or caring for relatives, and pregnancy and childcare. Thus, the level of women’s participation reflects several aspects, including possibilities and permission to work, which in turn includes labour market opportunities, and the capability of women to combine productive work with duties of care and reproductive responsibilities. Clearly this is affected also by men’s complementary activities in the household."
   ]
  },
  {
   "cell_type": "markdown",
   "metadata": {},
   "source": [
    "### Data sources:\n",
    "The GII relies on data from the following publicly available databases:\n",
    "- Maternal mortality ratio (MMR): UN Maternal Mortality Estimation Group (2016) [used to from UNICEF’s The State of the World’s Children]\n",
    "- Adolescent birth rate (ABR): UN Department of Economic and Social Affair’s World Population Prospects (UNDESA)\n",
    "- Share of parliamentary seats held by each sex (PR): International Parliamentary Union (IPU)\n",
    "- Attainment at secondary and higher education levels (SE): UNESCO Institute for Statistics (2016) [Educational attainment statistics from Barro and Lee (2010) datasets]\n",
    "- Labour market participation rate (LFPR): International Labour Organization’s LABORSTA database (ILO)\n",
    "\n",
    "Data from the above sources, compiled by country, can be accessed through the International Human Development Indicators website at: http://HDR.undp.org/en/data/profiles/."
   ]
  },
  {
   "cell_type": "markdown",
   "metadata": {},
   "source": [
    "## A step-by-step calculation:\n",
    "There are five steps to computing the GII. For both of the women’s reproductive health indicators - the maternal mortality rate (MMR) and the average fertility rate (AFR) - an inverse of each indicator is taken. An inverse of a number is equal to one divided by that number. An inverse of a number decreases as the number increases. Given that a higher value of the MMR or the AFR indicates a worse health outcome, the inverses of both indicators are used while constructing the GII. The rest of the three indicators, share of parliamentary seats held (PR), attainment at secondary and higher education (SE) and labour market participation rate (LFPR), are already available in percentage terms, and thus are automatically normalized between zero and hundred."
   ]
  },
  {
   "cell_type": "markdown",
   "metadata": {},
   "source": [
    "### NOTE: The Arithmetic mean, Geometric mean, and Harmonic mean\n",
    "\n",
    "The GII is based on the principle that both inequality between dimensions and inequality between genders should be penalised. For this reason the GII is based on the mathematical formulation of the generalized mean of generalized means of different orders.\n",
    "\n",
    "- First, we apply the geometric mean to penalise inequality across dimensions.\n",
    "- Second, we use the harmonic mean to penalise even more the inequality between genders.\n"
   ]
  },
  {
   "cell_type": "markdown",
   "metadata": {},
   "source": [
    "Below are a lot of Python functions that wrap up the mathematical formula used to calculate the GII. It's rather complicated-seeming, but the idea is to take the average across the 3 dimensions for each gender separately, and then find a sort of average between the genders, that marks how far they are from each other - thus, if they are closer to 0 (closer to 0 distance apart), there is more gender equality."
   ]
  },
  {
   "cell_type": "code",
   "execution_count": null,
   "metadata": {
    "collapsed": true
   },
   "outputs": [],
   "source": [
    "# calculate female health using geometric mean\n",
    "def fhealth(mmr, abr):\n",
    "    # stats.mstats.gmean is a function (for computing geometric means) that comes from the scipy library\n",
    "    # so we did not have to write it ourselves\n",
    "    return stats.mstats.gmean([10 / mmr, 1 / abr])\n",
    "\n",
    "# male health is 1 by default - because they do not do childbirth\n",
    "mhealth = 1"
   ]
  },
  {
   "cell_type": "code",
   "execution_count": null,
   "metadata": {
    "collapsed": true
   },
   "outputs": [],
   "source": [
    "# calculate either male or female empowerment using geometric mean\n",
    "def empowerment(pr, se):\n",
    "    return stats.mstats.gmean([pr, se])"
   ]
  },
  {
   "cell_type": "code",
   "execution_count": null,
   "metadata": {
    "collapsed": true
   },
   "outputs": [],
   "source": [
    "# aggregate across dimensions to get female gender index, geometric mean again\n",
    "def within_female_across_dimensions(hlth, emp, lbr):    # inputs will be fhealth(..., ...), empowerment(..., ...), flabor\n",
    "    # gmean of gmeans\n",
    "    return stats.mstats.gmean([hlth, emp, lbr])"
   ]
  },
  {
   "cell_type": "code",
   "execution_count": null,
   "metadata": {
    "collapsed": true
   },
   "outputs": [],
   "source": [
    "# aggregate across dimensions to get male gender index\n",
    "def within_male_across_dimensions(hlth, emp, lbr):\n",
    "    return stats.mstats.gmean([hlth, emp, lbr])"
   ]
  },
  {
   "cell_type": "code",
   "execution_count": null,
   "metadata": {
    "collapsed": true
   },
   "outputs": [],
   "source": [
    "# aggregate between male and female for each dimension\n",
    "# The female and male indices are aggregated by the harmonic mean to create the equally distributed gender index\n",
    "def across_gender_within_dimension(female, male):\n",
    "    # harmonic mean\n",
    "    return stats.mstats.hmean([female, male])"
   ]
  },
  {
   "cell_type": "code",
   "execution_count": null,
   "metadata": {
    "collapsed": true
   },
   "outputs": [],
   "source": [
    "# combine above functions into one big one that does all the work!\n",
    "# input: a table like asia\n",
    "# output: a new table, a copy of the input, with another column that has the calculated GII\n",
    "\n",
    "# had to shift row indices by 1 because asia table has 1 less column\n",
    "def gii_calculator(table):\n",
    "    def step4(): \n",
    "        # aggregate female and male indices using equal weights \n",
    "        #(thus treating the genders equally) \n",
    "        # and then aggregating the indices across dimensions\n",
    "        return stats.mstats.gmean([np.mean([fhealth(mmr, abr), mhealth]), np.mean([empowerment(fpr, fse), empowerment(mpr, mse)]), np.mean([flabor, mlabor])]) \n",
    "    gii_column = make_array()\n",
    "    for i in np.arange(len(table.column(0))): # row indices of table\n",
    "        row = table.row(i)\n",
    "        mmr = row.item(3)\n",
    "        abr = row.item(4)\n",
    "        fpr = row.item(5)   # female representation, male = 100 - female\n",
    "        mpr = 100 - fpr\n",
    "        # need fse and mse\n",
    "        fse = row.item(6) \n",
    "        mse = row.item(7)\n",
    "        flabor = row.item(8)\n",
    "        mlabor = row.item(9)\n",
    "        # BELOW IS THE STEP WHERE THE CALCULATION ACTUALLY HAPPENS\n",
    "        # NOTICE that it is one variable that contains many functions within functions!\n",
    "        gii = 1 - (\n",
    "        across_gender_within_dimension(\n",
    "            within_female_across_dimensions(fhealth(mmr, abr), empowerment(fpr, fse), flabor), \n",
    "            within_male_across_dimensions(mhealth, empowerment(mpr, mse), mlabor)\n",
    "        )\n",
    "        / step4()\n",
    "        )\n",
    "        gii_column = np.append(gii_column, gii)\n",
    "    with_gii = table.copy().with_column(\"GII (2016)\", gii_column)\n",
    "    return with_gii"
   ]
  },
  {
   "cell_type": "code",
   "execution_count": null,
   "metadata": {
    "collapsed": true
   },
   "outputs": [],
   "source": [
    "# new table with 2016 GII score\n",
    "asia_gii = gii_calculator(asia)\n",
    "asia_gii"
   ]
  },
  {
   "cell_type": "markdown",
   "metadata": {},
   "source": [
    "## Data Analysis\n",
    "Let's check out the distribution of GII scores in a _histogram_. \n",
    "\n",
    "A _histogram_ is a continuous graph that allows us to see the number of data items that fall into each interval. The data is split into _bins_ that categorizes the information into specified numerical groups, and we can observe the frequency of occurrences by calculating the area of a given bar (width times height of bar). \n",
    "\n",
    "In addition, while there can be empty bins, there musn't be gaps in the range of bin values since a histogram depicts continuous data. For instance, the bin from 0.3 to 0.4 can be empty but it must still exist on the graph to represent the continous range of GII values.\n",
    "\n",
    "Since bins measure frequency and are represented in percents, the total area of all of the bars should sum to 100%. This characteristic is true for all histograms since a histogram represents the distribution of the data across all the specified bins."
   ]
  },
  {
   "cell_type": "markdown",
   "metadata": {},
   "source": [
    "Through the `datascience` library, we have access to a `hist` function that plots a histogram from an `array`. The `hist` function is called on a table, and takes a column name (as a `string`) as its input. In the cell below, try to call the function yourself and plot a histogram of the distribution of all GII scores from 2016. "
   ]
  },
  {
   "cell_type": "code",
   "execution_count": 10,
   "metadata": {
    "collapsed": false
   },
   "outputs": [
    {
     "data": {
      "image/png": "[encoded data removed]",
      "text/plain": [
       "<matplotlib.figure.Figure at 0x114711ac8>"
      ]
     },
     "metadata": {},
     "output_type": "display_data"
    }
   ],
   "source": [
    "# SOLUTION\n",
    "asia_gii.hist(\"GII (2016)\")"
   ]
  },
  {
   "cell_type": "markdown",
   "metadata": {},
   "source": [
    "If you're curious about a more mathematical perspective of a histogram, take a look at the following calculation:\n",
    "\n",
    "With the above histogram, we can see that for the bin of 0.1 to 0.2, the height of the bar is roughly 100 percent per unit. Since the frequency for a given bin can be calculated through the bar's area (width x height), this bin has a frequency of (0.2 - 0.1) x 100 = 10 percent.\n",
    "\n",
    "Also, if we were to calculate the frequency for each of the possible bins, we would be able to notice that all of the areas sum up to 100%."
   ]
  },
  {
   "cell_type": "markdown",
   "metadata": {},
   "source": [
    "#### Average GII?\n",
    "Now try to get an average GII score for Asian countries. There are several different ways that you could do this, but let's use the `mean` function, which is built into the Python language. \n",
    "\n",
    "First, we will need to extract the column (an array) that we want from the `asia_gii` table, then we can call the `mean` function on it, using dot notation, with empty parentheses at the end. "
   ]
  },
  {
   "cell_type": "code",
   "execution_count": null,
   "metadata": {
    "collapsed": true
   },
   "outputs": [],
   "source": [
    "# SOLUTION\n",
    "asia_gii.column(\"GII (2016)\").mean()"
   ]
  },
  {
   "cell_type": "markdown",
   "metadata": {},
   "source": [
    "# Visualizations\n",
    "\n",
    "Let's now start looking at some of the data visually. An obvious way to do this is by using a geographical map of all the countries.\n",
    "\n",
    "To start, we'll create a function that allows the labels on our map to include both the country name and GII score, so we can easily see the data that we want."
   ]
  },
  {
   "cell_type": "code",
   "execution_count": null,
   "metadata": {
    "collapsed": true
   },
   "outputs": [],
   "source": [
    "# function to generate text for each country with name and GII\n",
    "def getPopupText(country, gii):\n",
    "    \"Create custom popup content\"\n",
    "    #the_text = (\"%s, GII Score: %d\" % (country, gii))\n",
    "    the_text = country + \", GII Score: \" + str(gii)\n",
    "    return the_text\n",
    "\n",
    "# Apply the function to the GII column of table\n",
    "asia_gii['popup'] = asia_gii.apply(lambda x , y: getPopupText(x,y), 0,'GII (2016)')\n",
    "\n",
    "# View the table - see what we've added?\n",
    "asia_gii"
   ]
  },
  {
   "cell_type": "markdown",
   "metadata": {},
   "source": [
    "We can now plot the data on a simple world map..."
   ]
  },
  {
   "cell_type": "code",
   "execution_count": null,
   "metadata": {
    "collapsed": true
   },
   "outputs": [],
   "source": [
    "# plot simple graph\n",
    "Marker.map(asia_gii['Latitude'], asia_gii['Longitude'], labels=asia_gii['popup'])\n",
    "#Marker.map(asia_gii['Latitude'], asia_gii['Longitude'], labels=asia_gii['Country'])"
   ]
  },
  {
   "cell_type": "markdown",
   "metadata": {},
   "source": [
    "Now let's categorize the GII scores by color. We'll use the histogram above and some basic statistical principals to decide which scores are relatively \"good\" or \"bad\".\n",
    "\n",
    "Rather than arbitrarily determining some values as \"good\" and some as \"bad\", we can utilize _standard deviations_ to help us make objective decisions as to how \"good\" or \"bad\" a country's GII is.\n",
    "\n",
    "Standard deviation is a measure of how much a specific data point differs from the average of all the data. The specific formula for calculating the standard deviation is shown below if you're interested. Otherwise, simply know that we can find the standard deviation for a given list of values by calling ```numpy```'s ```std``` function on the list (shown as ```np.std(list)```). \n",
    "\n",
    "<img src=\"stddev.png\" alt=\"Drawing\" style=\"width: 200px;\"/>\n",
    "\n",
    "For our purposes, if a country has a GII that is greater than half a standard deviation from the mean, that means this country's GII is higher than the average GII. Thus, this country has what we consider a \"bad\" GII, so we want to show these countries as a different color. \n",
    "\n",
    "Similarly, if a country has a GII that is more than half a standard deviation under the mean, that means this country has a particulary low GII and we thus want to depict it with a different color as well."
   ]
  },
  {
   "cell_type": "code",
   "execution_count": 14,
   "metadata": {
    "collapsed": false
   },
   "outputs": [
    {
     "name": "stdout",
     "output_type": "stream",
     "text": [
      "This is the standard deviation: 0.16537360824\n",
      "This is the mean: 0.385229812299\n"
     ]
    }
   ],
   "source": [
    "# Category map - symbolized by color\n",
    "\n",
    "# Set colors for each gii cutoff point\n",
    "asia_gii['color'] = 'green' # set default color to green\n",
    "\n",
    "std_dev = np.std(asia_gii['GII (2016)']) # can use np's function to find the standard deviation\n",
    "mean = np.mean(asia_gii['GII (2016)'])   # this is a different way of finding the mean than above\n",
    "print(\"This is the standard deviation:\", std_dev)\n",
    "print(\"This is the mean:\", mean)\n",
    "\n",
    "# modify the \"extreme\" values' colors based on how far the GII is from the mean of 0.38\n",
    "# since the GII's are relatively close to one another, we set a country to have an \"extreme\" GII \n",
    "# if its GII lies outside of half a standard deviation from the mean\n",
    "\n",
    "# countries with GII that are greater than mean + 0.5 * std_dev are considered \"bad\"\n",
    "asia_gii['color'][asia_gii['GII (2016)'] >= mean + 0.5 * std_dev] = 'red'  # high GII - bad\n",
    "\n",
    "# countries with GII that are less than mean - 0.5 * std_dev are considered \"good\"\n",
    "asia_gii['color'][asia_gii['GII (2016)'] < mean - 0.5 * std_dev] = 'blue'  # low GII - good"
   ]
  },
  {
   "cell_type": "markdown",
   "metadata": {},
   "source": [
    "Are there certain geographic areas where GII tends to be lower or higher? Discuss with your group."
   ]
  },
  {
   "cell_type": "code",
   "execution_count": 15,
   "metadata": {
    "collapsed": false,
    "scrolled": true
   },
   "outputs": [
    {
     "data": {
      "text/html": [
       "<iframe srcdoc=\"<!DOCTYPE html>\n",
       "<head>\n",
       "   <meta http-equiv=&quot;content-type&quot; content=&quot;text/html; charset=UTF-8&quot; />\n",
       "   <link rel=&quot;stylesheet&quot; href=&quot;https://cdnjs.cloudflare.com/ajax/libs/leaflet/0.7.3/leaflet.css&quot; />\n",
       "   <script src=&quot;https://cdnjs.cloudflare.com/ajax/libs/leaflet/0.7.3/leaflet.js&quot;></script>\n",
       "\n",
       "   <script src=&quot;https://ajax.googleapis.com/ajax/libs/jquery/1.11.1/jquery.min.js&quot;></script>\n",
       "\n",
       "   <link rel=&quot;stylesheet&quot; href=&quot;https://maxcdn.bootstrapcdn.com/bootstrap/3.2.0/css/bootstrap.min.css&quot;>\n",
       "   <link rel=&quot;stylesheet&quot; href=&quot;https://maxcdn.bootstrapcdn.com/bootstrap/3.2.0/css/bootstrap-theme.min.css&quot;>\n",
       "   <script src=&quot;https://maxcdn.bootstrapcdn.com/bootstrap/3.2.0/js/bootstrap.min.js&quot;></script>\n",
       "\n",
       "   <link href=&quot;https://maxcdn.bootstrapcdn.com/font-awesome/4.1.0/css/font-awesome.min.css&quot; rel=&quot;stylesheet&quot;>\n",
       "\n",
       "   <link rel=&quot;stylesheet&quot; href=&quot;https://rawgit.com/lvoogdt/Leaflet.awesome-markers/2.0/develop/dist/leaflet.awesome-markers.css&quot;>\n",
       "   <script src=&quot;https://rawgithub.com/lvoogdt/Leaflet.awesome-markers/2.0/develop/dist/leaflet.awesome-markers.js&quot;></script>\n",
       "\n",
       "\n",
       "   <link rel=&quot;stylesheet&quot; href=&quot;https://cdnjs.cloudflare.com/ajax/libs/leaflet.markercluster/0.4.0/MarkerCluster.Default.css&quot;>\n",
       "   <link rel=&quot;stylesheet&quot; href=&quot;https://cdnjs.cloudflare.com/ajax/libs/leaflet.markercluster/0.4.0/MarkerCluster.css&quot;>\n",
       "   <script src=&quot;https://cdnjs.cloudflare.com/ajax/libs/leaflet.markercluster/0.4.0/leaflet.markercluster-src.js&quot;></script>\n",
       "   <script src=&quot;https://cdnjs.cloudflare.com/ajax/libs/leaflet.markercluster/0.4.0/leaflet.markercluster.js&quot;></script>\n",
       "\n",
       "   <link rel=&quot;stylesheet&quot; href=&quot;https://birdage.github.io/Leaflet.awesome-markers/dist/leaflet.awesome.rotate.css&quot;>\n",
       "\n",
       "   \n",
       "   \n",
       "   \n",
       "   \n",
       "\n",
       "   <style>\n",
       "\n",
       "      html, body {\n",
       "        width: 100%;\n",
       "        height: 100%;\n",
       "        margin: 0;\n",
       "        padding: 0;\n",
       "      }\n",
       "\n",
       "      #map {\n",
       "        position:absolute;\n",
       "        top:0;\n",
       "        bottom:0;\n",
       "        right:0;\n",
       "        left:0;\n",
       "      }\n",
       "\n",
       "   </style>\n",
       "</head>\n",
       "\n",
       "<body>\n",
       "\n",
       "   <div class=&quot;folium-map&quot; id=&quot;folium_53beef5069514d6e8de1dfc708398da0&quot; style=&quot;width: 960px; height: 500px&quot;></div>\n",
       "\n",
       "   <script>\n",
       "\n",
       "      \n",
       "\n",
       "      var base_tile = L.tileLayer('https://{s}.tile.openstreetmap.org/{z}/{x}/{y}.png', {\n",
       "          maxZoom: 17,\n",
       "          minZoom: -1,\n",
       "          attribution: 'Map data (c) <a href=&quot;http://openstreetmap.org&quot;>OpenStreetMap</a> contributors'\n",
       "      });\n",
       "\n",
       "      var baseLayer = {\n",
       "        &quot;Base Layer&quot;: base_tile\n",
       "      };\n",
       "\n",
       "      /*\n",
       "      addition of the wms layers\n",
       "      */\n",
       "\n",
       "      \n",
       "\n",
       "      /*\n",
       "      addition of the tile layers\n",
       "      */\n",
       "      \n",
       "\n",
       "      /*\n",
       "      list of layers to be added\n",
       "      */\n",
       "      var layer_list = {\n",
       "      \n",
       "      };\n",
       "\n",
       "      /*\n",
       "      Bounding box.\n",
       "      */\n",
       "      var southWest = L.latLng(-90, -180),\n",
       "          northEast = L.latLng(90, 180),\n",
       "          bounds = L.latLngBounds(southWest, northEast);\n",
       "\n",
       "      /*\n",
       "      Creates the map and adds the selected layers\n",
       "      */\n",
       "      var map = L.map('folium_53beef5069514d6e8de1dfc708398da0', {\n",
       "                                       center:[13.42, 1.435],\n",
       "                                       zoom: 1,\n",
       "                                       maxBounds: bounds,\n",
       "                                       layers: [base_tile]\n",
       "                                     });\n",
       "\n",
       "      L.control.layers(baseLayer, layer_list).addTo(map);\n",
       "\n",
       "      //cluster group\n",
       "      var clusteredmarkers = L.markerClusterGroup();\n",
       "      //section for adding clustered markers\n",
       "      \n",
       "      //add the clustered markers to the group anyway\n",
       "      map.addLayer(clusteredmarkers);\n",
       "\n",
       "      \n",
       "      var marker_1_icon = L.AwesomeMarkers.icon({ icon: 'info-sign',markerColor: 'blue',prefix: 'glyphicon',extraClasses: 'fa-rotate-0'});\n",
       "      var marker_1 = L.marker([35.91, \n",
       "\t\t\t\t\t\t\t127.77],\n",
       "\t\t\t\t\t\t\t{'icon':marker_1_icon}\n",
       "\t\t\t\t\t\t\t);\n",
       "      marker_1.bindPopup(&quot;Korea (Republic of), GII Score: 0.0665755947212&quot;);\n",
       "      marker_1._popup.options.maxWidth = 300;\n",
       "      map.addLayer(marker_1)\n",
       "      \n",
       "      var marker_2_icon = L.AwesomeMarkers.icon({ icon: 'info-sign',markerColor: 'blue',prefix: 'glyphicon',extraClasses: 'fa-rotate-0'});\n",
       "      var marker_2 = L.marker([1.35, \n",
       "\t\t\t\t\t\t\t103.82],\n",
       "\t\t\t\t\t\t\t{'icon':marker_2_icon}\n",
       "\t\t\t\t\t\t\t);\n",
       "      marker_2.bindPopup(&quot;Singapore, GII Score: 0.068227259404&quot;);\n",
       "      marker_2._popup.options.maxWidth = 300;\n",
       "      map.addLayer(marker_2)\n",
       "      \n",
       "      var marker_3_icon = L.AwesomeMarkers.icon({ icon: 'info-sign',markerColor: 'blue',prefix: 'glyphicon',extraClasses: 'fa-rotate-0'});\n",
       "      var marker_3 = L.marker([35.13, \n",
       "\t\t\t\t\t\t\t33.43],\n",
       "\t\t\t\t\t\t\t{'icon':marker_3_icon}\n",
       "\t\t\t\t\t\t\t);\n",
       "      marker_3.bindPopup(&quot;Cyprus, GII Score: 0.0990934668771&quot;);\n",
       "      marker_3._popup.options.maxWidth = 300;\n",
       "      map.addLayer(marker_3)\n",
       "      \n",
       "      var marker_4_icon = L.AwesomeMarkers.icon({ icon: 'info-sign',markerColor: 'blue',prefix: 'glyphicon',extraClasses: 'fa-rotate-0'});\n",
       "      var marker_4 = L.marker([36.2, \n",
       "\t\t\t\t\t\t\t138.25],\n",
       "\t\t\t\t\t\t\t{'icon':marker_4_icon}\n",
       "\t\t\t\t\t\t\t);\n",
       "      marker_4.bindPopup(&quot;Japan, GII Score: 0.087078748063&quot;);\n",
       "      marker_4._popup.options.maxWidth = 300;\n",
       "      map.addLayer(marker_4)\n",
       "      \n",
       "      var marker_5_icon = L.AwesomeMarkers.icon({ icon: 'info-sign',markerColor: 'blue',prefix: 'glyphicon',extraClasses: 'fa-rotate-0'});\n",
       "      var marker_5 = L.marker([35.86, \n",
       "\t\t\t\t\t\t\t104.2],\n",
       "\t\t\t\t\t\t\t{'icon':marker_5_icon}\n",
       "\t\t\t\t\t\t\t);\n",
       "      marker_5.bindPopup(&quot;China, GII Score: 0.163751970123&quot;);\n",
       "      marker_5._popup.options.maxWidth = 300;\n",
       "      map.addLayer(marker_5)\n",
       "      \n",
       "      var marker_6_icon = L.AwesomeMarkers.icon({ icon: 'info-sign',markerColor: 'blue',prefix: 'glyphicon',extraClasses: 'fa-rotate-0'});\n",
       "      var marker_6 = L.marker([48.02, \n",
       "\t\t\t\t\t\t\t66.92],\n",
       "\t\t\t\t\t\t\t{'icon':marker_6_icon}\n",
       "\t\t\t\t\t\t\t);\n",
       "      marker_6.bindPopup(&quot;Kazakhstan, GII Score: 0.202380815111&quot;);\n",
       "      marker_6._popup.options.maxWidth = 300;\n",
       "      map.addLayer(marker_6)\n",
       "      \n",
       "      var marker_7_icon = L.AwesomeMarkers.icon({ icon: 'info-sign',markerColor: 'blue',prefix: 'glyphicon',extraClasses: 'fa-rotate-0'});\n",
       "      var marker_7 = L.marker([23.42, \n",
       "\t\t\t\t\t\t\t53.85],\n",
       "\t\t\t\t\t\t\t{'icon':marker_7_icon}\n",
       "\t\t\t\t\t\t\t);\n",
       "      marker_7.bindPopup(&quot;United Arab Emirates, GII Score: 0.195454269625&quot;);\n",
       "      marker_7._popup.options.maxWidth = 300;\n",
       "      map.addLayer(marker_7)\n",
       "      \n",
       "      var marker_8_icon = L.AwesomeMarkers.icon({ icon: 'info-sign',markerColor: 'blue',prefix: 'glyphicon',extraClasses: 'fa-rotate-0'});\n",
       "      var marker_8 = L.marker([26.07, \n",
       "\t\t\t\t\t\t\t50.56],\n",
       "\t\t\t\t\t\t\t{'icon':marker_8_icon}\n",
       "\t\t\t\t\t\t\t);\n",
       "      marker_8.bindPopup(&quot;Bahrain, GII Score: 0.233430630691&quot;);\n",
       "      marker_8._popup.options.maxWidth = 300;\n",
       "      map.addLayer(marker_8)\n",
       "      \n",
       "      var marker_9_icon = L.AwesomeMarkers.icon({ icon: 'info-sign',markerColor: 'blue',prefix: 'glyphicon',extraClasses: 'fa-rotate-0'});\n",
       "      var marker_9 = L.marker([23.89, \n",
       "\t\t\t\t\t\t\t45.08],\n",
       "\t\t\t\t\t\t\t{'icon':marker_9_icon}\n",
       "\t\t\t\t\t\t\t);\n",
       "      marker_9.bindPopup(&quot;Saudi Arabia, GII Score: 0.256919819515&quot;);\n",
       "      marker_9._popup.options.maxWidth = 300;\n",
       "      map.addLayer(marker_9)\n",
       "      \n",
       "      var marker_10_icon = L.AwesomeMarkers.icon({ icon: 'info-sign',markerColor: 'blue',prefix: 'glyphicon',extraClasses: 'fa-rotate-0'});\n",
       "      var marker_10 = L.marker([46.86, \n",
       "\t\t\t\t\t\t\t103.85],\n",
       "\t\t\t\t\t\t\t{'icon':marker_10_icon}\n",
       "\t\t\t\t\t\t\t);\n",
       "      marker_10.bindPopup(&quot;Mongolia, GII Score: 0.278180152365&quot;);\n",
       "      marker_10._popup.options.maxWidth = 300;\n",
       "      map.addLayer(marker_10)\n",
       "      \n",
       "      var marker_11_icon = L.AwesomeMarkers.icon({ icon: 'info-sign',markerColor: 'blue',prefix: 'glyphicon',extraClasses: 'fa-rotate-0'});\n",
       "      var marker_11 = L.marker([21.47, \n",
       "\t\t\t\t\t\t\t55.98],\n",
       "\t\t\t\t\t\t\t{'icon':marker_11_icon}\n",
       "\t\t\t\t\t\t\t);\n",
       "      marker_11.bindPopup(&quot;Oman, GII Score: 0.281319453464&quot;);\n",
       "      marker_11._popup.options.maxWidth = 300;\n",
       "      map.addLayer(marker_11)\n",
       "      \n",
       "      var marker_12_icon = L.AwesomeMarkers.icon({ icon: 'info-sign',markerColor: 'blue',prefix: 'glyphicon',extraClasses: 'fa-rotate-0'});\n",
       "      var marker_12 = L.marker([41.38, \n",
       "\t\t\t\t\t\t\t64.59],\n",
       "\t\t\t\t\t\t\t{'icon':marker_12_icon}\n",
       "\t\t\t\t\t\t\t);\n",
       "      marker_12.bindPopup(&quot;Uzbekistan, GII Score: 0.286895173214&quot;);\n",
       "      marker_12._popup.options.maxWidth = 300;\n",
       "      map.addLayer(marker_12)\n",
       "      \n",
       "      var marker_13_icon = L.AwesomeMarkers.icon({ icon: 'info-sign',markerColor: 'blue',prefix: 'glyphicon',extraClasses: 'fa-rotate-0'});\n",
       "      var marker_13 = L.marker([4.21, \n",
       "\t\t\t\t\t\t\t101.98],\n",
       "\t\t\t\t\t\t\t{'icon':marker_13_icon}\n",
       "\t\t\t\t\t\t\t);\n",
       "      marker_13.bindPopup(&quot;Malaysia, GII Score: 0.290992121097&quot;);\n",
       "      marker_13._popup.options.maxWidth = 300;\n",
       "      map.addLayer(marker_13)\n",
       "      \n",
       "      var marker_14_icon = L.AwesomeMarkers.icon({ icon: 'info-sign',markerColor: 'green',prefix: 'glyphicon',extraClasses: 'fa-rotate-0'});\n",
       "      var marker_14 = L.marker([3.2, \n",
       "\t\t\t\t\t\t\t73.22],\n",
       "\t\t\t\t\t\t\t{'icon':marker_14_icon}\n",
       "\t\t\t\t\t\t\t);\n",
       "      marker_14.bindPopup(&quot;Maldives, GII Score: 0.312211210969&quot;);\n",
       "      marker_14._popup.options.maxWidth = 300;\n",
       "      map.addLayer(marker_14)\n",
       "      \n",
       "      var marker_15_icon = L.AwesomeMarkers.icon({ icon: 'info-sign',markerColor: 'green',prefix: 'glyphicon',extraClasses: 'fa-rotate-0'});\n",
       "      var marker_15 = L.marker([38.86, \n",
       "\t\t\t\t\t\t\t71.28],\n",
       "\t\t\t\t\t\t\t{'icon':marker_15_icon}\n",
       "\t\t\t\t\t\t\t);\n",
       "      marker_15.bindPopup(&quot;Tajikistan, GII Score: 0.322342716982&quot;);\n",
       "      marker_15._popup.options.maxWidth = 300;\n",
       "      map.addLayer(marker_15)\n",
       "      \n",
       "      var marker_16_icon = L.AwesomeMarkers.icon({ icon: 'info-sign',markerColor: 'blue',prefix: 'glyphicon',extraClasses: 'fa-rotate-0'});\n",
       "      var marker_16 = L.marker([29.38, \n",
       "\t\t\t\t\t\t\t47.98],\n",
       "\t\t\t\t\t\t\t{'icon':marker_16_icon}\n",
       "\t\t\t\t\t\t\t);\n",
       "      marker_16.bindPopup(&quot;Kuwait, GII Score: 0.284468818798&quot;);\n",
       "      marker_16._popup.options.maxWidth = 300;\n",
       "      map.addLayer(marker_16)\n",
       "      \n",
       "      var marker_17_icon = L.AwesomeMarkers.icon({ icon: 'info-sign',markerColor: 'green',prefix: 'glyphicon',extraClasses: 'fa-rotate-0'});\n",
       "      var marker_17 = L.marker([14.06, \n",
       "\t\t\t\t\t\t\t108.28],\n",
       "\t\t\t\t\t\t\t{'icon':marker_17_icon}\n",
       "\t\t\t\t\t\t\t);\n",
       "      marker_17.bindPopup(&quot;Viet Nam, GII Score: 0.337355214797&quot;);\n",
       "      marker_17._popup.options.maxWidth = 300;\n",
       "      map.addLayer(marker_17)\n",
       "      \n",
       "      var marker_18_icon = L.AwesomeMarkers.icon({ icon: 'info-sign',markerColor: 'green',prefix: 'glyphicon',extraClasses: 'fa-rotate-0'});\n",
       "      var marker_18 = L.marker([-17.71, \n",
       "\t\t\t\t\t\t\t178.07],\n",
       "\t\t\t\t\t\t\t{'icon':marker_18_icon}\n",
       "\t\t\t\t\t\t\t);\n",
       "      marker_18.bindPopup(&quot;Fiji, GII Score: 0.357995738955&quot;);\n",
       "      marker_18._popup.options.maxWidth = 300;\n",
       "      map.addLayer(marker_18)\n",
       "      \n",
       "      var marker_19_icon = L.AwesomeMarkers.icon({ icon: 'info-sign',markerColor: 'green',prefix: 'glyphicon',extraClasses: 'fa-rotate-0'});\n",
       "      var marker_19 = L.marker([15.87, \n",
       "\t\t\t\t\t\t\t100.99],\n",
       "\t\t\t\t\t\t\t{'icon':marker_19_icon}\n",
       "\t\t\t\t\t\t\t);\n",
       "      marker_19.bindPopup(&quot;Thailand, GII Score: 0.366462397276&quot;);\n",
       "      marker_19._popup.options.maxWidth = 300;\n",
       "      map.addLayer(marker_19)\n",
       "      \n",
       "      var marker_20_icon = L.AwesomeMarkers.icon({ icon: 'info-sign',markerColor: 'green',prefix: 'glyphicon',extraClasses: 'fa-rotate-0'});\n",
       "      var marker_20 = L.marker([21.92, \n",
       "\t\t\t\t\t\t\t95.96],\n",
       "\t\t\t\t\t\t\t{'icon':marker_20_icon}\n",
       "\t\t\t\t\t\t\t);\n",
       "      marker_20.bindPopup(&quot;Myanmar, GII Score: 0.373568681664&quot;);\n",
       "      marker_20._popup.options.maxWidth = 300;\n",
       "      map.addLayer(marker_20)\n",
       "      \n",
       "      var marker_21_icon = L.AwesomeMarkers.icon({ icon: 'info-sign',markerColor: 'green',prefix: 'glyphicon',extraClasses: 'fa-rotate-0'});\n",
       "      var marker_21 = L.marker([33.85, \n",
       "\t\t\t\t\t\t\t35.86],\n",
       "\t\t\t\t\t\t\t{'icon':marker_21_icon}\n",
       "\t\t\t\t\t\t\t);\n",
       "      marker_21.bindPopup(&quot;Lebanon, GII Score: 0.381048742212&quot;);\n",
       "      marker_21._popup.options.maxWidth = 300;\n",
       "      map.addLayer(marker_21)\n",
       "      \n",
       "      var marker_22_icon = L.AwesomeMarkers.icon({ icon: 'info-sign',markerColor: 'green',prefix: 'glyphicon',extraClasses: 'fa-rotate-0'});\n",
       "      var marker_22 = L.marker([7.87, \n",
       "\t\t\t\t\t\t\t80.77],\n",
       "\t\t\t\t\t\t\t{'icon':marker_22_icon}\n",
       "\t\t\t\t\t\t\t);\n",
       "      marker_22.bindPopup(&quot;Sri Lanka, GII Score: 0.385722080589&quot;);\n",
       "      marker_22._popup.options.maxWidth = 300;\n",
       "      map.addLayer(marker_22)\n",
       "      \n",
       "      var marker_23_icon = L.AwesomeMarkers.icon({ icon: 'info-sign',markerColor: 'green',prefix: 'glyphicon',extraClasses: 'fa-rotate-0'});\n",
       "      var marker_23 = L.marker([41.2, \n",
       "\t\t\t\t\t\t\t74.77],\n",
       "\t\t\t\t\t\t\t{'icon':marker_23_icon}\n",
       "\t\t\t\t\t\t\t);\n",
       "      marker_23.bindPopup(&quot;Kyrgyzstan, GII Score: 0.394456598656&quot;);\n",
       "      marker_23._popup.options.maxWidth = 300;\n",
       "      map.addLayer(marker_23)\n",
       "      \n",
       "      var marker_24_icon = L.AwesomeMarkers.icon({ icon: 'info-sign',markerColor: 'green',prefix: 'glyphicon',extraClasses: 'fa-rotate-0'});\n",
       "\t\t\t\t\t\t\t121.77],\n",
       "\t\t\t\t\t\t\t{'icon':marker_24_icon}\n",
       "\t\t\t\t\t\t\t);\n",
       "      marker_24.bindPopup(&quot;Philippines, GII Score: 0.435911843257&quot;);\n",
       "      marker_24._popup.options.maxWidth = 300;\n",
       "      map.addLayer(marker_24)\n",
       "      \n",
       "      var marker_25_icon = L.AwesomeMarkers.icon({ icon: 'info-sign',markerColor: 'green',prefix: 'glyphicon',extraClasses: 'fa-rotate-0'});\n",
       "      var marker_25 = L.marker([-13.76, \n",
       "\t\t\t\t\t\t\t-172.1],\n",
       "\t\t\t\t\t\t\t{'icon':marker_25_icon}\n",
       "\t\t\t\t\t\t\t);\n",
       "      marker_25.bindPopup(&quot;Samoa, GII Score: 0.438822844952&quot;);\n",
       "      marker_25._popup.options.maxWidth = 300;\n",
       "      map.addLayer(marker_25)\n",
       "      \n",
       "      var marker_26_icon = L.AwesomeMarkers.icon({ icon: 'info-sign',markerColor: 'green',prefix: 'glyphicon',extraClasses: 'fa-rotate-0'});\n",
       "      var marker_26 = L.marker([-0.79, \n",
       "\t\t\t\t\t\t\t113.92],\n",
       "\t\t\t\t\t\t\t{'icon':marker_26_icon}\n",
       "\t\t\t\t\t\t\t);\n",
       "      marker_26.bindPopup(&quot;Indonesia, GII Score: 0.467005771679&quot;);\n",
       "      marker_26._popup.options.maxWidth = 300;\n",
       "      map.addLayer(marker_26)\n",
       "      \n",
       "      var marker_27_icon = L.AwesomeMarkers.icon({ icon: 'info-sign',markerColor: 'green',prefix: 'glyphicon',extraClasses: 'fa-rotate-0'});\n",
       "      var marker_27 = L.marker([19.86, \n",
       "\t\t\t\t\t\t\t102.5],\n",
       "\t\t\t\t\t\t\t{'icon':marker_27_icon}\n",
       "\t\t\t\t\t\t\t);\n",
       "      marker_27.bindPopup(&quot;Lao People's Democratic Republic, GII Score: 0.467495923774&quot;);\n",
       "      marker_27._popup.options.maxWidth = 300;\n",
       "      map.addLayer(marker_27)\n",
       "      \n",
       "      var marker_28_icon = L.AwesomeMarkers.icon({ icon: 'info-sign',markerColor: 'red',prefix: 'glyphicon',extraClasses: 'fa-rotate-0'});\n",
       "      var marker_28 = L.marker([27.51, \n",
       "\t\t\t\t\t\t\t90.43],\n",
       "\t\t\t\t\t\t\t{'icon':marker_28_icon}\n",
       "\t\t\t\t\t\t\t);\n",
       "      marker_28.bindPopup(&quot;Bhutan, GII Score: 0.477300729563&quot;);\n",
       "      marker_28._popup.options.maxWidth = 300;\n",
       "      map.addLayer(marker_28)\n",
       "      \n",
       "      var marker_29_icon = L.AwesomeMarkers.icon({ icon: 'info-sign',markerColor: 'red',prefix: 'glyphicon',extraClasses: 'fa-rotate-0'});\n",
       "      var marker_29 = L.marker([30.59, \n",
       "\t\t\t\t\t\t\t36.24],\n",
       "\t\t\t\t\t\t\t{'icon':marker_29_icon}\n",
       "\t\t\t\t\t\t\t);\n",
       "      marker_29.bindPopup(&quot;Jordan, GII Score: 0.477471898766&quot;);\n",
       "      marker_29._popup.options.maxWidth = 300;\n",
       "      map.addLayer(marker_29)\n",
       "      \n",
       "      var marker_30_icon = L.AwesomeMarkers.icon({ icon: 'info-sign',markerColor: 'red',prefix: 'glyphicon',extraClasses: 'fa-rotate-0'});\n",
       "      var marker_30 = L.marker([12.57, \n",
       "\t\t\t\t\t\t\t104.99],\n",
       "\t\t\t\t\t\t\t{'icon':marker_30_icon}\n",
       "\t\t\t\t\t\t\t);\n",
       "      marker_30.bindPopup(&quot;Cambodia, GII Score: 0.478953764226&quot;);\n",
       "      marker_30._popup.options.maxWidth = 300;\n",
       "      map.addLayer(marker_30)\n",
       "      \n",
       "      var marker_31_icon = L.AwesomeMarkers.icon({ icon: 'info-sign',markerColor: 'red',prefix: 'glyphicon',extraClasses: 'fa-rotate-0'});\n",
       "      var marker_31 = L.marker([28.39, \n",
       "\t\t\t\t\t\t\t84.12],\n",
       "\t\t\t\t\t\t\t{'icon':marker_31_icon}\n",
       "\t\t\t\t\t\t\t);\n",
       "      marker_31.bindPopup(&quot;Nepal, GII Score: 0.497402417202&quot;);\n",
       "      marker_31._popup.options.maxWidth = 300;\n",
       "      map.addLayer(marker_31)\n",
       "      \n",
       "      var marker_32_icon = L.AwesomeMarkers.icon({ icon: 'info-sign',markerColor: 'red',prefix: 'glyphicon',extraClasses: 'fa-rotate-0'});\n",
       "      var marker_32 = L.marker([32.43, \n",
       "\t\t\t\t\t\t\t53.69],\n",
       "\t\t\t\t\t\t\t{'icon':marker_32_icon}\n",
       "\t\t\t\t\t\t\t);\n",
       "      marker_32.bindPopup(&quot;Iran (Islamic Republic of), GII Score: 0.50913495879&quot;);\n",
       "      marker_32._popup.options.maxWidth = 300;\n",
       "      map.addLayer(marker_32)\n",
       "      \n",
       "      var marker_33_icon = L.AwesomeMarkers.icon({ icon: 'info-sign',markerColor: 'red',prefix: 'glyphicon',extraClasses: 'fa-rotate-0'});\n",
       "      var marker_33 = L.marker([23.69, \n",
       "\t\t\t\t\t\t\t90.36],\n",
       "\t\t\t\t\t\t\t{'icon':marker_33_icon}\n",
       "\t\t\t\t\t\t\t);\n",
       "      marker_33.bindPopup(&quot;Bangladesh, GII Score: 0.520277709962&quot;);\n",
       "      marker_33._popup.options.maxWidth = 300;\n",
       "      map.addLayer(marker_33)\n",
       "      \n",
       "      var marker_34_icon = L.AwesomeMarkers.icon({ icon: 'info-sign',markerColor: 'red',prefix: 'glyphicon',extraClasses: 'fa-rotate-0'});\n",
       "      var marker_34 = L.marker([33.22, \n",
       "\t\t\t\t\t\t\t43.68],\n",
       "\t\t\t\t\t\t\t{'icon':marker_34_icon}\n",
       "\t\t\t\t\t\t\t);\n",
       "      marker_34.bindPopup(&quot;Iraq, GII Score: 0.52509733063&quot;);\n",
       "      marker_34._popup.options.maxWidth = 300;\n",
       "      map.addLayer(marker_34)\n",
       "      \n",
       "      var marker_35_icon = L.AwesomeMarkers.icon({ icon: 'info-sign',markerColor: 'red',prefix: 'glyphicon',extraClasses: 'fa-rotate-0'});\n",
       "      var marker_35 = L.marker([20.59, \n",
       "\t\t\t\t\t\t\t78.96],\n",
       "\t\t\t\t\t\t\t{'icon':marker_35_icon}\n",
       "\t\t\t\t\t\t\t);\n",
       "      marker_35.bindPopup(&quot;India, GII Score: 0.529905770298&quot;);\n",
       "      marker_35._popup.options.maxWidth = 300;\n",
       "      map.addLayer(marker_35)\n",
       "      \n",
       "      var marker_36_icon = L.AwesomeMarkers.icon({ icon: 'info-sign',markerColor: 'red',prefix: 'glyphicon',extraClasses: 'fa-rotate-0'});\n",
       "      var marker_36 = L.marker([25.35, \n",
       "\t\t\t\t\t\t\t51.18],\n",
       "\t\t\t\t\t\t\t{'icon':marker_36_icon}\n",
       "\t\t\t\t\t\t\t);\n",
       "      marker_36.bindPopup(&quot;Qatar, GII Score: 0.542052240743&quot;);\n",
       "      marker_36._popup.options.maxWidth = 300;\n",
       "      map.addLayer(marker_36)\n",
       "      \n",
       "      var marker_37_icon = L.AwesomeMarkers.icon({ icon: 'info-sign',markerColor: 'red',prefix: 'glyphicon',extraClasses: 'fa-rotate-0'});\n",
       "      var marker_37 = L.marker([30.38, \n",
       "\t\t\t\t\t\t\t69.35],\n",
       "\t\t\t\t\t\t\t{'icon':marker_37_icon}\n",
       "\t\t\t\t\t\t\t);\n",
       "      marker_37.bindPopup(&quot;Pakistan, GII Score: 0.545564930299&quot;);\n",
       "      marker_37._popup.options.maxWidth = 300;\n",
       "      map.addLayer(marker_37)\n",
       "      \n",
       "      var marker_38_icon = L.AwesomeMarkers.icon({ icon: 'info-sign',markerColor: 'red',prefix: 'glyphicon',extraClasses: 'fa-rotate-0'});\n",
       "      var marker_38 = L.marker([34.8, \n",
       "\t\t\t\t\t\t\t39.0],\n",
       "\t\t\t\t\t\t\t{'icon':marker_38_icon}\n",
       "\t\t\t\t\t\t\t);\n",
       "      marker_38.bindPopup(&quot;Syrian Arab Republic, GII Score: 0.553706596388&quot;);\n",
       "      marker_38._popup.options.maxWidth = 300;\n",
       "      map.addLayer(marker_38)\n",
       "      \n",
       "      var marker_39_icon = L.AwesomeMarkers.icon({ icon: 'info-sign',markerColor: 'red',prefix: 'glyphicon',extraClasses: 'fa-rotate-0'});\n",
       "      var marker_39 = L.marker([-6.32, \n",
       "\t\t\t\t\t\t\t143.96],\n",
       "\t\t\t\t\t\t\t{'icon':marker_39_icon}\n",
       "\t\t\t\t\t\t\t);\n",
       "      marker_39.bindPopup(&quot;Papua New Guinea, GII Score: 0.594986167417&quot;);\n",
       "      marker_39._popup.options.maxWidth = 300;\n",
       "      map.addLayer(marker_39)\n",
       "      \n",
       "      var marker_40_icon = L.AwesomeMarkers.icon({ icon: 'info-sign',markerColor: 'red',prefix: 'glyphicon',extraClasses: 'fa-rotate-0'});\n",
       "      var marker_40 = L.marker([-21.18, \n",
       "\t\t\t\t\t\t\t-175.2],\n",
       "\t\t\t\t\t\t\t{'icon':marker_40_icon}\n",
       "\t\t\t\t\t\t\t);\n",
       "      marker_40.bindPopup(&quot;Tonga, GII Score: 0.65867196605&quot;);\n",
       "      marker_40._popup.options.maxWidth = 300;\n",
       "      map.addLayer(marker_40)\n",
       "      \n",
       "      var marker_41_icon = L.AwesomeMarkers.icon({ icon: 'info-sign',markerColor: 'red',prefix: 'glyphicon',extraClasses: 'fa-rotate-0'});\n",
       "      var marker_41 = L.marker([33.94, \n",
       "\t\t\t\t\t\t\t67.71],\n",
       "\t\t\t\t\t\t\t{'icon':marker_41_icon}\n",
       "\t\t\t\t\t\t\t);\n",
       "      marker_41.bindPopup(&quot;Afghanistan, GII Score: 0.666704649084&quot;);\n",
       "      marker_41._popup.options.maxWidth = 300;\n",
       "      map.addLayer(marker_41)\n",
       "      \n",
       "      var marker_42_icon = L.AwesomeMarkers.icon({ icon: 'info-sign',markerColor: 'red',prefix: 'glyphicon',extraClasses: 'fa-rotate-0'});\n",
       "      var marker_42 = L.marker([15.55, \n",
       "\t\t\t\t\t\t\t48.52],\n",
       "\t\t\t\t\t\t\t{'icon':marker_42_icon}\n",
       "\t\t\t\t\t\t\t);\n",
       "      marker_42.bindPopup(&quot;Yemen, GII Score: 0.767252928295&quot;);\n",
       "      marker_42._popup.options.maxWidth = 300;\n",
       "      map.addLayer(marker_42)\n",
       "      \n",
       "\n",
       "      \n",
       "\n",
       "      \n",
       "\n",
       "      \n",
       "\n",
       "      \n",
       "\n",
       "      \n",
       "\n",
       "\n",
       "\n",
       "   </script>\n",
       "\n",
       "</body>\" style=\"width: 960px; height: 500px\"; border: none\"></iframe>"
      ],
      "text/plain": [
       "<datascience.maps.Map at 0x1170dcbe0>"
      ]
     },
     "execution_count": 15,
     "metadata": {},
     "output_type": "execute_result"
    }
   ],
   "source": [
    "Marker.map(asia_gii['Latitude'], asia_gii['Longitude'], labels=asia_gii['popup'], colors=asia_gii['color'])\n",
    "#Marker.map(asia_gii['Latitude'], asia_gii['Longitude'], labels=asia_gii['Country'], colors=asia_gii['color'])"
   ]
  },
  {
   "cell_type": "markdown",
   "metadata": {},
   "source": [
    "We can also draw a map that scales circles based on GII score. . .\n",
    "\n",
    "Again, we will create a function that does the work of finding the right size of the circle for us, then append that size as a column to our table, which we will then use as an input to the function that generates the actual map."
   ]
  },
  {
   "cell_type": "code",
   "execution_count": null,
   "metadata": {
    "collapsed": true
   },
   "outputs": [],
   "source": [
    "def scaleSymbolSize(theData, dataVal, minRadius=10, maxRadius=300):\n",
    "    \"\"\"\n",
    "    Scale symbol size between the range of min and max radii\n",
    "    based on range of values in the input data. \n",
    "    Then use this radius to determine the output symbol AREA\n",
    "    Returns the AREA for the symbol\n",
    "    \"\"\"\n",
    "    valMin = min(theData)\n",
    "    valMax = max(theData)\n",
    "    valRange = (valMax - valMin )  \n",
    "    symRange = (maxRadius - minRadius)  \n",
    "    symbol_radius = (((dataVal - valMin) * symRange) / valRange) + minRadius\n",
    "    symbol_area = symbol_radius * symbol_radius * math.pi  # Area of a circle = piR^2\n",
    "    return int(symbol_area)"
   ]
  },
  {
   "cell_type": "code",
   "execution_count": null,
   "metadata": {
    "collapsed": true
   },
   "outputs": [],
   "source": [
    "asia_gii['circle_area'] = asia_gii.apply(lambda x: scaleSymbolSize(asia_gii['GII (2016)'], x, 100, 1500000), 'GII (2016)')\n",
    "# notice the new \"circle_area\" column\n",
    "asia_gii"
   ]
  },
  {
   "cell_type": "code",
   "execution_count": null,
   "metadata": {
    "collapsed": false,
    "scrolled": true
   },
   "outputs": [
    {
     "data": {
      "text/html": [
       "<iframe srcdoc=\"<!DOCTYPE html>\n",
       "<head>\n",
       "   <meta http-equiv=&quot;content-type&quot; content=&quot;text/html; charset=UTF-8&quot; />\n",
       "   <link rel=&quot;stylesheet&quot; href=&quot;https://cdnjs.cloudflare.com/ajax/libs/leaflet/0.7.3/leaflet.css&quot; />\n",
       "   <script src=&quot;https://cdnjs.cloudflare.com/ajax/libs/leaflet/0.7.3/leaflet.js&quot;></script>\n",
       "\n",
       "   <script src=&quot;https://ajax.googleapis.com/ajax/libs/jquery/1.11.1/jquery.min.js&quot;></script>\n",
       "\n",
       "   <link rel=&quot;stylesheet&quot; href=&quot;https://maxcdn.bootstrapcdn.com/bootstrap/3.2.0/css/bootstrap.min.css&quot;>\n",
       "   <link rel=&quot;stylesheet&quot; href=&quot;https://maxcdn.bootstrapcdn.com/bootstrap/3.2.0/css/bootstrap-theme.min.css&quot;>\n",
       "   <script src=&quot;https://maxcdn.bootstrapcdn.com/bootstrap/3.2.0/js/bootstrap.min.js&quot;></script>\n",
       "\n",
       "   <link href=&quot;https://maxcdn.bootstrapcdn.com/font-awesome/4.1.0/css/font-awesome.min.css&quot; rel=&quot;stylesheet&quot;>\n",
       "\n",
       "   <link rel=&quot;stylesheet&quot; href=&quot;https://rawgit.com/lvoogdt/Leaflet.awesome-markers/2.0/develop/dist/leaflet.awesome-markers.css&quot;>\n",
       "   <script src=&quot;https://rawgithub.com/lvoogdt/Leaflet.awesome-markers/2.0/develop/dist/leaflet.awesome-markers.js&quot;></script>\n",
       "\n",
       "\n",
       "   <link rel=&quot;stylesheet&quot; href=&quot;https://cdnjs.cloudflare.com/ajax/libs/leaflet.markercluster/0.4.0/MarkerCluster.Default.css&quot;>\n",
       "   <link rel=&quot;stylesheet&quot; href=&quot;https://cdnjs.cloudflare.com/ajax/libs/leaflet.markercluster/0.4.0/MarkerCluster.css&quot;>\n",
       "   <script src=&quot;https://cdnjs.cloudflare.com/ajax/libs/leaflet.markercluster/0.4.0/leaflet.markercluster-src.js&quot;></script>\n",
       "   <script src=&quot;https://cdnjs.cloudflare.com/ajax/libs/leaflet.markercluster/0.4.0/leaflet.markercluster.js&quot;></script>\n",
       "\n",
       "   <link rel=&quot;stylesheet&quot; href=&quot;https://birdage.github.io/Leaflet.awesome-markers/dist/leaflet.awesome.rotate.css&quot;>\n",
       "\n",
       "   \n",
       "   \n",
       "   \n",
       "   \n",
       "\n",
       "   <style>\n",
       "\n",
       "      html, body {\n",
       "        width: 100%;\n",
       "        height: 100%;\n",
       "        margin: 0;\n",
       "        padding: 0;\n",
       "      }\n",
       "\n",
       "      #map {\n",
       "        position:absolute;\n",
       "        top:0;\n",
       "        bottom:0;\n",
       "        right:0;\n",
       "        left:0;\n",
       "      }\n",
       "\n",
       "   </style>\n",
       "</head>\n",
       "\n",
       "<body>\n",
       "\n",
       "   <div class=&quot;folium-map&quot; id=&quot;folium_fd7fcbabc82c4a5cab0614d44c961ca4&quot; style=&quot;width: 960px; height: 500px&quot;></div>\n",
       "\n",
       "   <script>\n",
       "\n",
       "      \n",
       "\n",
       "      var base_tile = L.tileLayer('https://{s}.tile.openstreetmap.org/{z}/{x}/{y}.png', {\n",
       "          maxZoom: 17,\n",
       "          minZoom: -1,\n",
       "          attribution: 'Map data (c) <a href=&quot;http://openstreetmap.org&quot;>OpenStreetMap</a> contributors'\n",
       "      });\n",
       "\n",
       "      var baseLayer = {\n",
       "        &quot;Base Layer&quot;: base_tile\n",
       "      };\n",
       "\n",
       "      /*\n",
       "      addition of the wms layers\n",
       "      */\n",
       "\n",
       "      \n",
       "\n",
       "      /*\n",
       "      addition of the tile layers\n",
       "      */\n",
       "      \n",
       "\n",
       "      /*\n",
       "      list of layers to be added\n",
       "      */\n",
       "      var layer_list = {\n",
       "      \n",
       "      };\n",
       "\n",
       "      /*\n",
       "      Bounding box.\n",
       "      */\n",
       "      var southWest = L.latLng(-90, -180),\n",
       "          northEast = L.latLng(90, 180),\n",
       "          bounds = L.latLngBounds(southWest, northEast);\n",
       "\n",
       "      /*\n",
       "      Creates the map and adds the selected layers\n",
       "      */\n",
       "      var map = L.map('folium_fd7fcbabc82c4a5cab0614d44c961ca4', {\n",
       "                                       center:[13.42, 1.435],\n",
       "                                       zoom: 1,\n",
       "                                       maxBounds: bounds,\n",
       "                                       layers: [base_tile]\n",
       "                                     });\n",
       "\n",
       "      L.control.layers(baseLayer, layer_list).addTo(map);\n",
       "\n",
       "      //cluster group\n",
       "      var clusteredmarkers = L.markerClusterGroup();\n",
       "      //section for adding clustered markers\n",
       "      \n",
       "      //add the clustered markers to the group anyway\n",
       "      map.addLayer(clusteredmarkers);\n",
       "\n",
       "      \n",
       "\n",
       "      \n",
       "      var circle_1 = L.circle([35.91, 127.77], 56.4181263791, {\n",
       "                            color: 'None',\n",
       "                            fillColor: 'blue',\n",
       "                            fillOpacity: 0.8\n",
       "                            });\n",
       "      circle_1.bindPopup(&quot;Korea (Republic of), GII Score: 0.0665755947212&quot;);\n",
       "      circle_1._popup.options.maxWidth = 300;\n",
       "      map.addLayer(circle_1)\n",
       "      \n",
       "      var circle_2 = L.circle([1.35, 103.82], 2051.18139831, {\n",
       "                            color: 'None',\n",
       "                            fillColor: 'blue',\n",
       "                            fillOpacity: 0.8\n",
       "                            });\n",
       "      circle_2.bindPopup(&quot;Singapore, GII Score: 0.068227259404&quot;);\n",
       "      circle_2._popup.options.maxWidth = 300;\n",
       "      map.addLayer(circle_2)\n",
       "      \n",
       "      var circle_3 = L.circle([35.13, 33.43], 39329.1785875, {\n",
       "                            color: 'None',\n",
       "                            fillColor: 'blue',\n",
       "                            fillOpacity: 0.8\n",
       "                            });\n",
       "      circle_3.bindPopup(&quot;Cyprus, GII Score: 0.0990934668771&quot;);\n",
       "      circle_3._popup.options.maxWidth = 300;\n",
       "      map.addLayer(circle_3)\n",
       "      \n",
       "      var circle_4 = L.circle([36.2, 138.25], 24818.660748, {\n",
       "                            color: 'None',\n",
       "                            fillColor: 'blue',\n",
       "                            fillOpacity: 0.8\n",
       "                            });\n",
       "      circle_4.bindPopup(&quot;Japan, GII Score: 0.087078748063&quot;);\n",
       "      circle_4._popup.options.maxWidth = 300;\n",
       "      map.addLayer(circle_4)\n",
       "      \n",
       "      var circle_5 = L.circle([35.86, 104.2], 117419.093078, {\n",
       "                            color: 'None',\n",
       "                            fillColor: 'blue',\n",
       "                            fillOpacity: 0.8\n",
       "                            });\n",
       "      circle_5.bindPopup(&quot;China, GII Score: 0.163751970123&quot;);\n",
       "      circle_5._popup.options.maxWidth = 300;\n",
       "      map.addLayer(circle_5)\n",
       "      \n",
       "      var circle_6 = L.circle([48.02, 66.92], 164072.24851, {\n",
       "                            color: 'None',\n",
       "                            fillColor: 'blue',\n",
       "                            fillOpacity: 0.8\n",
       "                            });\n",
       "      circle_6.bindPopup(&quot;Kazakhstan, GII Score: 0.202380815111&quot;);\n",
       "      circle_6._popup.options.maxWidth = 300;\n",
       "      map.addLayer(circle_6)\n",
       "      \n",
       "      var circle_7 = L.circle([23.42, 53.85], 155706.862404, {\n",
       "                            color: 'None',\n",
       "                            fillColor: 'blue',\n",
       "                            fillOpacity: 0.8\n",
       "                            });\n",
       "      circle_7.bindPopup(&quot;United Arab Emirates, GII Score: 0.195454269625&quot;);\n",
       "      circle_7._popup.options.maxWidth = 300;\n",
       "      map.addLayer(circle_7)\n",
       "      \n",
       "      var circle_8 = L.circle([26.07, 50.56], 201571.994434, {\n",
       "                            color: 'None',\n",
       "                            fillColor: 'blue',\n",
       "                            fillOpacity: 0.8\n",
       "                            });\n",
       "      circle_8.bindPopup(&quot;Bahrain, GII Score: 0.233430630691&quot;);\n",
       "      circle_8._popup.options.maxWidth = 300;\n",
       "      map.addLayer(circle_8)\n",
       "      \n",
       "      var circle_9 = L.circle([23.89, 45.08], 229940.556256, {\n",
       "                            color: 'None',\n",
       "                            fillColor: 'blue',\n",
       "                            fillOpacity: 0.8\n",
       "                            });\n",
       "      circle_9.bindPopup(&quot;Saudi Arabia, GII Score: 0.256919819515&quot;);\n",
       "      circle_9._popup.options.maxWidth = 300;\n",
       "      map.addLayer(circle_9)\n",
       "      \n",
       "      var circle_10 = L.circle([46.86, 103.85], 255617.265288, {\n",
       "                            color: 'None',\n",
       "                            fillColor: 'blue',\n",
       "                            fillOpacity: 0.8\n",
       "                            });\n",
       "      circle_10.bindPopup(&quot;Mongolia, GII Score: 0.278180152365&quot;);\n",
       "      circle_10._popup.options.maxWidth = 300;\n",
       "      map.addLayer(circle_10)\n",
       "      \n",
       "      var circle_11 = L.circle([21.47, 55.98], 259408.688567, {\n",
       "                            color: 'None',\n",
       "                            fillColor: 'blue',\n",
       "                            fillOpacity: 0.8\n",
       "                            });\n",
       "      circle_11.bindPopup(&quot;Oman, GII Score: 0.281319453464&quot;);\n",
       "      circle_11._popup.options.maxWidth = 300;\n",
       "      map.addLayer(circle_11)\n",
       "      \n",
       "      var circle_12 = L.circle([41.38, 64.59], 266142.643989, {\n",
       "                            color: 'None',\n",
       "                            fillColor: 'blue',\n",
       "                            fillOpacity: 0.8\n",
       "                            });\n",
       "      circle_12.bindPopup(&quot;Uzbekistan, GII Score: 0.286895173214&quot;);\n",
       "      circle_12._popup.options.maxWidth = 300;\n",
       "      map.addLayer(circle_12)\n",
       "      \n",
       "      var circle_13 = L.circle([4.21, 101.98], 271090.644542, {\n",
       "                            color: 'None',\n",
       "                            fillColor: 'blue',\n",
       "                            fillOpacity: 0.8\n",
       "                            });\n",
       "      circle_13.bindPopup(&quot;Malaysia, GII Score: 0.290992121097&quot;);\n",
       "      circle_13._popup.options.maxWidth = 300;\n",
       "      map.addLayer(circle_13)\n",
       "      \n",
       "      var circle_14 = L.circle([3.2, 73.22], 296717.543255, {\n",
       "                            color: 'None',\n",
       "                            fillColor: 'green',\n",
       "                            fillOpacity: 0.8\n",
       "                            });\n",
       "      circle_14.bindPopup(&quot;Maldives, GII Score: 0.312211210969&quot;);\n",
       "      circle_14._popup.options.maxWidth = 300;\n",
       "      map.addLayer(circle_14)\n",
       "      \n",
       "      var circle_15 = L.circle([38.86, 71.28], 308953.6514, {\n",
       "                            color: 'None',\n",
       "                            fillColor: 'green',\n",
       "                            fillOpacity: 0.8\n",
       "                            });\n",
       "      circle_15.bindPopup(&quot;Tajikistan, GII Score: 0.322342716982&quot;);\n",
       "      circle_15._popup.options.maxWidth = 300;\n",
       "      map.addLayer(circle_15)\n",
       "      \n",
       "      var circle_16 = L.circle([29.38, 47.98], 263212.266709, {\n",
       "                            color: 'None',\n",
       "                            fillColor: 'blue',\n",
       "                            fillOpacity: 0.8\n",
       "                            });\n",
       "      circle_16.bindPopup(&quot;Kuwait, GII Score: 0.284468818798&quot;);\n",
       "      circle_16._popup.options.maxWidth = 300;\n",
       "      map.addLayer(circle_16)\n",
       "      \n",
       "      var circle_17 = L.circle([14.06, 108.28], 327084.672253, {\n",
       "                            color: 'None',\n",
       "                            fillColor: 'green',\n",
       "                            fillOpacity: 0.8\n",
       "                            });\n",
       "      circle_17.bindPopup(&quot;Viet Nam, GII Score: 0.337355214797&quot;);\n",
       "      circle_17._popup.options.maxWidth = 300;\n",
       "      map.addLayer(circle_17)\n",
       "      \n",
       "      var circle_18 = L.circle([-17.71, 178.07], 352012.820688, {\n",
       "                            color: 'None',\n",
       "                            fillColor: 'green',\n",
       "                            fillOpacity: 0.8\n",
       "                            });\n",
       "      circle_18.bindPopup(&quot;Fiji, GII Score: 0.357995738955&quot;);\n",
       "      circle_18._popup.options.maxWidth = 300;\n",
       "      map.addLayer(circle_18)\n",
       "      \n",
       "      var circle_19 = L.circle([15.87, 100.99], 362238.244894, {\n",
       "                            color: 'None',\n",
       "                            fillColor: 'green',\n",
       "                            fillOpacity: 0.8\n",
       "                            });\n",
       "      circle_19.bindPopup(&quot;Thailand, GII Score: 0.366462397276&quot;);\n",
       "      circle_19._popup.options.maxWidth = 300;\n",
       "      map.addLayer(circle_19)\n",
       "      \n",
       "      var circle_20 = L.circle([21.92, 95.96], 370820.706788, {\n",
       "                            color: 'None',\n",
       "                            fillColor: 'green',\n",
       "                            fillOpacity: 0.8\n",
       "                            });\n",
       "      circle_20.bindPopup(&quot;Myanmar, GII Score: 0.373568681664&quot;);\n",
       "      circle_20._popup.options.maxWidth = 300;\n",
       "      map.addLayer(circle_20)\n",
       "      \n",
       "      var circle_21 = L.circle([33.85, 35.86], 379854.588787, {\n",
       "                            color: 'None',\n",
       "                            fillColor: 'green',\n",
       "                            fillOpacity: 0.8\n",
       "                            });\n",
       "      circle_21.bindPopup(&quot;Lebanon, GII Score: 0.381048742212&quot;);\n",
       "      circle_21._popup.options.maxWidth = 300;\n",
       "      map.addLayer(circle_21)\n",
       "      \n",
       "      var circle_22 = L.circle([7.87, 80.77], 385498.712544, {\n",
       "                            color: 'None',\n",
       "                            fillColor: 'green',\n",
       "                            fillOpacity: 0.8\n",
       "                            });\n",
       "      circle_22.bindPopup(&quot;Sri Lanka, GII Score: 0.385722080589&quot;);\n",
       "      circle_22._popup.options.maxWidth = 300;\n",
       "      map.addLayer(circle_22)\n",
       "      \n",
       "      var circle_23 = L.circle([41.2, 74.77], 396047.638589, {\n",
       "                            color: 'None',\n",
       "                            fillColor: 'green',\n",
       "                            fillOpacity: 0.8\n",
       "                            });\n",
       "      circle_23.bindPopup(&quot;Kyrgyzstan, GII Score: 0.394456598656&quot;);\n",
       "      circle_23._popup.options.maxWidth = 300;\n",
       "      map.addLayer(circle_23)\n",
       "      \n",
       "      var circle_24 = L.circle([12.88, 121.77], 446114.317271, {\n",
       "                            color: 'None',\n",
       "                            fillColor: 'green',\n",
       "                            fillOpacity: 0.8\n",
       "                            });\n",
       "      circle_24.bindPopup(&quot;Philippines, GII Score: 0.435911843257&quot;);\n",
       "      circle_24._popup.options.maxWidth = 300;\n",
       "      map.addLayer(circle_24)\n",
       "      \n",
       "      var circle_25 = L.circle([-13.76, -172.1], 449630.016863, {\n",
       "                            color: 'None',\n",
       "                            fillColor: 'green',\n",
       "                            fillOpacity: 0.8\n",
       "                            });\n",
       "      circle_25.bindPopup(&quot;Samoa, GII Score: 0.438822844952&quot;);\n",
       "      circle_25._popup.options.maxWidth = 300;\n",
       "      map.addLayer(circle_25)\n",
       "      \n",
       "      var circle_26 = L.circle([-0.79, 113.92], 483667.339529, {\n",
       "                            color: 'None',\n",
       "                            fillColor: 'green',\n",
       "                            fillOpacity: 0.8\n",
       "                            });\n",
       "      circle_26.bindPopup(&quot;Indonesia, GII Score: 0.467005771679&quot;);\n",
       "      circle_26._popup.options.maxWidth = 300;\n",
       "      map.addLayer(circle_26)\n",
       "      \n",
       "      var circle_27 = L.circle([19.86, 102.5], 484259.310164, {\n",
       "                            color: 'None',\n",
       "                            fillColor: 'green',\n",
       "                            fillOpacity: 0.8\n",
       "                            });\n",
       "      circle_27.bindPopup(&quot;Lao People's Democratic Republic, GII Score: 0.467495923774&quot;);\n",
       "      circle_27._popup.options.maxWidth = 300;\n",
       "      map.addLayer(circle_27)\n",
       "      \n",
       "      var circle_28 = L.circle([27.51, 90.43], 496100.853151, {\n",
       "                            color: 'None',\n",
       "                            fillColor: 'red',\n",
       "                            fillOpacity: 0.8\n",
       "                            });\n",
       "      circle_28.bindPopup(&quot;Bhutan, GII Score: 0.477300729563&quot;);\n",
       "      circle_28._popup.options.maxWidth = 300;\n",
       "      map.addLayer(circle_28)\n",
       "      \n",
       "      var circle_29 = L.circle([30.59, 36.24], 496307.579069, {\n",
       "                            color: 'None',\n",
       "                            fillColor: 'red',\n",
       "                            fillOpacity: 0.8\n",
       "                            });\n",
       "      circle_29.bindPopup(&quot;Jordan, GII Score: 0.477471898766&quot;);\n",
       "      circle_29._popup.options.maxWidth = 300;\n",
       "      map.addLayer(circle_29)\n",
       "      \n",
       "      var circle_30 = L.circle([12.57, 104.99], 498097.270157, {\n",
       "                            color: 'None',\n",
       "                            fillColor: 'red',\n",
       "                            fillOpacity: 0.8\n",
       "                            });\n",
       "      circle_30.bindPopup(&quot;Cambodia, GII Score: 0.478953764226&quot;);\n",
       "      circle_30._popup.options.maxWidth = 300;\n",
       "      map.addLayer(circle_30)\n",
       "      \n",
       "      var circle_31 = L.circle([28.39, 84.12], 520378.233387, {\n",
       "                            color: 'None',\n",
       "                            fillColor: 'red',\n",
       "                            fillOpacity: 0.8\n",
       "                            });\n",
       "      circle_31.bindPopup(&quot;Nepal, GII Score: 0.497402417202&quot;);\n",
       "      circle_31._popup.options.maxWidth = 300;\n",
       "      map.addLayer(circle_31)\n",
       "      \n",
       "      var circle_32 = L.circle([32.43, 53.69], 534547.95776, {\n",
       "                            color: 'None',\n",
       "                            fillColor: 'red',\n",
       "                            fillOpacity: 0.8\n",
       "                            });\n",
       "      circle_32.bindPopup(&quot;Iran (Islamic Republic of), GII Score: 0.50913495879&quot;);\n",
       "      circle_32._popup.options.maxWidth = 300;\n",
       "      map.addLayer(circle_32)\n",
       "      \n",
       "      var circle_33 = L.circle([23.69, 90.36], 548005.375463, {\n",
       "                            color: 'None',\n",
       "                            fillColor: 'red',\n",
       "                            fillOpacity: 0.8\n",
       "                            });\n",
       "      circle_33.bindPopup(&quot;Bangladesh, GII Score: 0.520277709962&quot;);\n",
       "      circle_33._popup.options.maxWidth = 300;\n",
       "      map.addLayer(circle_33)\n",
       "      \n",
       "      var circle_34 = L.circle([33.22, 43.68], 553826.168505, {\n",
       "                            color: 'None',\n",
       "                            fillColor: 'red',\n",
       "                            fillOpacity: 0.8\n",
       "                            });\n",
       "      circle_34.bindPopup(&quot;Iraq, GII Score: 0.52509733063&quot;);\n",
       "      circle_34._popup.options.maxWidth = 300;\n",
       "      map.addLayer(circle_34)\n",
       "      \n",
       "      var circle_35 = L.circle([20.59, 78.96], 559633.457935, {\n",
       "                            color: 'None',\n",
       "                            fillColor: 'red',\n",
       "                            fillOpacity: 0.8\n",
       "                            });\n",
       "      circle_35.bindPopup(&quot;India, GII Score: 0.529905770298&quot;);\n",
       "      circle_35._popup.options.maxWidth = 300;\n",
       "      map.addLayer(circle_35)\n",
       "      \n",
       "      var circle_36 = L.circle([25.35, 51.18], 574303.095969, {\n",
       "                            color: 'None',\n",
       "                            fillColor: 'red',\n",
       "                            fillOpacity: 0.8\n",
       "                            });\n",
       "      circle_36.bindPopup(&quot;Qatar, GII Score: 0.542052240743&quot;);\n",
       "      circle_36._popup.options.maxWidth = 300;\n",
       "      map.addLayer(circle_36)\n",
       "      \n",
       "      var circle_37 = L.circle([30.38, 69.35], 578545.471114, {\n",
       "                            color: 'None',\n",
       "                            fillColor: 'red',\n",
       "                            fillOpacity: 0.8\n",
       "                            });\n",
       "      circle_37.bindPopup(&quot;Pakistan, GII Score: 0.545564930299&quot;);\n",
       "      circle_37._popup.options.maxWidth = 300;\n",
       "      map.addLayer(circle_37)\n",
       "      \n",
       "      var circle_38 = L.circle([34.8, 39.0], 588378.392953, {\n",
       "                            color: 'None',\n",
       "                            fillColor: 'red',\n",
       "                            fillOpacity: 0.8\n",
       "                            });\n",
       "      circle_38.bindPopup(&quot;Syrian Arab Republic, GII Score: 0.553706596388&quot;);\n",
       "      circle_38._popup.options.maxWidth = 300;\n",
       "      map.addLayer(circle_38)\n",
       "      \n",
       "      var circle_39 = L.circle([-6.32, 143.96], 638232.905662, {\n",
       "                            color: 'None',\n",
       "                            fillColor: 'red',\n",
       "                            fillOpacity: 0.8\n",
       "                            });\n",
       "      circle_39.bindPopup(&quot;Papua New Guinea, GII Score: 0.594986167417&quot;);\n",
       "      circle_39._popup.options.maxWidth = 300;\n",
       "      map.addLayer(circle_39)\n",
       "      \n",
       "      var circle_40 = L.circle([-21.18, -175.2], 715148.057108, {\n",
       "                            color: 'None',\n",
       "                            fillColor: 'red',\n",
       "                            fillOpacity: 0.8\n",
       "                            });\n",
       "      circle_40.bindPopup(&quot;Tonga, GII Score: 0.65867196605&quot;);\n",
       "      circle_40._popup.options.maxWidth = 300;\n",
       "      map.addLayer(circle_40)\n",
       "      \n",
       "      var circle_41 = L.circle([33.94, 67.71], 724849.357011, {\n",
       "                            color: 'None',\n",
       "                            fillColor: 'red',\n",
       "                            fillOpacity: 0.8\n",
       "                            });\n",
       "      circle_41.bindPopup(&quot;Afghanistan, GII Score: 0.666704649084&quot;);\n",
       "      circle_41._popup.options.maxWidth = 300;\n",
       "      map.addLayer(circle_41)\n",
       "      \n",
       "      var circle_42 = L.circle([15.55, 48.52], 846284.375322, {\n",
       "                            color: 'None',\n",
       "                            fillColor: 'red',\n",
       "                            fillOpacity: 0.8\n",
       "                            });\n",
       "      circle_42.bindPopup(&quot;Yemen, GII Score: 0.767252928295&quot;);\n",
       "      circle_42._popup.options.maxWidth = 300;\n",
       "      map.addLayer(circle_42)\n",
       "      \n",
       "\n",
       "      \n",
       "\n",
       "      \n",
       "\n",
       "      \n",
       "\n",
       "      \n",
       "\n",
       "\n",
       "\n",
       "   </script>\n",
       "\n",
       "</body>\" style=\"width: 960px; height: 500px\"; border: none\"></iframe>"
      ],
      "text/plain": [
       "<datascience.maps.Map at 0x116bbbf98>"
      ]
     },
     "execution_count": 18,
     "metadata": {},
     "output_type": "execute_result"
    }
   ],
   "source": [
    "Circle.map_table(asia_gii.select(['Latitude','Longitude', 'popup','color','circle_area']), fill_opacity=.8)\n",
    "#Circle.map_table(asia_gii.select(['Latitude','Longitude','Country','color','circle_area']), fill_opacity=.8)"
   ]
  },
  {
   "cell_type": "markdown",
   "metadata": {},
   "source": [
    "Remember that a larger circle means MORE INEQUALITY! (which is bad!)"
   ]
  },
  {
   "cell_type": "markdown",
   "metadata": {},
   "source": [
    "# Activity:\n",
    "\n",
    "With a partner, choose an Asian country that you are both interested in (WITHOUT looking back at the numbers in the table), and make some educated guesses about what numbers you think this country would have in each of the categories we've been using. \n",
    "\n",
    "Then, use your estimates to calculate this country's GII below. \n",
    "\n",
    "Was it higher or lower than you expected? What about compared to the country's real GII and data values?"
   ]
  },
  {
   "cell_type": "code",
   "execution_count": 19,
   "metadata": {
    "collapsed": false
   },
   "outputs": [
    {
     "data": {
      "text/html": [
       "<table border=\"1\" class=\"dataframe\">\n",
       "    <thead>\n",
       "        <tr>\n",
       "            <th>﻿Country</th> <th>Overall HDI Rank (2015)</th> <th>Within Region HDI Rank (2015)</th> <th>Maternal mortality ratio (deaths per 100,000 live births)</th> <th>Adolescent birth rate (births per 1,000 women ages 15–19)</th> <th>Share of seats in parliament (% held by women)</th> <th>% Female population with at least some secondary education</th> <th>% Male population with at least some secondary education</th> <th>Female Labour force participation rate</th> <th>Male Labour force participation rate</th>\n",
       "        </tr>\n",
       "    </thead>\n",
       "    <tbody>\n",
       "</table>"
      ],
      "text/plain": [
       "﻿Country | Overall HDI Rank (2015) | Within Region HDI Rank (2015) | Maternal mortality ratio (deaths per 100,000 live births) | Adolescent birth rate (births per 1,000 women ages 15–19) | Share of seats in parliament (% held by women) | % Female population with at least some secondary education | % Male population with at least some secondary education | Female Labour force participation rate | Male Labour force participation rate"
      ]
     },
     "execution_count": 19,
     "metadata": {},
     "output_type": "execute_result"
    }
   ],
   "source": [
    "# we are going to use the append function to append a row to an empty table \n",
    "# a table that has all the necessary columns to do the calculation"
   ]
  },
  {
   "cell_type": "code",
   "execution_count": 20,
   "metadata": {
    "collapsed": false
   },
   "outputs": [
    {
     "data": {
      "text/html": [
       "<table border=\"1\" class=\"dataframe\">\n",
       "    <thead>\n",
       "        <tr>\n",
       "            <th>﻿Country</th> <th>Overall HDI Rank (2015)</th> <th>Within Region HDI Rank (2015)</th> <th>Maternal mortality ratio (deaths per 100,000 live births)</th> <th>Adolescent birth rate (births per 1,000 women ages 15–19)</th> <th>Share of seats in parliament (% held by women)</th> <th>% Female population with at least some secondary education</th> <th>% Male population with at least some secondary education</th> <th>Female Labour force participation rate</th> <th>Male Labour force participation rate</th>\n",
       "        </tr>\n",
       "    </thead>\n",
       "    <tbody>\n",
       "        <tr>\n",
       "            <td>hi      </td> <td>0                      </td> <td>0                            </td> <td>11                                                       </td> <td>2                                                        </td> <td>20                                            </td> <td>80                                                        </td> <td>90                                                      </td> <td>50                                    </td> <td>70                                  </td>\n",
       "        </tr>\n",
       "    </tbody>\n",
       "</table>"
      ],
      "text/plain": [
       "﻿Country | Overall HDI Rank (2015) | Within Region HDI Rank (2015) | Maternal mortality ratio (deaths per 100,000 live births) | Adolescent birth rate (births per 1,000 women ages 15–19) | Share of seats in parliament (% held by women) | % Female population with at least some secondary education | % Male population with at least some secondary education | Female Labour force participation rate | Male Labour force participation rate\n",
       "hi       | 0                       | 0                             | 11                                                        | 2                                                         | 20                                             | 80                                                         | 90                                                       | 50                                     | 70"
      ]
     },
     "execution_count": 20,
     "metadata": {},
     "output_type": "execute_result"
    }
   ],
   "source": [
    "# country is now an empty table - next, we will input your chosen data\n",
    "my_country = Table(make_array(asia.labels[:-2])[0])\n",
    "my_country"
   ]
  },
  {
   "cell_type": "code",
   "execution_count": 21,
   "metadata": {
    "collapsed": true,
    "scrolled": true
   },
   "outputs": [],
   "source": [
    "# add a row with your estimated input for each of the columns above, IN ORDER\n",
    "# Country should be a string, like \"China\"\n",
    "# Overall HDI Rand and Within Region HDI Rank are set to 0 because they are not relevant to this calculation\n",
    "my_country.append([..., 0, 0, ..., ..., ..., ..., ..., ..., ...])\n",
    "my_country"
   ]
  },
  {
   "cell_type": "code",
   "execution_count": 22,
   "metadata": {
    "collapsed": true,
    "scrolled": true
   },
   "outputs": [],
   "source": [
    "# calculate the gii of your new country!\n",
    "est_gii = gii_calculator(my_country)\n",
    "est_gii"
   ]
  },
  {
   "cell_type": "markdown",
   "metadata": {},
   "source": [
    "Write a paragraph (and be ready to present!) explaining why your country has the numbers it did. Were you suprised by how high or low it ranked compared to other countries \"around it\"? "
   ]
  },
  {
   "cell_type": "markdown",
   "metadata": {
    "collapsed": true
   },
   "source": [
    "# Limitations of the Global GII\n",
    "\n",
    "The GII’s use of reproductive health indicators has been quentioned. Naturally, data for the two indicators are only available for women, making interpretations of the GII problematic. The GII responds to this discrepancy by giving men a value of “one” in this dimension—a value which signifies that men have achieved the best possible outcome here. However, a measure of inequality must consist of measurable achievements for all the groups involved. The two indicators—maternal mortality ratio and adolescent fertility rate—should instead, it is said, be used to construct an index that compares the state of women across countries, rather than a gender inequality index, comparing the situation between women and men.\n",
    "\n",
    "Additionally, the value of the GII doesn’t tell us which gender is doing better or worse. Instead the GII score tells us the level of inequality between two groups—men and women—but not which group is disadvantaged.\n",
    "\n",
    "Meanwhile, several other gender indices are used by different world institutions, such as the World Economic Forum’s Global Gender Gap Index (GGI), the Economist Intelligence Unit’s Women’s Economic Opportunity Index (WEOI), the OECD’s Social Institutions and Gender Index (SIGI), and the Gender Equity Index (GEI) developed by Social Watch. They differ from the GII in many ways yet can be useful complements as we seek to understand the underlying causes of gender inequalities in economic participation."
   ]
  },
  {
   "cell_type": "code",
   "execution_count": null,
   "metadata": {
    "collapsed": true
   },
   "outputs": [],
   "source": []
  }
 ],
 "metadata": {
  "anaconda-cloud": {},
  "kernelspec": {
   "display_name": "Python [default]",
   "language": "python",
   "name": "python3"
  },
  "language_info": {
   "codemirror_mode": {
    "name": "ipython",
    "version": 3
   },
   "file_extension": ".py",
   "mimetype": "text/x-python",
   "name": "python",
   "nbconvert_exporter": "python",
   "pygments_lexer": "ipython3",
   "version": "3.5.2"
  }
 },
 "nbformat": 4,
 "nbformat_minor": 2
}
