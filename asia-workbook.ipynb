{
 "cells": [
  {
   "cell_type": "code",
   "execution_count": 3,
   "metadata": {
    "collapsed": true
   },
   "outputs": [],
   "source": [
    "import numpy as np\n",
    "import math\n",
    "from datascience import *\n",
    "from scipy import stats"
   ]
  },
  {
   "cell_type": "code",
   "execution_count": 4,
   "metadata": {},
   "outputs": [
    {
     "data": {
      "text/html": [
       "<table border=\"1\" class=\"dataframe\">\n",
       "    <thead>\n",
       "        <tr>\n",
       "            <th>Country</th> <th>Overall HDI Rank (2015)</th> <th>Within Region HDI Rank (2015)</th> <th>Maternal mortality ratio (deaths per 100,000 live births)</th> <th>Adolescent birth rate (births per 1,000 women ages 15–19)</th> <th>Share of seats in parliament (% held by women)</th> <th>% Female population with at least some secondary education</th> <th>% Male population with at least some secondary education</th> <th>Female Labour force participation rate</th> <th>Male Labour force participation rate</th>\n",
       "        </tr>\n",
       "    </thead>\n",
       "    <tbody>\n",
       "        <tr>\n",
       "            <td>Korea (Republic of) </td> <td>10                     </td> <td>1                            </td> <td>11                                                       </td> <td>1.62                                                     </td> <td>16.33                                         </td> <td>88.84                                                     </td> <td>94.56                                                   </td> <td>50.01                                 </td> <td>71.82                               </td>\n",
       "        </tr>\n",
       "    </tbody>\n",
       "        <tr>\n",
       "            <td>Singapore           </td> <td>11                     </td> <td>2                            </td> <td>10                                                       </td> <td>3.82                                                     </td> <td>23.91                                         </td> <td>75.52                                                     </td> <td>81.92                                                   </td> <td>58.24                                 </td> <td>76.43                               </td>\n",
       "        </tr>\n",
       "    </tbody>\n",
       "        <tr>\n",
       "            <td>Cyprus              </td> <td>21                     </td> <td>3                            </td> <td>7                                                        </td> <td>4.99                                                     </td> <td>12.5                                          </td> <td>77.01                                                     </td> <td>82.67                                                   </td> <td>57.47                                 </td> <td>70.16                               </td>\n",
       "        </tr>\n",
       "    </tbody>\n",
       "        <tr>\n",
       "            <td>Japan               </td> <td>21                     </td> <td>3                            </td> <td>5                                                        </td> <td>4.07                                                     </td> <td>11.58                                         </td> <td>93.04                                                     </td> <td>90.64                                                   </td> <td>49.12                                 </td> <td>70.16                               </td>\n",
       "        </tr>\n",
       "    </tbody>\n",
       "        <tr>\n",
       "            <td>China               </td> <td>37                     </td> <td>4                            </td> <td>27                                                       </td> <td>7.31                                                     </td> <td>23.62                                         </td> <td>69.81                                                     </td> <td>79.42                                                   </td> <td>63.58                                 </td> <td>77.93                               </td>\n",
       "        </tr>\n",
       "    </tbody>\n",
       "        <tr>\n",
       "            <td>Kazakhstan          </td> <td>42                     </td> <td>5                            </td> <td>12                                                       </td> <td>27.89                                                    </td> <td>20.13                                         </td> <td>99.68                                                     </td> <td>100                                                     </td> <td>66.07                                 </td> <td>76.98                               </td>\n",
       "        </tr>\n",
       "    </tbody>\n",
       "        <tr>\n",
       "            <td>United Arab Emirates</td> <td>46                     </td> <td>6                            </td> <td>6                                                        </td> <td>29.66                                                    </td> <td>22.5                                          </td> <td>77.42                                                     </td> <td>64.49                                                   </td> <td>41.9                                  </td> <td>91.56                               </td>\n",
       "        </tr>\n",
       "    </tbody>\n",
       "        <tr>\n",
       "            <td>Bahrain             </td> <td>48                     </td> <td>7                            </td> <td>15                                                       </td> <td>13.48                                                    </td> <td>15                                            </td> <td>61.58                                                     </td> <td>55.56                                                   </td> <td>39.2                                  </td> <td>85.39                               </td>\n",
       "        </tr>\n",
       "    </tbody>\n",
       "        <tr>\n",
       "            <td>Saudi Arabia        </td> <td>50                     </td> <td>8                            </td> <td>12                                                       </td> <td>8.82                                                     </td> <td>19.87                                         </td> <td>63.31                                                     </td> <td>72.13                                                   </td> <td>20.06                                 </td> <td>79.13                               </td>\n",
       "        </tr>\n",
       "    </tbody>\n",
       "        <tr>\n",
       "            <td>Mongolia            </td> <td>53                     </td> <td>9                            </td> <td>44                                                       </td> <td>15.67                                                    </td> <td>14.47                                         </td> <td>89.67                                                     </td> <td>85.83                                                   </td> <td>56.47                                 </td> <td>68.79                               </td>\n",
       "        </tr>\n",
       "    </tbody>\n",
       "</table>\n",
       "<p>... (32 rows omitted)</p"
      ],
      "text/plain": [
       "Country              | Overall HDI Rank (2015) | Within Region HDI Rank (2015) | Maternal mortality ratio (deaths per 100,000 live births) | Adolescent birth rate (births per 1,000 women ages 15–19) | Share of seats in parliament (% held by women) | % Female population with at least some secondary education | % Male population with at least some secondary education | Female Labour force participation rate | Male Labour force participation rate\n",
       "Korea (Republic of)  | 10                      | 1                             | 11                                                        | 1.62                                                      | 16.33                                          | 88.84                                                      | 94.56                                                    | 50.01                                  | 71.82\n",
       "Singapore            | 11                      | 2                             | 10                                                        | 3.82                                                      | 23.91                                          | 75.52                                                      | 81.92                                                    | 58.24                                  | 76.43\n",
       "Cyprus               | 21                      | 3                             | 7                                                         | 4.99                                                      | 12.5                                           | 77.01                                                      | 82.67                                                    | 57.47                                  | 70.16\n",
       "Japan                | 21                      | 3                             | 5                                                         | 4.07                                                      | 11.58                                          | 93.04                                                      | 90.64                                                    | 49.12                                  | 70.16\n",
       "China                | 37                      | 4                             | 27                                                        | 7.31                                                      | 23.62                                          | 69.81                                                      | 79.42                                                    | 63.58                                  | 77.93\n",
       "Kazakhstan           | 42                      | 5                             | 12                                                        | 27.89                                                     | 20.13                                          | 99.68                                                      | 100                                                      | 66.07                                  | 76.98\n",
       "United Arab Emirates | 46                      | 6                             | 6                                                         | 29.66                                                     | 22.5                                           | 77.42                                                      | 64.49                                                    | 41.9                                   | 91.56\n",
       "Bahrain              | 48                      | 7                             | 15                                                        | 13.48                                                     | 15                                             | 61.58                                                      | 55.56                                                    | 39.2                                   | 85.39\n",
       "Saudi Arabia         | 50                      | 8                             | 12                                                        | 8.82                                                      | 19.87                                          | 63.31                                                      | 72.13                                                    | 20.06                                  | 79.13\n",
       "Mongolia             | 53                      | 9                             | 44                                                        | 15.67                                                     | 14.47                                          | 89.67                                                      | 85.83                                                    | 56.47                                  | 68.79\n",
       "... (32 rows omitted)"
      ]
     },
     "execution_count": 4,
     "metadata": {},
     "output_type": "execute_result"
    }
   ],
   "source": [
    "data = Table.read_table('asia-full.csv')\n",
    "asia = Table()\n",
    "for label in data.labels:\n",
    "    clean_col = make_array()\n",
    "    for i in np.arange(len(data.column(label))):\n",
    "        if data.column(label).item(i) == '..':\n",
    "            clean_col = np.append(clean_col, np.nan)\n",
    "        elif label == 'Country' or label == 'HDI rank':\n",
    "            clean_col = np.append(clean_col, data.column(label).item(i))   \n",
    "        else:\n",
    "            clean_col = np.append(clean_col, float(data.column(label).item(i)))\n",
    "    asia.append_column(label, clean_col)\n",
    "asia = asia.take(np.arange(42))\n",
    "asia"
   ]
  },
  {
   "cell_type": "code",
   "execution_count": 5,
   "metadata": {
    "collapsed": true
   },
   "outputs": [],
   "source": [
    "def fhealth(mmr, abr):\n",
    "    return stats.mstats.gmean([10 / mmr, 1 / abr])\n",
    "\n",
    "mhealth = 1"
   ]
  },
  {
   "cell_type": "code",
   "execution_count": 6,
   "metadata": {
    "collapsed": true
   },
   "outputs": [],
   "source": [
    "def empowerment(pr, se):\n",
    "    return stats.mstats.gmean([pr, se])"
   ]
  },
  {
   "cell_type": "code",
   "execution_count": 7,
   "metadata": {
    "collapsed": true
   },
   "outputs": [],
   "source": [
    "def within_female_across_dimensions(hlth, emp, lbr):    # inputs will be fhealth(..., ...), empowerment(..., ...), flabor\n",
    "    # gmean of gmeans\n",
    "    return stats.mstats.gmean([hlth, emp, lbr])"
   ]
  },
  {
   "cell_type": "code",
   "execution_count": 8,
   "metadata": {
    "collapsed": true
   },
   "outputs": [],
   "source": [
    "def within_male_across_dimensions(hlth, emp, lbr):\n",
    "    return stats.mstats.gmean([hlth, emp, lbr])"
   ]
  },
  {
   "cell_type": "code",
   "execution_count": 9,
   "metadata": {
    "collapsed": true
   },
   "outputs": [],
   "source": [
    "def across_gender_within_dimension(female, male):\n",
    "    # harmonic mean\n",
    "    return stats.mstats.hmean([female, male])"
   ]
  },
  {
   "cell_type": "code",
   "execution_count": 12,
   "metadata": {
    "collapsed": true
   },
   "outputs": [],
   "source": [
    "# had to shift row indices by 1 because asia table has 1 less column\n",
    "def gii_calculator(table):\n",
    "    def step4():\n",
    "        return stats.mstats.gmean([np.mean([fhealth(mmr, abr), mhealth]), np.mean([empowerment(fpr, fse), empowerment(mpr, mse)]), np.mean([flabor, mlabor])]) \n",
    "    gii_column = make_array()\n",
    "    for i in np.arange(len(table.column(0))): # row indices of table\n",
    "        row = table.row(i)\n",
    "        mmr = row.item(3)\n",
    "        abr = row.item(4)\n",
    "        fpr = row.item(5)   # female representation, male = 100 - female\n",
    "        mpr = 100 - fpr\n",
    "        # need fse and mse\n",
    "        fse = row.item(6) \n",
    "        mse = row.item(7)\n",
    "        flabor = row.item(8)\n",
    "        mlabor = row.item(9)\n",
    "        gii = 1 - (\n",
    "        across_gender_within_dimension(\n",
    "            within_female_across_dimensions(fhealth(mmr, abr), empowerment(fpr, fse), flabor), \n",
    "            within_male_across_dimensions(mhealth, empowerment(mpr, mse), mlabor)\n",
    "        )\n",
    "        / step4()\n",
    "        )\n",
    "        #print(i,gii)\n",
    "        gii_column = np.append(gii_column, gii)\n",
    "    with_gii = table.copy().with_column(\"GII (2016)\", gii_column)\n",
    "    return with_gii"
   ]
  },
  {
   "cell_type": "code",
   "execution_count": 13,
   "metadata": {},
   "outputs": [],
   "source": [
    "# update table with 2016 GII score\n",
    "asia = gii_calculator(asia)"
   ]
  },
  {
   "cell_type": "code",
   "execution_count": 18,
   "metadata": {},
   "outputs": [
    {
     "data": {
      "text/html": [
       "<table border=\"1\" class=\"dataframe\">\n",
       "    <thead>\n",
       "        <tr>\n",
       "            <th>Country</th> <th>Overall HDI Rank (2015)</th> <th>Within Region HDI Rank (2015)</th> <th>Maternal mortality ratio (deaths per 100,000 live births)</th> <th>Adolescent birth rate (births per 1,000 women ages 15–19)</th> <th>Share of seats in parliament (% held by women)</th> <th>% Female population with at least some secondary education</th> <th>% Male population with at least some secondary education</th> <th>Female Labour force participation rate</th> <th>Male Labour force participation rate</th> <th>GII (2016)</th>\n",
       "        </tr>\n",
       "    </thead>\n",
       "    <tbody>\n",
       "        <tr>\n",
       "            <td>Korea (Republic of) </td> <td>10                     </td> <td>1                            </td> <td>11                                                       </td> <td>1.62                                                     </td> <td>16.33                                         </td> <td>88.84                                                     </td> <td>94.56                                                   </td> <td>50.01                                 </td> <td>71.82                               </td> <td>0.0665756 </td>\n",
       "        </tr>\n",
       "    </tbody>\n",
       "        <tr>\n",
       "            <td>Singapore           </td> <td>11                     </td> <td>2                            </td> <td>10                                                       </td> <td>3.82                                                     </td> <td>23.91                                         </td> <td>75.52                                                     </td> <td>81.92                                                   </td> <td>58.24                                 </td> <td>76.43                               </td> <td>0.0682273 </td>\n",
       "        </tr>\n",
       "    </tbody>\n",
       "        <tr>\n",
       "            <td>Cyprus              </td> <td>21                     </td> <td>3                            </td> <td>7                                                        </td> <td>4.99                                                     </td> <td>12.5                                          </td> <td>77.01                                                     </td> <td>82.67                                                   </td> <td>57.47                                 </td> <td>70.16                               </td> <td>0.0990935 </td>\n",
       "        </tr>\n",
       "    </tbody>\n",
       "        <tr>\n",
       "            <td>Japan               </td> <td>21                     </td> <td>3                            </td> <td>5                                                        </td> <td>4.07                                                     </td> <td>11.58                                         </td> <td>93.04                                                     </td> <td>90.64                                                   </td> <td>49.12                                 </td> <td>70.16                               </td> <td>0.0870787 </td>\n",
       "        </tr>\n",
       "    </tbody>\n",
       "        <tr>\n",
       "            <td>China               </td> <td>37                     </td> <td>4                            </td> <td>27                                                       </td> <td>7.31                                                     </td> <td>23.62                                         </td> <td>69.81                                                     </td> <td>79.42                                                   </td> <td>63.58                                 </td> <td>77.93                               </td> <td>0.163752  </td>\n",
       "        </tr>\n",
       "    </tbody>\n",
       "        <tr>\n",
       "            <td>Kazakhstan          </td> <td>42                     </td> <td>5                            </td> <td>12                                                       </td> <td>27.89                                                    </td> <td>20.13                                         </td> <td>99.68                                                     </td> <td>100                                                     </td> <td>66.07                                 </td> <td>76.98                               </td> <td>0.202381  </td>\n",
       "        </tr>\n",
       "    </tbody>\n",
       "        <tr>\n",
       "            <td>United Arab Emirates</td> <td>46                     </td> <td>6                            </td> <td>6                                                        </td> <td>29.66                                                    </td> <td>22.5                                          </td> <td>77.42                                                     </td> <td>64.49                                                   </td> <td>41.9                                  </td> <td>91.56                               </td> <td>0.195454  </td>\n",
       "        </tr>\n",
       "    </tbody>\n",
       "        <tr>\n",
       "            <td>Bahrain             </td> <td>48                     </td> <td>7                            </td> <td>15                                                       </td> <td>13.48                                                    </td> <td>15                                            </td> <td>61.58                                                     </td> <td>55.56                                                   </td> <td>39.2                                  </td> <td>85.39                               </td> <td>0.233431  </td>\n",
       "        </tr>\n",
       "    </tbody>\n",
       "        <tr>\n",
       "            <td>Saudi Arabia        </td> <td>50                     </td> <td>8                            </td> <td>12                                                       </td> <td>8.82                                                     </td> <td>19.87                                         </td> <td>63.31                                                     </td> <td>72.13                                                   </td> <td>20.06                                 </td> <td>79.13                               </td> <td>0.25692   </td>\n",
       "        </tr>\n",
       "    </tbody>\n",
       "        <tr>\n",
       "            <td>Mongolia            </td> <td>53                     </td> <td>9                            </td> <td>44                                                       </td> <td>15.67                                                    </td> <td>14.47                                         </td> <td>89.67                                                     </td> <td>85.83                                                   </td> <td>56.47                                 </td> <td>68.79                               </td> <td>0.27818   </td>\n",
       "        </tr>\n",
       "    </tbody>\n",
       "</table>\n",
       "<p>... (32 rows omitted)</p"
      ],
      "text/plain": [
       "Country              | Overall HDI Rank (2015) | Within Region HDI Rank (2015) | Maternal mortality ratio (deaths per 100,000 live births) | Adolescent birth rate (births per 1,000 women ages 15–19) | Share of seats in parliament (% held by women) | % Female population with at least some secondary education | % Male population with at least some secondary education | Female Labour force participation rate | Male Labour force participation rate | GII (2016)\n",
       "Korea (Republic of)  | 10                      | 1                             | 11                                                        | 1.62                                                      | 16.33                                          | 88.84                                                      | 94.56                                                    | 50.01                                  | 71.82                                | 0.0665756\n",
       "Singapore            | 11                      | 2                             | 10                                                        | 3.82                                                      | 23.91                                          | 75.52                                                      | 81.92                                                    | 58.24                                  | 76.43                                | 0.0682273\n",
       "Cyprus               | 21                      | 3                             | 7                                                         | 4.99                                                      | 12.5                                           | 77.01                                                      | 82.67                                                    | 57.47                                  | 70.16                                | 0.0990935\n",
       "Japan                | 21                      | 3                             | 5                                                         | 4.07                                                      | 11.58                                          | 93.04                                                      | 90.64                                                    | 49.12                                  | 70.16                                | 0.0870787\n",
       "China                | 37                      | 4                             | 27                                                        | 7.31                                                      | 23.62                                          | 69.81                                                      | 79.42                                                    | 63.58                                  | 77.93                                | 0.163752\n",
       "Kazakhstan           | 42                      | 5                             | 12                                                        | 27.89                                                     | 20.13                                          | 99.68                                                      | 100                                                      | 66.07                                  | 76.98                                | 0.202381\n",
       "United Arab Emirates | 46                      | 6                             | 6                                                         | 29.66                                                     | 22.5                                           | 77.42                                                      | 64.49                                                    | 41.9                                   | 91.56                                | 0.195454\n",
       "Bahrain              | 48                      | 7                             | 15                                                        | 13.48                                                     | 15                                             | 61.58                                                      | 55.56                                                    | 39.2                                   | 85.39                                | 0.233431\n",
       "Saudi Arabia         | 50                      | 8                             | 12                                                        | 8.82                                                      | 19.87                                          | 63.31                                                      | 72.13                                                    | 20.06                                  | 79.13                                | 0.25692\n",
       "Mongolia             | 53                      | 9                             | 44                                                        | 15.67                                                     | 14.47                                          | 89.67                                                      | 85.83                                                    | 56.47                                  | 68.79                                | 0.27818\n",
       "... (32 rows omitted)"
      ]
     },
     "execution_count": 18,
     "metadata": {},
     "output_type": "execute_result"
    }
   ],
   "source": [
    "asia"
   ]
  },
  {
   "cell_type": "code",
   "execution_count": 22,
   "metadata": {},
   "outputs": [],
   "source": [
    "asia.hist(\"GII (2016)\")\n",
    "#asia.select(\"GII (2016)\").hist()\n",
    "# why isn't anything plotting"
   ]
  },
  {
   "cell_type": "code",
   "execution_count": 28,
   "metadata": {
    "collapsed": true
   },
   "outputs": [],
   "source": [
    "# plot graph\n",
    "# Circle.map_table(asia) \n",
    "# need X,Y latitude,longitude columns for countries in order to use this"
   ]
  },
  {
   "cell_type": "code",
   "execution_count": null,
   "metadata": {},
   "outputs": [],
   "source": []
  },
  {
   "cell_type": "code",
   "execution_count": null,
   "metadata": {
    "collapsed": true
   },
   "outputs": [],
   "source": []
  }
 ],
 "metadata": {
  "kernelspec": {
   "display_name": "Python 3",
   "language": "python",
   "name": "python3"
  },
  "language_info": {
   "codemirror_mode": {
    "name": "ipython",
    "version": 3
   },
   "file_extension": ".py",
   "mimetype": "text/x-python",
   "name": "python",
   "nbconvert_exporter": "python",
   "pygments_lexer": "ipython3",
   "version": "3.5.2"
  }
 },
 "nbformat": 4,
 "nbformat_minor": 2
}
