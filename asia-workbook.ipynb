{
 "cells": [
  {
   "cell_type": "code",
   "execution_count": null,
   "metadata": {
    "collapsed": true
   },
   "outputs": [],
   "source": [
    "import numpy as np\n",
    "import math\n",
    "from datascience import *\n",
    "from scipy import stats\n",
    "%matplotlib inline"
   ]
  },
  {
   "cell_type": "markdown",
   "metadata": {},
   "source": [
    "# Welcome to IAS-150's Data Science Module\n",
    "\n",
    "Today we will be examining a data set that the UN produces every year, called the Gender Inequality Index. This is the UN's annual ranking of 188 countries in  terms of gender _inequality_. We will be examining the subset of countries in Asia with complete data."
   ]
  },
  {
   "cell_type": "markdown",
   "metadata": {},
   "source": [
    "Gender equity is an essential and widely recognized international policy goal because of its intrinsic and instrumental value. It is clearly important as an end in itself and also is a means to the attainment of other development goals such as the nourishment and educational achievements of children.\n",
    "\n",
    "The global Gender Inequality Index (GII) — built on the same framework as the UN's other ranking systems: the Human Development Index (HDI) and the Inequality-adjusted Human Development Index (IHDI) — was first released in 2010. It measures inequalities in achievements between women and men across three dimensions of human development: reproductive health, empowerment and the labour market. The GII can be used for international comparisons, but the global GII’s chosen indicators are deeply affected by data limitations.\n",
    "\n",
    "The GII is computed using the association-sensitive inequality measure suggested by Seth (2009), which implies that the index is based on the general mean of general means of different orders — the first aggregation is by a geometric mean across dimensions; these means, calculated separately for women and men, are then aggregated using a harmonic mean across genders.\n",
    "\n",
    "As we move along, we'll see how the global GII provides insights into gender disparities in reproductive health, empowerment and the labour market in Asian countries. It can enable governments, organiztions, and individuals to better understand and promote gender equality. The GII can be used to raise awareness of disparities, track progress towards gender equity, and support public action."
   ]
  },
  {
   "cell_type": "markdown",
   "metadata": {},
   "source": [
    "### Load in the UN Gender Inequality Index (GII) data from 2016\n",
    "Note: the table has been modified slightly from its original format for ease of use. We've also added latitude and longitude so that we can display results on maps. The original table can be found at: http://hdr.undp.org/en/composite/GII\n",
    "\n",
    "#### Clean Data:\n",
    "###### (Only pay attention if you're interested)\n",
    "Right now, all of the values that look like numbers are actually being stored as _strings_, which, in Python, are usually how ASCII characters are stored. Thus, you can't do normal mathematical operations on strings. We have to change these strings into _floats_, or floating-point decimals. That's what the code below does.\n",
    "\n",
    "#### Note: \n",
    "The index we are interested in is NOT actually shown in this table. We're going to have to calculate it later. It involves layers of mathematical averages, which we'll try to explain, but they specifics aren't vital to this course."
   ]
  },
  {
   "cell_type": "code",
   "execution_count": null,
   "metadata": {},
   "outputs": [],
   "source": [
    "# load data\n",
    "data = Table.read_table('data/asia-full-original-with-coords.csv')\n",
    "\n",
    "# create an empty table, named asia\n",
    "asia = Table()\n",
    "\n",
    "# clean data\n",
    "# a for loop iterates through a sequence and does something each time\n",
    "# this one changes each value from a string to a number (a \"float\")\n",
    "# and recreates the data in a new table, which we called 'asia'\n",
    "for label in data.labels:\n",
    "    clean_col = make_array()\n",
    "    for i in np.arange(len(data.column(label))):\n",
    "        if data.column(label).item(i) == '..':\n",
    "            clean_col = np.append(clean_col, np.nan)\n",
    "            \n",
    "        elif label == data.labels[0]:\n",
    "            clean_col = np.append(clean_col, data.column(label).item(i)) \n",
    "        #elif label == 'Country' or label == 'HDI rank':\n",
    "            #clean_col = np.append(clean_col, data.column(label).item(i))   \n",
    "        else:\n",
    "            clean_col = np.append(clean_col, float(data.column(label).item(i)))\n",
    "    asia.append_column(label, clean_col)\n",
    "\n",
    "# display table\n",
    "asia"
   ]
  },
  {
   "cell_type": "markdown",
   "metadata": {},
   "source": [
    "## An Introduction to Python"
   ]
  },
  {
   "cell_type": "markdown",
   "metadata": {},
   "source": [
    "# How the GII is calculated:\n",
    "![](gii_breakdown.png)\n",
    "\n",
    "The Gender Inequality Index (GII) reflects gender-based disadvantage in three dimensions—reproductive health, empowerment and the labour market—for as many countries as data of reasonable quality allow. It shows the loss in potential human development due to inequality between female and male achievements in these dimensions. It ranges from 0, where women and men fare equally, to 1, where one gender fares as poorly as possible in all measured dimensions. \n",
    "\n",
    "## The 3 Dimensions:\n",
    "\n",
    "### 1. Reproductive Health\n",
    "Measured by 2 indicators: the maternal mortality ratio and the adolescent fertility rate. \n",
    "\n",
    "These indicators are used because the degree to which a society prioritizes the well-being of women during childbirth is intrinsically important, and is also a clear signal of women’s status in society. In many countries around the world, the risk of death in childbirth could be significantly reduced through the provision of basic education, contraceptives, antenatal health services and skilled birth attendance. Adolescent childbearing tends to prevent young women from achieving higher levels of education, which is necessary for success in the labour market and accessing other life opportunities. Early childbirth also poses significant health risks for the mother and her baby. Some studies suggest that because their bodies are not yet fully developed, teenage mothers’ risk of death in childbirth is five times higher.\n",
    "\n",
    "### 2. Empowerment\n",
    "Measured by two indicators: the share of parliamentary seats held by each sex, and secondary and higher education attainment levels (percentages of men and women, 25 years and above, who have at least a secondary education).\n",
    "\n",
    "Women have traditionally been disadvantaged in the political arena at all levels of government. Estimates for parliamentary representation at the national level reflect women’s visibility in political leadership and society more generally, and the extent to which women hold high offices. In turn, higher levels of educational attainment expand women’s freedoms by strengthening their capacity to question, reflect and act, and also to access information. Educated women are more likely to enjoy meaningful work, to use their voices in public debate, to be able to care for their own health and that of their family, and to act as agents throughout society. Secondary and higher educational attainment are used because disparities in these levels strongly affect women’s career and leadership prospects.\n",
    "\n",
    "### 3. Labor\n",
    "Measured by labor force participation rate in males and females, which is the percentage of individuals of each gender who work.\n",
    "\n",
    "Women may not participate in the labour market for several reasons, including exclusion, unequal pay and incentives, household duties or caring for relatives, and pregnancy and childcare. Thus, the level of women’s participation reflects several aspects, including possibilities and permission to work, which in turn includes labour market opportunities, and the capability of women to combine productive work with duties of care and reproductive responsibilities. Clearly this is affected also by men’s complementary activities in the household."
   ]
  },
  {
   "cell_type": "markdown",
   "metadata": {},
   "source": [
    "### Data sources:\n",
    "The GII relies on data from the following publicly available databases:\n",
    "- Maternal mortality ratio (MMR): UN Maternal Mortality Estimation Group (2016) [used to from UNICEF’s The State of the World’s Children]\n",
    "- Adolescent birth rate (ABR): UN Department of Economic and Social Affair’s World Population Prospects (UNDESA)\n",
    "- Share of parliamentary seats held by each sex (PR): International Parliamentary Union (IPU)\n",
    "- Attainment at secondary and higher education levels (SE): UNESCO Institute for Statistics (2016) [Educational attainment statistics from Barro and Lee (2010) datasets]\n",
    "- Labour market participation rate (LFPR): International Labour Organization’s LABORSTA database (ILO)\n",
    "\n",
    "Data from the above sources, compiled by country, can be accessed through the International Human Development Indicators website at: http://HDR.undp.org/en/data/profiles/."
   ]
  },
  {
   "cell_type": "markdown",
   "metadata": {},
   "source": [
    "## A step-by-step calculation:\n",
    "There are five steps to computing the GII. For both of the women’s reproductive health indicators - the maternal mortality rate (MMR) and the average fertility rate (AFR) - an inverse of each indicator is taken. An inverse of a number is equal to one divided by that number. An inverse of a number decreases as the number increases. Given that a higher value of the MMR or the AFR indicates a worse health outcome, the inverses of both indicators are used while constructing the GII. The rest of the three indicators, share of parliamentary seats held (PR), attainment at secondary and higher education (SE) and labour market participation rate (LFPR), are already available in percentage terms, and thus are automatically normalized between zero and hundred."
   ]
  },
  {
   "cell_type": "markdown",
   "metadata": {},
   "source": [
    "### NOTE: The Arithmetic mean, Geometric mean, and Harmonic mean\n",
    "\n",
    "The GII is based on the principle that both inequality between dimensions and inequality between genders should be penalised. For this reason the GII is based on the mathematical formulation of the generalized mean of generalized means of different orders.\n",
    "\n",
    "- First, we apply the geometric mean to penalise inequality across dimensions.\n",
    "- Second, we use the harmonic mean to penalise even more the inequality between genders.\n"
   ]
  },
  {
   "cell_type": "markdown",
   "metadata": {},
   "source": [
    "Below are a lot of Python functions that wrap up the mathematical formula used to calculate the GII. It's rather complicated-seeming, but the idea is to take the average across the 3 dimensions for each gender separately, and then find a sort of average between the genders, that marks how far they are from each other - thus, if they are closer to 0 (closer to 0 distance apart), there is more gender equality."
   ]
  },
  {
   "cell_type": "code",
   "execution_count": null,
   "metadata": {
    "collapsed": true
   },
   "outputs": [],
   "source": [
    "# calculate female health using geometric mean\n",
    "def fhealth(mmr, abr):\n",
    "    # stats.mstats.gmean is a function (for computing geometric means) that comes from the scipy library\n",
    "    # so we did not have to write it ourselves\n",
    "    return stats.mstats.gmean([10 / mmr, 1 / abr])\n",
    "\n",
    "# male health is 1 by default - because they do not do childbirth\n",
    "mhealth = 1"
   ]
  },
  {
   "cell_type": "code",
   "execution_count": null,
   "metadata": {
    "collapsed": true
   },
   "outputs": [],
   "source": [
    "# calculate either male or female empowerment using geometric mean\n",
    "def empowerment(pr, se):\n",
    "    return stats.mstats.gmean([pr, se])"
   ]
  },
  {
   "cell_type": "code",
   "execution_count": null,
   "metadata": {
    "collapsed": true
   },
   "outputs": [],
   "source": [
    "# aggregate across dimensions to get female gender index, geometric mean again\n",
    "def within_female_across_dimensions(hlth, emp, lbr):    # inputs will be fhealth(..., ...), empowerment(..., ...), flabor\n",
    "    # gmean of gmeans\n",
    "    return stats.mstats.gmean([hlth, emp, lbr])"
   ]
  },
  {
   "cell_type": "code",
   "execution_count": null,
   "metadata": {
    "collapsed": true
   },
   "outputs": [],
   "source": [
    "# aggregate across dimensions to get male gender index\n",
    "def within_male_across_dimensions(hlth, emp, lbr):\n",
    "    return stats.mstats.gmean([hlth, emp, lbr])"
   ]
  },
  {
   "cell_type": "code",
   "execution_count": null,
   "metadata": {
    "collapsed": true
   },
   "outputs": [],
   "source": [
    "# aggregate between male and female for each dimension\n",
    "# The female and male indices are aggregated by the harmonic mean to create the equally distributed gender index\n",
    "def across_gender_within_dimension(female, male):\n",
    "    # harmonic mean\n",
    "    return stats.mstats.hmean([female, male])"
   ]
  },
  {
   "cell_type": "code",
   "execution_count": null,
   "metadata": {
    "collapsed": true
   },
   "outputs": [],
   "source": [
    "# combine above functions into one big one that does all the work!\n",
    "# input: a table like asia\n",
    "# output: a new table, a copy of the input, with another column that has the calculated GII\n",
    "\n",
    "# had to shift row indices by 1 because asia table has 1 less column\n",
    "def gii_calculator(table):\n",
    "    def step4(): \n",
    "        # aggregate female and male indices using equal weights \n",
    "        #(thus treating the genders equally) \n",
    "        # and then aggregating the indices across dimensions\n",
    "        return stats.mstats.gmean([np.mean([fhealth(mmr, abr), mhealth]), np.mean([empowerment(fpr, fse), empowerment(mpr, mse)]), np.mean([flabor, mlabor])]) \n",
    "    gii_column = make_array()\n",
    "    for i in np.arange(len(table.column(0))): # row indices of table\n",
    "        row = table.row(i)\n",
    "        mmr = row.item(3)\n",
    "        abr = row.item(4)\n",
    "        fpr = row.item(5)   # female representation, male = 100 - female\n",
    "        mpr = 100 - fpr\n",
    "        # need fse and mse\n",
    "        fse = row.item(6) \n",
    "        mse = row.item(7)\n",
    "        flabor = row.item(8)\n",
    "        mlabor = row.item(9)\n",
    "        # BELOW IS THE STEP WHERE THE CALCULATION ACTUALLY HAPPENS\n",
    "        # NOTICE that it is one variable that contains many functions within functions!\n",
    "        gii = 1 - (\n",
    "        across_gender_within_dimension(\n",
    "            within_female_across_dimensions(fhealth(mmr, abr), empowerment(fpr, fse), flabor), \n",
    "            within_male_across_dimensions(mhealth, empowerment(mpr, mse), mlabor)\n",
    "        )\n",
    "        / step4()\n",
    "        )\n",
    "        gii_column = np.append(gii_column, gii)\n",
    "    with_gii = table.copy().with_column(\"GII (2016)\", gii_column)\n",
    "    return with_gii"
   ]
  },
  {
   "cell_type": "code",
   "execution_count": null,
   "metadata": {},
   "outputs": [],
   "source": [
    "# new table with 2016 GII score\n",
    "asia_gii = gii_calculator(asia)\n",
    "asia_gii"
   ]
  },
  {
   "cell_type": "markdown",
   "metadata": {},
   "source": [
    "## Data Analysis\n",
    "Let's check out the distribution of GII scores in a _histogram_. \n",
    "\n",
    "A _histogram_ is a continuous graph that allows us to see the number of data items that fall into each interval. The data is split into _bins_ that categorizes the information into specified numerical groups, and we can observe the frequency of occurrences by calculating the area of a given bar (width times height of bar). \n",
    "\n",
    "In addition, while there can be empty bins, there musn't be gaps in the range of bin values since a histogram depicts continuous data. For instance, the bin from 0.3 to 0.4 can be empty but it must still exist on the graph to represent the continous range of GII values.\n",
    "\n",
    "Since bins measure frequency and are represented in percents, the total area of all of the bars should sum to 100%. This characteristic is true for all histograms since a histogram represents the distribution of the data across all the specified bins."
   ]
  },
  {
   "cell_type": "markdown",
   "metadata": {},
   "source": [
    "Through the `datascience` library, we have access to a `hist` function that plots a histogram from an `array`. The `hist` function is called on a table, and takes a column name (as a `string`) as its input. In the cell below, try to call the function yourself and plot a histogram of the distribution of all GII scores from 2016. "
   ]
  },
  {
   "cell_type": "code",
   "execution_count": null,
   "metadata": {},
   "outputs": [],
   "source": [
    "# SOLUTION\n",
    "asia_gii.hist(\"GII (2016)\")"
   ]
  },
  {
   "cell_type": "markdown",
   "metadata": {},
   "source": [
    "If you're curious about a more mathematical perspective of a histogram, take a look at the following calculation:\n",
    "\n",
    "With the above histogram, we can see that for the bin of 0.1 to 0.2, the height of the bar is roughly 100 percent per unit. Since the frequency for a given bin can be calculated through the bar's area (width x height), this bin has a frequency of (0.2 - 0.1) x 100 = 10 percent.\n",
    "\n",
    "Also, if we were to calculate the frequency for each of the possible bins, we would be able to notice that all of the areas sum up to 100%."
   ]
  },
  {
   "cell_type": "markdown",
   "metadata": {},
   "source": [
    "#### Average GII?\n",
    "Now try to get an average GII score for Asian countries. There are several different ways that you could do this, but let's use the `mean` function, which is built into the Python language. \n",
    "\n",
    "First, we will need to extract the column (an array) that we want from the `asia_gii` table, then we can call the `mean` function on it, using dot notation, with empty parentheses at the end. "
   ]
  },
  {
   "cell_type": "code",
   "execution_count": null,
   "metadata": {},
   "outputs": [],
   "source": [
    "# SOLUTION\n",
    "asia_gii.column(\"GII (2016)\").mean()"
   ]
  },
  {
   "cell_type": "markdown",
   "metadata": {},
   "source": [
    "# Visualizations\n",
    "\n",
    "Let's now start looking at some of the data visually. An obvious way to do this is by using a geographical map of all the countries.\n",
    "\n",
    "To start, we'll create a function that allows the labels on our map to include both the country name and GII score, so we can easily see the data that we want."
   ]
  },
  {
   "cell_type": "code",
   "execution_count": null,
   "metadata": {},
   "outputs": [],
   "source": [
    "# function to generate text for each country with name and GII\n",
    "def getPopupText(country, gii):\n",
    "    \"Create custom popup content\"\n",
    "    #the_text = (\"%s, GII Score: %d\" % (country, gii))\n",
    "    the_text = country + \", GII Score: \" + str(gii)\n",
    "    return the_text\n",
    "\n",
    "# Apply the function to the GII column of table\n",
    "asia_gii['popup'] = asia_gii.apply(lambda x , y: getPopupText(x,y), 0,'GII (2016)')\n",
    "\n",
    "# View the table - see what we've added?\n",
    "asia_gii"
   ]
  },
  {
   "cell_type": "markdown",
   "metadata": {},
   "source": [
    "We can now plot the data on a simple world map..."
   ]
  },
  {
   "cell_type": "code",
   "execution_count": null,
   "metadata": {},
   "outputs": [],
   "source": [
    "# plot simple graph\n",
    "Marker.map(asia_gii['Latitude'], asia_gii['Longitude'], labels=asia_gii['popup'])\n",
    "#Marker.map(asia_gii['Latitude'], asia_gii['Longitude'], labels=asia_gii['Country'])"
   ]
  },
  {
   "cell_type": "markdown",
   "metadata": {},
   "source": [
    "Now let's categorize the GII scores by color. We'll use the histogram above and some basic statistical principals to decide which scores are relatively \"good\" or \"bad\".\n",
    "\n",
    "{standard deviation explanation etc here}"
   ]
  },
  {
   "cell_type": "code",
   "execution_count": null,
   "metadata": {},
   "outputs": [],
   "source": [
    "# Category map - symbolized by color\n",
    "\n",
    "# Set colors for each gii cutoff point\n",
    "asia_gii['color'] = 'green' # set default color to green\n",
    "\n",
    "std_dev = np.std(asia_gii['GII (2016)'])\n",
    "mean = np.mean(asia_gii['GII (2016)'])   # this is a different way of finding the mean than above\n",
    "print(\"This is the standard deviation:\", std_dev)\n",
    "print(\"This is the mean:\", mean)\n",
    "\n",
    "# modify the \"extreme\" values' colors based on how far the GII is from the mean of 0.38\n",
    "# since the GII's are relatively close to one another, we set a country to have an \"extreme\" GII if its GII lies \n",
    "# outside of a standard deviation from the mean\n",
    "asia_gii['color'][asia_gii['GII (2016)'] >= mean + 0.5 * std_dev] = 'red'   # high GII - bad\n",
    "asia_gii['color'][asia_gii['GII (2016)'] < mean - 0.5 * std_dev] = 'blue'  # low GII - good"
   ]
  },
  {
   "cell_type": "markdown",
   "metadata": {},
   "source": [
    "Are there certain geographic areas where GII tends to be lower or higher? Discuss with your group."
   ]
  },
  {
   "cell_type": "code",
   "execution_count": null,
   "metadata": {
    "scrolled": true
   },
   "outputs": [],
   "source": [
    "Marker.map(asia_gii['Latitude'], asia_gii['Longitude'], labels=asia_gii['popup'], colors=asia_gii['color'])\n",
    "#Marker.map(asia_gii['Latitude'], asia_gii['Longitude'], labels=asia_gii['Country'], colors=asia_gii['color'])"
   ]
  },
  {
   "cell_type": "markdown",
   "metadata": {},
   "source": [
    "We can also draw a map that scales circles based on GII score. . .\n",
    "\n",
    "Again, we will create a function that does the work of finding the right size of the circle for us, then append that size as a column to our table, which we will then use as an input to the function that generates the actual map."
   ]
  },
  {
   "cell_type": "code",
   "execution_count": null,
   "metadata": {
    "collapsed": true
   },
   "outputs": [],
   "source": [
    "def scaleSymbolSize(theData, dataVal, minRadius=10, maxRadius=300):\n",
    "    \"\"\"\n",
    "    Scale symbol size between the range of min and max radii\n",
    "    based on range of values in the input data. \n",
    "    Then use this radius to determine the output symbol AREA\n",
    "    Returns the AREA for the symbol\n",
    "    \"\"\"\n",
    "    valMin = min(theData)\n",
    "    valMax = max(theData)\n",
    "    valRange = (valMax - valMin )  \n",
    "    symRange = (maxRadius - minRadius)  \n",
    "    symbol_radius = (((dataVal - valMin) * symRange) / valRange) + minRadius\n",
    "    symbol_area = symbol_radius * symbol_radius * math.pi  # Area of a circle = piR^2\n",
    "    return int(symbol_area)"
   ]
  },
  {
   "cell_type": "code",
   "execution_count": null,
   "metadata": {},
   "outputs": [],
   "source": [
    "asia_gii['circle_area'] = asia_gii.apply(lambda x: scaleSymbolSize(asia_gii['GII (2016)'], x, 100, 1500000), 'GII (2016)')\n",
    "# notice the new \"circle_area\" column\n",
    "asia_gii"
   ]
  },
  {
   "cell_type": "code",
   "execution_count": null,
   "metadata": {
    "scrolled": true
   },
   "outputs": [],
   "source": [
    "Circle.map_table(asia_gii.select(['Latitude','Longitude', 'popup','color','circle_area']), fill_opacity=.8)\n",
    "#Circle.map_table(asia_gii.select(['Latitude','Longitude','Country','color','circle_area']), fill_opacity=.8)"
   ]
  },
  {
   "cell_type": "markdown",
   "metadata": {},
   "source": [
    "Remember that a larger circle means MORE INEQUALITY! (which is bad!)"
   ]
  },
  {
   "cell_type": "markdown",
   "metadata": {},
   "source": [
    "# Activity:\n",
    "\n",
    "With a partner, choose an Asian country that you are both interested in (WITHOUT looking back at the numbers in the table), and make some educated guesses about what numbers you think this country would have in each of the categories we've been using. \n",
    "\n",
    "Then, use your estimates to calculate this country's GII below. \n",
    "\n",
    "Was it higher or lower than you expected? What about compared to the country's real GII and data values?"
   ]
  },
  {
   "cell_type": "code",
   "execution_count": null,
   "metadata": {
    "collapsed": true
   },
   "outputs": [],
   "source": [
    "# we are going to use the append function to append a row to an empty table \n",
    "# a table that has all the necessary columns to do the calculation"
   ]
  },
  {
   "cell_type": "code",
   "execution_count": null,
   "metadata": {},
   "outputs": [],
   "source": [
    "# country is now an empty table - next, we will input your chosen data\n",
    "my_country = Table(make_array(asia.labels[:-2])[0])\n",
    "my_country"
   ]
  },
  {
   "cell_type": "code",
   "execution_count": null,
   "metadata": {
    "scrolled": true
   },
   "outputs": [],
   "source": [
    "# add a row with your estimated input for each of the columns above, IN ORDER\n",
    "# Country should be a string, like \"China\"\n",
    "# Overall HDI Rand and Within Region HDI Rank are set to 0 because they are not relevant to this calculation\n",
    "my_country.append([..., 0, 0, ..., ..., ..., ..., ..., ..., ...])\n",
    "my_country"
   ]
  },
  {
   "cell_type": "code",
   "execution_count": null,
   "metadata": {
    "scrolled": true
   },
   "outputs": [],
   "source": [
    "# calculate the gii of your new country!\n",
    "est_gii = gii_calculator(my_country)\n",
    "est_gii"
   ]
  },
  {
   "cell_type": "markdown",
   "metadata": {},
   "source": [
    "Write a paragraph (and be ready to present!) explaining why your country has the numbers it did. Were you suprised by how high or low it ranked compared to other countries \"around it\"? "
   ]
  },
  {
   "cell_type": "markdown",
   "metadata": {
    "collapsed": true
   },
   "source": [
    "# Limitations of the Global GII\n",
    "\n",
    "The GII’s use of reproductive health indicators has been quentioned. Naturally, data for the two indicators are only available for women, making interpretations of the GII problematic. The GII responds to this discrepancy by giving men a value of “one” in this dimension—a value which signifies that men have achieved the best possible outcome here. However, a measure of inequality must consist of measurable achievements for all the groups involved. The two indicators—maternal mortality ratio and adolescent fertility rate—should instead, it is said, be used to construct an index that compares the state of women across countries, rather than a gender inequality index, comparing the situation between women and men.\n",
    "\n",
    "Additionally, the value of the GII doesn’t tell us which gender is doing better or worse. Instead the GII score tells us the level of inequality between two groups—men and women—but not which group is disadvantaged.\n",
    "\n",
    "Meanwhile, several other gender indices are used by different world institutions, such as the World Economic Forum’s Global Gender Gap Index (GGI), the Economist Intelligence Unit’s Women’s Economic Opportunity Index (WEOI), the OECD’s Social Institutions and Gender Index (SIGI), and the Gender Equity Index (GEI) developed by Social Watch. They differ from the GII in many ways yet can be useful complements as we seek to understand the underlying causes of gender inequalities in economic participation."
   ]
  },
  {
   "cell_type": "code",
   "execution_count": null,
   "metadata": {
    "collapsed": true
   },
   "outputs": [],
   "source": []
  }
 ],
 "metadata": {
  "anaconda-cloud": {},
  "kernelspec": {
   "display_name": "Python 3",
   "language": "python",
   "name": "python3"
  },
  "language_info": {
   "codemirror_mode": {
    "name": "ipython",
    "version": 3
   },
   "file_extension": ".py",
   "mimetype": "text/x-python",
   "name": "python",
   "nbconvert_exporter": "python",
   "pygments_lexer": "ipython3",
   "version": "3.5.2"
  }
 },
 "nbformat": 4,
 "nbformat_minor": 2
}
