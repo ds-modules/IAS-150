{
 "cells": [
  {
   "cell_type": "code",
   "execution_count": 2,
   "metadata": {
    "collapsed": true
   },
   "outputs": [],
   "source": [
    "import numpy as np\n",
    "import math\n",
    "from datascience import *\n",
    "from scipy import stats\n",
    "%matplotlib inline"
   ]
  },
  {
   "cell_type": "markdown",
   "metadata": {},
   "source": [
    "# Welcome to IAS-150's Data Science Module\n",
    "\n",
    "Today we will be examing a data set that the UN produces every year, called the Gender Inequality Index. This is the UN's annual ranking of 188 countries in  terms of gender _inequality_. We will be examining the subset of countries in Asia with complete data."
   ]
  },
  {
   "cell_type": "markdown",
   "metadata": {},
   "source": [
    "Gender equity is an essential and widely recognized international policy goal because of its intrinsic and instrumental value. It is clearly important as an end in itself and also is a means to the attainment of other development goals such as the nourishment and educational achievements of children.\n",
    "\n",
    "The global Gender Inequality Index (GII) — built on the same framework as the UN's other ranking systems: the Human Development Index (HDI) and the Inequality-adjusted Human Development Index (IHDI) — was first released in 2010. It measures inequalities in achievements between women and men across three dimensions of human development: reproductive health, empowerment and the labour market. The GII can be used for international comparisons, but the global GII’s chosen indicators are deeply affected by data limitations.\n",
    "\n",
    "As we move along, we'll see how the global GII provides insights into gender disparities in reproductive health, empowerment and the labour market in Asian countries. It can enable governments, organiztions, and individuals to better understand and promote gender equality. The GII can be used to raise awareness of disparities, track progress towards gender equity, and support public action."
   ]
  },
  {
   "cell_type": "markdown",
   "metadata": {},
   "source": [
    "### Load in the UN Gender Inequality Index (GII) data from 2016\n",
    "Note: the table has been modified slightly from its original format for ease of use. We've also added latitude and longitude so that we can display results on maps. The original table can be found at: http://hdr.undp.org/en/composite/GII\n",
    "\n",
    "#### Clean Data:\n",
    "###### (Only pay attention if you're interested)\n",
    "Right now, all of the values that look like numbers are actually being stored as _strings_, which, in Python, are usually how ASCII characters are stored. Thus, you can't do normal mathematical operations on strings. We have to change these strings into _floats_, or floating-point decimals. That's what the code below does.\n",
    "\n",
    "#### Note: \n",
    "The index we are interested in is NOT actually shown in this table. We're going to have to calculate it later. It involves layers of mathematical averages, which we'll try to explain, but they specifics aren't vital to this course."
   ]
  },
  {
   "cell_type": "code",
   "execution_count": 3,
   "metadata": {
    "collapsed": false
   },
   "outputs": [
    {
     "ename": "ValueError",
     "evalue": "could not convert string to float: 'Korea (Republic of)'",
     "output_type": "error",
     "traceback": [
      "\u001b[0;31m---------------------------------------------------------------------------\u001b[0m",
      "\u001b[0;31mValueError\u001b[0m                                Traceback (most recent call last)",
      "\u001b[0;32m<ipython-input-3-1655eeda4df6>\u001b[0m in \u001b[0;36m<module>\u001b[0;34m()\u001b[0m\n\u001b[1;32m     14\u001b[0m             \u001b[0mclean_col\u001b[0m \u001b[0;34m=\u001b[0m \u001b[0mnp\u001b[0m\u001b[0;34m.\u001b[0m\u001b[0mappend\u001b[0m\u001b[0;34m(\u001b[0m\u001b[0mclean_col\u001b[0m\u001b[0;34m,\u001b[0m \u001b[0mdata\u001b[0m\u001b[0;34m.\u001b[0m\u001b[0mcolumn\u001b[0m\u001b[0;34m(\u001b[0m\u001b[0mlabel\u001b[0m\u001b[0;34m)\u001b[0m\u001b[0;34m.\u001b[0m\u001b[0mitem\u001b[0m\u001b[0;34m(\u001b[0m\u001b[0mi\u001b[0m\u001b[0;34m)\u001b[0m\u001b[0;34m)\u001b[0m\u001b[0;34m\u001b[0m\u001b[0m\n\u001b[1;32m     15\u001b[0m         \u001b[0;32melse\u001b[0m\u001b[0;34m:\u001b[0m\u001b[0;34m\u001b[0m\u001b[0m\n\u001b[0;32m---> 16\u001b[0;31m             \u001b[0mclean_col\u001b[0m \u001b[0;34m=\u001b[0m \u001b[0mnp\u001b[0m\u001b[0;34m.\u001b[0m\u001b[0mappend\u001b[0m\u001b[0;34m(\u001b[0m\u001b[0mclean_col\u001b[0m\u001b[0;34m,\u001b[0m \u001b[0mfloat\u001b[0m\u001b[0;34m(\u001b[0m\u001b[0mdata\u001b[0m\u001b[0;34m.\u001b[0m\u001b[0mcolumn\u001b[0m\u001b[0;34m(\u001b[0m\u001b[0mlabel\u001b[0m\u001b[0;34m)\u001b[0m\u001b[0;34m.\u001b[0m\u001b[0mitem\u001b[0m\u001b[0;34m(\u001b[0m\u001b[0mi\u001b[0m\u001b[0;34m)\u001b[0m\u001b[0;34m)\u001b[0m\u001b[0;34m)\u001b[0m\u001b[0;34m\u001b[0m\u001b[0m\n\u001b[0m\u001b[1;32m     17\u001b[0m     \u001b[0masia\u001b[0m\u001b[0;34m.\u001b[0m\u001b[0mappend_column\u001b[0m\u001b[0;34m(\u001b[0m\u001b[0mlabel\u001b[0m\u001b[0;34m,\u001b[0m \u001b[0mclean_col\u001b[0m\u001b[0;34m)\u001b[0m\u001b[0;34m\u001b[0m\u001b[0m\n\u001b[1;32m     18\u001b[0m \u001b[0;34m\u001b[0m\u001b[0m\n",
      "\u001b[0;31mValueError\u001b[0m: could not convert string to float: 'Korea (Republic of)'"
     ]
    }
   ],
   "source": [
    "# load data\n",
    "data = Table.read_table('data/asia-full-original-with-coords.csv')\n",
    "\n",
    "# create table, named asia\n",
    "asia = Table()\n",
    "\n",
    "# clean data\n",
    "for label in data.labels:\n",
    "    clean_col = make_array()\n",
    "    for i in np.arange(len(data.column(label))):\n",
    "        if data.column(label).item(i) == '..':\n",
    "            clean_col = np.append(clean_col, np.nan)\n",
    "        elif label == 'Country' or label == 'HDI rank':\n",
    "            clean_col = np.append(clean_col, data.column(label).item(i))   \n",
    "        else:\n",
    "            clean_col = np.append(clean_col, float(data.column(label).item(i)))\n",
    "    asia.append_column(label, clean_col)\n",
    "\n",
    "# display table\n",
    "asia"
   ]
  },
  {
   "cell_type": "markdown",
   "metadata": {},
   "source": [
    "## How the GII is calculated:\n",
    "![](gii_breakdown.png)\n",
    "\n",
    "The Gender Inequality Index (GII) reflects gender-based disadvantage in three dimensions—reproductive health, empowerment and the labour market—for as many countries as data of reasonable quality allow. It shows the loss in potential human development due to inequality between female and male achievements in these dimensions. It ranges from 0, where women and men fare equally, to 1, where one gender fares as poorly as possible in all measured dimensions. \n",
    "\n",
    "### 1. Reproductive Health\n",
    "Measured by 2 indicators: the maternal mortality ratio and the adolescent fertility rate. \n",
    "\n",
    "### 2. Empowerment\n",
    "Measured by two indicators: the share of parliamentary seats held by each sex, and secondary and higher education attainment levels.\n",
    "\n",
    "### 3. Labor\n",
    "Measured by labor force participation rate in males and females."
   ]
  },
  {
   "cell_type": "markdown",
   "metadata": {},
   "source": [
    "Below are a lot of Python functions that wrap up the mathematical formula used to calculate the GII. It's rather complicated-seeming, but the idea is to take the average across the 3 dimensions for each gender separately, and then find a sort of average between the genders, that marks how far they are from each other - thus, if they are closer to 0 (closer to 0 distance apart), there is more gender equality."
   ]
  },
  {
   "cell_type": "code",
   "execution_count": null,
   "metadata": {
    "collapsed": true
   },
   "outputs": [],
   "source": [
    "# calculate female health geometric mean\n",
    "def fhealth(mmr, abr):\n",
    "    return stats.mstats.gmean([10 / mmr, 1 / abr])\n",
    "\n",
    "# male health is 1 by default - because they do not do childbirth\n",
    "mhealth = 1"
   ]
  },
  {
   "cell_type": "code",
   "execution_count": null,
   "metadata": {
    "collapsed": true
   },
   "outputs": [],
   "source": [
    "# calculate either male or female empowerment with geometric mean\n",
    "def empowerment(pr, se):\n",
    "    return stats.mstats.gmean([pr, se])"
   ]
  },
  {
   "cell_type": "code",
   "execution_count": null,
   "metadata": {
    "collapsed": true
   },
   "outputs": [],
   "source": [
    "# aggregate across dimensions to get female gender index\n",
    "def within_female_across_dimensions(hlth, emp, lbr):    # inputs will be fhealth(..., ...), empowerment(..., ...), flabor\n",
    "    # gmean of gmeans\n",
    "    return stats.mstats.gmean([hlth, emp, lbr])"
   ]
  },
  {
   "cell_type": "code",
   "execution_count": null,
   "metadata": {
    "collapsed": true
   },
   "outputs": [],
   "source": [
    "# aggregate across dimensions to get male gender index\n",
    "def within_male_across_dimensions(hlth, emp, lbr):\n",
    "    return stats.mstats.gmean([hlth, emp, lbr])"
   ]
  },
  {
   "cell_type": "code",
   "execution_count": null,
   "metadata": {
    "collapsed": true
   },
   "outputs": [],
   "source": [
    "# aggregate between male and female for each dimension\n",
    "def across_gender_within_dimension(female, male):\n",
    "    # harmonic mean\n",
    "    return stats.mstats.hmean([female, male])"
   ]
  },
  {
   "cell_type": "code",
   "execution_count": null,
   "metadata": {
    "collapsed": true
   },
   "outputs": [],
   "source": [
    "# combine above functions into one big one that does all the work!\n",
    "# input: a table like asia\n",
    "# output: a new table, a copy of the input, with another column that has the calculated GII\n",
    "\n",
    "# had to shift row indices by 1 because asia table has 1 less column\n",
    "def gii_calculator(table):\n",
    "    def step4():\n",
    "        return stats.mstats.gmean([np.mean([fhealth(mmr, abr), mhealth]), np.mean([empowerment(fpr, fse), empowerment(mpr, mse)]), np.mean([flabor, mlabor])]) \n",
    "    gii_column = make_array()\n",
    "    for i in np.arange(len(table.column(0))): # row indices of table\n",
    "        row = table.row(i)\n",
    "        mmr = row.item(3)\n",
    "        abr = row.item(4)\n",
    "        fpr = row.item(5)   # female representation, male = 100 - female\n",
    "        mpr = 100 - fpr\n",
    "        # need fse and mse\n",
    "        fse = row.item(6) \n",
    "        mse = row.item(7)\n",
    "        flabor = row.item(8)\n",
    "        mlabor = row.item(9)\n",
    "        gii = 1 - (\n",
    "        across_gender_within_dimension(\n",
    "            within_female_across_dimensions(fhealth(mmr, abr), empowerment(fpr, fse), flabor), \n",
    "            within_male_across_dimensions(mhealth, empowerment(mpr, mse), mlabor)\n",
    "        )\n",
    "        / step4()\n",
    "        )\n",
    "        #print(i,gii)\n",
    "        gii_column = np.append(gii_column, gii)\n",
    "    with_gii = table.copy().with_column(\"GII (2016)\", gii_column)\n",
    "    return with_gii"
   ]
  },
  {
   "cell_type": "code",
   "execution_count": null,
   "metadata": {
    "collapsed": true
   },
   "outputs": [],
   "source": [
    "# new table with 2016 GII score\n",
    "asia_gii = gii_calculator(asia)"
   ]
  },
  {
   "cell_type": "markdown",
   "metadata": {},
   "source": [
    "Let's check out the distribution of GII scores in a _histogram_. \n",
    "\n",
    "A _histogram_ is a continuous graph that allows us to see the frequency of certain data. The data is split into _bins_ that categorizes the information into specified numerical groups, and we can observe the frequency of occurrences by calculating the area of a given bar (width times height of bar). In addition, there mustn't be any gaps in between the bins / bars as a histogram depicts continuous data."
   ]
  },
  {
   "cell_type": "code",
   "execution_count": 4,
   "metadata": {
    "collapsed": false
   },
   "outputs": [
    {
     "ename": "NameError",
     "evalue": "name 'asia_gii' is not defined",
     "output_type": "error",
     "traceback": [
      "\u001b[0;31m---------------------------------------------------------------------------\u001b[0m",
      "\u001b[0;31mNameError\u001b[0m                                 Traceback (most recent call last)",
      "\u001b[0;32m<ipython-input-4-e82bb49e8764>\u001b[0m in \u001b[0;36m<module>\u001b[0;34m()\u001b[0m\n\u001b[0;32m----> 1\u001b[0;31m \u001b[0masia_gii\u001b[0m\u001b[0;34m.\u001b[0m\u001b[0mhist\u001b[0m\u001b[0;34m(\u001b[0m\u001b[0;34m\"GII (2016)\"\u001b[0m\u001b[0;34m)\u001b[0m\u001b[0;34m\u001b[0m\u001b[0m\n\u001b[0m",
      "\u001b[0;31mNameError\u001b[0m: name 'asia_gii' is not defined"
     ]
    }
   ],
   "source": [
    "asia_gii.hist(\"GII (2016)\")"
   ]
  },
  {
   "cell_type": "markdown",
   "metadata": {},
   "source": [
    "With the above histogram, we can see that for the bin of 0.1 to 0.2, the height of the bar is roughly 100 percent per unit. Since the frequency for a given bin can be calculated through the bar's area (width x height), this bin has a frequency of (0.2 - 0.1) x 100 = 10 percent.\n",
    "\n",
    "Since these bins measure frequency and are represented in percents, the total area of all of the bars should sum to 100%. This characteristic is true for all histograms since a histogram represents the distribution of the data across all the specified bins."
   ]
  },
  {
   "cell_type": "markdown",
   "metadata": {},
   "source": [
    "Let's plot the data on a simple world map..."
   ]
  },
  {
   "cell_type": "code",
   "execution_count": null,
   "metadata": {
    "collapsed": false
   },
   "outputs": [],
   "source": [
    "# plot simple graph\n",
    "Marker.map(asia_gii['Latitude'], asia_gii['Longitude'], labels=asia_gii['Country'])"
   ]
  },
  {
   "cell_type": "code",
   "execution_count": null,
   "metadata": {
    "collapsed": true
   },
   "outputs": [],
   "source": [
    "# more graphing ...\n",
    "# get an average score for asia\n",
    "# see if higher/lower in certain geographic regions"
   ]
  },
  {
   "cell_type": "markdown",
   "metadata": {},
   "source": [
    "Now let's categorize the GII scores by color. We'll say that any score above 0.5 is 'bad', anything between 0.3 and 0.5 is 'medium', and anything below 0.3 is 'good'. These cutoffs are completely arbitrary, and can be changed by changing the numbers in the cell below. Later, we will return to this activity and discuss what we think would be the most appropriate cutoff values."
   ]
  },
  {
   "cell_type": "code",
   "execution_count": null,
   "metadata": {
    "collapsed": true
   },
   "outputs": [],
   "source": [
    "# Category map - symbolized by color\n",
    "# do these color assignments make sense?\n",
    "\n",
    "# Set colors for each gii cutoff point\n",
    "asia_gii['color'] = 'green' # set default color to green\n",
    "\n",
    "# modify the \"extreme\" values' colors\n",
    "asia_gii['color'][asia_gii['GII (2016)'] >= 0.5] = 'red'   # high GII - bad\n",
    "asia_gii['color'][asia_gii['GII (2016)'] < 0.3] = 'blue'  # low GII - good"
   ]
  },
  {
   "cell_type": "markdown",
   "metadata": {},
   "source": [
    "Are there certain geographic areas where GII tends to be lower or higher?"
   ]
  },
  {
   "cell_type": "code",
   "execution_count": null,
   "metadata": {
    "collapsed": false,
    "scrolled": true
   },
   "outputs": [],
   "source": [
    "Marker.map(asia_gii['Latitude'], asia_gii['Longitude'], labels=asia_gii['Country'], colors=asia_gii['color'])"
   ]
  },
  {
   "cell_type": "markdown",
   "metadata": {},
   "source": [
    "We can also draw a map that scales circles based on GII score. . ."
   ]
  },
  {
   "cell_type": "code",
   "execution_count": null,
   "metadata": {
    "collapsed": true
   },
   "outputs": [],
   "source": [
    "def scaleSymbolSize(theData, dataVal, minRadius=10, maxRadius=300):\n",
    "    \"\"\"\n",
    "    Scale symbol size between the range of min and max radii\n",
    "    based on range of values in the input data. \n",
    "    Then use this radius to determine the output symbol AREA\n",
    "    Returns the AREA for the symbol\n",
    "    \"\"\"\n",
    "    valMin = min(theData)\n",
    "    valMax = max(theData)\n",
    "    valRange = (valMax - valMin )  \n",
    "    symRange = (maxRadius - minRadius)  \n",
    "    symbol_radius = (((dataVal - valMin) * symRange) / valRange) + minRadius\n",
    "    symbol_area = symbol_radius * symbol_radius * math.pi  # Area of a circle = piR^2\n",
    "    return int(symbol_area)"
   ]
  },
  {
   "cell_type": "code",
   "execution_count": null,
   "metadata": {
    "collapsed": false
   },
   "outputs": [],
   "source": [
    "asia_gii['circle_area'] = asia_gii.apply(lambda x: scaleSymbolSize(asia_gii['GII (2016)'], x, 100, 1500000), 'GII (2016)')\n",
    "asia_gii"
   ]
  },
  {
   "cell_type": "code",
   "execution_count": null,
   "metadata": {
    "collapsed": false
   },
   "outputs": [],
   "source": [
    "Circle.map_table(asia_gii.select(['Latitude','Longitude','Country','color','circle_area']), fill_opacity=.8)"
   ]
  },
  {
   "cell_type": "code",
   "execution_count": null,
   "metadata": {
    "collapsed": false
   },
   "outputs": [],
   "source": [
    "def getPopupText(country, gii):\n",
    "    \"Create custom popup content\"\n",
    "    #the_text = (\"%s, GII Score: %d\" % (country, gii))\n",
    "    the_text = country + \", GII Score: \" + str(gii)\n",
    "    return the_text\n",
    "\n",
    "# Apply the function to the table\n",
    "asia_gii['popup'] = asia_gii.apply(lambda x , y: getPopupText(x,y), 0,'GII (2016)')\n",
    "\n",
    "# View the table - see what we've added?\n",
    "asia_gii"
   ]
  },
  {
   "cell_type": "code",
   "execution_count": null,
   "metadata": {
    "collapsed": false
   },
   "outputs": [],
   "source": [
    "# Create the map\n",
    "# does it make sense that smaller circle = better?\n",
    "prop_map = Circle.map_table(asia_gii.select(['Latitude','Longitude','popup','color','circle_area']), fill_opacity=.8)\n",
    "prop_map"
   ]
  },
  {
   "cell_type": "markdown",
   "metadata": {
    "collapsed": true
   },
   "source": [
    "## Make your own data:\n",
    "\n",
    "Imagine you are a citizen (or ruler) of a country in Asia. Your nation has a unique culture and history that make for a unique role for women in society and a unique representation of gender inequality through the GII.\n",
    "\n",
    ".... {professor input} .... \n",
    "\n",
    "Use what you know about the history and culture of other countries relative to their raw data to come up with your own numbers and justification for why your country has these numbers. \n",
    "\n",
    "What is it about your country that results in a certain labor force participation rate? Maybe your nation nearly worships women - they don't work at all but they never die in childbirth either. How do you think that would play out in this GII calculation? Is the number you get truly representative of gender inequality in your nation?"
   ]
  },
  {
   "cell_type": "code",
   "execution_count": null,
   "metadata": {
    "collapsed": false
   },
   "outputs": [],
   "source": [
    "# country is now an empty table - next, we will input your chosen data\n",
    "my_country = Table(make_array(asia.labels[:-2])[0])\n",
    "my_country"
   ]
  },
  {
   "cell_type": "code",
   "execution_count": null,
   "metadata": {
    "collapsed": true
   },
   "outputs": [],
   "source": [
    "my_country[0] = ... # your country's name\n",
    "my_country[1] = 0 # we don't know these numbers, and we aren't looking at HDI, so we'll just set them to 0\n",
    "my_country[2] = 0 # ^\n",
    "my_country[3] = ... # your country's MMR\n",
    "my_country[4] = ... # your country's ABR\n",
    "my_country[5] = ... # % parliament seats held by women\n",
    "my_country[6] = ... # % Female population with at least some secondary education\n",
    "my_country[7] = ... # % Male population with at least some secondary education\n",
    "my_country[8] = ... # Female Labour force participation rate, a percentage\n",
    "my_country[9] = ... # Male Labour force participation rate, a percentage"
   ]
  },
  {
   "cell_type": "code",
   "execution_count": null,
   "metadata": {
    "collapsed": true
   },
   "outputs": [],
   "source": [
    "# calculate the gii of your new country!\n",
    "my_gii = gii_calculator(my_country)"
   ]
  },
  {
   "cell_type": "code",
   "execution_count": null,
   "metadata": {
    "collapsed": true
   },
   "outputs": [],
   "source": [
    "# could add this row to the asia table\n",
    "# would have to do\n",
    "# my_country = Table(make_array(asia.labels)[0])\n",
    "# instead and have 0 latitude longitude etc\n",
    "# and possibly drop the extra columns from the mappings above\n",
    "# then\n",
    "# new_asia = asia.with_row(my_country.row(0))\n",
    "# new_asia.sort(\"GII (2016)\")\n",
    "# don't use HDI rankings"
   ]
  },
  {
   "cell_type": "code",
   "execution_count": null,
   "metadata": {
    "collapsed": true
   },
   "outputs": [],
   "source": [
    "# graph it etc"
   ]
  },
  {
   "cell_type": "markdown",
   "metadata": {
    "collapsed": true
   },
   "source": [
    "Write a paragraph (and be ready to present!) explaining why your country has the numbers it did. Were you suprised by how high or low it ranked compared to other countries \"around it\"? "
   ]
  },
  {
   "cell_type": "code",
   "execution_count": null,
   "metadata": {
    "collapsed": true
   },
   "outputs": [],
   "source": []
  },
  {
   "cell_type": "code",
   "execution_count": null,
   "metadata": {
    "collapsed": true
   },
   "outputs": [],
   "source": []
  }
 ],
 "metadata": {
  "anaconda-cloud": {},
  "kernelspec": {
   "display_name": "Python [default]",
   "language": "python",
   "name": "python3"
  },
  "language_info": {
   "codemirror_mode": {
    "name": "ipython",
    "version": 3
   },
   "file_extension": ".py",
   "mimetype": "text/x-python",
   "name": "python",
   "nbconvert_exporter": "python",
   "pygments_lexer": "ipython3",
   "version": "3.5.2"
  }
 },
 "nbformat": 4,
 "nbformat_minor": 2
}
