{
 "cells": [
  {
   "cell_type": "code",
   "execution_count": 28,
   "metadata": {
    "collapsed": true
   },
   "outputs": [],
   "source": [
    "import numpy as np\n",
    "import math\n",
    "from datascience import *\n",
    "from scipy import stats"
   ]
  },
  {
   "cell_type": "markdown",
   "metadata": {},
   "source": [
    "# Welcome to IAS-150's Data Science Module\n",
    "\n",
    "Today we will be examing a data set that the UN produces every year, called the Gender Inequality Index. This is the UN's annual ranking of 188 countries in  terms of gender _inequality_. We will be examining the subset of countries in Asia with complete data."
   ]
  },
  {
   "cell_type": "markdown",
   "metadata": {},
   "source": [
    "Gender equity is an essential and widely recognized international policy goal because of its intrinsic and instrumental value. It is clearly important as an end in itself and also is a means to the attainment of other development goals such as the nourishment and educational achievements of children.\n",
    "\n",
    "The global Gender Inequality Index (GII) — built on the same framework as the Human Development Index (HDI) and the Inequality-adjusted Human Development Index (IHDI) — was released in 2010. It measures inequalities in achievements between women and men across three dimensions of human development: reproductive health, empowerment and the labour market. The GII can be used for international comparisons (the global GII), as presented in the 2010 Human Development Report (HDR). Like the HDI, the global GII’s chosen indicators are deeply affected by data limitations, but more accurate national GIIs can be developed using richer data sources. \n",
    "\n",
    "As we move along, we'll see how the global GII provides insights into gender disparities in reproductive health, empowerment and the labour market in Asian countries. It can enable governments and others better understand and promote gender equality. The GII can be used to raise awareness of disparities, track progress towards gender equity and support public action."
   ]
  },
  {
   "cell_type": "markdown",
   "metadata": {},
   "source": [
    "### Load in the UN Gender Inequality Index (GII) data from 2016\n",
    "Note: the table has been modified slightly from its original format for ease of use. The original table can be found at: http://hdr.undp.org/en/composite/GII\n",
    "\n",
    "#### Clean Data:\n",
    "###### (Only pay attention if you're interested)\n",
    "Right now, all of the values that look like numbers are actually being stored as _strings_, which, in Python, are usually how ASCII characters are stored. Thus, you can't do normal mathematical operations on strings. We have to change these strings into _floats_, or floating-point decimals. That's what the code below does.\n",
    "\n",
    "#### Note: \n",
    "The index we are interested in is NOT actually shown in this table."
   ]
  },
  {
   "cell_type": "code",
   "execution_count": 29,
   "metadata": {},
   "outputs": [
    {
     "data": {
      "text/html": [
       "<table border=\"1\" class=\"dataframe\">\n",
       "    <thead>\n",
       "        <tr>\n",
       "            <th>Country</th> <th>Overall HDI Rank (2015)</th> <th>Within Region HDI Rank (2015)</th> <th>Maternal mortality ratio (deaths per 100,000 live births)</th> <th>Adolescent birth rate (births per 1,000 women ages 15–19)</th> <th>Share of seats in parliament (% held by women)</th> <th>% Female population with at least some secondary education</th> <th>% Male population with at least some secondary education</th> <th>Female Labour force participation rate</th> <th>Male Labour force participation rate</th>\n",
       "        </tr>\n",
       "    </thead>\n",
       "    <tbody>\n",
       "        <tr>\n",
       "            <td>Korea (Republic of) </td> <td>10                     </td> <td>1                            </td> <td>11                                                       </td> <td>1.62                                                     </td> <td>16.33                                         </td> <td>88.84                                                     </td> <td>94.56                                                   </td> <td>50.01                                 </td> <td>71.82                               </td>\n",
       "        </tr>\n",
       "    </tbody>\n",
       "        <tr>\n",
       "            <td>Singapore           </td> <td>11                     </td> <td>2                            </td> <td>10                                                       </td> <td>3.82                                                     </td> <td>23.91                                         </td> <td>75.52                                                     </td> <td>81.92                                                   </td> <td>58.24                                 </td> <td>76.43                               </td>\n",
       "        </tr>\n",
       "    </tbody>\n",
       "        <tr>\n",
       "            <td>Cyprus              </td> <td>21                     </td> <td>3                            </td> <td>7                                                        </td> <td>4.99                                                     </td> <td>12.5                                          </td> <td>77.01                                                     </td> <td>82.67                                                   </td> <td>57.47                                 </td> <td>70.16                               </td>\n",
       "        </tr>\n",
       "    </tbody>\n",
       "        <tr>\n",
       "            <td>Japan               </td> <td>21                     </td> <td>3                            </td> <td>5                                                        </td> <td>4.07                                                     </td> <td>11.58                                         </td> <td>93.04                                                     </td> <td>90.64                                                   </td> <td>49.12                                 </td> <td>70.16                               </td>\n",
       "        </tr>\n",
       "    </tbody>\n",
       "        <tr>\n",
       "            <td>China               </td> <td>37                     </td> <td>4                            </td> <td>27                                                       </td> <td>7.31                                                     </td> <td>23.62                                         </td> <td>69.81                                                     </td> <td>79.42                                                   </td> <td>63.58                                 </td> <td>77.93                               </td>\n",
       "        </tr>\n",
       "    </tbody>\n",
       "        <tr>\n",
       "            <td>Kazakhstan          </td> <td>42                     </td> <td>5                            </td> <td>12                                                       </td> <td>27.89                                                    </td> <td>20.13                                         </td> <td>99.68                                                     </td> <td>100                                                     </td> <td>66.07                                 </td> <td>76.98                               </td>\n",
       "        </tr>\n",
       "    </tbody>\n",
       "        <tr>\n",
       "            <td>United Arab Emirates</td> <td>46                     </td> <td>6                            </td> <td>6                                                        </td> <td>29.66                                                    </td> <td>22.5                                          </td> <td>77.42                                                     </td> <td>64.49                                                   </td> <td>41.9                                  </td> <td>91.56                               </td>\n",
       "        </tr>\n",
       "    </tbody>\n",
       "        <tr>\n",
       "            <td>Bahrain             </td> <td>48                     </td> <td>7                            </td> <td>15                                                       </td> <td>13.48                                                    </td> <td>15                                            </td> <td>61.58                                                     </td> <td>55.56                                                   </td> <td>39.2                                  </td> <td>85.39                               </td>\n",
       "        </tr>\n",
       "    </tbody>\n",
       "        <tr>\n",
       "            <td>Saudi Arabia        </td> <td>50                     </td> <td>8                            </td> <td>12                                                       </td> <td>8.82                                                     </td> <td>19.87                                         </td> <td>63.31                                                     </td> <td>72.13                                                   </td> <td>20.06                                 </td> <td>79.13                               </td>\n",
       "        </tr>\n",
       "    </tbody>\n",
       "        <tr>\n",
       "            <td>Mongolia            </td> <td>53                     </td> <td>9                            </td> <td>44                                                       </td> <td>15.67                                                    </td> <td>14.47                                         </td> <td>89.67                                                     </td> <td>85.83                                                   </td> <td>56.47                                 </td> <td>68.79                               </td>\n",
       "        </tr>\n",
       "    </tbody>\n",
       "</table>\n",
       "<p>... (32 rows omitted)</p"
      ],
      "text/plain": [
       "Country              | Overall HDI Rank (2015) | Within Region HDI Rank (2015) | Maternal mortality ratio (deaths per 100,000 live births) | Adolescent birth rate (births per 1,000 women ages 15–19) | Share of seats in parliament (% held by women) | % Female population with at least some secondary education | % Male population with at least some secondary education | Female Labour force participation rate | Male Labour force participation rate\n",
       "Korea (Republic of)  | 10                      | 1                             | 11                                                        | 1.62                                                      | 16.33                                          | 88.84                                                      | 94.56                                                    | 50.01                                  | 71.82\n",
       "Singapore            | 11                      | 2                             | 10                                                        | 3.82                                                      | 23.91                                          | 75.52                                                      | 81.92                                                    | 58.24                                  | 76.43\n",
       "Cyprus               | 21                      | 3                             | 7                                                         | 4.99                                                      | 12.5                                           | 77.01                                                      | 82.67                                                    | 57.47                                  | 70.16\n",
       "Japan                | 21                      | 3                             | 5                                                         | 4.07                                                      | 11.58                                          | 93.04                                                      | 90.64                                                    | 49.12                                  | 70.16\n",
       "China                | 37                      | 4                             | 27                                                        | 7.31                                                      | 23.62                                          | 69.81                                                      | 79.42                                                    | 63.58                                  | 77.93\n",
       "Kazakhstan           | 42                      | 5                             | 12                                                        | 27.89                                                     | 20.13                                          | 99.68                                                      | 100                                                      | 66.07                                  | 76.98\n",
       "United Arab Emirates | 46                      | 6                             | 6                                                         | 29.66                                                     | 22.5                                           | 77.42                                                      | 64.49                                                    | 41.9                                   | 91.56\n",
       "Bahrain              | 48                      | 7                             | 15                                                        | 13.48                                                     | 15                                             | 61.58                                                      | 55.56                                                    | 39.2                                   | 85.39\n",
       "Saudi Arabia         | 50                      | 8                             | 12                                                        | 8.82                                                      | 19.87                                          | 63.31                                                      | 72.13                                                    | 20.06                                  | 79.13\n",
       "Mongolia             | 53                      | 9                             | 44                                                        | 15.67                                                     | 14.47                                          | 89.67                                                      | 85.83                                                    | 56.47                                  | 68.79\n",
       "... (32 rows omitted)"
      ]
     },
     "execution_count": 29,
     "metadata": {},
     "output_type": "execute_result"
    }
   ],
   "source": [
    "data = Table.read_table('asia-full.csv')\n",
    "asia = Table()\n",
    "for label in data.labels:\n",
    "    clean_col = make_array()\n",
    "    for i in np.arange(len(data.column(label))):\n",
    "        if data.column(label).item(i) == '..':\n",
    "            clean_col = np.append(clean_col, np.nan)\n",
    "        elif label == 'Country' or label == 'HDI rank':\n",
    "            clean_col = np.append(clean_col, data.column(label).item(i))   \n",
    "        else:\n",
    "            clean_col = np.append(clean_col, float(data.column(label).item(i)))\n",
    "    asia.append_column(label, clean_col)\n",
    "asia = asia.take(np.arange(42))\n",
    "asia"
   ]
  },
  {
   "cell_type": "markdown",
   "metadata": {},
   "source": [
    "## How the GII is calculated:\n",
    "![](gii_breakdown.png)\n",
    "\n",
    "The Gender Inequality Index (GII) reflects gender-based disadvantage in three dimensions—reproductive health, empowerment and the labour market—for as many countries as data of reasonable quality allow. It shows the loss in potential human development due to inequality between female and male achievements in these dimensions. It ranges from 0, where women and men fare equally, to 1, where one gender fares as poorly as possible in all measured dimensions. (taken from UNDP technical notes)\n",
    "\n",
    "### 1. Reproductive Health\n",
    "Measured by 2 indicators: the maternal mortality ratio and the adolescent fertility rate. \n",
    "\n",
    "### 2. Empowerment\n",
    "Measured by two indicators: the share of parliamentary seats held by each sex, and secondary and higher education attainment levels.\n",
    "\n",
    "### 3. Labor\n",
    "Measured by labor force participation rate in males and females."
   ]
  },
  {
   "cell_type": "markdown",
   "metadata": {},
   "source": [
    "Below are a lot of Python functions that wrap up the mathematical formula used to calculate the GII. It's rather complicated-seeming, but the idea is to take the average across the 3 dimensions for each gender separately, and then find a sort of average between the genders, that marks how far they are from each other - thus, if they are closer to 0 (distance apart), there is more gender equality."
   ]
  },
  {
   "cell_type": "code",
   "execution_count": 30,
   "metadata": {
    "collapsed": true
   },
   "outputs": [],
   "source": [
    "def fhealth(mmr, abr):\n",
    "    return stats.mstats.gmean([10 / mmr, 1 / abr])\n",
    "\n",
    "mhealth = 1"
   ]
  },
  {
   "cell_type": "code",
   "execution_count": 31,
   "metadata": {
    "collapsed": true
   },
   "outputs": [],
   "source": [
    "def empowerment(pr, se):\n",
    "    return stats.mstats.gmean([pr, se])"
   ]
  },
  {
   "cell_type": "code",
   "execution_count": 32,
   "metadata": {
    "collapsed": true
   },
   "outputs": [],
   "source": [
    "def within_female_across_dimensions(hlth, emp, lbr):    # inputs will be fhealth(..., ...), empowerment(..., ...), flabor\n",
    "    # gmean of gmeans\n",
    "    return stats.mstats.gmean([hlth, emp, lbr])"
   ]
  },
  {
   "cell_type": "code",
   "execution_count": 33,
   "metadata": {
    "collapsed": true
   },
   "outputs": [],
   "source": [
    "def within_male_across_dimensions(hlth, emp, lbr):\n",
    "    return stats.mstats.gmean([hlth, emp, lbr])"
   ]
  },
  {
   "cell_type": "code",
   "execution_count": 34,
   "metadata": {
    "collapsed": true
   },
   "outputs": [],
   "source": [
    "def across_gender_within_dimension(female, male):\n",
    "    # harmonic mean\n",
    "    return stats.mstats.hmean([female, male])"
   ]
  },
  {
   "cell_type": "code",
   "execution_count": 35,
   "metadata": {
    "collapsed": true
   },
   "outputs": [],
   "source": [
    "# had to shift row indices by 1 because asia table has 1 less column\n",
    "def gii_calculator(table):\n",
    "    def step4():\n",
    "        return stats.mstats.gmean([np.mean([fhealth(mmr, abr), mhealth]), np.mean([empowerment(fpr, fse), empowerment(mpr, mse)]), np.mean([flabor, mlabor])]) \n",
    "    gii_column = make_array()\n",
    "    for i in np.arange(len(table.column(0))): # row indices of table\n",
    "        row = table.row(i)\n",
    "        mmr = row.item(3)\n",
    "        abr = row.item(4)\n",
    "        fpr = row.item(5)   # female representation, male = 100 - female\n",
    "        mpr = 100 - fpr\n",
    "        # need fse and mse\n",
    "        fse = row.item(6) \n",
    "        mse = row.item(7)\n",
    "        flabor = row.item(8)\n",
    "        mlabor = row.item(9)\n",
    "        gii = 1 - (\n",
    "        across_gender_within_dimension(\n",
    "            within_female_across_dimensions(fhealth(mmr, abr), empowerment(fpr, fse), flabor), \n",
    "            within_male_across_dimensions(mhealth, empowerment(mpr, mse), mlabor)\n",
    "        )\n",
    "        / step4()\n",
    "        )\n",
    "        #print(i,gii)\n",
    "        gii_column = np.append(gii_column, gii)\n",
    "    with_gii = table.copy().with_column(\"GII (2016)\", gii_column)\n",
    "    return with_gii"
   ]
  },
  {
   "cell_type": "code",
   "execution_count": 36,
   "metadata": {
    "collapsed": true
   },
   "outputs": [],
   "source": [
    "# new table with 2016 GII score\n",
    "asia_gii = gii_calculator(asia)"
   ]
  },
  {
   "cell_type": "markdown",
   "metadata": {},
   "source": [
    "Let's check out the distribution of GII scores in a _histogram_."
   ]
  },
  {
   "cell_type": "code",
   "execution_count": 37,
   "metadata": {},
   "outputs": [],
   "source": [
    "asia_gii.hist(\"GII (2016)\")\n",
    "#asia.select(\"GII (2016)\").hist()\n",
    "# why isn't anything plotting"
   ]
  },
  {
   "cell_type": "markdown",
   "metadata": {},
   "source": [
    "Let's plot the data on a world map..."
   ]
  },
  {
   "cell_type": "code",
   "execution_count": 38,
   "metadata": {
    "collapsed": true
   },
   "outputs": [],
   "source": [
    "# plot graph\n",
    "# Circle.map_table(asia_gii) \n",
    "# need X,Y latitude,longitude columns for countries in order to use this"
   ]
  },
  {
   "cell_type": "code",
   "execution_count": 39,
   "metadata": {
    "collapsed": true
   },
   "outputs": [],
   "source": [
    "# more graphing ...\n",
    "# get an average score for asia\n",
    "# see if higher/lower in certain geographic regions"
   ]
  },
  {
   "cell_type": "markdown",
   "metadata": {
    "collapsed": true
   },
   "source": [
    "## Make your own data:\n",
    "\n",
    "Imagine you are a citizen (or ruler) of a country in Asia. Your nation has a unique culture and history that make for a unique ...women in society blah blah blah....\n",
    "\n",
    "Use what you know about the history and culture of other countries relative to their raw data to come up with your own numbers. \n",
    "\n",
    "What is it about your country that results in a certain labor force participation rate? Maybe your nation nearly worships women - they don't work at all but they never die in childbirth either. How do you think that would play out in this GII calculation? Is the number you get truly representative of gender inequality in your nation?"
   ]
  },
  {
   "cell_type": "code",
   "execution_count": 40,
   "metadata": {},
   "outputs": [
    {
     "data": {
      "text/html": [
       "<table border=\"1\" class=\"dataframe\">\n",
       "    <thead>\n",
       "        <tr>\n",
       "            <th>Country</th> <th>Overall HDI Rank (2015)</th> <th>Within Region HDI Rank (2015)</th> <th>Maternal mortality ratio (deaths per 100,000 live births)</th> <th>Adolescent birth rate (births per 1,000 women ages 15–19)</th> <th>Share of seats in parliament (% held by women)</th> <th>% Female population with at least some secondary education</th> <th>% Male population with at least some secondary education</th> <th>Female Labour force participation rate</th> <th>Male Labour force participation rate</th>\n",
       "        </tr>\n",
       "    </thead>\n",
       "    <tbody>\n",
       "</table>"
      ],
      "text/plain": [
       "Country | Overall HDI Rank (2015) | Within Region HDI Rank (2015) | Maternal mortality ratio (deaths per 100,000 live births) | Adolescent birth rate (births per 1,000 women ages 15–19) | Share of seats in parliament (% held by women) | % Female population with at least some secondary education | % Male population with at least some secondary education | Female Labour force participation rate | Male Labour force participation rate"
      ]
     },
     "execution_count": 40,
     "metadata": {},
     "output_type": "execute_result"
    }
   ],
   "source": [
    "# country is now an empty table - we will next input your chosen data\n",
    "my_country = Table(make_array(asia.labels)[0])\n",
    "my_country"
   ]
  },
  {
   "cell_type": "code",
   "execution_count": null,
   "metadata": {},
   "outputs": [],
   "source": [
    "my_country[0] = ... # your country's name\n",
    "my_country[1] = 0 # we don't know these numbers yet, so we'll just set them to 0\n",
    "my_country[2] = 0 # ^\n",
    "my_country[3] = ... # your country's MMR\n",
    "my_country[4] = ... # your country's ABR\n",
    "my_country[5] = ... # % parliament seats held by women\n",
    "my_country[6] = ... # % Female population with at least some secondary education\n",
    "my_country[7] = ... # % Male population with at least some secondary education\n",
    "my_country[8] = ... # Female Labour force participation rate, a percentage\n",
    "my_country[9] = ... # Male Labour force participation rate, a percentage"
   ]
  },
  {
   "cell_type": "code",
   "execution_count": null,
   "metadata": {},
   "outputs": [],
   "source": [
    "# calculate the gii of your new country!\n",
    "my_gii = gii_calculator(my_country)"
   ]
  },
  {
   "cell_type": "code",
   "execution_count": null,
   "metadata": {},
   "outputs": [],
   "source": [
    "# graph it etc"
   ]
  },
  {
   "cell_type": "code",
   "execution_count": null,
   "metadata": {
    "collapsed": true
   },
   "outputs": [],
   "source": [
    "# write a paragraph etc"
   ]
  }
 ],
 "metadata": {
  "kernelspec": {
   "display_name": "Python 3",
   "language": "python",
   "name": "python3"
  },
  "language_info": {
   "codemirror_mode": {
    "name": "ipython",
    "version": 3
   },
   "file_extension": ".py",
   "mimetype": "text/x-python",
   "name": "python",
   "nbconvert_exporter": "python",
   "pygments_lexer": "ipython3",
   "version": "3.5.2"
  }
 },
 "nbformat": 4,
 "nbformat_minor": 2
}
