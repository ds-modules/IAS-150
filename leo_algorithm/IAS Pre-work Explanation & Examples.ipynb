{
 "cells": [
  {
   "cell_type": "code",
   "execution_count": 1,
   "metadata": {
    "collapsed": true
   },
   "outputs": [],
   "source": [
    "import numpy as np\n",
    "import math\n",
    "from datascience import *\n",
    "from scipy import stats"
   ]
  },
  {
   "cell_type": "markdown",
   "metadata": {},
   "source": [
    "Multiple Correspondence Analysis (MCA)?\n",
    "\n",
    "So far no look into Asian Countries' specific/particular cultural/social status in Gender Equality."
   ]
  },
  {
   "cell_type": "code",
   "execution_count": null,
   "metadata": {
    "collapsed": true
   },
   "outputs": [],
   "source": [
    ""
   ]
  },
  {
   "cell_type": "markdown",
   "metadata": {},
   "source": [
    "## 1. Overview:\n",
    "\n",
    "Gender equity is an essential and widely recognized international policy goal because of its intrinsic and instrumental value. It is clearly important as an end in itself and also is a means to the attainment of other development goals such as the nourishment and educational achievements of children.\n",
    "\n",
    "The global Gender Inequality Index (GII) — built on the same framework as the Human Development Index (HDI) and the Inequality-adjusted Human Development Index (IHDI) — was released in 2010. It measures inequalities in achievements between women and men across three dimensions of human development: reproductive health, empowerment and the labour market. The GII can be used for international comparisons (the global GII), as presented in the 2010 Human Development Report (HDR). Like the HDI, the global GII’s chosen indicators are deeply affected by data limitations, but more accurate national GIIs can be developed using richer data sources. \n",
    "\n",
    "As we move along, we'll see how the global GII provides insights into gender disparities in reproductive health, empowerment and the labour market in 188 countries. It can enable governments and others better understand and promote gender equality. The GII can be used to raise awareness of disparities, track progress towards gender equity and support public action. "
   ]
  },
  {
   "cell_type": "markdown",
   "metadata": {},
   "source": [
    "## 2. Components:\n",
    "The global GII has three dimensions: reproductive health, empowerment and labour market participation. \n",
    "\n",
    "a) The reproductive health dimension is measured by two indicators: the maternal mortality ratio and the adolescent fertility rate. \n",
    "b) The empowerment dimension is also measured by two indicators: the share of parliamentary seats held by each sex, and secondary and higher education attainment levels. \n",
    "c) The labour dimension is measured by women’s labour force participation rate.\n",
    "\n",
    "Overall, there are 5 indicators belonging to 3 dimensions. Below lists the dimensions and indicators of the global GII.  "
   ]
  },
  {
   "cell_type": "code",
   "execution_count": 7,
   "metadata": {},
   "outputs": [
    {
     "data": {
      "text/html": [
       "<table border=\"1\" class=\"dataframe\">\n",
       "    <thead>\n",
       "        <tr>\n",
       "            <th>Dimension</th> <th>Indicator</th> <th>Indicator 2</th>\n",
       "        </tr>\n",
       "    </thead>\n",
       "    <tbody>\n",
       "        <tr>\n",
       "            <td>Women's Reproductive Health</td> <td>Maternal mortality ratio (MMR)                    </td> <td>Adolescent fertility rate (AFR)                  </td>\n",
       "        </tr>\n",
       "    </tbody>\n",
       "        <tr>\n",
       "            <td>Empowerment                </td> <td>Share of parliamentary seats held by each sex (PR)</td> <td>Attainment at secondary and higher education (SE)</td>\n",
       "        </tr>\n",
       "    </tbody>\n",
       "        <tr>\n",
       "            <td>Labour Market Participation</td> <td>Labour market participation rate (LFPR)           </td> <td>                                                 </td>\n",
       "        </tr>\n",
       "    </tbody>\n",
       "</table>"
      ],
      "text/plain": [
       "Dimension                   | Indicator                                          | Indicator 2\n",
       "Women's Reproductive Health | Maternal mortality ratio (MMR)                     | Adolescent fertility rate (AFR)\n",
       "Empowerment                 | Share of parliamentary seats held by each sex (PR) | Attainment at secondary and higher education (SE)\n",
       "Labour Market Participation | Labour market participation rate (LFPR)            |"
      ]
     },
     "execution_count": 7,
     "metadata": {},
     "output_type": "execute_result"
    }
   ],
   "source": [
    "#Simply run this cell to show the table\n",
    "\n",
    "Table1 = Table().with_column(\n",
    "        \"Dimension\", (\"Women's Reproductive Health\", \"Empowerment\", \"Labour Market Participation\"),\n",
    "        \"Indicator\", (\"Maternal mortality ratio (MMR)\", \"Share of parliamentary seats held by each sex (PR)\", \"Labour market participation rate (LFPR)\"),\n",
    "        \"Indicator 2\", (\"Adolescent fertility rate (AFR)\", \"Attainment at secondary and higher education (SE)\", \"\"))\n",
    "Table1"
   ]
  },
  {
   "cell_type": "markdown",
   "metadata": {
    "collapsed": true
   },
   "source": [
    "### 2.1 Women’s reproductive health:\n",
    "The reproductive health dimension is measured by two indicators: the maternal mortality ratio and the adolescent fertility rate. These indicators are used because the degree to which a society prioritizes the well-being of women during childbirth is intrinsically important, and is also a clear signal of women’s status in society. In many countries around the world, the risk of death in childbirth could be significantly reduced through the provision of basic education, contraceptives, antenatal health services and skilled birth attendance. Adolescent childbearing tends to prevent young women from achieving higher levels of education, which is necessary for success in the labour market and accessing other life opportunities. Early childbirth also poses significant health risks for the mother and her baby. Some studies suggest that because their bodies are not yet fully developed, teenage mothers’ risk of death in childbirth is five times higher."
   ]
  },
  {
   "cell_type": "markdown",
   "metadata": {},
   "source": [
    "### 2.2 Empowerment:\n",
    "The empowerment dimension is also measured by two indicators: the share of parliamentary seats held by each sex, and the percentages of men and women who are 25 years and above and have secondary or higher levels of educational attainment. Women have traditionally been disadvantaged in the political arena at all levels of government. Estimates for parliamentary representation at the national level reflect women’s visibility in political leadership and society more generally, and the extent to which women hold high offices. In turn, higher levels of educational attainment expand women’s freedoms by strengthening their capacity to question, reflect and act, and also to access information. Educated women are more likely to enjoy meaningful work, to use their voices in public debate, to be able to care for their own health and that of their family, and to act as agents throughout society. We use secondary and higher educational attainment because disparities in these levels strongly affect women’s career and leadership prospects. "
   ]
  },
  {
   "cell_type": "markdown",
   "metadata": {},
   "source": [
    "### 2.3 Labour market participation:\n",
    "The labour dimension is measured by the labour force participation rate of women and men. Women may not participate in the labour market for several reasons, including exclusion, unequal pay and incentives, household duties or caring for relatives, and pregnancy and childcare. Thus, the level of women’s participation reflects several aspects, including possibilities and permission to work, which in turn includes labour market opportunities, and the capability of women to combine productive work with duties of care and reproductive responsibilities. Clearly this is affected also by men’s complementary activities in the household. "
   ]
  },
  {
   "cell_type": "markdown",
   "metadata": {},
   "source": [
    "### 2.4 Data sources:\n",
    "The GII relies on data from the following publicly available databases:\n",
    "\n",
    "• Maternal mortality ratio (MMR): UN Maternal Mortality Estimation Group (2016) [used to from UNICEF’s The State of the World’s Children]\n",
    "\n",
    "• Adolescent birth rate (ABR): UN Department of Economic and Social Affair’s World Population Prospects (UNDESA)\n",
    "\n",
    "• Share of parliamentary seats held by each sex (PR): International Parliamentary Union (IPU)\n",
    "\n",
    "• Attainment at secondary and higher education levels (SE): UNESCO Institute for Statistics (2016) \n",
    "[Educational attainment statistics from Barro and Lee (2010) datasets]\n",
    "\n",
    "• Labour market participation rate (LFPR): International Labour Organization’s LABORSTA database (ILO)\n",
    "\n",
    "Data from the above sources, compiled by country, can be accessed through the International Human Development Indicators website at: http://HDR.undp.org/en/data/profiles/."
   ]
  },
  {
   "cell_type": "markdown",
   "metadata": {},
   "source": [
    "## 3. MEASUREMENT:\n",
    "\n",
    "### 3.1 The geometric mean and GII\n",
    "### 3.2 Computing the GII: Step-by-Step\n",
    "\n",
    "Q: Why 10/MMR not 1/MMR?"
   ]
  },
  {
   "cell_type": "markdown",
   "metadata": {},
   "source": [
    "### 3.3 Example\n",
    "In this section, We'll calculate the GII for two sample countries. Let's say they are \"Republic of Bears\" and \"The United Stanfords\". The achievements of men and women of these two countries are summarized in the table below. "
   ]
  },
  {
   "cell_type": "code",
   "execution_count": 25,
   "metadata": {
    "collapsed": true
   },
   "outputs": [],
   "source": [
    "#Simply RUN this cell to show the table \n",
    "\n",
    "Republic_of_Bears = Table().with_column(\n",
    "    \"Gender\",(\"Female\", \"Male\"),\"MMR\",(210, \"-\"),\"ABR\",(82.8, \"-\"),\"PR\",(0.25, 0.75),\"SE\",(0.442, 0.458),\"LFPR\",(0.481, 0.792))\n",
    "\n",
    "The_United_Stanfords = Table().with_column(\n",
    "        \"Gender\",(\"Female\", \"Male\"),\"MMR\",(150, \"-\"),\"ABR\",(108.7, \"-\"),\"PR\",(0.171, 0.829),\"SE\",(0.497, 0.418),\"LFPR\",(0.546, 0.836))"
   ]
  },
  {
   "cell_type": "code",
   "execution_count": 26,
   "metadata": {},
   "outputs": [
    {
     "data": {
      "text/html": [
       "<table border=\"1\" class=\"dataframe\">\n",
       "    <thead>\n",
       "        <tr>\n",
       "            <th>Gender</th> <th>MMR</th> <th>ABR</th> <th>PR</th> <th>SE</th> <th>LFPR</th>\n",
       "        </tr>\n",
       "    </thead>\n",
       "    <tbody>\n",
       "        <tr>\n",
       "            <td>Female</td> <td>210 </td> <td>82.8</td> <td>0.25</td> <td>0.442</td> <td>0.481</td>\n",
       "        </tr>\n",
       "    </tbody>\n",
       "        <tr>\n",
       "            <td>Male  </td> <td>-   </td> <td>-   </td> <td>0.75</td> <td>0.458</td> <td>0.792</td>\n",
       "        </tr>\n",
       "    </tbody>\n",
       "</table>"
      ],
      "text/plain": [
       "Gender | MMR  | ABR  | PR   | SE    | LFPR\n",
       "Female | 210  | 82.8 | 0.25 | 0.442 | 0.481\n",
       "Male   | -    | -    | 0.75 | 0.458 | 0.792"
      ]
     },
     "execution_count": 26,
     "metadata": {},
     "output_type": "execute_result"
    }
   ],
   "source": [
    "Republic_of_Bears"
   ]
  },
  {
   "cell_type": "code",
   "execution_count": 27,
   "metadata": {},
   "outputs": [
    {
     "data": {
      "text/html": [
       "<table border=\"1\" class=\"dataframe\">\n",
       "    <thead>\n",
       "        <tr>\n",
       "            <th>Gender</th> <th>MMR</th> <th>ABR</th> <th>PR</th> <th>SE</th> <th>LFPR</th>\n",
       "        </tr>\n",
       "    </thead>\n",
       "    <tbody>\n",
       "        <tr>\n",
       "            <td>Female</td> <td>150 </td> <td>108.7</td> <td>0.171</td> <td>0.497</td> <td>0.546</td>\n",
       "        </tr>\n",
       "    </tbody>\n",
       "        <tr>\n",
       "            <td>Male  </td> <td>-   </td> <td>-    </td> <td>0.829</td> <td>0.418</td> <td>0.836</td>\n",
       "        </tr>\n",
       "    </tbody>\n",
       "</table>"
      ],
      "text/plain": [
       "Gender | MMR  | ABR   | PR    | SE    | LFPR\n",
       "Female | 150  | 108.7 | 0.171 | 0.497 | 0.546\n",
       "Male   | -    | -     | 0.829 | 0.418 | 0.836"
      ]
     },
     "execution_count": 27,
     "metadata": {},
     "output_type": "execute_result"
    }
   ],
   "source": [
    "The_United_Stanfords"
   ]
  },
  {
   "cell_type": "markdown",
   "metadata": {},
   "source": [
    "First, we calculate the three dimension indices:\n",
    "\n",
    "1.The **reproductive health index** of women for both countries:\n",
    "\n",
    "Republic of Bears’ reproductive health index: (10/MMR × 1/ABR)^(1/2) = (10/210 × 1/82.8)^(1/2) = 0.0240\n",
    "\n",
    "The United Stanfords’ reproductive health index: (10/150 × 1/108.7)^(1/2) = 0.0248\n",
    "\n",
    "2.Then the **empowerment index** of women for both countries:\n",
    "\n",
    "Republic of Bears’ empowerment index: (0.25×0.442)^(1/2) = 0.332\n",
    "\n",
    "The United Stanfords’ empowerment index: (0.171×0.497)^(1/2) = 0.292\n",
    "\n",
    "\n",
    "3.Finally, the **labour market participation index** of women for both countries: \n",
    "\n",
    "Republic of Bears’ labour market participation index: 0.481\n",
    "\n",
    "The United Stanfords’ labour market participation index: 0.546"
   ]
  },
  {
   "cell_type": "markdown",
   "metadata": {},
   "source": [
    "Next, we need to perform the same calculations for men in both countries. The empowerment and labour market participation indices are calculated in the same way for men and women. In the reproductive health dimension, men are attributed a score equal to one.\n",
    "\n",
    "Then, we need to aggregate the achievements by geometric mean to obtain the overall achievement for each gender. For females and males we use the formulations below: "
   ]
  },
  {
   "cell_type": "code",
   "execution_count": 43,
   "metadata": {},
   "outputs": [
    {
     "ename": "SyntaxError",
     "evalue": "invalid syntax (<ipython-input-43-6e6734631cb9>, line 1)",
     "traceback": [
      "\u001b[0;36m  File \u001b[0;32m\"<ipython-input-43-6e6734631cb9>\"\u001b[0;36m, line \u001b[0;32m1\u001b[0m\n\u001b[0;31m    *link to pics of formulation*\u001b[0m\n\u001b[0m           ^\u001b[0m\n\u001b[0;31mSyntaxError\u001b[0m\u001b[0;31m:\u001b[0m invalid syntax\n"
     ],
     "output_type": "error"
    }
   ],
   "source": [
    "*link to pics of formulation*"
   ]
  },
  {
   "cell_type": "markdown",
   "metadata": {},
   "source": [
    "For **Republic of Bears**, we now have:\n",
    "\n",
    "Famale: (0.0240 × 0.332 × 0.481) ^ (1/3) = 0.156\n",
    "    \n",
    "Male: (1 × (0.75×0.458)^(1/2) ×  0.792) ^ (1/3) = 0.774\n",
    "\n",
    "For **The United Stanfords**, we now have:\n",
    "\n",
    "Famale: (0.0248 × 0.292 × 0.546) ^ (1/3) = 0.158\n",
    "    \n",
    "Male: (1 × (0.829×0.418)^(1/2) ×  0.836) ^ (1/3) = 0.790"
   ]
  },
  {
   "cell_type": "markdown",
   "metadata": {},
   "source": [
    "# NOT FINISHED\n",
    "\n",
    "Next, we aggregate across gender groups, using a harmonic mean\n",
    "\n",
    "Now, we calculate the geometric mean of the arithmetic means for each indicator\n",
    "\n",
    "We then calculate the geometric mean of arithmetic mean\n",
    "\n",
    "Finally, we calculate the GII"
   ]
  },
  {
   "cell_type": "markdown",
   "metadata": {},
   "source": [
    "## 3.4 Interpreting GII results\n",
    "\n",
    "The GII is designed to capture the inequality in achievements across genders using three important dimensions of human development. It is assumed that, for a country, the maximum ideal human development is achieved for a given set of achievements whenever they are equally distributed across genders. The GII of a country is interpreted therefore as the loss in human development due to the unequal distribution in the GII achievements between men and women as a percentage of the maximum ideal human development. This interpretation of the GII is analogous to the interpretation of the IHDI. However, note that since the GII is based on three different dimensions than those used for the HDI, it cannot be interpreted as the loss in HDI due to gender inequality."
   ]
  },
  {
   "cell_type": "markdown",
   "metadata": {},
   "source": [
    "## N. Limitations of the Global GII\n",
    "\n",
    "The GII’s use of reproductive health indicators has been quentioned. Naturally, data for the two indicators are only available for women, making interpretations of the GII problematic. The GII responds to this discrepancy by giving men a value of “one” in this dimension—a value which signifies that men have achieved the best possible outcome here. However, a measure of inequality must consist of measurable achievements for all the groups involved. The two indicators—maternal mortality ratio and adolescent fertility rate—should instead, it is said, be used to construct an index that compares the state of women across countries, rather than a gender inequality index, comparing the situation between women and men. \n",
    "\n",
    "Additionally, the value of the GII doesn’t tell us which gender is doing better or worse. Instead the GII score tells us the level of inequality between two groups—men and women—but not which group is disadvantaged.\n",
    "\n",
    "Meanwhile, several other gender indices are used by different world institutions, such as the World Economic Forum’s Global Gender Gap Index (GGI), the Economist Intelligence Unit’s Women’s Economic Opportunity Index (WEOI), the OECD’s Social Institutions and Gender Index (SIGI), and the Gender Equity Index (GEI) developed by Social Watch. They differ from the GII in many ways yet can be useful complements as we seek to understand the underlying causes of gender inequalities in economic participation. "
   ]
  },
  {
   "cell_type": "code",
   "execution_count": null,
   "metadata": {
    "collapsed": true
   },
   "outputs": [],
   "source": [
    ""
   ]
  }
 ],
 "metadata": {
  "kernelspec": {
   "display_name": "Python 3",
   "language": "python",
   "name": "python3"
  },
  "language_info": {
   "codemirror_mode": {
    "name": "ipython",
    "version": 3.0
   },
   "file_extension": ".py",
   "mimetype": "text/x-python",
   "name": "python",
   "nbconvert_exporter": "python",
   "pygments_lexer": "ipython3",
   "version": "3.5.2"
  }
 },
 "nbformat": 4,
 "nbformat_minor": 0
}