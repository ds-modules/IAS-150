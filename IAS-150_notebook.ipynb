{
 "cells": [
  {
   "cell_type": "markdown",
   "metadata": {},
   "source": [
    "# [IAS 150] Migration\n",
    "\n",
    "Estimated Time: 2 Hours <br>\n",
    "Created by: Alexander Almond, Jordan Jomsky, and Timlan Wong\n",
    "\n",
    "Today we will be examining a data set that the UN produces that explores the migrant stock and population of countries. You will produce many visualizations as you explore the data set. Feel free to ask the devlopers questions at any time as they will be walking around during your class. Have fun! \n",
    "\n",
    "### Table of Contents \n",
    "0 - [Basics](#0) <br>\n",
    "1 - [Picking a Variable](#1)<br>\n",
    "2 - [Graphing the Data](#2)<br>\n",
    "3 - [Comparing to Another Country](#3)<br>\n",
    "4 - [Over Time](#4)<br>\n",
    "5 - [Questions](#5)<br>\n",
    "6 - [Feedback](#6)"
   ]
  },
  {
   "cell_type": "markdown",
   "metadata": {},
   "source": [
    "# Basics <a id='0'></a>"
   ]
  },
  {
   "cell_type": "markdown",
   "metadata": {},
   "source": [
    "This webpage is a Jupyter notebook. We have created this specific notebook so that you can run code that we wrote in order to perform data analysis and answer questions. Cells are the boxes of text that all you to populate the notebook with code or text. To edit a cell, double click it. In order to run a cell, click the cell and press `Shift + Enter` while the cell is selected or hit the `▶| Run` button in the toolbar at the top."
   ]
  },
  {
   "cell_type": "code",
   "execution_count": 1,
   "metadata": {},
   "outputs": [],
   "source": [
    "!pip install xlrd -q"
   ]
  },
  {
   "cell_type": "code",
   "execution_count": 2,
   "metadata": {},
   "outputs": [],
   "source": [
    "#Just run this cell\n",
    "#It imports the necessary tools for the code to function\n",
    "%matplotlib inline\n",
    "import pandas as pd\n",
    "import numpy as np\n",
    "import numpy as np\n",
    "from datascience import *\n",
    "import matplotlib.pyplot as plots\n",
    "import math as m\n",
    "import qgrid as q\n",
    "import pandas as pd\n",
    "import sys\n",
    "sys.path.insert(0, \"development\")\n",
    "import grapher as grapher\n",
    "import graphing_functions as graph\n",
    "import warnings\n",
    "warnings.filterwarnings('ignore')\n",
    "from IPython.display import HTML"
   ]
  },
  {
   "cell_type": "markdown",
   "metadata": {},
   "source": [
    "Here's the data. You can scroll horizontally when the table is selected to see the whole data set."
   ]
  },
  {
   "cell_type": "code",
   "execution_count": 3,
   "metadata": {
    "scrolled": true
   },
   "outputs": [
    {
     "data": {
      "text/html": [
       "<table border=\"1\" class=\"dataframe\">\n",
       "    <thead>\n",
       "        <tr>\n",
       "            <th>Code</th> <th>Country</th> <th>Year</th> <th>Migration Type</th> <th>Total Migration</th> <th>Gender</th> <th>Country 1</th> <th>Country 1 Count</th> <th>Country 2</th> <th>Country 2 Count</th> <th>Country 3</th> <th>Country 3 Count</th> <th>Country 4</th> <th>Country 4 Count</th> <th>Country 5</th> <th>Country 5 Count</th> <th>Migrants Under 15 years old</th> <th>Migrants 20-29 years old</th> <th>Migrants 30-39 years old</th> <th>Migrants 40-49 years old</th> <th>Migrants 50 years old and older</th> <th>Admits asylum migrants?</th> <th>Has migrate to countries abroad as refugees/asylum-seekers?</th> <th>War or Genocide?</th> <th>Government instability?</th> <th>Organized crime?</th> <th>Economic recession?</th> <th>Financial crisis?</th> <th>GDP</th> <th>Natural disasters?</th> <th>Man-made disasters?</th> <th>Passport power rating</th> <th>Changes over-time in access to visas?</th>\n",
       "        </tr>\n",
       "    </thead>\n",
       "    <tbody>\n",
       "        <tr>\n",
       "            <td>4   </td> <td>Afghanistan</td> <td>1,990</td> <td>Emigration    </td> <td>3,661,547      </td> <td>female</td> <td>Iran     </td> <td>1,788,296      </td> <td>Pakistan </td> <td>1,673,100      </td> <td>Saudi Arabia</td> <td>110,590        </td> <td>Germany  </td> <td>21,242         </td> <td>United States of America</td> <td>15,757         </td> <td>nan                        </td> <td>nan                     </td> <td>nan                     </td> <td>nan                     </td> <td>nan                            </td> <td>Yes                    </td> <td>Yes                                                        </td> <td>Yes             </td> <td>Yes                    </td> <td>Yes             </td> <td>Yes                </td> <td>Yes              </td> <td>3,622</td> <td>Yes               </td> <td>Yes                </td> <td>30                   </td> <td>Yes                                  </td>\n",
       "        </tr>\n",
       "    </tbody>\n",
       "</table>\n",
       "<p>... (839 rows omitted)</p>"
      ],
      "text/plain": [
       "<IPython.core.display.HTML object>"
      ]
     },
     "metadata": {},
     "output_type": "display_data"
    }
   ],
   "source": [
    "# Run this cell to display the dataset\n",
    "data = Table().from_df(pd.read_csv(\"development/migrant_table_final_appended.csv\")).sort(\"Country\")\n",
    "data.show(1)"
   ]
  },
  {
   "cell_type": "markdown",
   "metadata": {},
   "source": [
    "Here are all the countries in the table!"
   ]
  },
  {
   "cell_type": "code",
   "execution_count": 4,
   "metadata": {},
   "outputs": [
    {
     "data": {
      "text/html": [
       "<table border=\"1\" class=\"dataframe\">\n",
       "    <thead>\n",
       "        <tr>\n",
       "            <th>Country</th> <th>count</th>\n",
       "        </tr>\n",
       "    </thead>\n",
       "    <tbody>\n",
       "        <tr>\n",
       "            <td>Afghanistan </td> <td>42   </td>\n",
       "        </tr>\n",
       "        <tr>\n",
       "            <td>China       </td> <td>42   </td>\n",
       "        </tr>\n",
       "        <tr>\n",
       "            <td>Cuba        </td> <td>42   </td>\n",
       "        </tr>\n",
       "        <tr>\n",
       "            <td>El Salvador </td> <td>42   </td>\n",
       "        </tr>\n",
       "        <tr>\n",
       "            <td>Ethiopia    </td> <td>42   </td>\n",
       "        </tr>\n",
       "        <tr>\n",
       "            <td>Ghana       </td> <td>42   </td>\n",
       "        </tr>\n",
       "        <tr>\n",
       "            <td>Guatemala   </td> <td>42   </td>\n",
       "        </tr>\n",
       "        <tr>\n",
       "            <td>Honduras    </td> <td>42   </td>\n",
       "        </tr>\n",
       "        <tr>\n",
       "            <td>India       </td> <td>42   </td>\n",
       "        </tr>\n",
       "        <tr>\n",
       "            <td>Iraq        </td> <td>42   </td>\n",
       "        </tr>\n",
       "        <tr>\n",
       "            <td>Kenya       </td> <td>42   </td>\n",
       "        </tr>\n",
       "        <tr>\n",
       "            <td>Mexico      </td> <td>42   </td>\n",
       "        </tr>\n",
       "        <tr>\n",
       "            <td>Nigeria     </td> <td>42   </td>\n",
       "        </tr>\n",
       "        <tr>\n",
       "            <td>Pakistan    </td> <td>42   </td>\n",
       "        </tr>\n",
       "        <tr>\n",
       "            <td>Philippines </td> <td>42   </td>\n",
       "        </tr>\n",
       "        <tr>\n",
       "            <td>Somalia     </td> <td>42   </td>\n",
       "        </tr>\n",
       "        <tr>\n",
       "            <td>South Africa</td> <td>42   </td>\n",
       "        </tr>\n",
       "        <tr>\n",
       "            <td>Syria       </td> <td>42   </td>\n",
       "        </tr>\n",
       "        <tr>\n",
       "            <td>Venezuela   </td> <td>42   </td>\n",
       "        </tr>\n",
       "        <tr>\n",
       "            <td>Vietnam     </td> <td>42   </td>\n",
       "        </tr>\n",
       "    </tbody>\n",
       "</table>"
      ],
      "text/plain": [
       "<IPython.core.display.HTML object>"
      ]
     },
     "metadata": {},
     "output_type": "display_data"
    }
   ],
   "source": [
    "# Run this cell to display the countries\n",
    "countries = data.group(\"Country\").show(20)\n",
    "countries"
   ]
  },
  {
   "cell_type": "markdown",
   "metadata": {},
   "source": [
    "**Please take note of the column labels and the spelling of countries. All code is case-sensitive and spelling sensitve.**"
   ]
  },
  {
   "cell_type": "markdown",
   "metadata": {},
   "source": [
    "Let's look at this data set more closely to better understand how we can use it."
   ]
  },
  {
   "cell_type": "markdown",
   "metadata": {},
   "source": [
    "### Data Context"
   ]
  },
  {
   "cell_type": "markdown",
   "metadata": {},
   "source": [
    "After running the cell below, a map will display that you can use to see where people are immigrating and emigrating most often. Replace the ellipses with the data you want to start to get a sense of what the data is telling us."
   ]
  },
  {
   "cell_type": "code",
   "execution_count": 5,
   "metadata": {},
   "outputs": [
    {
     "ename": "IndexError",
     "evalue": "index 0 is out of bounds for axis 0 with size 0",
     "output_type": "error",
     "traceback": [
      "\u001b[0;31m---------------------------------------------------------------------------\u001b[0m",
      "\u001b[0;31mIndexError\u001b[0m                                Traceback (most recent call last)",
      "\u001b[0;32m<ipython-input-5-ee9916a61d20>\u001b[0m in \u001b[0;36m<module>\u001b[0;34m\u001b[0m\n\u001b[1;32m      3\u001b[0m \u001b[0myear\u001b[0m \u001b[0;34m=\u001b[0m \u001b[0;34m...\u001b[0m \u001b[0;31m# 1990, 1995, 2000, 2005, 2010, 2015, 2017\u001b[0m\u001b[0;34m\u001b[0m\u001b[0;34m\u001b[0m\u001b[0m\n\u001b[1;32m      4\u001b[0m \u001b[0mmigration_type\u001b[0m \u001b[0;34m=\u001b[0m \u001b[0;34m...\u001b[0m \u001b[0;31m# 1 = Immigration and 2 = Emigration\u001b[0m\u001b[0;34m\u001b[0m\u001b[0;34m\u001b[0m\u001b[0m\n\u001b[0;32m----> 5\u001b[0;31m \u001b[0mgraph\u001b[0m\u001b[0;34m.\u001b[0m\u001b[0mmap_and_graph\u001b[0m\u001b[0;34m(\u001b[0m\u001b[0mcountry\u001b[0m\u001b[0;34m,\u001b[0m \u001b[0mgender\u001b[0m\u001b[0;34m,\u001b[0m \u001b[0myear\u001b[0m\u001b[0;34m,\u001b[0m \u001b[0mmigration_type\u001b[0m\u001b[0;34m)\u001b[0m\u001b[0;34m\u001b[0m\u001b[0;34m\u001b[0m\u001b[0m\n\u001b[0m",
      "\u001b[0;32m~/IAS-150/development/graphing_functions.py\u001b[0m in \u001b[0;36mmap_and_graph\u001b[0;34m(country, gender, year, migration_type)\u001b[0m\n\u001b[1;32m    130\u001b[0m     \u001b[0mfig1\u001b[0m\u001b[0;34m,\u001b[0m \u001b[0maxes\u001b[0m \u001b[0;34m=\u001b[0m \u001b[0mplt\u001b[0m\u001b[0;34m.\u001b[0m\u001b[0msubplots\u001b[0m\u001b[0;34m(\u001b[0m\u001b[0mnrows\u001b[0m\u001b[0;34m=\u001b[0m\u001b[0;36m1\u001b[0m\u001b[0;34m,\u001b[0m \u001b[0mncols\u001b[0m\u001b[0;34m=\u001b[0m\u001b[0;36m2\u001b[0m\u001b[0;34m,\u001b[0m \u001b[0mfigsize\u001b[0m\u001b[0;34m=\u001b[0m\u001b[0;34m(\u001b[0m\u001b[0;36m30\u001b[0m\u001b[0;34m,\u001b[0m\u001b[0;36m15\u001b[0m\u001b[0;34m)\u001b[0m\u001b[0;34m)\u001b[0m\u001b[0;34m;\u001b[0m\u001b[0;34m\u001b[0m\u001b[0;34m\u001b[0m\u001b[0m\n\u001b[1;32m    131\u001b[0m \u001b[0;34m\u001b[0m\u001b[0m\n\u001b[0;32m--> 132\u001b[0;31m     \u001b[0mg1\u001b[0m \u001b[0;34m=\u001b[0m \u001b[0mgraph_it\u001b[0m\u001b[0;34m(\u001b[0m\u001b[0mmigrant_data\u001b[0m\u001b[0;34m,\u001b[0m \u001b[0mcountry\u001b[0m\u001b[0;34m,\u001b[0m \u001b[0mgender\u001b[0m\u001b[0;34m,\u001b[0m \u001b[0myear\u001b[0m\u001b[0;34m,\u001b[0m \u001b[0mmigration_type\u001b[0m\u001b[0;34m,\u001b[0m \u001b[0maxes\u001b[0m\u001b[0;34m[\u001b[0m\u001b[0;36m0\u001b[0m\u001b[0;34m]\u001b[0m\u001b[0;34m,\u001b[0m \u001b[0mlog\u001b[0m\u001b[0;34m=\u001b[0m\u001b[0;32mFalse\u001b[0m\u001b[0;34m)\u001b[0m\u001b[0;34m\u001b[0m\u001b[0;34m\u001b[0m\u001b[0m\n\u001b[0m\u001b[1;32m    133\u001b[0m     \u001b[0mg2\u001b[0m \u001b[0;34m=\u001b[0m \u001b[0mgraph_it\u001b[0m\u001b[0;34m(\u001b[0m\u001b[0mmigrant_data\u001b[0m\u001b[0;34m,\u001b[0m \u001b[0mcountry\u001b[0m\u001b[0;34m,\u001b[0m \u001b[0mgender\u001b[0m\u001b[0;34m,\u001b[0m \u001b[0myear\u001b[0m\u001b[0;34m,\u001b[0m \u001b[0mmigration_type\u001b[0m\u001b[0;34m,\u001b[0m \u001b[0maxes\u001b[0m\u001b[0;34m[\u001b[0m\u001b[0;36m1\u001b[0m\u001b[0;34m]\u001b[0m\u001b[0;34m,\u001b[0m \u001b[0mlog\u001b[0m\u001b[0;34m=\u001b[0m\u001b[0;32mTrue\u001b[0m\u001b[0;34m)\u001b[0m\u001b[0;34m\u001b[0m\u001b[0;34m\u001b[0m\u001b[0m\n\u001b[1;32m    134\u001b[0m     \u001b[0mmap_it\u001b[0m\u001b[0;34m(\u001b[0m\u001b[0mmigrant_data\u001b[0m\u001b[0;34m,\u001b[0m \u001b[0mcountry\u001b[0m\u001b[0;34m,\u001b[0m \u001b[0mgender\u001b[0m\u001b[0;34m,\u001b[0m \u001b[0myear\u001b[0m\u001b[0;34m,\u001b[0m \u001b[0mmigration_type\u001b[0m\u001b[0;34m)\u001b[0m\u001b[0;34m\u001b[0m\u001b[0;34m\u001b[0m\u001b[0m\n",
      "\u001b[0;32m~/IAS-150/development/graphing_functions.py\u001b[0m in \u001b[0;36mgraph_it\u001b[0;34m(migrant_data, country, gender, year, migration_type, axis, log)\u001b[0m\n\u001b[1;32m    124\u001b[0m \u001b[0;34m\u001b[0m\u001b[0m\n\u001b[1;32m    125\u001b[0m \u001b[0;32mdef\u001b[0m \u001b[0mgraph_it\u001b[0m\u001b[0;34m(\u001b[0m\u001b[0mmigrant_data\u001b[0m\u001b[0;34m,\u001b[0m \u001b[0mcountry\u001b[0m\u001b[0;34m,\u001b[0m \u001b[0mgender\u001b[0m\u001b[0;34m,\u001b[0m \u001b[0myear\u001b[0m\u001b[0;34m,\u001b[0m \u001b[0mmigration_type\u001b[0m\u001b[0;34m,\u001b[0m \u001b[0maxis\u001b[0m\u001b[0;34m,\u001b[0m \u001b[0mlog\u001b[0m\u001b[0;34m=\u001b[0m\u001b[0;32mFalse\u001b[0m\u001b[0;34m)\u001b[0m\u001b[0;34m:\u001b[0m\u001b[0;34m\u001b[0m\u001b[0;34m\u001b[0m\u001b[0m\n\u001b[0;32m--> 126\u001b[0;31m     \u001b[0;32mreturn\u001b[0m \u001b[0mextract_top_5\u001b[0m\u001b[0;34m(\u001b[0m\u001b[0mmigrant_data\u001b[0m\u001b[0;34m,\u001b[0m \u001b[0mcountry\u001b[0m\u001b[0;34m,\u001b[0m \u001b[0mgender\u001b[0m\u001b[0;34m,\u001b[0m \u001b[0myear\u001b[0m\u001b[0;34m,\u001b[0m \u001b[0mmigration_type\u001b[0m\u001b[0;34m,\u001b[0m \u001b[0mlog\u001b[0m\u001b[0;34m=\u001b[0m\u001b[0mlog\u001b[0m\u001b[0;34m)\u001b[0m\u001b[0;34m[\u001b[0m\u001b[0;36m1\u001b[0m\u001b[0;34m]\u001b[0m\u001b[0;34m.\u001b[0m\u001b[0mplot\u001b[0m\u001b[0;34m(\u001b[0m\u001b[0mkind\u001b[0m\u001b[0;34m=\u001b[0m\u001b[0;34m'bar'\u001b[0m\u001b[0;34m,\u001b[0m\u001b[0max\u001b[0m\u001b[0;34m=\u001b[0m\u001b[0maxis\u001b[0m\u001b[0;34m)\u001b[0m\u001b[0;34m\u001b[0m\u001b[0;34m\u001b[0m\u001b[0m\n\u001b[0m\u001b[1;32m    127\u001b[0m \u001b[0;34m\u001b[0m\u001b[0m\n\u001b[1;32m    128\u001b[0m \u001b[0;32mdef\u001b[0m \u001b[0mmap_and_graph\u001b[0m\u001b[0;34m(\u001b[0m\u001b[0mcountry\u001b[0m\u001b[0;34m,\u001b[0m \u001b[0mgender\u001b[0m\u001b[0;34m,\u001b[0m \u001b[0myear\u001b[0m\u001b[0;34m,\u001b[0m \u001b[0mmigration_type\u001b[0m\u001b[0;34m)\u001b[0m\u001b[0;34m:\u001b[0m\u001b[0;34m\u001b[0m\u001b[0;34m\u001b[0m\u001b[0m\n",
      "\u001b[0;32m~/IAS-150/development/graphing_functions.py\u001b[0m in \u001b[0;36mextract_top_5\u001b[0;34m(migrant_data, country, gender, year, migration_type, log)\u001b[0m\n\u001b[1;32m     40\u001b[0m \u001b[0;34m\u001b[0m\u001b[0m\n\u001b[1;32m     41\u001b[0m \u001b[0;34m\u001b[0m\u001b[0m\n\u001b[0;32m---> 42\u001b[0;31m     \u001b[0mneeded1\u001b[0m \u001b[0;34m=\u001b[0m \u001b[0mneeded1\u001b[0m\u001b[0;34m.\u001b[0m\u001b[0mapply\u001b[0m\u001b[0;34m(\u001b[0m\u001b[0;32mlambda\u001b[0m \u001b[0mx\u001b[0m\u001b[0;34m:\u001b[0m \u001b[0mx\u001b[0m\u001b[0;34m.\u001b[0m\u001b[0mtolist\u001b[0m\u001b[0;34m(\u001b[0m\u001b[0;34m)\u001b[0m\u001b[0;34m,\u001b[0m \u001b[0maxis\u001b[0m\u001b[0;34m=\u001b[0m\u001b[0;36m1\u001b[0m\u001b[0;34m)\u001b[0m\u001b[0;34m.\u001b[0m\u001b[0mvalues\u001b[0m\u001b[0;34m[\u001b[0m\u001b[0;36m0\u001b[0m\u001b[0;34m]\u001b[0m\u001b[0;34m\u001b[0m\u001b[0;34m\u001b[0m\u001b[0m\n\u001b[0m\u001b[1;32m     43\u001b[0m \u001b[0;34m\u001b[0m\u001b[0m\n\u001b[1;32m     44\u001b[0m     \u001b[0mcountry_list\u001b[0m \u001b[0;34m=\u001b[0m \u001b[0mneeded1\u001b[0m\u001b[0;34m[\u001b[0m\u001b[0;36m0\u001b[0m\u001b[0;34m:\u001b[0m\u001b[0;34m:\u001b[0m\u001b[0;36m2\u001b[0m\u001b[0;34m]\u001b[0m\u001b[0;34m\u001b[0m\u001b[0;34m\u001b[0m\u001b[0m\n",
      "\u001b[0;31mIndexError\u001b[0m: index 0 is out of bounds for axis 0 with size 0"
     ]
    },
    {
     "data": {
      "image/png": "[encoded data removed]",
      "text/plain": [
       "<Figure size 2160x1080 with 2 Axes>"
      ]
     },
     "metadata": {
      "needs_background": "light"
     },
     "output_type": "display_data"
    }
   ],
   "source": [
    "country = \"...\" # Name of the country of interest\n",
    "gender = \"...\" # male, female, or total (lowercase)\n",
    "year = ... # 1990, 1995, 2000, 2005, 2010, 2015, 2017\n",
    "migration_type = ... # 1 = Immigration and 2 = Emigration\n",
    "graph.map_and_graph(country, gender, year, migration_type)"
   ]
  },
  {
   "cell_type": "markdown",
   "metadata": {},
   "source": [
    "Now, let's learn how to do a few basic functions on tables to get answers about the data set."
   ]
  },
  {
   "cell_type": "markdown",
   "metadata": {},
   "source": [
    "#### The `where` function"
   ]
  },
  {
   "cell_type": "markdown",
   "metadata": {},
   "source": [
    "The `where` function can be used on a data set to find *where* the data meets the condition you set for it. A function is what follows the `.` and is used to manipulate data. The `where` function takes in two parameters, a name of a column and a condition or value to match the data to. Below, let's use the where function to show only data for your country."
   ]
  },
  {
   "cell_type": "code",
   "execution_count": null,
   "metadata": {
    "scrolled": true
   },
   "outputs": [],
   "source": [
    "# Replace the elipsis with your country name. DO NOT REMOVE THE QUOTES!\n",
    "# Then, run the cell.\n",
    "my_country = \"...\"\n",
    "country_data = data.where(\"Country\", my_country)\n",
    "country_data.show(1)"
   ]
  },
  {
   "cell_type": "markdown",
   "metadata": {},
   "source": [
    "It looks like this table is too long and doesn't give us a lot of information. Let's call the `where` function again. However, let's use it so that we will only look at **immigration of men** into your country."
   ]
  },
  {
   "cell_type": "code",
   "execution_count": null,
   "metadata": {
    "scrolled": false
   },
   "outputs": [],
   "source": [
    "# Replace each elipsis in line with the above description. \n",
    "# DO NOT REMOVE THE QUOTES!\n",
    "# Then, run the cell.\n",
    "migration_type = \"...\"\n",
    "gender = \"...\" #Gender is not capitalized\n",
    "immigration_data = country_data.where(\"Migration Type\", migration_type)\n",
    "male_immigration_data = immigration_data.where(\"Gender\", gender)\n",
    "male_immigration_data"
   ]
  },
  {
   "cell_type": "markdown",
   "metadata": {},
   "source": [
    "Now, we have a table that we can analyze! Let's do some visualizations."
   ]
  },
  {
   "cell_type": "markdown",
   "metadata": {},
   "source": [
    "#### Visualizing Data"
   ]
  },
  {
   "cell_type": "markdown",
   "metadata": {},
   "source": [
    "##### Bar Graph"
   ]
  },
  {
   "cell_type": "markdown",
   "metadata": {},
   "source": [
    "Let's create a bar graph of the total male immigration for each year for your country. "
   ]
  },
  {
   "cell_type": "code",
   "execution_count": null,
   "metadata": {},
   "outputs": [],
   "source": [
    "# Run this cell.\n",
    "male_immigration_data.bar(\"Year\", \"Total Migration\")\n",
    "plots.ylabel(\"Total Male Migrants to \" + my_country);"
   ]
  },
  {
   "cell_type": "markdown",
   "metadata": {},
   "source": [
    "The `bar` function is used to create bar charts like the one above. It takes in the names of two columns in quotes with the first one on the x-axis and the second one on the y-axis."
   ]
  },
  {
   "cell_type": "markdown",
   "metadata": {},
   "source": [
    "##### Line Graph"
   ]
  },
  {
   "cell_type": "markdown",
   "metadata": {},
   "source": [
    "Let's create a line graph of the total male immigration from the country of origin of most of the migrants over time."
   ]
  },
  {
   "cell_type": "code",
   "execution_count": null,
   "metadata": {},
   "outputs": [],
   "source": [
    "# Run this cell.\n",
    "male_immigration_data.plot(\"Year\", \"Country 1 Count\")\n",
    "plots.ylabel(\"Total \" + male_immigration_data.column(\"Country 1\").item(0) + \" Migrants to \" + my_country);"
   ]
  },
  {
   "cell_type": "markdown",
   "metadata": {},
   "source": [
    "The `plot` function is used to create line graphs like the one above. It takes in the names of two columns in quotes with the first one on the x-axis and the second one on the y-axis."
   ]
  },
  {
   "cell_type": "markdown",
   "metadata": {},
   "source": [
    "Now, you can try a visualization! We will provide code for you to fill in, but try calling the `where` function to focus your data and one of the two visualizations to get a better look at your data. We will also put one more example below."
   ]
  },
  {
   "cell_type": "code",
   "execution_count": null,
   "metadata": {},
   "outputs": [],
   "source": [
    "# Run this to see an example visualization!\n",
    "# This is a line graph for the year 2000 \n",
    "# where the x-axis is the Passport power rating of a country and\n",
    "# the y-axis is the Total Migration out of the country\n",
    "table_y2k = data.where(\"Year\", 2000).where('Gender', 'total').where('Migration Type','Emigration')\n",
    "table_y2k.plot(\"Passport power rating\", \"Total Migration\")"
   ]
  },
  {
   "cell_type": "code",
   "execution_count": null,
   "metadata": {},
   "outputs": [],
   "source": [
    "table_to_visualize = data #call .where on data thrice for the best results\n",
    "table_to_visualize #call either .bar or .plot depending of your data"
   ]
  },
  {
   "cell_type": "markdown",
   "metadata": {},
   "source": [
    "Congratulations! You have learned the basics of data science programming! For the next part, we wrote some higher functions that essentially do the same things you just learned with some plotting magic."
   ]
  },
  {
   "cell_type": "markdown",
   "metadata": {},
   "source": [
    "# Picking Your Variables <a id='1'></a>"
   ]
  },
  {
   "cell_type": "markdown",
   "metadata": {},
   "source": [
    "For this section, you will be selecting your country for the graph. Please type your country's name in the provided space below."
   ]
  },
  {
   "cell_type": "code",
   "execution_count": null,
   "metadata": {},
   "outputs": [],
   "source": [
    "# Replace the elipsis with your country name. DO NOT REMOVE THE QUOTES!\n",
    "# Then, run the cell.\n",
    "my_country = \"...\""
   ]
  },
  {
   "cell_type": "markdown",
   "metadata": {},
   "source": [
    "Next, you will be able to pick a variable to investigate for your country. The options are listed for you below: \n",
    "1. Immigration\n",
    "2. Emigration\n",
    "3. Age (Immigration Only)\n",
    "Our personal favorite is 3 :)"
   ]
  },
  {
   "cell_type": "code",
   "execution_count": null,
   "metadata": {},
   "outputs": [],
   "source": [
    "# Replace the elipsis with the number of the variable \n",
    "# that you would like to explore. No need for quotes.\n",
    "# Then, run the cell.\n",
    "my_variable = ..."
   ]
  },
  {
   "cell_type": "markdown",
   "metadata": {},
   "source": [
    "# Graphing the Data  <a id='2'></a>"
   ]
  },
  {
   "cell_type": "markdown",
   "metadata": {},
   "source": [
    "Now, let's graph the data for your variables! Run the cell below."
   ]
  },
  {
   "cell_type": "code",
   "execution_count": null,
   "metadata": {
    "scrolled": true
   },
   "outputs": [],
   "source": [
    "graph.one_pick_and_graph(data.to_df(), my_country, my_variable)"
   ]
  },
  {
   "cell_type": "code",
   "execution_count": null,
   "metadata": {},
   "outputs": [],
   "source": [
    "graph.migration_side_by_side(my_country)"
   ]
  },
  {
   "cell_type": "markdown",
   "metadata": {},
   "source": [
    "# Comparing to Another Country  <a id='3'></a>"
   ]
  },
  {
   "cell_type": "markdown",
   "metadata": {},
   "source": [
    "Now that we have looked at a graph for your country, let's compare to another country. For this section, you will be selecting your country and we will visualize a specific gender and migration type. Please type your country's name in the provided space below."
   ]
  },
  {
   "cell_type": "code",
   "execution_count": null,
   "metadata": {},
   "outputs": [],
   "source": [
    "# Replace the elipsis with another country name. DO NOT REMOVE THE QUOTES!\n",
    "# Then, run the cell.\n",
    "another_country = \"...\"\n",
    "gender = \"...\" # female, male, or total\n",
    "migration_type = ... # Immigration = 1 or Emigration = 2\n",
    "graph_type = \"...\" # line or bar"
   ]
  },
  {
   "cell_type": "markdown",
   "metadata": {},
   "source": [
    "Now, let's compare! Run the cell below."
   ]
  },
  {
   "cell_type": "code",
   "execution_count": null,
   "metadata": {},
   "outputs": [],
   "source": [
    "graph.multiple_pick_and_graph(gender, migration_type, [my_country, another_country], graph_type)"
   ]
  },
  {
   "cell_type": "markdown",
   "metadata": {},
   "source": [
    "We can also compare them based on GDP! Run the cell below."
   ]
  },
  {
   "cell_type": "code",
   "execution_count": null,
   "metadata": {},
   "outputs": [],
   "source": [
    "graph.gdp(my_country, another_country)"
   ]
  },
  {
   "cell_type": "markdown",
   "metadata": {},
   "source": [
    "# Over Time  <a id='4'></a>"
   ]
  },
  {
   "cell_type": "markdown",
   "metadata": {},
   "source": [
    "Now, we can look at these changes over time. Run the cell below."
   ]
  },
  {
   "cell_type": "code",
   "execution_count": null,
   "metadata": {},
   "outputs": [],
   "source": [
    "graph.one_pick_and_graph(data.to_df(), my_country, my_variable, year=True)"
   ]
  },
  {
   "cell_type": "code",
   "execution_count": null,
   "metadata": {},
   "outputs": [],
   "source": [
    "graph.one_pick_and_graph(data.to_df(), another_country, my_variable, year=True)"
   ]
  },
  {
   "cell_type": "markdown",
   "metadata": {},
   "source": [
    "# Questions  <a id='5'></a>"
   ]
  },
  {
   "cell_type": "markdown",
   "metadata": {},
   "source": [
    "To replace the text with your answer, double click the text."
   ]
  },
  {
   "cell_type": "markdown",
   "metadata": {},
   "source": [
    "1. Does your assigned country admit asylum migrants?\n",
    "If yes, describe if there has been a pattern or time period for asylum migration to your country.\n",
    "If no, explain why not."
   ]
  },
  {
   "cell_type": "markdown",
   "metadata": {},
   "source": [
    "***Replace this with your answer to Q1***"
   ]
  },
  {
   "cell_type": "markdown",
   "metadata": {},
   "source": [
    "2. Do individuals from your assigned country migrate to countries abroad as refugees/asylum-seekers (yes or no)? Explain why or why not.\n"
   ]
  },
  {
   "cell_type": "markdown",
   "metadata": {},
   "source": [
    "***Replace this with your answer to Q2***"
   ]
  },
  {
   "cell_type": "markdown",
   "metadata": {},
   "source": [
    "3. Has your country suffered from war? If so, what years and how many times?"
   ]
  },
  {
   "cell_type": "markdown",
   "metadata": {},
   "source": [
    "***Replace this with your answer to Q3***"
   ]
  },
  {
   "cell_type": "markdown",
   "metadata": {},
   "source": [
    "4. Has your country suffered from genocide? If so, what years and how many times?"
   ]
  },
  {
   "cell_type": "markdown",
   "metadata": {},
   "source": [
    "***Replace this with your answer to Q4***"
   ]
  },
  {
   "cell_type": "markdown",
   "metadata": {},
   "source": [
    "5. Has your country suffered from an unstable government like coups or dictatorship? If so, what years and how many times?"
   ]
  },
  {
   "cell_type": "markdown",
   "metadata": {},
   "source": [
    "***Replace this with your answer to Q5***"
   ]
  },
  {
   "cell_type": "markdown",
   "metadata": {},
   "source": [
    "6. Has your country suffered from organized crime like like military control, cartels, gangs, or other rebellious groups? If so, what years and how many times?"
   ]
  },
  {
   "cell_type": "markdown",
   "metadata": {},
   "source": [
    "***Replace this with your answer to Q6***"
   ]
  },
  {
   "cell_type": "markdown",
   "metadata": {},
   "source": [
    "7. If you answered yes for any question from Q3 to Q6, describe at least one of those political conflicts in detail."
   ]
  },
  {
   "cell_type": "markdown",
   "metadata": {},
   "source": [
    "***Replace this with your answer to Q7***"
   ]
  },
  {
   "cell_type": "markdown",
   "metadata": {},
   "source": [
    "8. Has your country suffered from economic downturns like economic recession or financial crisis? If so, what type? What years? How many times? Also, describe at least one in detail."
   ]
  },
  {
   "cell_type": "markdown",
   "metadata": {},
   "source": [
    "***Replace this with your answer to Q8***"
   ]
  },
  {
   "cell_type": "markdown",
   "metadata": {},
   "source": [
    "9. Has your country suffered from natural disasters? If so, what type? What years? How many times?"
   ]
  },
  {
   "cell_type": "markdown",
   "metadata": {},
   "source": [
    "***Replace this with your answer to Q9***"
   ]
  },
  {
   "cell_type": "markdown",
   "metadata": {},
   "source": [
    "10. Has your country suffered from any man-made disasters? If so, what type? What years? How many times?"
   ]
  },
  {
   "cell_type": "markdown",
   "metadata": {},
   "source": [
    "***Replace this with your answer to Q10***"
   ]
  },
  {
   "cell_type": "markdown",
   "metadata": {},
   "source": [
    "11. Have there been changes over-time for your assigned country’s access to visas? Explain. "
   ]
  },
  {
   "cell_type": "markdown",
   "metadata": {},
   "source": [
    "***Replace this with your answer to Q11***"
   ]
  },
  {
   "cell_type": "markdown",
   "metadata": {},
   "source": [
    "# Feedback  <a id='6'></a>"
   ]
  },
  {
   "cell_type": "markdown",
   "metadata": {},
   "source": [
    "Thank you so much for completeing the notebook! The development team would appreciate your feedback to get a sense of how the notebook experience was! All feedback is confidential and will be used to guide future developers in creating a notebook. We hope you learned a lot from this experience feel free to reach out to us if you have any questions about the development or use of this notebook."
   ]
  },
  {
   "cell_type": "code",
   "execution_count": null,
   "metadata": {},
   "outputs": [],
   "source": [
    "#Just run this cell to display the form below.\n",
    "HTML(\n",
    "\"\"\"\n",
    "<iframe \n",
    "\tsrc=\"https://docs.google.com/forms/d/e/1FAIpQLSe54U3E64kYFWwQHSUpAvWYMuJOdKzbHDZjPa3nMUlHSSs0PQ/viewform\" \n",
    "\twidth=\"100%\" \n",
    "\theight=\"1200px\" \n",
    "\tframeborder=\"0\" \n",
    "\tmarginheight=\"0\" \n",
    "\tmarginwidth=\"0\">\n",
    "\tLoading...\n",
    "</iframe>\n",
    "\"\"\"\n",
    ")"
   ]
  }
 ],
 "metadata": {
  "kernelspec": {
   "display_name": "Python 3",
   "language": "python",
   "name": "python3"
  },
  "language_info": {
   "codemirror_mode": {
    "name": "ipython",
    "version": 3
   },
   "file_extension": ".py",
   "mimetype": "text/x-python",
   "name": "python",
   "nbconvert_exporter": "python",
   "pygments_lexer": "ipython3",
   "version": "3.6.7"
  }
 },
 "nbformat": 4,
 "nbformat_minor": 2
}
