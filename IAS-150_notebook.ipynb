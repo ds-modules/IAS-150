{
 "cells": [
  {
   "cell_type": "markdown",
   "metadata": {},
   "source": [
    "# [IAS 150] Migration\n",
    "\n",
    "Estimated Time: 2 Hours <br>\n",
    "Created by: Alexander Almond, Jordan Jomsky, and Timlan Wong\n",
    "\n",
    "Today we will be examining a data set that the UN produces that explores the migrant stock and population of countries. You will produce many visualizations as you explore the data set. Feel free to ask the devlopers questions at any time as they will be walking around during your class. Have fun! \n",
    "\n",
    "### Table of Contents \n",
    "0 - [Basics](#0) <br>\n",
    "1 - [Picking a Variable](#1)<br>\n",
    "2 - [Graphing the Data](#2)<br>\n",
    "3 - [Comparing to Another Country](#3)<br>\n",
    "4 - [Over Time](#4)<br>\n",
    "5 - [Questions](#5)<br>\n",
    "6 - [Feedback](#6)"
   ]
  },
  {
   "cell_type": "markdown",
   "metadata": {},
   "source": [
    "# Basics <a id='0'></a>"
   ]
  },
  {
   "cell_type": "markdown",
   "metadata": {},
   "source": [
    "This webpage is a Jupyter notebook. We have created this specific notebook so that you can run code that we wrote in order to perform data analysis and answer questions. Cells are the boxes of text that all you to populate the notebook with code or text. To edit a cell, double click it. In order to run a cell, click the cell and press `Shift + Enter` while the cell is selected or hit the `▶| Run` button in the toolbar at the top."
   ]
  },
  {
   "cell_type": "code",
   "execution_count": 3,
   "metadata": {},
   "outputs": [
    {
     "name": "stdout",
     "output_type": "stream",
     "text": [
      "Collecting xlrd\n",
      "  Using cached https://files.pythonhosted.org/packages/b0/16/63576a1a001752e34bf8ea62e367997530dc553b689356b9879339cf45a4/xlrd-1.2.0-py2.py3-none-any.whl\n",
      "Installing collected packages: xlrd\n",
      "Successfully installed xlrd-1.2.0\n",
      "\u001b[33mYou are using pip version 9.0.3, however version 20.0.2 is available.\n",
      "You should consider upgrading via the 'pip install --upgrade pip' command.\u001b[0m\n"
     ]
    }
   ],
   "source": [
    "#Just run this cell\n",
    "#It imports the necessary tools for the code to function\n",
    "!pip install xlrd \n",
    "%matplotlib inline\n",
    "import pandas as pd\n",
    "import numpy as np\n",
    "from datascience import *\n",
    "import matplotlib.pyplot as plots\n",
    "import math as m\n",
    "import qgrid as q\n",
    "import pandas as pd\n",
    "import sys\n",
    "sys.path.insert(0, \"development\")\n",
    "import grapher as grapher\n",
    "import graphing_functions as graph\n",
    "import warnings\n",
    "warnings.filterwarnings('ignore')\n",
    "from IPython.display import HTML"
   ]
  },
  {
   "cell_type": "markdown",
   "metadata": {},
   "source": [
    "Here's the data. You can scroll horizontally when the table is selected to see the whole data set."
   ]
  },
  {
   "cell_type": "code",
   "execution_count": 4,
   "metadata": {
    "scrolled": true
   },
   "outputs": [
    {
     "data": {
      "text/html": [
       "<table border=\"1\" class=\"dataframe\">\n",
       "    <thead>\n",
       "        <tr>\n",
       "            <th>Code</th> <th>Country</th> <th>Year</th> <th>Migration Type</th> <th>Total Migration</th> <th>Gender</th> <th>Country 1</th> <th>Country 1 Count</th> <th>Country 2</th> <th>Country 2 Count</th> <th>Country 3</th> <th>Country 3 Count</th> <th>Country 4</th> <th>Country 4 Count</th> <th>Country 5</th> <th>Country 5 Count</th> <th>Migrants Under 15 years old</th> <th>Migrants 20-29 years old</th> <th>Migrants 30-39 years old</th> <th>Migrants 40-49 years old</th> <th>Migrants 50 years old and older</th> <th>Admits asylum migrants?</th> <th>Has migrate to countries abroad as refugees/asylum-seekers?</th> <th>War or Genocide?</th> <th>Government instability?</th> <th>Organized crime?</th> <th>Economic recession?</th> <th>Financial crisis?</th> <th>GDP</th> <th>Natural disasters?</th> <th>Man-made disasters?</th> <th>Passport power rating</th> <th>Changes over-time in access to visas?</th>\n",
       "        </tr>\n",
       "    </thead>\n",
       "    <tbody>\n",
       "        <tr>\n",
       "            <td>4   </td> <td>Afghanistan</td> <td>1990</td> <td>Emigration    </td> <td>3661547        </td> <td>female</td> <td>Iran     </td> <td>1788296        </td> <td>Pakistan </td> <td>1673100        </td> <td>Saudi Arabia</td> <td>110590         </td> <td>Germany  </td> <td>21242          </td> <td>United States of America</td> <td>15757          </td> <td>nan                        </td> <td>nan                     </td> <td>nan                     </td> <td>nan                     </td> <td>nan                            </td> <td>Yes                    </td> <td>Yes                                                        </td> <td>Yes             </td> <td>Yes                    </td> <td>Yes             </td> <td>Yes                </td> <td>Yes              </td> <td>3622</td> <td>Yes               </td> <td>Yes                </td> <td>30                   </td> <td>Yes                                  </td>\n",
       "        </tr>\n",
       "    </tbody>\n",
       "</table>\n",
       "<p>... (839 rows omitted)</p>"
      ],
      "text/plain": [
       "<IPython.core.display.HTML object>"
      ]
     },
     "metadata": {},
     "output_type": "display_data"
    }
   ],
   "source": [
    "# Run this cell to display the dataset\n",
    "data = Table().from_df(pd.read_csv(\"development/migrant_table_final_appended.csv\")).sort(\"Country\")\n",
    "data.show(1)"
   ]
  },
  {
   "cell_type": "markdown",
   "metadata": {},
   "source": [
    "Here are all the countries in the table!"
   ]
  },
  {
   "cell_type": "code",
   "execution_count": 5,
   "metadata": {},
   "outputs": [
    {
     "data": {
      "text/html": [
       "<table border=\"1\" class=\"dataframe\">\n",
       "    <thead>\n",
       "        <tr>\n",
       "            <th>Country</th> <th>count</th>\n",
       "        </tr>\n",
       "    </thead>\n",
       "    <tbody>\n",
       "        <tr>\n",
       "            <td>Afghanistan </td> <td>42   </td>\n",
       "        </tr>\n",
       "        <tr>\n",
       "            <td>China       </td> <td>42   </td>\n",
       "        </tr>\n",
       "        <tr>\n",
       "            <td>Cuba        </td> <td>42   </td>\n",
       "        </tr>\n",
       "        <tr>\n",
       "            <td>El Salvador </td> <td>42   </td>\n",
       "        </tr>\n",
       "        <tr>\n",
       "            <td>Ethiopia    </td> <td>42   </td>\n",
       "        </tr>\n",
       "        <tr>\n",
       "            <td>Ghana       </td> <td>42   </td>\n",
       "        </tr>\n",
       "        <tr>\n",
       "            <td>Guatemala   </td> <td>42   </td>\n",
       "        </tr>\n",
       "        <tr>\n",
       "            <td>Honduras    </td> <td>42   </td>\n",
       "        </tr>\n",
       "        <tr>\n",
       "            <td>India       </td> <td>42   </td>\n",
       "        </tr>\n",
       "        <tr>\n",
       "            <td>Iraq        </td> <td>42   </td>\n",
       "        </tr>\n",
       "        <tr>\n",
       "            <td>Kenya       </td> <td>42   </td>\n",
       "        </tr>\n",
       "        <tr>\n",
       "            <td>Mexico      </td> <td>42   </td>\n",
       "        </tr>\n",
       "        <tr>\n",
       "            <td>Nigeria     </td> <td>42   </td>\n",
       "        </tr>\n",
       "        <tr>\n",
       "            <td>Pakistan    </td> <td>42   </td>\n",
       "        </tr>\n",
       "        <tr>\n",
       "            <td>Philippines </td> <td>42   </td>\n",
       "        </tr>\n",
       "        <tr>\n",
       "            <td>Somalia     </td> <td>42   </td>\n",
       "        </tr>\n",
       "        <tr>\n",
       "            <td>South Africa</td> <td>42   </td>\n",
       "        </tr>\n",
       "        <tr>\n",
       "            <td>Syria       </td> <td>42   </td>\n",
       "        </tr>\n",
       "        <tr>\n",
       "            <td>Venezuela   </td> <td>42   </td>\n",
       "        </tr>\n",
       "        <tr>\n",
       "            <td>Vietnam     </td> <td>42   </td>\n",
       "        </tr>\n",
       "    </tbody>\n",
       "</table>"
      ],
      "text/plain": [
       "<IPython.core.display.HTML object>"
      ]
     },
     "metadata": {},
     "output_type": "display_data"
    }
   ],
   "source": [
    "# Run this cell to display the countries\n",
    "countries = data.group(\"Country\").show(20)\n",
    "countries"
   ]
  },
  {
   "cell_type": "markdown",
   "metadata": {},
   "source": [
    "**Please take note of the column labels and the spelling of countries. All code is case-sensitive and spelling sensitve.**"
   ]
  },
  {
   "cell_type": "markdown",
   "metadata": {},
   "source": [
    "Let's look at this data set more closely to better understand how we can use it."
   ]
  },
  {
   "cell_type": "markdown",
   "metadata": {},
   "source": [
    "### Data Context"
   ]
  },
  {
   "cell_type": "markdown",
   "metadata": {},
   "source": [
    "After running the cell below, a map will display that you can use to see where people are immigrating and emigrating most often. Replace the ellipses with the data you want to start to get a sense of what the data is telling us."
   ]
  },
  {
   "cell_type": "code",
   "execution_count": 6,
   "metadata": {},
   "outputs": [
    {
     "data": {
      "text/html": [
       "<div style=\"width:100%;\"><div style=\"position:relative;width:100%;height:0;padding-bottom:60%;\"><iframe src=\"about:blank\" style=\"position:absolute;width:100%;height:100%;left:0;top:0;border:none !important;\" data-html=PCFET0NUWVBFIGh0bWw+CjxoZWFkPiAgICAKICAgIDxtZXRhIGh0dHAtZXF1aXY9ImNvbnRlbnQtdHlwZSIgY29udGVudD0idGV4dC9odG1sOyBjaGFyc2V0PVVURi04IiAvPgogICAgCiAgICAgICAgPHNjcmlwdD4KICAgICAgICAgICAgTF9OT19UT1VDSCA9IGZhbHNlOwogICAgICAgICAgICBMX0RJU0FCTEVfM0QgPSBmYWxzZTsKICAgICAgICA8L3NjcmlwdD4KICAgIAogICAgPHNjcmlwdCBzcmM9Imh0dHBzOi8vY2RuLmpzZGVsaXZyLm5ldC9ucG0vbGVhZmxldEAxLjQuMC9kaXN0L2xlYWZsZXQuanMiPjwvc2NyaXB0PgogICAgPHNjcmlwdCBzcmM9Imh0dHBzOi8vY29kZS5qcXVlcnkuY29tL2pxdWVyeS0xLjEyLjQubWluLmpzIj48L3NjcmlwdD4KICAgIDxzY3JpcHQgc3JjPSJodHRwczovL21heGNkbi5ib290c3RyYXBjZG4uY29tL2Jvb3RzdHJhcC8zLjIuMC9qcy9ib290c3RyYXAubWluLmpzIj48L3NjcmlwdD4KICAgIDxzY3JpcHQgc3JjPSJodHRwczovL2NkbmpzLmNsb3VkZmxhcmUuY29tL2FqYXgvbGlicy9MZWFmbGV0LmF3ZXNvbWUtbWFya2Vycy8yLjAuMi9sZWFmbGV0LmF3ZXNvbWUtbWFya2Vycy5qcyI+PC9zY3JpcHQ+CiAgICA8bGluayByZWw9InN0eWxlc2hlZXQiIGhyZWY9Imh0dHBzOi8vY2RuLmpzZGVsaXZyLm5ldC9ucG0vbGVhZmxldEAxLjQuMC9kaXN0L2xlYWZsZXQuY3NzIi8+CiAgICA8bGluayByZWw9InN0eWxlc2hlZXQiIGhyZWY9Imh0dHBzOi8vbWF4Y2RuLmJvb3RzdHJhcGNkbi5jb20vYm9vdHN0cmFwLzMuMi4wL2Nzcy9ib290c3RyYXAubWluLmNzcyIvPgogICAgPGxpbmsgcmVsPSJzdHlsZXNoZWV0IiBocmVmPSJodHRwczovL21heGNkbi5ib290c3RyYXBjZG4uY29tL2Jvb3RzdHJhcC8zLjIuMC9jc3MvYm9vdHN0cmFwLXRoZW1lLm1pbi5jc3MiLz4KICAgIDxsaW5rIHJlbD0ic3R5bGVzaGVldCIgaHJlZj0iaHR0cHM6Ly9tYXhjZG4uYm9vdHN0cmFwY2RuLmNvbS9mb250LWF3ZXNvbWUvNC42LjMvY3NzL2ZvbnQtYXdlc29tZS5taW4uY3NzIi8+CiAgICA8bGluayByZWw9InN0eWxlc2hlZXQiIGhyZWY9Imh0dHBzOi8vY2RuanMuY2xvdWRmbGFyZS5jb20vYWpheC9saWJzL0xlYWZsZXQuYXdlc29tZS1tYXJrZXJzLzIuMC4yL2xlYWZsZXQuYXdlc29tZS1tYXJrZXJzLmNzcyIvPgogICAgPGxpbmsgcmVsPSJzdHlsZXNoZWV0IiBocmVmPSJodHRwczovL3Jhd2Nkbi5naXRoYWNrLmNvbS9weXRob24tdmlzdWFsaXphdGlvbi9mb2xpdW0vbWFzdGVyL2ZvbGl1bS90ZW1wbGF0ZXMvbGVhZmxldC5hd2Vzb21lLnJvdGF0ZS5jc3MiLz4KICAgIDxzdHlsZT5odG1sLCBib2R5IHt3aWR0aDogMTAwJTtoZWlnaHQ6IDEwMCU7bWFyZ2luOiAwO3BhZGRpbmc6IDA7fTwvc3R5bGU+CiAgICA8c3R5bGU+I21hcCB7cG9zaXRpb246YWJzb2x1dGU7dG9wOjA7Ym90dG9tOjA7cmlnaHQ6MDtsZWZ0OjA7fTwvc3R5bGU+CiAgICAKICAgICAgICAgICAgPG1ldGEgbmFtZT0idmlld3BvcnQiIGNvbnRlbnQ9IndpZHRoPWRldmljZS13aWR0aCwKICAgICAgICAgICAgICAgIGluaXRpYWwtc2NhbGU9MS4wLCBtYXhpbXVtLXNjYWxlPTEuMCwgdXNlci1zY2FsYWJsZT1ubyIgLz4KICAgICAgICAgICAgPHN0eWxlPgogICAgICAgICAgICAgICAgI21hcF8zNjQ5MGY4NWNlNjQ0MjI0OGU5MzI1MzFjNzRiMGZkNCB7CiAgICAgICAgICAgICAgICAgICAgcG9zaXRpb246IHJlbGF0aXZlOwogICAgICAgICAgICAgICAgICAgIHdpZHRoOiAxMDAuMCU7CiAgICAgICAgICAgICAgICAgICAgaGVpZ2h0OiAxMDAuMCU7CiAgICAgICAgICAgICAgICAgICAgbGVmdDogMC4wJTsKICAgICAgICAgICAgICAgICAgICB0b3A6IDAuMCU7CiAgICAgICAgICAgICAgICB9CiAgICAgICAgICAgIDwvc3R5bGU+CiAgICAgICAgCjwvaGVhZD4KPGJvZHk+ICAgIAogICAgCiAgICAgICAgICAgIDxkaXYgY2xhc3M9ImZvbGl1bS1tYXAiIGlkPSJtYXBfMzY0OTBmODVjZTY0NDIyNDhlOTMyNTMxYzc0YjBmZDQiID48L2Rpdj4KICAgICAgICAKPC9ib2R5Pgo8c2NyaXB0PiAgICAKICAgIAogICAgICAgICAgICB2YXIgbWFwXzM2NDkwZjg1Y2U2NDQyMjQ4ZTkzMjUzMWM3NGIwZmQ0ID0gTC5tYXAoCiAgICAgICAgICAgICAgICAibWFwXzM2NDkwZjg1Y2U2NDQyMjQ4ZTkzMjUzMWM3NGIwZmQ0IiwKICAgICAgICAgICAgICAgIHsKICAgICAgICAgICAgICAgICAgICBjZW50ZXI6IFsyMC4wLCAwLjBdLAogICAgICAgICAgICAgICAgICAgIGNyczogTC5DUlMuRVBTRzM4NTcsCiAgICAgICAgICAgICAgICAgICAgem9vbTogMiwKICAgICAgICAgICAgICAgICAgICB6b29tQ29udHJvbDogdHJ1ZSwKICAgICAgICAgICAgICAgICAgICBwcmVmZXJDYW52YXM6IGZhbHNlLAogICAgICAgICAgICAgICAgfQogICAgICAgICAgICApOwoKICAgICAgICAgICAgCgogICAgICAgIAogICAgCiAgICAgICAgICAgIHZhciB0aWxlX2xheWVyX2I1YzMwNGM1ODU0NjRiOTM4NGJiMzlkZWEwMTE1OTQ5ID0gTC50aWxlTGF5ZXIoCiAgICAgICAgICAgICAgICAiaHR0cHM6Ly97c30udGlsZS5vcGVuc3RyZWV0bWFwLm9yZy97en0ve3h9L3t5fS5wbmciLAogICAgICAgICAgICAgICAgeyJhdHRyaWJ1dGlvbiI6ICJEYXRhIGJ5IFx1MDAyNmNvcHk7IFx1MDAzY2EgaHJlZj1cImh0dHA6Ly9vcGVuc3RyZWV0bWFwLm9yZ1wiXHUwMDNlT3BlblN0cmVldE1hcFx1MDAzYy9hXHUwMDNlLCB1bmRlciBcdTAwM2NhIGhyZWY9XCJodHRwOi8vd3d3Lm9wZW5zdHJlZXRtYXAub3JnL2NvcHlyaWdodFwiXHUwMDNlT0RiTFx1MDAzYy9hXHUwMDNlLiIsICJkZXRlY3RSZXRpbmEiOiBmYWxzZSwgIm1heE5hdGl2ZVpvb20iOiAxOCwgIm1heFpvb20iOiAxOCwgIm1pblpvb20iOiAwLCAibm9XcmFwIjogZmFsc2UsICJvcGFjaXR5IjogMSwgInN1YmRvbWFpbnMiOiAiYWJjIiwgInRtcyI6IGZhbHNlfQogICAgICAgICAgICApLmFkZFRvKG1hcF8zNjQ5MGY4NWNlNjQ0MjI0OGU5MzI1MzFjNzRiMGZkNCk7CiAgICAgICAgCiAgICAKICAgICAgICAgICAgdmFyIG1hcmtlcl80Nzg5NTFiOGI5MmE0ZGFmYWE3MjYxZWIxMTdlNjFmMyA9IEwubWFya2VyKAogICAgICAgICAgICAgICAgWzE0LjA1ODMyNCwgMTA4LjI3NzE5OV0sCiAgICAgICAgICAgICAgICB7ImZpbGxDb2xvciI6ICJnb2xkIiwgInJhZGl1cyI6IDE1MDAwMH0KICAgICAgICAgICAgKS5hZGRUbyhtYXBfMzY0OTBmODVjZTY0NDIyNDhlOTMyNTMxYzc0YjBmZDQpOwogICAgICAgIAogICAgCiAgICAgICAgdmFyIHBvcHVwXzJlMjIxNmY4NGQ4MjQyOGFhNTZmZWIzOWJkODU3ZDc0ID0gTC5wb3B1cCh7Im1heFdpZHRoIjogIjEwMCUifSk7CgogICAgICAgIAogICAgICAgICAgICB2YXIgaHRtbF9kMjdjMzY1NmY2NmE0NDZmYjNhYmNiNjRhNGM1NWFiYiA9ICQoYDxkaXYgaWQ9Imh0bWxfZDI3YzM2NTZmNjZhNDQ2ZmIzYWJjYjY0YTRjNTVhYmIiIHN0eWxlPSJ3aWR0aDogMTAwLjAlOyBoZWlnaHQ6IDEwMC4wJTsiPlsnVmlldG5hbSddPC9kaXY+YClbMF07CiAgICAgICAgICAgIHBvcHVwXzJlMjIxNmY4NGQ4MjQyOGFhNTZmZWIzOWJkODU3ZDc0LnNldENvbnRlbnQoaHRtbF9kMjdjMzY1NmY2NmE0NDZmYjNhYmNiNjRhNGM1NWFiYik7CiAgICAgICAgCgogICAgICAgIG1hcmtlcl80Nzg5NTFiOGI5MmE0ZGFmYWE3MjYxZWIxMTdlNjFmMy5iaW5kUG9wdXAocG9wdXBfMmUyMjE2Zjg0ZDgyNDI4YWE1NmZlYjM5YmQ4NTdkNzQpCiAgICAgICAgOwoKICAgICAgICAKICAgIAogICAgCiAgICAgICAgICAgIHZhciBtYXJrZXJfMjg3YjEwY2U2Y2RhNGUwMWE1YTYzY2NhYzQyYTQ0OWQgPSBMLm1hcmtlcigKICAgICAgICAgICAgICAgIFszNy4wOTAyNCwgLTk1LjcxMjg5MV0sCiAgICAgICAgICAgICAgICB7ImZpbGxDb2xvciI6ICJibHVlIiwgInJhZGl1cyI6IDEwMDAwMH0KICAgICAgICAgICAgKS5hZGRUbyhtYXBfMzY0OTBmODVjZTY0NDIyNDhlOTMyNTMxYzc0YjBmZDQpOwogICAgICAgIAogICAgCiAgICAgICAgdmFyIHBvcHVwXzRiN2JmNDgyMjBmYzRkY2ViYzc5Zjc4ZGVjMzBlOGVkID0gTC5wb3B1cCh7Im1heFdpZHRoIjogIjEwMCUifSk7CgogICAgICAgIAogICAgICAgICAgICB2YXIgaHRtbF84Nzc1NzhmZWY5YTg0MmYwODQ1YWI4ZGM5YjlkZWMxZSA9ICQoYDxkaXYgaWQ9Imh0bWxfODc3NTc4ZmVmOWE4NDJmMDg0NWFiOGRjOWI5ZGVjMWUiIHN0eWxlPSJ3aWR0aDogMTAwLjAlOyBoZWlnaHQ6IDEwMC4wJTsiPlVuaXRlZCBTdGF0ZXMgb2YgQW1lcmljYSwgUmFuazogMSwgRW1pZ3JhdGlvbiBUb3RhbDogMjc5MzgwPC9kaXY+YClbMF07CiAgICAgICAgICAgIHBvcHVwXzRiN2JmNDgyMjBmYzRkY2ViYzc5Zjc4ZGVjMzBlOGVkLnNldENvbnRlbnQoaHRtbF84Nzc1NzhmZWY5YTg0MmYwODQ1YWI4ZGM5YjlkZWMxZSk7CiAgICAgICAgCgogICAgICAgIG1hcmtlcl8yODdiMTBjZTZjZGE0ZTAxYTVhNjNjY2FjNDJhNDQ5ZC5iaW5kUG9wdXAocG9wdXBfNGI3YmY0ODIyMGZjNGRjZWJjNzlmNzhkZWMzMGU4ZWQpCiAgICAgICAgOwoKICAgICAgICAKICAgIAogICAgCiAgICAgICAgICAgIHZhciBtYXJrZXJfOGY0N2RiMzVkMzZjNDBkOWJmMDBkOGI5MWQzNjE4YzMgPSBMLm1hcmtlcigKICAgICAgICAgICAgICAgIFstMjUuMjc0Mzk4LCAxMzMuNzc1MTM2XSwKICAgICAgICAgICAgICAgIHsiZmlsbENvbG9yIjogImJsdWUiLCAicmFkaXVzIjogMTAwMDAwfQogICAgICAgICAgICApLmFkZFRvKG1hcF8zNjQ5MGY4NWNlNjQ0MjI0OGU5MzI1MzFjNzRiMGZkNCk7CiAgICAgICAgCiAgICAKICAgICAgICB2YXIgcG9wdXBfODliMzQ0Mzc1MTc4NGZkMDliMzhhM2NjNDI1YjViOGQgPSBMLnBvcHVwKHsibWF4V2lkdGgiOiAiMTAwJSJ9KTsKCiAgICAgICAgCiAgICAgICAgICAgIHZhciBodG1sXzU5MDliYTJkMDZhYjQ0OWU5MmY2NTBjODA3MjJkYmM5ID0gJChgPGRpdiBpZD0iaHRtbF81OTA5YmEyZDA2YWI0NDllOTJmNjUwYzgwNzIyZGJjOSIgc3R5bGU9IndpZHRoOiAxMDAuMCU7IGhlaWdodDogMTAwLjAlOyI+QXVzdHJhbGlhLCBSYW5rOiAyLCBFbWlncmF0aW9uIFRvdGFsOiA3MTA4MzwvZGl2PmApWzBdOwogICAgICAgICAgICBwb3B1cF84OWIzNDQzNzUxNzg0ZmQwOWIzOGEzY2M0MjViNWI4ZC5zZXRDb250ZW50KGh0bWxfNTkwOWJhMmQwNmFiNDQ5ZTkyZjY1MGM4MDcyMmRiYzkpOwogICAgICAgIAoKICAgICAgICBtYXJrZXJfOGY0N2RiMzVkMzZjNDBkOWJmMDBkOGI5MWQzNjE4YzMuYmluZFBvcHVwKHBvcHVwXzg5YjM0NDM3NTE3ODRmZDA5YjM4YTNjYzQyNWI1YjhkKQogICAgICAgIDsKCiAgICAgICAgCiAgICAKICAgIAogICAgICAgICAgICB2YXIgbWFya2VyX2E0MmQyZGI1YzVkOTQ5NGI5NzA2M2JjNGVlNDk5M2UxID0gTC5tYXJrZXIoCiAgICAgICAgICAgICAgICBbNTYuMTMwMzY2LCAtMTA2LjM0Njc3MV0sCiAgICAgICAgICAgICAgICB7ImZpbGxDb2xvciI6ICJibHVlIiwgInJhZGl1cyI6IDEwMDAwMH0KICAgICAgICAgICAgKS5hZGRUbyhtYXBfMzY0OTBmODVjZTY0NDIyNDhlOTMyNTMxYzc0YjBmZDQpOwogICAgICAgIAogICAgCiAgICAgICAgdmFyIHBvcHVwXzY3MjZkMDFlOGZlODQ2Yjg5YTNiYTBhNDVhZmY3M2FjID0gTC5wb3B1cCh7Im1heFdpZHRoIjogIjEwMCUifSk7CgogICAgICAgIAogICAgICAgICAgICB2YXIgaHRtbF81MjI2ZTM2Nzg2NDA0MTQ3YjhjZmU2ZGFkYjVkZjUyNCA9ICQoYDxkaXYgaWQ9Imh0bWxfNTIyNmUzNjc4NjQwNDE0N2I4Y2ZlNmRhZGI1ZGY1MjQiIHN0eWxlPSJ3aWR0aDogMTAwLjAlOyBoZWlnaHQ6IDEwMC4wJTsiPkNhbmFkYSwgUmFuazogMywgRW1pZ3JhdGlvbiBUb3RhbDogNTMwNjM8L2Rpdj5gKVswXTsKICAgICAgICAgICAgcG9wdXBfNjcyNmQwMWU4ZmU4NDZiODlhM2JhMGE0NWFmZjczYWMuc2V0Q29udGVudChodG1sXzUyMjZlMzY3ODY0MDQxNDdiOGNmZTZkYWRiNWRmNTI0KTsKICAgICAgICAKCiAgICAgICAgbWFya2VyX2E0MmQyZGI1YzVkOTQ5NGI5NzA2M2JjNGVlNDk5M2UxLmJpbmRQb3B1cChwb3B1cF82NzI2ZDAxZThmZTg0NmI4OWEzYmEwYTQ1YWZmNzNhYykKICAgICAgICA7CgogICAgICAgIAogICAgCiAgICAKICAgICAgICAgICAgdmFyIG1hcmtlcl9jMDBlMDlhYzlmNDI0YzM0OTRkMjM1YmU0ODM2MzZjOCA9IEwubWFya2VyKAogICAgICAgICAgICAgICAgWzQ2LjIyNzYzOCwgMi4yMTM3NDldLAogICAgICAgICAgICAgICAgeyJmaWxsQ29sb3IiOiAiYmx1ZSIsICJyYWRpdXMiOiAxMDAwMDB9CiAgICAgICAgICAgICkuYWRkVG8obWFwXzM2NDkwZjg1Y2U2NDQyMjQ4ZTkzMjUzMWM3NGIwZmQ0KTsKICAgICAgICAKICAgIAogICAgICAgIHZhciBwb3B1cF8wN2Q3YTA0MWIxZjA0NTcwOTQ4ZjQ5OTUzM2Q1OGE2NyA9IEwucG9wdXAoeyJtYXhXaWR0aCI6ICIxMDAlIn0pOwoKICAgICAgICAKICAgICAgICAgICAgdmFyIGh0bWxfNWM0NzQ1ZjJlZTRmNGEwN2IyMTU4YmIxYzhhZWRkYzAgPSAkKGA8ZGl2IGlkPSJodG1sXzVjNDc0NWYyZWU0ZjRhMDdiMjE1OGJiMWM4YWVkZGMwIiBzdHlsZT0id2lkdGg6IDEwMC4wJTsgaGVpZ2h0OiAxMDAuMCU7Ij5GcmFuY2UsIFJhbms6IDQsIEVtaWdyYXRpb24gVG90YWw6IDQ3NTI4PC9kaXY+YClbMF07CiAgICAgICAgICAgIHBvcHVwXzA3ZDdhMDQxYjFmMDQ1NzA5NDhmNDk5NTMzZDU4YTY3LnNldENvbnRlbnQoaHRtbF81YzQ3NDVmMmVlNGY0YTA3YjIxNThiYjFjOGFlZGRjMCk7CiAgICAgICAgCgogICAgICAgIG1hcmtlcl9jMDBlMDlhYzlmNDI0YzM0OTRkMjM1YmU0ODM2MzZjOC5iaW5kUG9wdXAocG9wdXBfMDdkN2EwNDFiMWYwNDU3MDk0OGY0OTk1MzNkNThhNjcpCiAgICAgICAgOwoKICAgICAgICAKICAgIAogICAgCiAgICAgICAgICAgIHZhciBtYXJrZXJfYzViMWQxZGFkYTc2NDBiYWJkOTBlOWYyMGU4ZWMzYWYgPSBMLm1hcmtlcigKICAgICAgICAgICAgICAgIFs1MS4xNjU2OTEsIDEwLjQ1MTUyNl0sCiAgICAgICAgICAgICAgICB7ImZpbGxDb2xvciI6ICJibHVlIiwgInJhZGl1cyI6IDEwMDAwMH0KICAgICAgICAgICAgKS5hZGRUbyhtYXBfMzY0OTBmODVjZTY0NDIyNDhlOTMyNTMxYzc0YjBmZDQpOwogICAgICAgIAogICAgCiAgICAgICAgdmFyIHBvcHVwXzdhM2M3YzI0ZDZmZjRiYmM4ZWY1ODhlOTY0OTMzYTQyID0gTC5wb3B1cCh7Im1heFdpZHRoIjogIjEwMCUifSk7CgogICAgICAgIAogICAgICAgICAgICB2YXIgaHRtbF84MTJkMjU2ZDViMTM0ZWViYTZiY2U3MzQ4Njc0NTQ0YSA9ICQoYDxkaXYgaWQ9Imh0bWxfODEyZDI1NmQ1YjEzNGVlYmE2YmNlNzM0ODY3NDU0NGEiIHN0eWxlPSJ3aWR0aDogMTAwLjAlOyBoZWlnaHQ6IDEwMC4wJTsiPkdlcm1hbnksIFJhbms6IDUsIEVtaWdyYXRpb24gVG90YWw6IDQwMzMxPC9kaXY+YClbMF07CiAgICAgICAgICAgIHBvcHVwXzdhM2M3YzI0ZDZmZjRiYmM4ZWY1ODhlOTY0OTMzYTQyLnNldENvbnRlbnQoaHRtbF84MTJkMjU2ZDViMTM0ZWViYTZiY2U3MzQ4Njc0NTQ0YSk7CiAgICAgICAgCgogICAgICAgIG1hcmtlcl9jNWIxZDFkYWRhNzY0MGJhYmQ5MGU5ZjIwZThlYzNhZi5iaW5kUG9wdXAocG9wdXBfN2EzYzdjMjRkNmZmNGJiYzhlZjU4OGU5NjQ5MzNhNDIpCiAgICAgICAgOwoKICAgICAgICAKICAgIAogICAgCiAgICAgICAgICAgIHZhciBwb2x5X2xpbmVfY2VkN2NjMWMzM2RjNDJhYjg3MTJmYTU4NDZiMTdmNWIgPSBMLnBvbHlsaW5lKAogICAgICAgICAgICAgICAgW1sxNC4wNTgzMjQsIDEwOC4yNzcxOTldLCBbMzcuMDkwMjQsIC05NS43MTI4OTFdXSwKICAgICAgICAgICAgICAgIHsiYnViYmxpbmdNb3VzZUV2ZW50cyI6IHRydWUsICJjb2xvciI6ICJibHVlIiwgImRhc2hBcnJheSI6IG51bGwsICJkYXNoT2Zmc2V0IjogbnVsbCwgImZpbGwiOiBmYWxzZSwgImZpbGxDb2xvciI6ICJibHVlIiwgImZpbGxPcGFjaXR5IjogMC4yLCAiZmlsbFJ1bGUiOiAiZXZlbm9kZCIsICJsaW5lQ2FwIjogInJvdW5kIiwgImxpbmVKb2luIjogInJvdW5kIiwgIm5vQ2xpcCI6IGZhbHNlLCAib3BhY2l0eSI6IDEuMCwgInNtb290aEZhY3RvciI6IDEuMCwgInN0cm9rZSI6IHRydWUsICJ3ZWlnaHQiOiA3fQogICAgICAgICAgICApLmFkZFRvKG1hcF8zNjQ5MGY4NWNlNjQ0MjI0OGU5MzI1MzFjNzRiMGZkNCk7CiAgICAgICAgCiAgICAKICAgICAgICAgICAgdmFyIHBvbHlfbGluZV85MTc1NjgwZjc1OTc0Y2FjOWNiNjFhYjM0YjkzZjRlZiA9IEwucG9seWxpbmUoCiAgICAgICAgICAgICAgICBbWzE0LjA1ODMyNCwgMTA4LjI3NzE5OV0sIFstMjUuMjc0Mzk4LCAxMzMuNzc1MTM2XV0sCiAgICAgICAgICAgICAgICB7ImJ1YmJsaW5nTW91c2VFdmVudHMiOiB0cnVlLCAiY29sb3IiOiAiYmx1ZSIsICJkYXNoQXJyYXkiOiBudWxsLCAiZGFzaE9mZnNldCI6IG51bGwsICJmaWxsIjogZmFsc2UsICJmaWxsQ29sb3IiOiAiYmx1ZSIsICJmaWxsT3BhY2l0eSI6IDAuMiwgImZpbGxSdWxlIjogImV2ZW5vZGQiLCAibGluZUNhcCI6ICJyb3VuZCIsICJsaW5lSm9pbiI6ICJyb3VuZCIsICJub0NsaXAiOiBmYWxzZSwgIm9wYWNpdHkiOiAxLjAsICJzbW9vdGhGYWN0b3IiOiAxLjAsICJzdHJva2UiOiB0cnVlLCAid2VpZ2h0IjogN30KICAgICAgICAgICAgKS5hZGRUbyhtYXBfMzY0OTBmODVjZTY0NDIyNDhlOTMyNTMxYzc0YjBmZDQpOwogICAgICAgIAogICAgCiAgICAgICAgICAgIHZhciBwb2x5X2xpbmVfMmZmNDZlYjljNzYwNGZhYjk1YzRkMTUzYmY4ZDgxYTMgPSBMLnBvbHlsaW5lKAogICAgICAgICAgICAgICAgW1sxNC4wNTgzMjQsIDEwOC4yNzcxOTldLCBbNTYuMTMwMzY2LCAtMTA2LjM0Njc3MV1dLAogICAgICAgICAgICAgICAgeyJidWJibGluZ01vdXNlRXZlbnRzIjogdHJ1ZSwgImNvbG9yIjogImJsdWUiLCAiZGFzaEFycmF5IjogbnVsbCwgImRhc2hPZmZzZXQiOiBudWxsLCAiZmlsbCI6IGZhbHNlLCAiZmlsbENvbG9yIjogImJsdWUiLCAiZmlsbE9wYWNpdHkiOiAwLjIsICJmaWxsUnVsZSI6ICJldmVub2RkIiwgImxpbmVDYXAiOiAicm91bmQiLCAibGluZUpvaW4iOiAicm91bmQiLCAibm9DbGlwIjogZmFsc2UsICJvcGFjaXR5IjogMS4wLCAic21vb3RoRmFjdG9yIjogMS4wLCAic3Ryb2tlIjogdHJ1ZSwgIndlaWdodCI6IDd9CiAgICAgICAgICAgICkuYWRkVG8obWFwXzM2NDkwZjg1Y2U2NDQyMjQ4ZTkzMjUzMWM3NGIwZmQ0KTsKICAgICAgICAKICAgIAogICAgICAgICAgICB2YXIgcG9seV9saW5lXzk5ODUwNjcyYzEzZjQ5M2FiNjc5MzcwNjBiNGIxMmIxID0gTC5wb2x5bGluZSgKICAgICAgICAgICAgICAgIFtbMTQuMDU4MzI0LCAxMDguMjc3MTk5XSwgWzQ2LjIyNzYzOCwgMi4yMTM3NDldXSwKICAgICAgICAgICAgICAgIHsiYnViYmxpbmdNb3VzZUV2ZW50cyI6IHRydWUsICJjb2xvciI6ICJibHVlIiwgImRhc2hBcnJheSI6IG51bGwsICJkYXNoT2Zmc2V0IjogbnVsbCwgImZpbGwiOiBmYWxzZSwgImZpbGxDb2xvciI6ICJibHVlIiwgImZpbGxPcGFjaXR5IjogMC4yLCAiZmlsbFJ1bGUiOiAiZXZlbm9kZCIsICJsaW5lQ2FwIjogInJvdW5kIiwgImxpbmVKb2luIjogInJvdW5kIiwgIm5vQ2xpcCI6IGZhbHNlLCAib3BhY2l0eSI6IDEuMCwgInNtb290aEZhY3RvciI6IDEuMCwgInN0cm9rZSI6IHRydWUsICJ3ZWlnaHQiOiA3fQogICAgICAgICAgICApLmFkZFRvKG1hcF8zNjQ5MGY4NWNlNjQ0MjI0OGU5MzI1MzFjNzRiMGZkNCk7CiAgICAgICAgCiAgICAKICAgICAgICAgICAgdmFyIHBvbHlfbGluZV82MmJhN2ExZjM2ZjA0Mjg2YTg0ZGM2N2Y4YWI0ZjJmNCA9IEwucG9seWxpbmUoCiAgICAgICAgICAgICAgICBbWzE0LjA1ODMyNCwgMTA4LjI3NzE5OV0sIFs1MS4xNjU2OTEsIDEwLjQ1MTUyNl1dLAogICAgICAgICAgICAgICAgeyJidWJibGluZ01vdXNlRXZlbnRzIjogdHJ1ZSwgImNvbG9yIjogImJsdWUiLCAiZGFzaEFycmF5IjogbnVsbCwgImRhc2hPZmZzZXQiOiBudWxsLCAiZmlsbCI6IGZhbHNlLCAiZmlsbENvbG9yIjogImJsdWUiLCAiZmlsbE9wYWNpdHkiOiAwLjIsICJmaWxsUnVsZSI6ICJldmVub2RkIiwgImxpbmVDYXAiOiAicm91bmQiLCAibGluZUpvaW4iOiAicm91bmQiLCAibm9DbGlwIjogZmFsc2UsICJvcGFjaXR5IjogMS4wLCAic21vb3RoRmFjdG9yIjogMS4wLCAic3Ryb2tlIjogdHJ1ZSwgIndlaWdodCI6IDd9CiAgICAgICAgICAgICkuYWRkVG8obWFwXzM2NDkwZjg1Y2U2NDQyMjQ4ZTkzMjUzMWM3NGIwZmQ0KTsKICAgICAgICAKPC9zY3JpcHQ+ onload=\"this.contentDocument.open();this.contentDocument.write(atob(this.getAttribute('data-html')));this.contentDocument.close();\" allowfullscreen webkitallowfullscreen mozallowfullscreen></iframe></div></div>"
      ],
      "text/plain": [
       "<folium.folium.Map at 0x7fa0b9615898>"
      ]
     },
     "metadata": {},
     "output_type": "display_data"
    },
    {
     "data": {
      "image/png": "[encoded data removed]",
      "text/plain": [
       "<Figure size 2160x1080 with 2 Axes>"
      ]
     },
     "metadata": {
      "needs_background": "light"
     },
     "output_type": "display_data"
    }
   ],
   "source": [
    "country = \"...\" # Name of the country of interest\n",
    "gender = \"...\" # male, female, or total (lowercase)\n",
    "year = ... # 1990, 1995, 2000, 2005, 2010, 2015, 2017\n",
    "migration_type = ... # 1 = Immigration and 2 = Emigration\n",
    "graph.map_and_graph(country, gender, year, migration_type)"
   ]
  },
  {
   "cell_type": "markdown",
   "metadata": {},
   "source": [
    "Now, let's learn how to do a few basic functions on tables to get answers about the data set."
   ]
  },
  {
   "cell_type": "markdown",
   "metadata": {},
   "source": [
    "#### The `where` function"
   ]
  },
  {
   "cell_type": "markdown",
   "metadata": {},
   "source": [
    "The `where` function can be used on a data set to find *where* the data meets the condition you set for it. A function is what follows the `.` and is used to manipulate data. The `where` function takes in two parameters, a name of a column and a condition or value to match the data to. Below, let's use the where function to show only data for your country."
   ]
  },
  {
   "cell_type": "code",
   "execution_count": null,
   "metadata": {
    "scrolled": true
   },
   "outputs": [],
   "source": [
    "# Replace the elipsis with your country name. DO NOT REMOVE THE QUOTES!\n",
    "# Then, run the cell.\n",
    "my_country = \"...\"\n",
    "country_data = data.where(\"Country\", my_country)\n",
    "country_data.show(1)"
   ]
  },
  {
   "cell_type": "markdown",
   "metadata": {},
   "source": [
    "It looks like this table is too long and doesn't give us a lot of information. Let's call the `where` function again. However, let's use it so that we will only look at **immigration of men** into your country."
   ]
  },
  {
   "cell_type": "code",
   "execution_count": null,
   "metadata": {
    "scrolled": false
   },
   "outputs": [],
   "source": [
    "# Replace each elipsis in line with the above description. \n",
    "# DO NOT REMOVE THE QUOTES!\n",
    "# Then, run the cell.\n",
    "migration_type = \"...\"\n",
    "gender = \"...\" #Gender is not capitalized\n",
    "immigration_data = country_data.where(\"Migration Type\", migration_type)\n",
    "male_immigration_data = immigration_data.where(\"Gender\", gender)\n",
    "male_immigration_data"
   ]
  },
  {
   "cell_type": "markdown",
   "metadata": {},
   "source": [
    "Now, we have a table that we can analyze! Let's do some visualizations."
   ]
  },
  {
   "cell_type": "markdown",
   "metadata": {},
   "source": [
    "#### Visualizing Data"
   ]
  },
  {
   "cell_type": "markdown",
   "metadata": {},
   "source": [
    "##### Bar Graph"
   ]
  },
  {
   "cell_type": "markdown",
   "metadata": {},
   "source": [
    "Let's create a bar graph of the total male immigration for each year for your country. "
   ]
  },
  {
   "cell_type": "code",
   "execution_count": null,
   "metadata": {},
   "outputs": [],
   "source": [
    "# Run this cell.\n",
    "male_immigration_data.bar(\"Year\", \"Total Migration\")\n",
    "plots.ylabel(\"Total Male Migrants to \" + my_country);"
   ]
  },
  {
   "cell_type": "markdown",
   "metadata": {},
   "source": [
    "The `bar` function is used to create bar charts like the one above. It takes in the names of two columns in quotes with the first one on the x-axis and the second one on the y-axis."
   ]
  },
  {
   "cell_type": "markdown",
   "metadata": {},
   "source": [
    "##### Line Graph"
   ]
  },
  {
   "cell_type": "markdown",
   "metadata": {},
   "source": [
    "Let's create a line graph of the total male immigration from the country of origin of most of the migrants over time."
   ]
  },
  {
   "cell_type": "code",
   "execution_count": null,
   "metadata": {},
   "outputs": [],
   "source": [
    "# Run this cell.\n",
    "male_immigration_data.plot(\"Year\", \"Country 1 Count\")\n",
    "plots.ylabel(\"Total \" + male_immigration_data.column(\"Country 1\").item(0) + \" Migrants to \" + my_country);"
   ]
  },
  {
   "cell_type": "markdown",
   "metadata": {},
   "source": [
    "The `plot` function is used to create line graphs like the one above. It takes in the names of two columns in quotes with the first one on the x-axis and the second one on the y-axis."
   ]
  },
  {
   "cell_type": "markdown",
   "metadata": {},
   "source": [
    "Now, you can try a visualization! We will provide code for you to fill in, but try calling the `where` function to focus your data and one of the two visualizations to get a better look at your data. We will also put one more example below."
   ]
  },
  {
   "cell_type": "code",
   "execution_count": null,
   "metadata": {},
   "outputs": [],
   "source": [
    "# Run this to see an example visualization!\n",
    "# This is a line graph for the year 2000 \n",
    "# where the x-axis is the Passport power rating of a country and\n",
    "# the y-axis is the Total Migration out of the country\n",
    "table_y2k = data.where(\"Year\", 2000).where('Gender', 'total').where('Migration Type','Emigration')\n",
    "table_y2k.plot(\"Passport power rating\", \"Total Migration\")"
   ]
  },
  {
   "cell_type": "code",
   "execution_count": null,
   "metadata": {},
   "outputs": [],
   "source": [
    "table_to_visualize = data #call .where on data thrice for the best results\n",
    "table_to_visualize #call either .bar or .plot depending of your data"
   ]
  },
  {
   "cell_type": "markdown",
   "metadata": {},
   "source": [
    "Congratulations! You have learned the basics of data science programming! For the next part, we wrote some higher functions that essentially do the same things you just learned with some plotting magic."
   ]
  },
  {
   "cell_type": "markdown",
   "metadata": {},
   "source": [
    "# Picking Your Variables <a id='1'></a>"
   ]
  },
  {
   "cell_type": "markdown",
   "metadata": {},
   "source": [
    "For this section, you will be selecting your country for the graph. Please type your country's name in the provided space below."
   ]
  },
  {
   "cell_type": "code",
   "execution_count": null,
   "metadata": {},
   "outputs": [],
   "source": [
    "# Replace the elipsis with your country name. DO NOT REMOVE THE QUOTES!\n",
    "# Then, run the cell.\n",
    "my_country = \"...\""
   ]
  },
  {
   "cell_type": "markdown",
   "metadata": {},
   "source": [
    "Next, you will be able to pick a variable to investigate for your country. The options are listed for you below: \n",
    "1. Immigration\n",
    "2. Emigration\n",
    "3. Age (Immigration Only)\n",
    "Our personal favorite is 3 :)"
   ]
  },
  {
   "cell_type": "code",
   "execution_count": null,
   "metadata": {},
   "outputs": [],
   "source": [
    "# Replace the elipsis with the number of the variable \n",
    "# that you would like to explore. No need for quotes.\n",
    "# Then, run the cell.\n",
    "my_variable = ..."
   ]
  },
  {
   "cell_type": "markdown",
   "metadata": {},
   "source": [
    "# Graphing the Data  <a id='2'></a>"
   ]
  },
  {
   "cell_type": "markdown",
   "metadata": {},
   "source": [
    "Now, let's graph the data for your variables! Run the cell below."
   ]
  },
  {
   "cell_type": "code",
   "execution_count": null,
   "metadata": {
    "scrolled": true
   },
   "outputs": [],
   "source": [
    "graph.one_pick_and_graph(data.to_df(), my_country, my_variable)"
   ]
  },
  {
   "cell_type": "code",
   "execution_count": null,
   "metadata": {},
   "outputs": [],
   "source": [
    "graph.migration_side_by_side(my_country)"
   ]
  },
  {
   "cell_type": "markdown",
   "metadata": {},
   "source": [
    "# Comparing to Another Country  <a id='3'></a>"
   ]
  },
  {
   "cell_type": "markdown",
   "metadata": {},
   "source": [
    "Now that we have looked at a graph for your country, let's compare to another country. For this section, you will be selecting your country and we will visualize a specific gender and migration type. Please type your country's name in the provided space below."
   ]
  },
  {
   "cell_type": "code",
   "execution_count": null,
   "metadata": {},
   "outputs": [],
   "source": [
    "# Replace the elipsis with another country name. DO NOT REMOVE THE QUOTES!\n",
    "# Then, run the cell.\n",
    "another_country = \"...\"\n",
    "gender = \"...\" # female, male, or total\n",
    "migration_type = ... # Immigration = 1 or Emigration = 2\n",
    "graph_type = \"...\" # line or bar"
   ]
  },
  {
   "cell_type": "markdown",
   "metadata": {},
   "source": [
    "Now, let's compare! Run the cell below."
   ]
  },
  {
   "cell_type": "code",
   "execution_count": null,
   "metadata": {},
   "outputs": [],
   "source": [
    "graph.multiple_pick_and_graph(gender, migration_type, [my_country, another_country], graph_type)"
   ]
  },
  {
   "cell_type": "markdown",
   "metadata": {},
   "source": [
    "We can also compare them based on GDP! Run the cell below."
   ]
  },
  {
   "cell_type": "code",
   "execution_count": null,
   "metadata": {},
   "outputs": [],
   "source": [
    "graph.gdp(my_country, another_country)"
   ]
  },
  {
   "cell_type": "markdown",
   "metadata": {},
   "source": [
    "# Over Time  <a id='4'></a>"
   ]
  },
  {
   "cell_type": "markdown",
   "metadata": {},
   "source": [
    "Now, we can look at these changes over time. Run the cell below."
   ]
  },
  {
   "cell_type": "code",
   "execution_count": null,
   "metadata": {},
   "outputs": [],
   "source": [
    "graph.one_pick_and_graph(data.to_df(), my_country, my_variable, year=True)"
   ]
  },
  {
   "cell_type": "code",
   "execution_count": null,
   "metadata": {},
   "outputs": [],
   "source": [
    "graph.one_pick_and_graph(data.to_df(), another_country, my_variable, year=True)"
   ]
  },
  {
   "cell_type": "markdown",
   "metadata": {},
   "source": [
    "# Questions  <a id='5'></a>"
   ]
  },
  {
   "cell_type": "markdown",
   "metadata": {},
   "source": [
    "To replace the text with your answer, double click the text."
   ]
  },
  {
   "cell_type": "markdown",
   "metadata": {},
   "source": [
    "1. Does your assigned country admit asylum migrants?\n",
    "If yes, describe if there has been a pattern or time period for asylum migration to your country.\n",
    "If no, explain why not."
   ]
  },
  {
   "cell_type": "markdown",
   "metadata": {},
   "source": [
    "***Replace this with your answer to Q1***"
   ]
  },
  {
   "cell_type": "markdown",
   "metadata": {},
   "source": [
    "2. Do individuals from your assigned country migrate to countries abroad as refugees/asylum-seekers (yes or no)? Explain why or why not.\n"
   ]
  },
  {
   "cell_type": "markdown",
   "metadata": {},
   "source": [
    "***Replace this with your answer to Q2***"
   ]
  },
  {
   "cell_type": "markdown",
   "metadata": {},
   "source": [
    "3. Has your country suffered from war? If so, what years and how many times?"
   ]
  },
  {
   "cell_type": "markdown",
   "metadata": {},
   "source": [
    "***Replace this with your answer to Q3***"
   ]
  },
  {
   "cell_type": "markdown",
   "metadata": {},
   "source": [
    "4. Has your country suffered from genocide? If so, what years and how many times?"
   ]
  },
  {
   "cell_type": "markdown",
   "metadata": {},
   "source": [
    "***Replace this with your answer to Q4***"
   ]
  },
  {
   "cell_type": "markdown",
   "metadata": {},
   "source": [
    "5. Has your country suffered from an unstable government like coups or dictatorship? If so, what years and how many times?"
   ]
  },
  {
   "cell_type": "markdown",
   "metadata": {},
   "source": [
    "***Replace this with your answer to Q5***"
   ]
  },
  {
   "cell_type": "markdown",
   "metadata": {},
   "source": [
    "6. Has your country suffered from organized crime like like military control, cartels, gangs, or other rebellious groups? If so, what years and how many times?"
   ]
  },
  {
   "cell_type": "markdown",
   "metadata": {},
   "source": [
    "***Replace this with your answer to Q6***"
   ]
  },
  {
   "cell_type": "markdown",
   "metadata": {},
   "source": [
    "7. If you answered yes for any question from Q3 to Q6, describe at least one of those political conflicts in detail."
   ]
  },
  {
   "cell_type": "markdown",
   "metadata": {},
   "source": [
    "***Replace this with your answer to Q7***"
   ]
  },
  {
   "cell_type": "markdown",
   "metadata": {},
   "source": [
    "8. Has your country suffered from economic downturns like economic recession or financial crisis? If so, what type? What years? How many times? Also, describe at least one in detail."
   ]
  },
  {
   "cell_type": "markdown",
   "metadata": {},
   "source": [
    "***Replace this with your answer to Q8***"
   ]
  },
  {
   "cell_type": "markdown",
   "metadata": {},
   "source": [
    "9. Has your country suffered from natural disasters? If so, what type? What years? How many times?"
   ]
  },
  {
   "cell_type": "markdown",
   "metadata": {},
   "source": [
    "***Replace this with your answer to Q9***"
   ]
  },
  {
   "cell_type": "markdown",
   "metadata": {},
   "source": [
    "10. Has your country suffered from any man-made disasters? If so, what type? What years? How many times?"
   ]
  },
  {
   "cell_type": "markdown",
   "metadata": {},
   "source": [
    "***Replace this with your answer to Q10***"
   ]
  },
  {
   "cell_type": "markdown",
   "metadata": {},
   "source": [
    "11. Have there been changes over-time for your assigned country’s access to visas? Explain. "
   ]
  },
  {
   "cell_type": "markdown",
   "metadata": {},
   "source": [
    "***Replace this with your answer to Q11***"
   ]
  },
  {
   "cell_type": "markdown",
   "metadata": {},
   "source": [
    "# Feedback  <a id='6'></a>"
   ]
  },
  {
   "cell_type": "markdown",
   "metadata": {},
   "source": [
    "Thank you so much for completeing the notebook! The development team would appreciate your feedback to get a sense of how the notebook experience was! All feedback is confidential and will be used to guide future developers in creating a notebook. We hope you learned a lot from this experience feel free to reach out to us if you have any questions about the development or use of this notebook."
   ]
  },
  {
   "cell_type": "code",
   "execution_count": null,
   "metadata": {},
   "outputs": [],
   "source": [
    "#Just run this cell to display the form below.\n",
    "HTML(\n",
    "\"\"\"\n",
    "<iframe \n",
    "\tsrc=\"https://docs.google.com/forms/d/e/1FAIpQLSe54U3E64kYFWwQHSUpAvWYMuJOdKzbHDZjPa3nMUlHSSs0PQ/viewform\" \n",
    "\twidth=\"100%\" \n",
    "\theight=\"1200px\" \n",
    "\tframeborder=\"0\" \n",
    "\tmarginheight=\"0\" \n",
    "\tmarginwidth=\"0\">\n",
    "\tLoading...\n",
    "</iframe>\n",
    "\"\"\"\n",
    ")"
   ]
  }
 ],
 "metadata": {
  "kernelspec": {
   "display_name": "Python 3",
   "language": "python",
   "name": "python3"
  },
  "language_info": {
   "codemirror_mode": {
    "name": "ipython",
    "version": 3
   },
   "file_extension": ".py",
   "mimetype": "text/x-python",
   "name": "python",
   "nbconvert_exporter": "python",
   "pygments_lexer": "ipython3",
   "version": "3.6.9"
  }
 },
 "nbformat": 4,
 "nbformat_minor": 2
}
