{
 "cells": [
  {
   "cell_type": "markdown",
   "metadata": {},
   "source": [
    "# [IAS 150] Migration\n",
    "\n",
    "Estimated Time: 2 Hours <br>\n",
    "Created by: Alexander Almond, Jordan Jomsky, and Timlan Wong\n",
    "\n",
    "Today we will be examining a data set that the UN produces that explores the migrant stock and population of countries. You will produce many visualizations as you explore the data set. Feel free to ask the devlopers questions at any time as they will be walking around during your class. Have fun! \n",
    "\n",
    "### Table of Contents \n",
    "0 - [Basics](#0) <br>\n",
    "1 - [Picking a Variable](#1)<br>\n",
    "2 - [Graphing the Data](#2)<br>\n",
    "3 - [Comparing to Another Country](#3)<br>\n",
    "4 - [Over Time](#4)<br>\n",
    "5 - [Questions](#5)<br>\n",
    "6 - [Feedback](#6)"
   ]
  },
  {
   "cell_type": "markdown",
   "metadata": {},
   "source": [
    "# Basics <a id='0'></a>"
   ]
  },
  {
   "cell_type": "markdown",
   "metadata": {},
   "source": [
    "This webpage is a Jupyter notebook. We have created this specific notebook so that you can run code that we wrote in order to perform data analysis and answer questions. Cells are the boxes of text that all you to populate the notebook with code or text. To edit a cell, double click it. In order to run a cell, click the cell and press `Shift + Enter` while the cell is selected or hit the `▶| Run` button in the toolbar at the top."
   ]
  },
  {
   "cell_type": "code",
   "execution_count": 1,
   "metadata": {},
   "outputs": [],
   "source": [
    "#Just run this cell\n",
    "#It imports the necessary tools for the code to function\n",
    "import pandas as pd\n",
    "import numpy as np\n",
    "import numpy as np\n",
    "from datascience import *\n",
    "import matplotlib.pyplot as plots\n",
    "%matplotlib inline\n",
    "import math as m\n",
    "import qgrid as q\n",
    "import pandas as pd\n",
    "import sys\n",
    "sys.path.insert(0, \"development\")\n",
    "import grapher as grapher\n",
    "from IPython.display import HTML"
   ]
  },
  {
   "cell_type": "markdown",
   "metadata": {},
   "source": [
    "## Context"
   ]
  },
  {
   "cell_type": "code",
   "execution_count": null,
   "metadata": {},
   "outputs": [],
   "source": []
  },
  {
   "cell_type": "markdown",
   "metadata": {},
   "source": [
    "Here's the data. You can scroll horizontally when the table is selected to see the whole data set."
   ]
  },
  {
   "cell_type": "code",
   "execution_count": 3,
   "metadata": {
    "scrolled": true
   },
   "outputs": [
    {
     "data": {
      "text/html": [
       "<table border=\"1\" class=\"dataframe\">\n",
       "    <thead>\n",
       "        <tr>\n",
       "            <th>Year</th> <th>Code</th> <th>Country</th> <th>Year.1</th> <th>Migration Type</th> <th>Total Migration</th> <th>Gender</th> <th>Country 1</th> <th>Country 1 Count</th> <th>Country 2</th> <th>Country 2 Count</th> <th>Country 3</th> <th>Country 3 Count</th> <th>Country 4</th> <th>Country 4 Count</th> <th>Country 5</th> <th>Country 5 Count</th> <th>Migrants Under 15 years old</th> <th>Migrants 20-29 years old</th> <th>Migrants 30-39 years old</th> <th>Migrants 40-49 years old</th> <th>Migrants 50 years old and older</th> <th>Admits asylum migrants?</th> <th>Has migrate to countries abroad as refugees/asylum-seekers?</th> <th>War or Genocide?</th> <th>Government instability?</th> <th>Organized crime?</th> <th>Economic recession?</th> <th>Financial crisis?</th> <th>GDP </th> <th>Natural disasters?</th> <th>Man-made disasters?</th> <th>Passport power rating</th> <th>Changes over-time in access to visas?</th>\n",
       "        </tr>\n",
       "    </thead>\n",
       "    <tbody>\n",
       "        <tr>\n",
       "            <td>1990</td> <td>4   </td> <td>Afghanistan</td> <td>1990  </td> <td>Emigration    </td> <td>3661547        </td> <td>female</td> <td>Iran (Islamic Republic of)</td> <td>1788296        </td> <td>Pakistan </td> <td>1673100        </td> <td>Saudi Arabia</td> <td>110590         </td> <td>Germany  </td> <td>21242          </td> <td>United States of America</td> <td>15757          </td> <td>nan                        </td> <td>nan                     </td> <td>nan                     </td> <td>nan                     </td> <td>nan                            </td> <td>Yes                    </td> <td>Yes                                                        </td> <td>Yes             </td> <td>Yes                    </td> <td>Yes             </td> <td>Yes                </td> <td>Yes              </td> <td>3622</td> <td>Yes               </td> <td>Yes                </td> <td>92                   </td> <td>Yes                                  </td>\n",
       "        </tr>\n",
       "    </tbody>\n",
       "</table>\n",
       "<p>... (839 rows omitted)</p>"
      ],
      "text/plain": [
       "<IPython.core.display.HTML object>"
      ]
     },
     "metadata": {},
     "output_type": "display_data"
    }
   ],
   "source": [
    "# Run this cell to display the dataset\n",
    "data = Table().from_df(pd.read_csv(\"development/migrant_table_final_appended.csv\")).sort(\"Country\")\n",
    "data.show(1)"
   ]
  },
  {
   "cell_type": "markdown",
   "metadata": {},
   "source": [
    "Here are all the countries in the table!"
   ]
  },
  {
   "cell_type": "code",
   "execution_count": null,
   "metadata": {},
   "outputs": [],
   "source": [
    "# Run this cell to display the countries\n",
    "countries = data.group(\"Country\").show(20)\n",
    "countries"
   ]
  },
  {
   "cell_type": "markdown",
   "metadata": {},
   "source": [
    "**Please take note of the column labels and the spelling of countries. All code is case-sensitive and spelling sensitve.**"
   ]
  },
  {
   "cell_type": "markdown",
   "metadata": {},
   "source": [
    "Now, let's learn how to do a few basic functions on tables to get answers about the data set."
   ]
  },
  {
   "cell_type": "markdown",
   "metadata": {},
   "source": [
    "#### The `where` function"
   ]
  },
  {
   "cell_type": "markdown",
   "metadata": {},
   "source": [
    "The `where` function can be used on a data set to find *where* the data meets the condition you set for it. A function is what follows the `.` and is used to manipulate data. The `where` function takes in two parameters, a name of a column and a condition or value to match the data to. Below, let's use the where function to show only data for your country."
   ]
  },
  {
   "cell_type": "code",
   "execution_count": null,
   "metadata": {
    "scrolled": true
   },
   "outputs": [],
   "source": [
    "# Replace the elipsis with your country name. DO NOT REMOVE THE QUOTES!\n",
    "# Then, run the cell.\n",
    "my_country = \"...\"\n",
    "country_data = data.where(\"Country\", my_country)\n",
    "country_data.show(1)"
   ]
  },
  {
   "cell_type": "markdown",
   "metadata": {},
   "source": [
    "It looks like this table is too long and doesn't give us a lot of information. Let's call the `where` function again. However, let's use it so that we will only look at **immigration of men** into your country."
   ]
  },
  {
   "cell_type": "code",
   "execution_count": null,
   "metadata": {
    "scrolled": false
   },
   "outputs": [],
   "source": [
    "# Replace each elipsis in line with the above description. \n",
    "# DO NOT REMOVE THE QUOTES!\n",
    "# Then, run the cell.\n",
    "migration_type = \"...\"\n",
    "gender = \"...\"\n",
    "immigration_data = country_data.where(\"Migration Type\", migration_type)\n",
    "male_immigration_data = immigration_data.where(\"Gender\", gender)\n",
    "male_immigration_data"
   ]
  },
  {
   "cell_type": "markdown",
   "metadata": {},
   "source": [
    "Now, we have a table that we can analyze! Let's do some visualizations."
   ]
  },
  {
   "cell_type": "markdown",
   "metadata": {},
   "source": [
    "#### Visualizing Data"
   ]
  },
  {
   "cell_type": "markdown",
   "metadata": {},
   "source": [
    "##### Bar Graph"
   ]
  },
  {
   "cell_type": "markdown",
   "metadata": {},
   "source": [
    "Let's create a bar graph of the total male immigration for each year for your country. "
   ]
  },
  {
   "cell_type": "code",
   "execution_count": null,
   "metadata": {},
   "outputs": [],
   "source": [
    "# Run this cell.\n",
    "male_immigration_data.bar(\"Year\", \"Total Migration\")\n",
    "plots.ylabel(\"Total Male Migrants to \" + my_country);"
   ]
  },
  {
   "cell_type": "markdown",
   "metadata": {},
   "source": [
    "The `bar` function is used to create bar charts like the one above. It takes in the names of two columns in quotes with the first one on the x-axis and the second one on the y-axis."
   ]
  },
  {
   "cell_type": "markdown",
   "metadata": {},
   "source": [
    "##### Line Graph"
   ]
  },
  {
   "cell_type": "markdown",
   "metadata": {},
   "source": [
    "Let's create a line graph of the total male immigration from the country of origin of most of the migrants over time."
   ]
  },
  {
   "cell_type": "code",
   "execution_count": null,
   "metadata": {},
   "outputs": [],
   "source": [
    "# Run this cell.\n",
    "male_immigration_data.plot(\"Year\", \"Country 1 Count\")\n",
    "plots.ylabel(\"Total \" + male_immigration_data.column(\"Country 1\").item(0) + \" Migrants to \" + my_country);"
   ]
  },
  {
   "cell_type": "markdown",
   "metadata": {},
   "source": [
    "The `plot` function is used to create line graphs like the one above. It takes in the names of two columns in quotes with the first one on the x-axis and the second one on the y-axis."
   ]
  },
  {
   "cell_type": "markdown",
   "metadata": {},
   "source": [
    "Now, you can try a visualization! We will provide code for you to fill in, but try calling the `where` function to focus your data and one of the two visualizations to get a better look at your data. We will also put one more example below."
   ]
  },
  {
   "cell_type": "code",
   "execution_count": null,
   "metadata": {},
   "outputs": [],
   "source": [
    "# Run this to see an example visualization!\n",
    "# This is a line graph for the year 2000 \n",
    "# where the x-axis is the Passport power rating of a country and\n",
    "# the y-axis is the Total Migration out of the country\n",
    "table_y2k = data.where(\"Year\", 2000).where('Gender', 'total').where('Migration Type','Emigration')\n",
    "table_y2k.plot(\"Passport power rating\", \"Total Migration\")"
   ]
  },
  {
   "cell_type": "code",
   "execution_count": null,
   "metadata": {},
   "outputs": [],
   "source": [
    "table_to_visualize = data #call .where on data thrice for the best results\n",
    "table_to_visualize #call either .bar or .plot depending of your data"
   ]
  },
  {
   "cell_type": "markdown",
   "metadata": {},
   "source": [
    "Congratulations! You have learned the basics of data science programming! For the next part, we wrote some higher functions that essentially do the same things you just learned with some plotting magic."
   ]
  },
  {
   "cell_type": "markdown",
   "metadata": {},
   "source": [
    "# Picking Your Variables <a id='1'></a>"
   ]
  },
  {
   "cell_type": "markdown",
   "metadata": {},
   "source": [
    "For this section, you will be selecting your country for the graph. Please type your country's name in the provided space below."
   ]
  },
  {
   "cell_type": "code",
   "execution_count": null,
   "metadata": {},
   "outputs": [],
   "source": [
    "# Replace the elipsis with your country name. DO NOT REMOVE THE QUOTES!\n",
    "# Then, run the cell.\n",
    "my_country = \"...\""
   ]
  },
  {
   "cell_type": "markdown",
   "metadata": {},
   "source": [
    "Next, you will be able to pick a variable to investigate for your country. The options are listed for you below: \n",
    "1. Gender\n",
    "2. Migration Type\n",
    "3. Age (Immigration Only)\n",
    "Our personal favorite is 3 :)"
   ]
  },
  {
   "cell_type": "code",
   "execution_count": null,
   "metadata": {},
   "outputs": [],
   "source": [
    "# Replace the elipsis with the number of the variable \n",
    "# that you would like to explore. No need for quotes.\n",
    "# Then, run the cell.\n",
    "my_variable = ..."
   ]
  },
  {
   "cell_type": "markdown",
   "metadata": {},
   "source": [
    "# Graphing the Data  <a id='2'></a>"
   ]
  },
  {
   "cell_type": "markdown",
   "metadata": {},
   "source": []
  },
  {
   "cell_type": "markdown",
   "metadata": {},
   "source": [
    "Now, let's graph the data for your variables! Run the cell below."
   ]
  },
  {
   "cell_type": "code",
   "execution_count": null,
   "metadata": {
    "scrolled": true
   },
   "outputs": [],
   "source": [
    "grapher.one_pick_and_graph(my_country, my_variable)"
   ]
  },
  {
   "cell_type": "markdown",
   "metadata": {},
   "source": [
    "# Comparing to Another Country  <a id='3'></a>"
   ]
  },
  {
   "cell_type": "markdown",
   "metadata": {},
   "source": [
    "Now that we have looked at a graph for your country, let's compare to another country. For this section, you will be selecting your country and we will visualize a specific gender and migration type. Please type your country's name in the provided space below."
   ]
  },
  {
   "cell_type": "code",
   "execution_count": null,
   "metadata": {},
   "outputs": [],
   "source": [
    "# Replace the elipsis with another country name. DO NOT REMOVE THE QUOTES!\n",
    "# Then, run the cell.\n",
    "another_country = \"...\"\n",
    "gender = \"...\" # female, male, or total\n",
    "migration_type = \"...\" # Immigration or Emigration\n",
    "graph_type = \"...\" # line or bar"
   ]
  },
  {
   "cell_type": "markdown",
   "metadata": {},
   "source": [
    "Now, let's compare! Run the cell below."
   ]
  },
  {
   "cell_type": "code",
   "execution_count": null,
   "metadata": {},
   "outputs": [],
   "source": [
    "grapher.multiple_pick_and_graph(data.to_df(), 'Gender', gender, migration_type, [my_country, another_country], graph_type)"
   ]
  },
  {
   "cell_type": "markdown",
   "metadata": {},
   "source": [
    "# Over Time  <a id='4'></a>"
   ]
  },
  {
   "cell_type": "markdown",
   "metadata": {},
   "source": [
    "Now, we can look at these changes over time. Run the cell below."
   ]
  },
  {
   "cell_type": "code",
   "execution_count": null,
   "metadata": {},
   "outputs": [],
   "source": [
    "grapher.one_pick_and_graph(my_country, my_variable, year=True)"
   ]
  },
  {
   "cell_type": "code",
   "execution_count": null,
   "metadata": {},
   "outputs": [],
   "source": [
    "grapher.one_pick_and_graph(another_country, my_variable, year=True)"
   ]
  },
  {
   "cell_type": "markdown",
   "metadata": {},
   "source": [
    "# Questions  <a id='5'></a>"
   ]
  },
  {
   "cell_type": "markdown",
   "metadata": {},
   "source": [
    "To replace the text with your answer, double click the text."
   ]
  },
  {
   "cell_type": "markdown",
   "metadata": {},
   "source": [
    "1. Does your assigned country admit asylum migrants?\n",
    "If yes, describe if there has been a pattern or time period for asylum migration to your country.\n",
    "If no, explain why not."
   ]
  },
  {
   "cell_type": "markdown",
   "metadata": {},
   "source": [
    "***Replace this with your answer to Q1***"
   ]
  },
  {
   "cell_type": "markdown",
   "metadata": {},
   "source": [
    "2. Do individuals from your assigned country migrate to countries abroad as refugees/asylum-seekers (yes or no)? Explain why or why not.\n"
   ]
  },
  {
   "cell_type": "markdown",
   "metadata": {},
   "source": [
    "***Replace this with your answer to Q2***"
   ]
  },
  {
   "cell_type": "markdown",
   "metadata": {},
   "source": [
    "3. Has your country suffered from war? If so, what years and how many times?"
   ]
  },
  {
   "cell_type": "markdown",
   "metadata": {},
   "source": [
    "***Replace this with your answer to Q3***"
   ]
  },
  {
   "cell_type": "markdown",
   "metadata": {},
   "source": [
    "4. Has your country suffered from genocide? If so, what years and how many times?"
   ]
  },
  {
   "cell_type": "markdown",
   "metadata": {},
   "source": [
    "***Replace this with your answer to Q4***"
   ]
  },
  {
   "cell_type": "markdown",
   "metadata": {},
   "source": [
    "5. Has your country suffered from an unstable government like coups or dictatorship? If so, what years and how many times?"
   ]
  },
  {
   "cell_type": "markdown",
   "metadata": {},
   "source": [
    "***Replace this with your answer to Q5***"
   ]
  },
  {
   "cell_type": "markdown",
   "metadata": {},
   "source": [
    "6. Has your country suffered from organized crime like like military control, cartels, gangs, or other rebellious groups? If so, what years and how many times?"
   ]
  },
  {
   "cell_type": "markdown",
   "metadata": {},
   "source": [
    "***Replace this with your answer to Q6***"
   ]
  },
  {
   "cell_type": "markdown",
   "metadata": {},
   "source": [
    "7. If you answered yes for any question from Q3 to Q6, describe at least one of those political conflicts in detail."
   ]
  },
  {
   "cell_type": "markdown",
   "metadata": {},
   "source": [
    "***Replace this with your answer to Q7***"
   ]
  },
  {
   "cell_type": "markdown",
   "metadata": {},
   "source": [
    "8. Has your country suffered from economic downturns like economic recession or financial crisis? If so, what type? What years? How many times? Also, describe at least one in detail."
   ]
  },
  {
   "cell_type": "markdown",
   "metadata": {},
   "source": [
    "***Replace this with your answer to Q8***"
   ]
  },
  {
   "cell_type": "markdown",
   "metadata": {},
   "source": [
    "9. Has your country suffered from natural disasters? If so, what type? What years? How many times?"
   ]
  },
  {
   "cell_type": "markdown",
   "metadata": {},
   "source": [
    "***Replace this with your answer to Q9***"
   ]
  },
  {
   "cell_type": "markdown",
   "metadata": {},
   "source": [
    "10. Has your country suffered from any man-made disasters? If so, what type? What years? How many times?"
   ]
  },
  {
   "cell_type": "markdown",
   "metadata": {},
   "source": [
    "***Replace this with your answer to Q10***"
   ]
  },
  {
   "cell_type": "markdown",
   "metadata": {},
   "source": [
    "11. Have there been changes over-time for your assigned country’s access to visas? Explain. "
   ]
  },
  {
   "cell_type": "markdown",
   "metadata": {},
   "source": [
    "***Replace this with your answer to Q11***"
   ]
  },
  {
   "cell_type": "markdown",
   "metadata": {},
   "source": [
    "# Feedback  <a id='6'></a>"
   ]
  },
  {
   "cell_type": "markdown",
   "metadata": {},
   "source": [
    "Thank you so much for completeing the notebook! The development team would appreciate your feedback to get a sense of how the notebook experience was! All feedback is confidential and will be used to guide future developers in creating a notebook. We hope you learned a lot from this experience feel free to reach out to us if you have any questions about the development or use of this notebook."
   ]
  },
  {
   "cell_type": "code",
   "execution_count": null,
   "metadata": {},
   "outputs": [],
   "source": [
    "#Just run this cell to display the form below.\n",
    "HTML(\n",
    "\"\"\"\n",
    "<iframe \n",
    "\tsrc=\"https://docs.google.com/forms/d/e/1FAIpQLSe54U3E64kYFWwQHSUpAvWYMuJOdKzbHDZjPa3nMUlHSSs0PQ/viewform\" \n",
    "\twidth=\"100%\" \n",
    "\theight=\"1200px\" \n",
    "\tframeborder=\"0\" \n",
    "\tmarginheight=\"0\" \n",
    "\tmarginwidth=\"0\">\n",
    "\tLoading...\n",
    "</iframe>\n",
    "\"\"\"\n",
    ")"
   ]
  },
  {
   "cell_type": "code",
   "execution_count": null,
   "metadata": {},
   "outputs": [],
   "source": []
  }
 ],
 "metadata": {
  "kernelspec": {
   "display_name": "Python 3",
   "language": "python",
   "name": "python3"
  },
  "language_info": {
   "codemirror_mode": {
    "name": "ipython",
    "version": 3
   },
   "file_extension": ".py",
   "mimetype": "text/x-python",
   "name": "python",
   "nbconvert_exporter": "python",
   "pygments_lexer": "ipython3",
   "version": "3.6.4"
  }
 },
 "nbformat": 4,
 "nbformat_minor": 2
}
