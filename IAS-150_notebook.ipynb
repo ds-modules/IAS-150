{
 "cells": [
  {
   "cell_type": "markdown",
   "metadata": {},
   "source": [
    "# [IAS 150] Migration\n",
    "\n",
    "Estimated Time: xx Hours\n",
    "\n",
    "Today we will be examining a data set that the UN produces that explores the migrant stock and population of countries.\n",
    "\n",
    "### Table of Contents \n",
    "1 - [Picking a Variable](#1)<br>\n",
    "2 - [Graphing the Data](#2)<br>\n",
    "3 - [Comparing to Another Country](#3)<br>\n",
    "4 - [Over Time](#4)<br>\n",
    "5 - [Questions](#5)<br>"
   ]
  },
  {
   "cell_type": "markdown",
   "metadata": {},
   "source": [
    "# Context"
   ]
  },
  {
   "cell_type": "code",
   "execution_count": null,
   "metadata": {},
   "outputs": [],
   "source": []
  },
  {
   "cell_type": "markdown",
   "metadata": {},
   "source": [
    "# Basics"
   ]
  },
  {
   "cell_type": "markdown",
   "metadata": {},
   "source": [
    "This webpage is a Jupyter notebook. We have created this specific notebook so that you can run code that we wrote in order to perform data analysis and answer questions. Cells are the boxes of text that all you to populate the notebook with code or text. To edit a cell, double click it. In order to run a cell, click the cell and press `Shift + Enter` while the cell is selected or hit the `▶| Run` button in the toolbar at the top."
   ]
  },
  {
   "cell_type": "code",
   "execution_count": 40,
   "metadata": {},
   "outputs": [],
   "source": [
    "#Just run this cell\n",
    "#It imports the necessary tools for the code to function\n",
    "import pandas as pd\n",
    "import numpy as np\n",
    "import numpy as np\n",
    "from datascience import *\n",
    "import matplotlib.pyplot as plots\n",
    "%matplotlib inline\n",
    "import math as m\n",
    "import qgrid as q\n",
    "import pandas as pd\n",
    "import sys\n",
    "sys.path.insert(0, \"development\")\n",
    "import graphing as grapher"
   ]
  },
  {
   "cell_type": "markdown",
   "metadata": {},
   "source": [
    "Here's the data. You can scroll horizontally when the table is selected to see the whole data set."
   ]
  },
  {
   "cell_type": "code",
   "execution_count": 63,
   "metadata": {
    "scrolled": true
   },
   "outputs": [
    {
     "data": {
      "text/html": [
       "<table border=\"1\" class=\"dataframe\">\n",
       "    <thead>\n",
       "        <tr>\n",
       "            <th>Code</th> <th>Country</th> <th>Year</th> <th>Migration Type</th> <th>Total Migration</th> <th>Gender</th> <th>Country 1</th> <th>Country 1 Count</th> <th>Country 2</th> <th>Country 2 Count</th> <th>Country 3</th> <th>Country 3 Count</th> <th>Country 4</th> <th>Country 4 Count</th> <th>Country 5</th> <th>Country 5 Count</th> <th>Migrants Under 15 years old</th> <th>Migrants 20-29 years old</th> <th>Migrants 30-39 years old</th> <th>Migrants 40-49 years old</th> <th>Migrants 50 years old and older</th>\n",
       "        </tr>\n",
       "    </thead>\n",
       "    <tbody>\n",
       "        <tr>\n",
       "            <td>4   </td> <td>Afghanistan</td> <td>1990</td> <td>Emigration    </td> <td>3661547        </td> <td>female</td> <td>Iran (Islamic Republic of)</td> <td>1788296        </td> <td>Pakistan </td> <td>1673100        </td> <td>Saudi Arabia</td> <td>110590         </td> <td>Germany  </td> <td>21242          </td> <td>United States of America</td> <td>15757          </td> <td>nan                        </td> <td>nan                     </td> <td>nan                     </td> <td>nan                     </td> <td>nan                            </td>\n",
       "        </tr>\n",
       "    </tbody>\n",
       "</table>\n",
       "<p>... (839 rows omitted)</p>"
      ],
      "text/plain": [
       "<IPython.core.display.HTML object>"
      ]
     },
     "metadata": {},
     "output_type": "display_data"
    }
   ],
   "source": [
    "# Run this cell to display the dataset\n",
    "data = Table().from_df(pd.read_csv(\"development/migrant_table_final.csv\").drop(columns=[\"Unnamed: 0\"])).sort(\"Country\")\n",
    "data.show(1)"
   ]
  },
  {
   "cell_type": "markdown",
   "metadata": {},
   "source": [
    "Here are all the countries in the table!"
   ]
  },
  {
   "cell_type": "code",
   "execution_count": 69,
   "metadata": {},
   "outputs": [
    {
     "data": {
      "text/html": [
       "<table border=\"1\" class=\"dataframe\">\n",
       "    <thead>\n",
       "        <tr>\n",
       "            <th>Country</th> <th>count</th>\n",
       "        </tr>\n",
       "    </thead>\n",
       "    <tbody>\n",
       "        <tr>\n",
       "            <td>Afghanistan                       </td> <td>42   </td>\n",
       "        </tr>\n",
       "        <tr>\n",
       "            <td>China                             </td> <td>42   </td>\n",
       "        </tr>\n",
       "        <tr>\n",
       "            <td>Cuba                              </td> <td>42   </td>\n",
       "        </tr>\n",
       "        <tr>\n",
       "            <td>El Salvador                       </td> <td>42   </td>\n",
       "        </tr>\n",
       "        <tr>\n",
       "            <td>Ethiopia                          </td> <td>42   </td>\n",
       "        </tr>\n",
       "        <tr>\n",
       "            <td>Ghana                             </td> <td>42   </td>\n",
       "        </tr>\n",
       "        <tr>\n",
       "            <td>Guatemala                         </td> <td>42   </td>\n",
       "        </tr>\n",
       "        <tr>\n",
       "            <td>Honduras                          </td> <td>42   </td>\n",
       "        </tr>\n",
       "        <tr>\n",
       "            <td>India                             </td> <td>42   </td>\n",
       "        </tr>\n",
       "        <tr>\n",
       "            <td>Iraq                              </td> <td>42   </td>\n",
       "        </tr>\n",
       "        <tr>\n",
       "            <td>Kenya                             </td> <td>42   </td>\n",
       "        </tr>\n",
       "        <tr>\n",
       "            <td>Mexico                            </td> <td>42   </td>\n",
       "        </tr>\n",
       "        <tr>\n",
       "            <td>Nigeria                           </td> <td>42   </td>\n",
       "        </tr>\n",
       "        <tr>\n",
       "            <td>Pakistan                          </td> <td>42   </td>\n",
       "        </tr>\n",
       "        <tr>\n",
       "            <td>Philippines                       </td> <td>42   </td>\n",
       "        </tr>\n",
       "        <tr>\n",
       "            <td>Somalia                           </td> <td>42   </td>\n",
       "        </tr>\n",
       "        <tr>\n",
       "            <td>South Africa                      </td> <td>42   </td>\n",
       "        </tr>\n",
       "        <tr>\n",
       "            <td>Syrian Arab Republic              </td> <td>42   </td>\n",
       "        </tr>\n",
       "        <tr>\n",
       "            <td>Venezuela (Bolivarian Republic of)</td> <td>42   </td>\n",
       "        </tr>\n",
       "        <tr>\n",
       "            <td>Viet Nam                          </td> <td>42   </td>\n",
       "        </tr>\n",
       "    </tbody>\n",
       "</table>"
      ],
      "text/plain": [
       "<IPython.core.display.HTML object>"
      ]
     },
     "metadata": {},
     "output_type": "display_data"
    }
   ],
   "source": [
    "data.group(\"Country\").show(20)"
   ]
  },
  {
   "cell_type": "markdown",
   "metadata": {},
   "source": [
    "Now, let's learn how to do a few basic functions on tables to get answers about the data set."
   ]
  },
  {
   "cell_type": "markdown",
   "metadata": {},
   "source": [
    "#### The `where` function"
   ]
  },
  {
   "cell_type": "markdown",
   "metadata": {},
   "source": [
    "The `where` function can be used on a data set to find *where* the data meets the condition you set for it. A function is what follows the `.` and is used to manipulate data. The `where` function takes in two parameters, a name of a column and a condition or value to match the data to. Below, let's use the where function to show only data for your country."
   ]
  },
  {
   "cell_type": "code",
   "execution_count": 61,
   "metadata": {
    "scrolled": true
   },
   "outputs": [
    {
     "data": {
      "text/html": [
       "<table border=\"1\" class=\"dataframe\">\n",
       "    <thead>\n",
       "        <tr>\n",
       "            <th>Code</th> <th>Country</th> <th>Year</th> <th>Migration Type</th> <th>Total Migration</th> <th>Gender</th> <th>Country 1</th> <th>Country 1 Count</th> <th>Country 2</th> <th>Country 2 Count</th> <th>Country 3</th> <th>Country 3 Count</th> <th>Country 4</th> <th>Country 4 Count</th> <th>Country 5</th> <th>Country 5 Count</th> <th>Migrants Under 15 years old</th> <th>Migrants 20-29 years old</th> <th>Migrants 30-39 years old</th> <th>Migrants 40-49 years old</th> <th>Migrants 50 years old and older</th>\n",
       "        </tr>\n",
       "    </thead>\n",
       "    <tbody>\n",
       "        <tr>\n",
       "            <td>192 </td> <td>Cuba   </td> <td>1990</td> <td>Emigration    </td> <td>399117         </td> <td>female</td> <td>United States of America</td> <td>351002         </td> <td>Puerto Rico</td> <td>9510           </td> <td>Spain    </td> <td>9264           </td> <td>Venezuela (Bolivarian Republic of)</td> <td>5874           </td> <td>Dominican Republic</td> <td>3900           </td> <td>nan                        </td> <td>nan                     </td> <td>nan                     </td> <td>nan                     </td> <td>nan                            </td>\n",
       "        </tr>\n",
       "    </tbody>\n",
       "</table>\n",
       "<p>... (41 rows omitted)</p>"
      ],
      "text/plain": [
       "<IPython.core.display.HTML object>"
      ]
     },
     "metadata": {},
     "output_type": "display_data"
    }
   ],
   "source": [
    "# Replace the elipsis with your country name. DO NOT REMOVE THE QUOTES!\n",
    "# Then, run the cell.\n",
    "my_country = \"Cuba\"\n",
    "country_data = data.where(\"Country\", my_country)\n",
    "country_data.show(1)"
   ]
  },
  {
   "cell_type": "markdown",
   "metadata": {},
   "source": [
    "It looks like this table is too long and doesn't give us a lot of information. Let's call the `where` function again. However, let's use it so that we will only look at **immigration of men** into your country."
   ]
  },
  {
   "cell_type": "code",
   "execution_count": 43,
   "metadata": {
    "scrolled": false
   },
   "outputs": [
    {
     "data": {
      "text/html": [
       "<table border=\"1\" class=\"dataframe\">\n",
       "    <thead>\n",
       "        <tr>\n",
       "            <th>Code</th> <th>Country</th> <th>Year</th> <th>Migration Type</th> <th>Total Migration</th> <th>Gender</th> <th>Country 1</th> <th>Country 1 Count</th> <th>Country 2</th> <th>Country 2 Count</th> <th>Country 3</th> <th>Country 3 Count</th> <th>Country 4</th> <th>Country 4 Count</th> <th>Country 5</th> <th>Country 5 Count</th> <th>Migrants Under 15 years old</th> <th>Migrants 20-29 years old</th> <th>Migrants 30-39 years old</th> <th>Migrants 40-49 years old</th> <th>Migrants 50 years old and older</th>\n",
       "        </tr>\n",
       "    </thead>\n",
       "    <tbody>\n",
       "        <tr>\n",
       "            <td>192 </td> <td>Cuba   </td> <td>1990</td> <td>Immigration   </td> <td>17277          </td> <td>male  </td> <td>Spain    </td> <td>5309           </td> <td>Russian Federation</td> <td>2763           </td> <td>Ukraine  </td> <td>907            </td> <td>United States of America</td> <td>609            </td> <td>Haiti    </td> <td>585            </td> <td>790                        </td> <td>226                     </td> <td>665                     </td> <td>796                     </td> <td>1096                           </td>\n",
       "        </tr>\n",
       "        <tr>\n",
       "            <td>192 </td> <td>Cuba   </td> <td>1995</td> <td>Immigration   </td> <td>13628          </td> <td>male  </td> <td>Spain    </td> <td>4190           </td> <td>Russian Federation</td> <td>2181           </td> <td>Ukraine  </td> <td>716            </td> <td>United States of America</td> <td>481            </td> <td>Haiti    </td> <td>462            </td> <td>705                        </td> <td>341                     </td> <td>626                     </td> <td>727                     </td> <td>870                            </td>\n",
       "        </tr>\n",
       "        <tr>\n",
       "            <td>192 </td> <td>Cuba   </td> <td>2000</td> <td>Immigration   </td> <td>9978           </td> <td>male  </td> <td>Spain    </td> <td>3071           </td> <td>Russian Federation</td> <td>1598           </td> <td>Ukraine  </td> <td>525            </td> <td>United States of America</td> <td>352            </td> <td>Haiti    </td> <td>339            </td> <td>642                        </td> <td>493                     </td> <td>619                     </td> <td>690                     </td> <td>663                            </td>\n",
       "        </tr>\n",
       "        <tr>\n",
       "            <td>192 </td> <td>Cuba   </td> <td>2005</td> <td>Immigration   </td> <td>9483           </td> <td>male  </td> <td>Spain    </td> <td>3040           </td> <td>Russian Federation</td> <td>1582           </td> <td>Ukraine  </td> <td>519            </td> <td>United States of America</td> <td>349            </td> <td>Haiti    </td> <td>335            </td> <td>675                        </td> <td>472                     </td> <td>1283                    </td> <td>912                     </td> <td>828                            </td>\n",
       "        </tr>\n",
       "        <tr>\n",
       "            <td>192 </td> <td>Cuba   </td> <td>2010</td> <td>Immigration   </td> <td>8207           </td> <td>male  </td> <td>Spain    </td> <td>2758           </td> <td>Russian Federation</td> <td>1436           </td> <td>Ukraine  </td> <td>471            </td> <td>United States of America</td> <td>317            </td> <td>Haiti    </td> <td>304            </td> <td>572                        </td> <td>282                     </td> <td>1093                    </td> <td>994                     </td> <td>788                            </td>\n",
       "        </tr>\n",
       "        <tr>\n",
       "            <td>192 </td> <td>Cuba   </td> <td>2015</td> <td>Immigration   </td> <td>7386           </td> <td>male  </td> <td>Spain    </td> <td>2482           </td> <td>Russian Federation</td> <td>1292           </td> <td>Ukraine  </td> <td>424            </td> <td>United States of America</td> <td>285            </td> <td>Haiti    </td> <td>274            </td> <td>474                        </td> <td>295                     </td> <td>875                     </td> <td>1065                    </td> <td>738                            </td>\n",
       "        </tr>\n",
       "        <tr>\n",
       "            <td>192 </td> <td>Cuba   </td> <td>2017</td> <td>Immigration   </td> <td>7275           </td> <td>male  </td> <td>Spain    </td> <td>2444           </td> <td>Russian Federation</td> <td>1272           </td> <td>Ukraine  </td> <td>417            </td> <td>United States of America</td> <td>280            </td> <td>Haiti    </td> <td>269            </td> <td>478                        </td> <td>276                     </td> <td>880                     </td> <td>1062                    </td> <td>767                            </td>\n",
       "        </tr>\n",
       "    </tbody>\n",
       "</table>"
      ],
      "text/plain": [
       "Code | Country | Year | Migration Type | Total Migration | Gender | Country 1 | Country 1 Count | Country 2          | Country 2 Count | Country 3 | Country 3 Count | Country 4                | Country 4 Count | Country 5 | Country 5 Count | Migrants Under 15 years old | Migrants 20-29 years old | Migrants 30-39 years old | Migrants 40-49 years old | Migrants 50 years old and older\n",
       "192  | Cuba    | 1990 | Immigration    | 17277           | male   | Spain     | 5309            | Russian Federation | 2763            | Ukraine   | 907             | United States of America | 609             | Haiti     | 585             | 790                         | 226                      | 665                      | 796                      | 1096\n",
       "192  | Cuba    | 1995 | Immigration    | 13628           | male   | Spain     | 4190            | Russian Federation | 2181            | Ukraine   | 716             | United States of America | 481             | Haiti     | 462             | 705                         | 341                      | 626                      | 727                      | 870\n",
       "192  | Cuba    | 2000 | Immigration    | 9978            | male   | Spain     | 3071            | Russian Federation | 1598            | Ukraine   | 525             | United States of America | 352             | Haiti     | 339             | 642                         | 493                      | 619                      | 690                      | 663\n",
       "192  | Cuba    | 2005 | Immigration    | 9483            | male   | Spain     | 3040            | Russian Federation | 1582            | Ukraine   | 519             | United States of America | 349             | Haiti     | 335             | 675                         | 472                      | 1283                     | 912                      | 828\n",
       "192  | Cuba    | 2010 | Immigration    | 8207            | male   | Spain     | 2758            | Russian Federation | 1436            | Ukraine   | 471             | United States of America | 317             | Haiti     | 304             | 572                         | 282                      | 1093                     | 994                      | 788\n",
       "192  | Cuba    | 2015 | Immigration    | 7386            | male   | Spain     | 2482            | Russian Federation | 1292            | Ukraine   | 424             | United States of America | 285             | Haiti     | 274             | 474                         | 295                      | 875                      | 1065                     | 738\n",
       "192  | Cuba    | 2017 | Immigration    | 7275            | male   | Spain     | 2444            | Russian Federation | 1272            | Ukraine   | 417             | United States of America | 280             | Haiti     | 269             | 478                         | 276                      | 880                      | 1062                     | 767"
      ]
     },
     "execution_count": 43,
     "metadata": {},
     "output_type": "execute_result"
    }
   ],
   "source": [
    "# Replace each elipsis in line with the above description. \n",
    "# DO NOT REMOVE THE QUOTES!\n",
    "# Then, run the cell.\n",
    "migration_type = \"Immigration\"\n",
    "gender = \"male\"\n",
    "immigration_data = country_data.where(\"Migration Type\", migration_type)\n",
    "male_immigration_data = immigration_data.where(\"Gender\", gender)\n",
    "male_immigration_data"
   ]
  },
  {
   "cell_type": "markdown",
   "metadata": {},
   "source": [
    "Now, we have a table that we can analyze! Let's do some visualizations."
   ]
  },
  {
   "cell_type": "markdown",
   "metadata": {},
   "source": [
    "#### Visualizing Data"
   ]
  },
  {
   "cell_type": "markdown",
   "metadata": {},
   "source": [
    "##### Bar Graph"
   ]
  },
  {
   "cell_type": "markdown",
   "metadata": {},
   "source": [
    "Let's create a bar graph of the total male immigration for each year for your country. "
   ]
  },
  {
   "cell_type": "code",
   "execution_count": 44,
   "metadata": {},
   "outputs": [
    {
     "data": {
      "image/png": "[encoded data removed]",
      "text/plain": [
       "<Figure size 432x288 with 1 Axes>"
      ]
     },
     "metadata": {
      "needs_background": "light"
     },
     "output_type": "display_data"
    }
   ],
   "source": [
    "# Run this cell.\n",
    "male_immigration_data.bar(\"Year\", \"Total Migration\")\n",
    "plots.ylabel(\"Total Male Migrants to \" + my_country);"
   ]
  },
  {
   "cell_type": "markdown",
   "metadata": {},
   "source": [
    "The `bar` function is used to create bar charts like the one above. It takes in the names of two columns in quotes with the first one on the x-axis and the second one on the y-axis."
   ]
  },
  {
   "cell_type": "markdown",
   "metadata": {},
   "source": [
    "##### Line Graph"
   ]
  },
  {
   "cell_type": "markdown",
   "metadata": {},
   "source": [
    "Let's create a line graph of the total male immigration from the country of origin of most of the migrants over time."
   ]
  },
  {
   "cell_type": "code",
   "execution_count": 45,
   "metadata": {},
   "outputs": [
    {
     "data": {
      "image/png": "[encoded data removed]",
      "text/plain": [
       "<Figure size 432x288 with 1 Axes>"
      ]
     },
     "metadata": {
      "needs_background": "light"
     },
     "output_type": "display_data"
    }
   ],
   "source": [
    "# Run this cell.\n",
    "male_immigration_data.plot(\"Year\", \"Country 1 Count\")\n",
    "plots.ylabel(\"Total \" + male_immigration_data.column(\"Country 1\").item(0) + \" Migrants to \" + my_country);"
   ]
  },
  {
   "cell_type": "markdown",
   "metadata": {},
   "source": [
    "The `plot` function is used to create line graphs like the one above. It takes in the names of two columns in quotes with the first one on the x-axis and the second one on the y-axis."
   ]
  },
  {
   "cell_type": "markdown",
   "metadata": {},
   "source": [
    "Now, you can try a visualization! We will provide code for you to fill in, but try calling the `where` function to focus your data and one of the two visualizations to get a better look at your data. We will also put one more example below."
   ]
  },
  {
   "cell_type": "code",
   "execution_count": 58,
   "metadata": {},
   "outputs": [
    {
     "data": {
      "image/png": "[encoded data removed]",
      "text/plain": [
       "<Figure size 432x288 with 1 Axes>"
      ]
     },
     "metadata": {
      "needs_background": "light"
     },
     "output_type": "display_data"
    }
   ],
   "source": [
    "table_y2k = country_data.where(\"Year\", 2000).where(\"Migration Type\", \"Emigration\")\n",
    "table_y2k.bar(\"Gender\", \"Total Migration\")"
   ]
  },
  {
   "cell_type": "code",
   "execution_count": null,
   "metadata": {},
   "outputs": [],
   "source": [
    "table_to_visualize = data #call .where on data twice for the best results\n",
    "table_to_visualize #call either .bar or .plot"
   ]
  },
  {
   "cell_type": "markdown",
   "metadata": {},
   "source": [
    "Congratulations! You have learned the basics of data science programming! For the next part, we wrote some higher functions that essentially do the same things you just learned with some plotting magic."
   ]
  },
  {
   "cell_type": "markdown",
   "metadata": {},
   "source": [
    "# Picking Your Variables <a id='1'></a>"
   ]
  },
  {
   "cell_type": "markdown",
   "metadata": {},
   "source": [
    "For this section, you will be selecting your country for the graph. Please type your country's name in the provided space below."
   ]
  },
  {
   "cell_type": "code",
   "execution_count": 6,
   "metadata": {},
   "outputs": [],
   "source": [
    "# Replace the elipsis with your country name. DO NOT REMOVE THE QUOTES!\n",
    "# Then, run the cell.\n",
    "my_country = \"...\""
   ]
  },
  {
   "cell_type": "markdown",
   "metadata": {},
   "source": [
    "Next, you will be able to pick a variable to investigate for your country. The options are listed for you below: \n",
    "1. Gender\n",
    "2. Migration Type\n",
    "3. Age (Immigration Only)"
   ]
  },
  {
   "cell_type": "code",
   "execution_count": 7,
   "metadata": {},
   "outputs": [],
   "source": [
    "# Replace the elipsis with the number of the variable \n",
    "# that you would like to explore. No need for quotes.\n",
    "# Then, run the cell.\n",
    "my_variable = ..."
   ]
  },
  {
   "cell_type": "markdown",
   "metadata": {},
   "source": [
    "# Graphing the Data  <a id='2'></a>"
   ]
  },
  {
   "cell_type": "markdown",
   "metadata": {},
   "source": []
  },
  {
   "cell_type": "markdown",
   "metadata": {},
   "source": [
    "Now, let's graph the data for your variables! Run the cell below."
   ]
  },
  {
   "cell_type": "code",
   "execution_count": 8,
   "metadata": {
    "scrolled": true
   },
   "outputs": [
    {
     "ename": "AttributeError",
     "evalue": "module 'graphing' has no attribute 'one_pick_and_graph'",
     "output_type": "error",
     "traceback": [
      "\u001b[0;31m---------------------------------------------------------------------------\u001b[0m",
      "\u001b[0;31mAttributeError\u001b[0m                            Traceback (most recent call last)",
      "\u001b[0;32m<ipython-input-8-31815debe2ce>\u001b[0m in \u001b[0;36m<module>\u001b[0;34m\u001b[0m\n\u001b[0;32m----> 1\u001b[0;31m \u001b[0mgrapher\u001b[0m\u001b[0;34m.\u001b[0m\u001b[0mone_pick_and_graph\u001b[0m\u001b[0;34m(\u001b[0m\u001b[0;34m)\u001b[0m\u001b[0;34m\u001b[0m\u001b[0;34m\u001b[0m\u001b[0m\n\u001b[0m",
      "\u001b[0;31mAttributeError\u001b[0m: module 'graphing' has no attribute 'one_pick_and_graph'"
     ]
    }
   ],
   "source": [
    "grapher.one_pick_and_graph()"
   ]
  },
  {
   "cell_type": "markdown",
   "metadata": {},
   "source": [
    "# Comparing to Another Country  <a id='3'></a>"
   ]
  },
  {
   "cell_type": "markdown",
   "metadata": {},
   "source": [
    "Now that we have looked at a graph for your country, let's compare to another country. For this section, you will be selecting your country. Please type your country's name in the provided space below."
   ]
  },
  {
   "cell_type": "code",
   "execution_count": null,
   "metadata": {},
   "outputs": [],
   "source": [
    "# Replace the elipsis with another country name. DO NOT REMOVE THE QUOTES!\n",
    "# Then, run the cell.\n",
    "another_country = \"...\""
   ]
  },
  {
   "cell_type": "markdown",
   "metadata": {},
   "source": [
    "Now, let's compare! Run the cell below."
   ]
  },
  {
   "cell_type": "code",
   "execution_count": null,
   "metadata": {},
   "outputs": [],
   "source": [
    "grapher.multiple_pick_and_graph()"
   ]
  },
  {
   "cell_type": "markdown",
   "metadata": {},
   "source": [
    "# Over Time  <a id='4'></a>"
   ]
  },
  {
   "cell_type": "markdown",
   "metadata": {},
   "source": [
    "Now, we can look at these changes over time. Run the cell below."
   ]
  },
  {
   "cell_type": "code",
   "execution_count": null,
   "metadata": {},
   "outputs": [],
   "source": [
    "grapher.multiple_pick_and_graph()"
   ]
  },
  {
   "cell_type": "markdown",
   "metadata": {},
   "source": [
    "# Questions  <a id='5'></a>"
   ]
  },
  {
   "cell_type": "markdown",
   "metadata": {},
   "source": [
    "1. Does your assigned country admit asylum migrants?\n",
    "If yes, describe if there has been a pattern or time period for asylum migration to your country.\n",
    "If no, explain why not."
   ]
  },
  {
   "cell_type": "markdown",
   "metadata": {},
   "source": [
    "***Replace this with your answer to Q1***"
   ]
  },
  {
   "cell_type": "markdown",
   "metadata": {},
   "source": [
    "2. Do individuals from your assigned country migrate to countries abroad as refugees/asylum-seekers (yes or no)? Explain why or why not.\n"
   ]
  },
  {
   "cell_type": "markdown",
   "metadata": {},
   "source": [
    "***Replace this with your answer to Q2***"
   ]
  },
  {
   "cell_type": "markdown",
   "metadata": {},
   "source": [
    "3. Has your country suffered from war? If so, what years and how many times?"
   ]
  },
  {
   "cell_type": "markdown",
   "metadata": {},
   "source": [
    "***Replace this with your answer to Q3***"
   ]
  },
  {
   "cell_type": "markdown",
   "metadata": {},
   "source": [
    "4. Has your country suffered from genocide? If so, what years and how many times?"
   ]
  },
  {
   "cell_type": "markdown",
   "metadata": {},
   "source": [
    "***Replace this with your answer to Q4***"
   ]
  },
  {
   "cell_type": "markdown",
   "metadata": {},
   "source": [
    "5. Has your country suffered from an unstable government like coups or dictatorship? If so, what years and how many times?"
   ]
  },
  {
   "cell_type": "markdown",
   "metadata": {},
   "source": [
    "***Replace this with your answer to Q5***"
   ]
  },
  {
   "cell_type": "markdown",
   "metadata": {},
   "source": [
    "6. Has your country suffered from organized crim like like military control, cartels, gangs, or other rebellious groups? If so, what years and how many times?"
   ]
  },
  {
   "cell_type": "markdown",
   "metadata": {},
   "source": [
    "***Replace this with your answer to Q6***"
   ]
  },
  {
   "cell_type": "markdown",
   "metadata": {},
   "source": [
    "7. If you answered yes for any question from Q3 to Q6, describe at least one of those political conflicts in detail."
   ]
  },
  {
   "cell_type": "markdown",
   "metadata": {},
   "source": [
    "***Replace this with your answer to Q7***"
   ]
  },
  {
   "cell_type": "markdown",
   "metadata": {},
   "source": [
    "8. "
   ]
  }
 ],
 "metadata": {
  "kernelspec": {
   "display_name": "Python 3",
   "language": "python",
   "name": "python3"
  },
  "language_info": {
   "codemirror_mode": {
    "name": "ipython",
    "version": 3
   },
   "file_extension": ".py",
   "mimetype": "text/x-python",
   "name": "python",
   "nbconvert_exporter": "python",
   "pygments_lexer": "ipython3",
   "version": "3.7.1"
  }
 },
 "nbformat": 4,
 "nbformat_minor": 2
}
